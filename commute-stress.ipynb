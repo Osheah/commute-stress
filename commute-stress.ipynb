{
 "cells": [
  {
   "cell_type": "markdown",
   "metadata": {},
   "source": [
    "# *Commuting and Stress*\n",
    "\n",
    "\n",
    "\n",
    "\n",
    "![Gridlock](https://github.com/Osheah/images/raw/master/commute-stress/img/gridlock.jpg)\n",
    "\n"
   ]
  },
  {
   "cell_type": "markdown",
   "metadata": {},
   "source": [
    "#### To do\n",
    "\n",
    "\n",
    "\n",
    "- [ ] read over the project for inconsistencies\n",
    "\n",
    "- [ ] change the weightings on the distance and duration bands\n"
   ]
  },
  {
   "cell_type": "markdown",
   "metadata": {},
   "source": [
    "## Simulate commuting stress\n",
    "\n",
    "This project looks to mimic and expand the variables used in Tony Cassidy 1992 paper titled *Commuting-related Stress: Consequences and Implications*  (Cassidy, 1992)\n",
    "\n"
   ]
  },
  {
   "cell_type": "markdown",
   "metadata": {},
   "source": [
    "## Why simulate data?\n",
    "\n",
    "### What is data simulation\n",
    "\n",
    "Data simulation typically involves generating pseudo random numbers. It is often used in stochastic modeling. Stochastic modeling is a type of mathematical modeling that uses random processes and probability distributions to model some data that can change with time. It is often applied to financial modeling in investments or population modeling in life sciences (Wikipedia contributors, September 17 2018). Simulating data has many other real world applications. It is used in life sciences, quality control, measuring response rates of customer services and many other areas.  There are several compelling reasons for simulating data (Kéry & Royle, 2016). \n",
    "\n",
    "#### Known paramaters\n",
    "\n",
    "In a simulated model, the values of the underlying parameters are known. This allows a comparison to be made with the real world dataset it purports to model (Kéry & Royle, 2016). \n",
    "\n",
    "#### Tweak parameters\n",
    "\n",
    "Simulating data allows for the parameters to be fine tuned. Parameters may influence each other and performing small adjustments to one parameter can help identify its affect on other inputs such as in sensitivity analysis. In real world situations it may be impossible to control the environment to such an extent that such fine tuned adjustments can be made (Kéry & Royle, 2016). \n",
    "\n",
    "#### Sample errors\n",
    "\n",
    "There is a natural variation in data measurements. Collecting one set of flower samples to measure their petal widths is unlikely to yield the *exact same measurements* if collected at another date. Similarly, asking one set of questions on a survey may produce different responses when asked at another time. There is a natural variation in measurements. The variation in sampling data is a measure of statistical precision. Running data simulations is a valuable way of seeing the effect of randomness on natural processes (Kéry & Royle, 2016).    \n",
    "\n",
    "#### Check things are working correctly\n",
    "\n",
    "Data simulations are useful to check that real world systems are on target or working as expected. A model can be run several times with different parameters or sample sizes and the means or other estimator can be calculated and compared to the real world system (Kéry & Royle, 2016). \n",
    "\n",
    "#### Check statistical power\n",
    "\n",
    "Is there an actual relationship between input values and outputs values? Statistical power is a measure of finding an effect on the data when it exists. It is linked to the sample size used to model the phenomenon in question. Data simulation allows variation in sample size so that statistical power can be analysed (Kéry & Royle, 2016). \n",
    "\n",
    "#### Check parameter identification\n",
    "\n",
    "Are the right parameters used? Would a different parameter fit the model better? Data simulation allows for various 'runs' to be conducted with varying parameters. Results can then be checked for clusters and signs that the parameter is indeed a parameter (or not) (Kéry & Royle, 2016). \n",
    "\n",
    "#### Check estimator strength\n",
    "\n",
    "Data simulations produce estimators which can then be checked for robustness. If the model does not predict an effect measured by the estimator but the real world data shows such an effect then there is an assumption violation. Simulations help identify this by limiting certain parameters to test out specific ones. This allows the strength of the estimator or the strength of underlying biases to be measured (Kéry & Royle, 2016). \n",
    "\n",
    "#### Develops understanding of real world phenomena\n",
    "\n",
    "If an analyst can model the real world phenomena in question then they have abstracted its core features, modeled it and recreated the item investigated. This aids their understanding of this phenomenon (Kéry & Royle, 2016).\n",
    "\n",
    "\n",
    "### Problems with simulating data\n",
    "\n",
    "There are problems with data simulation. Firstly the theory behind the model needs to be well researched and a good fit to the particular problem under investigation (Duzevik,2018). \n",
    "\n",
    "This leads to the second problem with simulating data, its a tailored process (ibid). It is not a one approach fits all scenario. This makes it costly to produce. \n",
    "\n",
    "Thirdly, simulated models are difficult to validate (ibid). Validation is when the data satisfied criteria of consistency, accuracy and goodness of fit and can produce reliable results (Wikipedia contributors, December 9 2018). To validate a model, actual data collection is required so you'd want to be sure your model is correct before investing in this step.  \n",
    "\n",
    "Fourthly, because simulating data is simple once the model is built and it costs little to expand the model, there is a danger that the model becomes a behemoth moving well beyond its initial question it was set up to address. \n",
    "\n",
    "Fifthly, Duzevik, 2018 notes that there is skepticism about using simulated data instead of real data but this may be a knock on effect of its problems with validation and reliability.  \n"
   ]
  },
  {
   "cell_type": "markdown",
   "metadata": {},
   "source": [
    "## Chose a real world phenomenon\n",
    "\n",
    "The topic chosen for this project is commuting factors and its impact on stress levels. \n",
    "\n",
    "### Why this topic?\n",
    "\n",
    "This topic was chosen as I previously commuted several hours per day for both college and work, and currently have family members that make long commutes daily. I hypothesize that there is a relationship between the distance of a daily commute, the duration of the daily commute, the degree of impedance or hindrance experienced during the commute and the length of time spent spent as a commuter of this daily distance.  Impedance will be defined as the average speed during the daily commute journey. It is expected that longer journeys are more stressful than shorter ones; Longer journeys will take longer to commute; And high impedance (e.g. slow traffic) produces more stress than low impedance (faster traffic speed). In addition I suspect that the longer people spend as a daily commuter over their working lifetime, the more stress they report, however  it also may be that this group develop strategies to make maximum use of their commuting time. During research for this project, I came across Tony Cassidy's 1992 paper *Commuting-related Stress: Consequences and Implications* and thought it suitable to model for this assignment. \n",
    "\n",
    "\n",
    "## Commuting and Stress\n",
    "\n",
    "Modern life is stressful. In the pre-written history era, people experienced stress; Finding food safety and shelter without getting killed takes a toll. Stress can be very useful especially if escaping from a predator. The fight or flight physiological stress response can mean surviving for another day (Wikipedia contributors. November 12, 2018). \n",
    "\n",
    "The same response is found with modern incarnations of stress but the triggers are, for the most part, very different. Now, we are unlikely to face direct attacks from, for example, a saber tooth tiger type animal. Instead, modern stress triggers are more insidious and chronic. It can be a constant anxiety that permeates everyday life with no clear source or solution. \n",
    "\n",
    "Hassard *et al* (2014) noted that the cost of work related stress in the EU was estimated at 20 billion in 2002. Cassidy (1992) noted that the UK's gross national product looses up to ten percent per annum due to stress and its consequences. \n",
    "\n",
    "There are many factors contributing to stress; financial stress, relationship stress, health stress to name but a few. This report looks at one source of reported stress, the daily commute. \n",
    "\n",
    "The Central Statistics Office (2017) puts the number of people (workers and students) commuting in Ireland at almost 3 million. They found a steady rise in the number of people commuting to work. What effect does this daily routine have on the psychological and physical health of the population? Costa *et al* as cited in Cassidy (1992) noted that within the European Union, the number of commuters and distance they traveled have each increased, but the duration of the commute has decreased. We are traveling further for work and getting there faster. This has knock on implications with the number of road accidents as well as impact on the home and work life of the people involved. \n",
    "\n",
    "\n",
    "### Cassidy's survey study\n",
    "\n",
    "Cassidy (1992) noted that while commuting itself is stressful it also compounds stress in other domains. It can affect home life, recreational activities and increase work absenteeism. Cassidy (1992) investigated stress and commuting. He conducted a study of 370 participants who commute to work. He collected information via a questionnaire on measures such as daily commute **distance** and **duration**, **time** spent commuting and any **impedance**. As noted above, impedance was defined as the average miles per hour the commute took. The lower the speed, the higher the impedance. \n",
    "\n",
    "In addition he also collected information on transportation used, biographical information such as age, sex, marital status, eduction, occupation, length of time in current job, information on home, commuting, work, leisure and personal satisfaction. This simulation could be expanded to cover some of these additional factors. \n",
    "\n",
    "For the purpose of this report some of Cassidy's measures will be modeled by simulated data, namely distance, duration, time, impedance and stress; The fields used by Cassidy will be simplified. Aspects of Cassidy's paper are modeled in the sections below.\n"
   ]
  },
  {
   "cell_type": "markdown",
   "metadata": {},
   "source": [
    "## Model and synthesise the data"
   ]
  },
  {
   "cell_type": "markdown",
   "metadata": {},
   "source": [
    "### import libraries"
   ]
  },
  {
   "cell_type": "code",
   "execution_count": 1,
   "metadata": {},
   "outputs": [],
   "source": [
    "# for rendering plots in jupyter notebook\n",
    "%matplotlib inline \n",
    "# get pandas for the dataframe\n",
    "import pandas as pd \n",
    "# get numpy for array minimpuation and random number generation\n",
    "import numpy as np\n",
    "# get matplotlib for plots\n",
    "import matplotlib.pyplot as plt \n",
    "\n",
    "import collections # for groupings\n",
    "from collections import Counter # for groupings\n",
    "# get seaborn for nice looking plots\n",
    "import seaborn as sns\n",
    "\n",
    "import math # for calculating natural logs etc. \n"
   ]
  },
  {
   "cell_type": "markdown",
   "metadata": {},
   "source": [
    "### Create the dataset structure\n"
   ]
  },
  {
   "cell_type": "markdown",
   "metadata": {},
   "source": [
    "Create the number of rows needed for the dataset. Cassidy's study had 370 participants."
   ]
  },
  {
   "cell_type": "code",
   "execution_count": 2,
   "metadata": {},
   "outputs": [
    {
     "name": "stdout",
     "output_type": "stream",
     "text": [
      "The length of this array is  370\n"
     ]
    }
   ],
   "source": [
    "# Set the index\n",
    "x = range(0, 370)\n",
    "print(\"The length of this array is \", len(x))"
   ]
  },
  {
   "cell_type": "markdown",
   "metadata": {},
   "source": [
    "Create the dataset headings. "
   ]
  },
  {
   "cell_type": "code",
   "execution_count": 3,
   "metadata": {},
   "outputs": [
    {
     "data": {
      "text/html": [
       "<div>\n",
       "<style scoped>\n",
       "    .dataframe tbody tr th:only-of-type {\n",
       "        vertical-align: middle;\n",
       "    }\n",
       "\n",
       "    .dataframe tbody tr th {\n",
       "        vertical-align: top;\n",
       "    }\n",
       "\n",
       "    .dataframe thead th {\n",
       "        text-align: right;\n",
       "    }\n",
       "</style>\n",
       "<table border=\"1\" class=\"dataframe\">\n",
       "  <thead>\n",
       "    <tr style=\"text-align: right;\">\n",
       "      <th></th>\n",
       "      <th>Distance</th>\n",
       "      <th>Duration</th>\n",
       "      <th>Time</th>\n",
       "      <th>Impedance</th>\n",
       "      <th>Stress</th>\n",
       "    </tr>\n",
       "  </thead>\n",
       "  <tbody>\n",
       "    <tr>\n",
       "      <th>0</th>\n",
       "      <td>NaN</td>\n",
       "      <td>NaN</td>\n",
       "      <td>NaN</td>\n",
       "      <td>NaN</td>\n",
       "      <td>NaN</td>\n",
       "    </tr>\n",
       "    <tr>\n",
       "      <th>1</th>\n",
       "      <td>NaN</td>\n",
       "      <td>NaN</td>\n",
       "      <td>NaN</td>\n",
       "      <td>NaN</td>\n",
       "      <td>NaN</td>\n",
       "    </tr>\n",
       "    <tr>\n",
       "      <th>2</th>\n",
       "      <td>NaN</td>\n",
       "      <td>NaN</td>\n",
       "      <td>NaN</td>\n",
       "      <td>NaN</td>\n",
       "      <td>NaN</td>\n",
       "    </tr>\n",
       "    <tr>\n",
       "      <th>3</th>\n",
       "      <td>NaN</td>\n",
       "      <td>NaN</td>\n",
       "      <td>NaN</td>\n",
       "      <td>NaN</td>\n",
       "      <td>NaN</td>\n",
       "    </tr>\n",
       "    <tr>\n",
       "      <th>4</th>\n",
       "      <td>NaN</td>\n",
       "      <td>NaN</td>\n",
       "      <td>NaN</td>\n",
       "      <td>NaN</td>\n",
       "      <td>NaN</td>\n",
       "    </tr>\n",
       "  </tbody>\n",
       "</table>\n",
       "</div>"
      ],
      "text/plain": [
       "  Distance Duration Time Impedance Stress\n",
       "0      NaN      NaN  NaN       NaN    NaN\n",
       "1      NaN      NaN  NaN       NaN    NaN\n",
       "2      NaN      NaN  NaN       NaN    NaN\n",
       "3      NaN      NaN  NaN       NaN    NaN\n",
       "4      NaN      NaN  NaN       NaN    NaN"
      ]
     },
     "execution_count": 3,
     "metadata": {},
     "output_type": "execute_result"
    }
   ],
   "source": [
    "df = pd.DataFrame(columns = ['Distance', 'Duration', 'Time', 'Impedance', 'Stress'], index = x)\n",
    "# There are also additional headings that could be added such as age mode of transport, gender etc \n",
    "# check headers are present\n",
    "df.head()"
   ]
  },
  {
   "cell_type": "code",
   "execution_count": 4,
   "metadata": {},
   "outputs": [
    {
     "data": {
      "text/html": [
       "<div>\n",
       "<style scoped>\n",
       "    .dataframe tbody tr th:only-of-type {\n",
       "        vertical-align: middle;\n",
       "    }\n",
       "\n",
       "    .dataframe tbody tr th {\n",
       "        vertical-align: top;\n",
       "    }\n",
       "\n",
       "    .dataframe thead th {\n",
       "        text-align: right;\n",
       "    }\n",
       "</style>\n",
       "<table border=\"1\" class=\"dataframe\">\n",
       "  <thead>\n",
       "    <tr style=\"text-align: right;\">\n",
       "      <th></th>\n",
       "      <th>Distance</th>\n",
       "      <th>Duration</th>\n",
       "      <th>Time</th>\n",
       "      <th>Impedance</th>\n",
       "      <th>Stress</th>\n",
       "    </tr>\n",
       "  </thead>\n",
       "  <tbody>\n",
       "    <tr>\n",
       "      <th>365</th>\n",
       "      <td>NaN</td>\n",
       "      <td>NaN</td>\n",
       "      <td>NaN</td>\n",
       "      <td>NaN</td>\n",
       "      <td>NaN</td>\n",
       "    </tr>\n",
       "    <tr>\n",
       "      <th>366</th>\n",
       "      <td>NaN</td>\n",
       "      <td>NaN</td>\n",
       "      <td>NaN</td>\n",
       "      <td>NaN</td>\n",
       "      <td>NaN</td>\n",
       "    </tr>\n",
       "    <tr>\n",
       "      <th>367</th>\n",
       "      <td>NaN</td>\n",
       "      <td>NaN</td>\n",
       "      <td>NaN</td>\n",
       "      <td>NaN</td>\n",
       "      <td>NaN</td>\n",
       "    </tr>\n",
       "    <tr>\n",
       "      <th>368</th>\n",
       "      <td>NaN</td>\n",
       "      <td>NaN</td>\n",
       "      <td>NaN</td>\n",
       "      <td>NaN</td>\n",
       "      <td>NaN</td>\n",
       "    </tr>\n",
       "    <tr>\n",
       "      <th>369</th>\n",
       "      <td>NaN</td>\n",
       "      <td>NaN</td>\n",
       "      <td>NaN</td>\n",
       "      <td>NaN</td>\n",
       "      <td>NaN</td>\n",
       "    </tr>\n",
       "  </tbody>\n",
       "</table>\n",
       "</div>"
      ],
      "text/plain": [
       "    Distance Duration Time Impedance Stress\n",
       "365      NaN      NaN  NaN       NaN    NaN\n",
       "366      NaN      NaN  NaN       NaN    NaN\n",
       "367      NaN      NaN  NaN       NaN    NaN\n",
       "368      NaN      NaN  NaN       NaN    NaN\n",
       "369      NaN      NaN  NaN       NaN    NaN"
      ]
     },
     "execution_count": 4,
     "metadata": {},
     "output_type": "execute_result"
    }
   ],
   "source": [
    "# check the end of the dataframe\n",
    "df.tail()"
   ]
  },
  {
   "cell_type": "code",
   "execution_count": 5,
   "metadata": {},
   "outputs": [
    {
     "name": "stdout",
     "output_type": "stream",
     "text": [
      "The size of the dataset is:  370\n"
     ]
    }
   ],
   "source": [
    "# Check and set the size of the dataset\n",
    "size = 370\n",
    "print(\"The size of the dataset is: \", size)"
   ]
  },
  {
   "cell_type": "markdown",
   "metadata": {},
   "source": [
    "## The main variables\n",
    "\n",
    "There are five key variables in this model. The first four, distance, duration, time and impedance were investigated to see if they had a relationship with the fifth variable *stress*. \n",
    "\n",
    "The **variables** related to commuting and stress are;  \n",
    "\n",
    "* Distance\n",
    "* Duration\n",
    "* Time \n",
    "* Impedance\n",
    "* Stress\n",
    "\n",
    "These variables are not mutually exclusive of each other. For example *Distance* and *Duration* are correlated. E.g. commutes that are further away tend to have a longer duration. As the effects of one variable cannot be isolated from the effects of other variables so a correlational study is a suitable model.  \n",
    "\n",
    "### Define the variables\n",
    "\n",
    "* **Distance** of the commute. This is the distance commuted. This was measured in miles. There were four category bands (in Cassidy's report, 1992) that participants could select to classify their distance commuted. These were; \n",
    "\n",
    "    * 0-5 miles - assume greater than or equal to 0 up to less then 6\n",
    "    * 6-15 miles - assume greater than or equal to 6 up to less then 16\n",
    "    * 16-30 miles - assume greater than or equal 16 up to less then 30\n",
    "    * Over 30 miles - assume greater than or equal to 30\n",
    "\n",
    "The majority of commuters surveyed were 15 or under miles away from their work. \n",
    "\n",
    "\n",
    "* **Duration** of the commute. This refers to the typical duration of commute i.e. the typical time taken to make the journey to work. This was measured in minutes (min). Duration was categorised into three bands, namely;  \n",
    "\n",
    "    * 0-30 minutes - assume greater than or equal to 0 up to less than 30 \n",
    "    * 30-60 minutes - assume greater than or equal to 30 up to less than 60\n",
    "    * Over 60 minutes - assume greater than or equal to 60\n",
    "\n",
    "The majority of participants reported their duration of commute at under 60 minutes. \n",
    "\n",
    "\n",
    "* **Time** spend commuting to current employment. This refers to the time period participants spent as a commuter. This was measured in months.  There were four categories that participants could classify their time into, namely.\n",
    "\n",
    "    * 1-29 months - assume greater than or equal to 1 month upto less than 30\n",
    "    * 30-60 months - assume greater than or equal to 30 months upto 60\n",
    "    * 60-131 months - assume greater than or equal to 60 months upto 131 \n",
    "    * Over 132 months - assume greater than or equal to 132 months\n",
    "\n",
    "\n",
    "* **Impedance** The impedance of the commute was also measured. This was defined as the average miles per hour of the commute. It was measured in miles per hour (mph). Impedance was classified into three bands,namely; \n",
    "\n",
    "    * 17 mph or less - assume less than 17.3\n",
    "    * 17.3-30 mph - assume greater than or equal to 17.3 mph upto less than 30\n",
    "    * Over 30 mph - assume greater than or equal to 30\n",
    "    \n",
    "\n",
    "* **Stress** Cassidy (1992) measured stress by scoring responses on a questionnaire on a number of factors along five specific domains of the participant's life namely; \n",
    "\n",
    "    * Home domain - perceived stress and financial stress, social support levels, time at home, use of home life to ameliorate work stress. \n",
    "    * Commuting domain - perceived commuting stress and mood.  \n",
    "    * Work domain - perceived stress, sources of work stress and commitment to work\n",
    "    * Leisure domain - approach to leisure time including time spent exercising, socialising and perceived fitness.\n",
    "    * Personal domain - problem solving ability and internal/external attribution of events, levels of situational control, motivation and confidence. In addition, levels of satisfaction with life and general perceived stress  were measured. \n",
    " \n",
    " \n",
    "Neither the questions asked, nor the scoring method used, were noted in Cassidy's paper. Therefore, in this report and for simplicity and clarity,  stress is assumed to be measured across a *single* general domain by the *Perceived Stress Scale* (Cohen, Kamarck & Mermelstein, 1983). \n",
    "\n",
    "### The Perceived Stress Scale \n",
    "\n",
    "The Perceived Stress Scale (PSS) was developed by Cohen, Kamarck and Mermelstein in their 1983 paper *A Global Measure of Perceived Stress* published in The Journal of Health and Social Behavior. This is a standard psychological measure of perceived non specific stress. It is used to assess stress and measure the effectiveness of stress reducing interventions (Wikipedia contributors, May 31 2018). \n",
    "\n",
    "#### PSS questions\n",
    "\n",
    "The PSS elicits responses on a five point Likert scale. A Likert scale involves asking respondents to indicate the level to which they agree or disagree with a series of statements on a scale from 0 to x, where x is the number of points on the Likert scale (in this case, 5) (Wikipedia contributors, November 26 2018).\n",
    "\n",
    "For the PSS a response of 0 indicates 'never', 1 indicates 'almost never', 2 indicates 'sometimes', 3 indicates 'fairly often' and 4 indicates 'very often. The PSS contains 10 questions and are listed below. \n",
    "\n",
    "**Perceived Stress Scale** (10 questions)\n",
    "\n",
    "The questions in this scale ask you about your feelings and thoughts during the last month. In each case, please indicate with a check how often you felt or thought a certain way.\n",
    "\n",
    "1. In the last month, how often have you been upset because of something that happened unexpectedly?\n",
    "2. In the last month, how often have you felt that you were unable to control the important things in your life?\n",
    "3. In the last month, how often have you felt nervous and \"stressed\"?\n",
    "4. In the last month, how often have you felt confident about your ability to handle your personal problems?\n",
    "5. In the last month, how often have you felt that things were going your way?\n",
    "6. In the last month, how often have you found that you could not cope with all the things that you had to do?\n",
    "7. In the last month, how often have you been able to control irritations in your life?\n",
    "8. In the last month, how often have you felt that you were on top of things?\n",
    "9. In the last month, how often have you been angered because of things that were outside of your control?\n",
    "10. In the last month, how often have you felt difficulties were piling up so high that you could not overcome them?\n",
    "\n",
    "(Taken from Cohen, Kamarck & Mermelstein(1983b)\n",
    "\n",
    "#### Scoring the PSS\n",
    "\n",
    "The Likert scale used in the PSS is balanced to avoid bias in answering all the questions at one extreme of the scale. \n",
    "\n",
    "To determine the score reverse the scores on questions 4, 5, 7 and 8. Then sum the reversed score along with the remainder of the scores to produce a total. Individual scores can range from a minimum of zero to a maximum of 40. The higher the score the greater the perceived stress. Scores under 13 indicate low perceived stress, scores between 14 to 26 indicate moderate perceived stress and scores greater than 27 are considered high perceived stress (Cohen, Kamarck & Mermelstein, 1983). \n",
    "\n"
   ]
  },
  {
   "cell_type": "markdown",
   "metadata": {},
   "source": [
    "### Investigate the type of variables involved\n",
    "\n",
    "Distance, duration and impedance are directly related variables if no other factor influences any one of them. This is because they are related by the forumula\n",
    "\n",
    "$$Speed = \\frac {Distance}{Time}$$\n",
    "\n",
    "Here speed (if free flowing traffic) is impedance and time refers to duration. \n",
    "\n",
    "$$ Impedance = \\frac{Distance}{Duration}$$\n",
    "\n",
    "\n"
   ]
  },
  {
   "cell_type": "markdown",
   "metadata": {},
   "source": [
    "### Adding the variables\n",
    "\n",
    "### Distance\n",
    "\n",
    "Lets add the simulated distance data. This was initially simulated with np.random.choice. As a first attempt at modeling NumPy random choice was used to simulate Cassidy's participant's responses. \n",
    "\n",
    "#### Why?\n",
    "\n",
    "Firstly, NumPy Random's choice was used to simulate the distances. Choice was used as it allows for the weighted random selection of categorical data. The distance category has four bands (0-5 miles, 6-15 miles, 16-30 miles and Over 30 miles). In addition the data is ordinal, as there is a progression from 0-5 miles to over 30 miles (UCLA: Statistical Consulting Group. (n.d.)). However as these choices were items on a survey, the NumPy Random 'choice' function would be suitable as a model rather than a numerical NumPy Random function such as Bernoulli (Binomial with n = 1) distribution (NumPy community, 2018; Oliphant, 2006). When this is expanded to the population beyond Cassidy's participants a different distribution will be used. \n",
    "\n",
    "There was a total of 346 responses to this section of the survey so this was taken as the total when calculating the probability weightings for each of the distance bands. A 'Distance' array was created containing the four distance bands, 0-5 miles, 6-15 miles, 16-30 miles, over 30 miles. There were 109 response in the first band so this was weighted as 109/346, 114 for the second band giving a probability of 114/346, 67 responses for the 16-30 mile response giving a weighting of 67/346 and lastly 56 responses for the over 30 mile distance giving a weighting of 56/346.  The model of the 'Distance' variable can be found below. \n"
   ]
  },
  {
   "cell_type": "markdown",
   "metadata": {},
   "source": [
    "#### model the distance data\n",
    "As a first step the data was modeled as in Cassidy's 1992 report using his metrics. "
   ]
  },
  {
   "cell_type": "code",
   "execution_count": 6,
   "metadata": {},
   "outputs": [],
   "source": [
    "# set up the survey Distance categories\n",
    "distance = ['0-5 miles', '6-15 miles', '16-30 miles', 'Over 30 miles']\n",
    "# calculate the total number of responders to this question\n",
    "tot_dist = 109+114+67+56\n",
    "# generate the response with 'choice' function\n",
    "y_dist = np.random.choice(distance, size, p=[109/tot_dist, 114/tot_dist, 67/tot_dist, 56/tot_dist])\n"
   ]
  },
  {
   "cell_type": "code",
   "execution_count": 7,
   "metadata": {},
   "outputs": [
    {
     "data": {
      "text/plain": [
       "346"
      ]
     },
     "execution_count": 7,
     "metadata": {},
     "output_type": "execute_result"
    }
   ],
   "source": [
    "# check the tot_dist number\n",
    "tot_dist"
   ]
  },
  {
   "cell_type": "code",
   "execution_count": 8,
   "metadata": {
    "scrolled": false
   },
   "outputs": [
    {
     "data": {
      "text/plain": [
       "array(['0-5 miles', '6-15 miles', '6-15 miles', '6-15 miles',\n",
       "       '6-15 miles', '0-5 miles', 'Over 30 miles'], dtype='<U13')"
      ]
     },
     "execution_count": 8,
     "metadata": {},
     "output_type": "execute_result"
    }
   ],
   "source": [
    "# check the first few values of the array\n",
    "y_dist[:7]"
   ]
  },
  {
   "cell_type": "code",
   "execution_count": 9,
   "metadata": {},
   "outputs": [
    {
     "data": {
      "text/html": [
       "<div>\n",
       "<style scoped>\n",
       "    .dataframe tbody tr th:only-of-type {\n",
       "        vertical-align: middle;\n",
       "    }\n",
       "\n",
       "    .dataframe tbody tr th {\n",
       "        vertical-align: top;\n",
       "    }\n",
       "\n",
       "    .dataframe thead th {\n",
       "        text-align: right;\n",
       "    }\n",
       "</style>\n",
       "<table border=\"1\" class=\"dataframe\">\n",
       "  <thead>\n",
       "    <tr style=\"text-align: right;\">\n",
       "      <th></th>\n",
       "      <th>Distance</th>\n",
       "      <th>Duration</th>\n",
       "      <th>Time</th>\n",
       "      <th>Impedance</th>\n",
       "      <th>Stress</th>\n",
       "      <th>Distance-ch</th>\n",
       "    </tr>\n",
       "  </thead>\n",
       "  <tbody>\n",
       "    <tr>\n",
       "      <th>0</th>\n",
       "      <td>NaN</td>\n",
       "      <td>NaN</td>\n",
       "      <td>NaN</td>\n",
       "      <td>NaN</td>\n",
       "      <td>NaN</td>\n",
       "      <td>0-5 miles</td>\n",
       "    </tr>\n",
       "    <tr>\n",
       "      <th>1</th>\n",
       "      <td>NaN</td>\n",
       "      <td>NaN</td>\n",
       "      <td>NaN</td>\n",
       "      <td>NaN</td>\n",
       "      <td>NaN</td>\n",
       "      <td>6-15 miles</td>\n",
       "    </tr>\n",
       "    <tr>\n",
       "      <th>2</th>\n",
       "      <td>NaN</td>\n",
       "      <td>NaN</td>\n",
       "      <td>NaN</td>\n",
       "      <td>NaN</td>\n",
       "      <td>NaN</td>\n",
       "      <td>6-15 miles</td>\n",
       "    </tr>\n",
       "    <tr>\n",
       "      <th>3</th>\n",
       "      <td>NaN</td>\n",
       "      <td>NaN</td>\n",
       "      <td>NaN</td>\n",
       "      <td>NaN</td>\n",
       "      <td>NaN</td>\n",
       "      <td>6-15 miles</td>\n",
       "    </tr>\n",
       "    <tr>\n",
       "      <th>4</th>\n",
       "      <td>NaN</td>\n",
       "      <td>NaN</td>\n",
       "      <td>NaN</td>\n",
       "      <td>NaN</td>\n",
       "      <td>NaN</td>\n",
       "      <td>6-15 miles</td>\n",
       "    </tr>\n",
       "  </tbody>\n",
       "</table>\n",
       "</div>"
      ],
      "text/plain": [
       "  Distance Duration Time Impedance Stress Distance-ch\n",
       "0      NaN      NaN  NaN       NaN    NaN   0-5 miles\n",
       "1      NaN      NaN  NaN       NaN    NaN  6-15 miles\n",
       "2      NaN      NaN  NaN       NaN    NaN  6-15 miles\n",
       "3      NaN      NaN  NaN       NaN    NaN  6-15 miles\n",
       "4      NaN      NaN  NaN       NaN    NaN  6-15 miles"
      ]
     },
     "execution_count": 9,
     "metadata": {},
     "output_type": "execute_result"
    }
   ],
   "source": [
    "df['Distance-ch'] = pd.Series(y_dist)\n",
    "df.head()\n"
   ]
  },
  {
   "cell_type": "code",
   "execution_count": 10,
   "metadata": {},
   "outputs": [
    {
     "data": {
      "text/plain": [
       "Counter({'0-5 miles': 123,\n",
       "         '6-15 miles': 133,\n",
       "         'Over 30 miles': 56,\n",
       "         '16-30 miles': 58})"
      ]
     },
     "execution_count": 10,
     "metadata": {},
     "output_type": "execute_result"
    }
   ],
   "source": [
    "# calculate the number of responses to each distance band\n",
    "dist_counts_ch = Counter(df['Distance-ch'])\n",
    "# check to see if counts look reasonable\n",
    "dist_counts_ch\n"
   ]
  },
  {
   "cell_type": "code",
   "execution_count": 11,
   "metadata": {},
   "outputs": [
    {
     "name": "stdout",
     "output_type": "stream",
     "text": [
      "The band values are  dict_values([123, 133, 56, 58])\n"
     ]
    },
    {
     "data": {
      "text/plain": [
       "370"
      ]
     },
     "execution_count": 11,
     "metadata": {},
     "output_type": "execute_result"
    }
   ],
   "source": [
    "# sum counts\n",
    "# list the values\n",
    "print(\"The band values are \", dist_counts_ch.values())\n",
    "# sum the values\n",
    "sum(dist_counts_ch.values())"
   ]
  },
  {
   "cell_type": "code",
   "execution_count": 12,
   "metadata": {},
   "outputs": [
    {
     "data": {
      "image/png": "[encoded data removed]",
      "text/plain": [
       "<Figure size 432x288 with 1 Axes>"
      ]
     },
     "metadata": {
      "needs_background": "light"
     },
     "output_type": "display_data"
    }
   ],
   "source": [
    "# create an indexed dataframe with the number of counts\n",
    "# code adapted from https://pandas.pydata.org/pandas-docs/stable/generated/pandas.DataFrame.from_dict.html\n",
    "df_dist_ch = pd.DataFrame.from_dict(dist_counts_ch, orient='index')\n",
    "                      \n",
    "#plot the bar chart of the distance counts\n",
    "df_dist_ch.plot(kind='bar', title='Distance with np.random.choice', legend = False)\n",
    "plt.show()"
   ]
  },
  {
   "cell_type": "markdown",
   "metadata": {},
   "source": [
    "If we want to look beyond Cassidy's survey then the distribution of the commute distance should be investigated. \n",
    "\n",
    "#### Distribution"
   ]
  },
  {
   "cell_type": "markdown",
   "metadata": {},
   "source": [
    "\n",
    "Firstly a note about problems I found modeling these distributions. \n",
    "\n",
    "#### Difficulties\n",
    "\n",
    "A factor that hindered the development of this report was identifying parameters from datasets that did not exactly match,  either in content or format, the data required for this report. A great deal of time was spent in trying to fit a square peg into a round hole. After some research the decision was made to Cassidy's data to calculate the parameters and where this was not possible, to import a dataset and use it to calculate/fit the parameters. To this extent Cassidy's data was used to calculate parameters for the distance, duration and impedance variables while the parameters for the time variable were estimated by employment (job) tenure data or job churn findings (churn is a measure of turnover). \n",
    "\n",
    "#### Distance  of commute distribution\n",
    "\n",
    "Beige, 2012 investigated commuting behaviour. His focus was on developing a better model for the distribution of where people live homes and work. Beige (2012) analysed commuting distances and times of people who worked and lived in Berlin. The data used came from the household mobility survey for cities. The aim of this survey was to create a database of typical travel behaviour. The survey was commissioned by the Chair of Transport and Infrastructure Planning Dresden. Beige (2012) focused on data from 2008. This contained responses from 39,000 individuals representing almost 18,400 households. He investigated the 12 boroughs of Berlin and their residents home/work travel patterns. Beige 2012 data  shows the positive skewness typically found with a lognormal distribution (mean 14.288 and standard deviation of 26.372). A figure from his report can is reproduced below. \n",
    "\n",
    "![commute distance](https://github.com/Osheah/images/raw/master/commute-stress/img/commute-distance.JPG)\n",
    "\n",
    "#### Describe the plot\n",
    "\n",
    "This shows that the data is positively skewed. It looks like it could be suitably modeled by a non negative distribution that is positively skewed. Possible distributions include Lognormal, Gamma, Weibull and Burr. Other research typically choose lognormal to model traveling distance (Johar et al, 2015; Van Ommeren, 2004; Weijschede et al, 2011; Plötz et al, 2014). NumPy Random's lognormal distribution was chosen to generate random data from this distribution (Numpy community, 2018). \n",
    "\n",
    "The characteristics of a lognormal distribution are are \n",
    "\n",
    "* distribution is right skewed\n",
    "* distribution starts at 0 and is increasing to the mode value after which it decreases\n",
    "* the skewness degree increases as the standard deviation increases for a given mean. \n",
    "\n",
    "Reliability HotWire (2005)\n",
    "\n",
    "\n"
   ]
  },
  {
   "cell_type": "markdown",
   "metadata": {},
   "source": [
    "Cassidy's model could be improved by adding distribution information in the generation of the distances. As noted above the distribution used to model distance was lognormal. Lets use Cassidy's data to calculate the parameters for the lognormal distribution.  \n",
    "\n",
    "NumPy community, (2018) and Oliphant, (2006) note that the parameters for lognormal use the $\\mu$ and $\\sigma$ for the **underlying normal distribution** hence the values need to be transformed before they can be used to generate random numbers from a lognormal distribution. The transformation calculations were taken from Civil and Environmental Engineering Course, 2005. Mid interval values are taken in the mean and standard deviation calculations. In addition a maximum distance of 60 miles or 96.56 kilometers is assumed."
   ]
  },
  {
   "cell_type": "code",
   "execution_count": 13,
   "metadata": {},
   "outputs": [],
   "source": [
    "# rate to use changing km to miles 1mile = 1.609344km\n",
    "kmtomiles = 1/1.609344"
   ]
  },
  {
   "cell_type": "code",
   "execution_count": 14,
   "metadata": {},
   "outputs": [
    {
     "name": "stdout",
     "output_type": "stream",
     "text": [
      "The mean distance for Cassidy's data is  16.31 miles\n",
      "The standard deviation of distance for Cassidy's data is  14.39 miles\n"
     ]
    }
   ],
   "source": [
    "#get mid points of the distance intervals\n",
    "dist_mp1= 0+(6-0)/2  \n",
    "dist_mp2= 6+(16-6)/2\n",
    "dist_mp3 = 16 + (30-16)/2\n",
    "dist_mp4 = 30+(60-30)/2 # assume maximum of 60 miles = 96 km \n",
    "dist_denom = 109+114+67+56\n",
    "dist_mean = (dist_mp1*109+dist_mp2*114+dist_mp3*67+dist_mp4*56)/dist_denom\n",
    "print(\"The mean distance for Cassidy's data is \", f\"{dist_mean:.4}\", \"miles\")\n",
    "dist_std = (((((dist_mp1-dist_mean)**2)*109+((dist_mp2-dist_mean)**2)*114+((dist_mp3-dist_mean)**2)*67+((dist_mp4-dist_mean)**2)*56))/dist_denom)**0.5\n",
    "print(\"The standard deviation of distance for Cassidy's data is \", f\"{dist_std:.4}\", \"miles\")"
   ]
  },
  {
   "cell_type": "markdown",
   "metadata": {},
   "source": [
    "get the parameters of the underlying normal distribution using the mean and standard deviation of the calculated lognormal distribution."
   ]
  },
  {
   "cell_type": "code",
   "execution_count": 15,
   "metadata": {},
   "outputs": [
    {
     "name": "stdout",
     "output_type": "stream",
     "text": [
      "The parameters for the lognormal distance distribution are mean of  2.5  \n",
      " and standard deviation of  0.759\n"
     ]
    }
   ],
   "source": [
    "# transform data \n",
    "mu_dist_y = dist_mean\n",
    "sigma_dist_y = dist_std\n",
    "# convert lognormal values to normal values so that they can be entered into numpy randoms lognormal function\n",
    "# calc taken from https://ocw.mit.edu/courses/civil-and-environmental-engineering/1-151-probability-and-statistics-in-engineering-spring-2005/lecture-notes/briefnts8_relnl.pdf\n",
    "# reasoning taken from https://docs.scipy.org/doc/numpy/reference/generated/numpy.random.lognormal.html#numpy.random.lognormal\n",
    "mu_dist_x = 2*math.log(mu_dist_y)-0.5*math.log(sigma_dist_y**2 + mu_dist_y**2)\n",
    "sigma_dist_x = math.sqrt(-2*math.log(mu_dist_y) + math.log(sigma_dist_y**2+mu_dist_y**2))\n",
    "print(\"The parameters for the lognormal distance distribution are mean of \", f\"{mu_dist_x:.3}\", \" \\n and standard deviation of \", f\"{sigma_dist_x:.3}\")"
   ]
  },
  {
   "cell_type": "markdown",
   "metadata": {},
   "source": [
    "Next generate the random values from the lognormal distribution using NumPy Random's lognormal function. \n"
   ]
  },
  {
   "cell_type": "code",
   "execution_count": 16,
   "metadata": {},
   "outputs": [
    {
     "name": "stderr",
     "output_type": "stream",
     "text": [
      "C:\\ProgramData\\Anaconda3\\lib\\site-packages\\scipy\\stats\\stats.py:1713: FutureWarning: Using a non-tuple sequence for multidimensional indexing is deprecated; use `arr[tuple(seq)]` instead of `arr[seq]`. In the future this will be interpreted as an array index, `arr[np.array(seq)]`, which will result either in an error or a different result.\n",
      "  return np.add.reduce(sorted[indexer] * weights, axis=axis) / sumval\n"
     ]
    },
    {
     "data": {
      "image/png": "[encoded data removed]",
      "text/plain": [
       "<Figure size 432x288 with 1 Axes>"
      ]
     },
     "metadata": {
      "needs_background": "light"
     },
     "output_type": "display_data"
    },
    {
     "name": "stdout",
     "output_type": "stream",
     "text": [
      "The first few values of  the lognormal distance distribution are \n",
      " [18.8910122   5.24620346  8.31867526 11.87965549  8.01826081 51.70812609\n",
      "  7.4591119 ]\n"
     ]
    }
   ],
   "source": [
    "y_dist_rw = np.random.lognormal([(mu_dist_x)], sigma_dist_x, size)  \n",
    "sns.distplot(y_dist_rw)\n",
    "plt.show()\n",
    "print(\"The first few values of  the lognormal distance distribution are \\n\", y_dist_rw[:7])\n",
    "\n"
   ]
  },
  {
   "cell_type": "code",
   "execution_count": 17,
   "metadata": {},
   "outputs": [
    {
     "name": "stdout",
     "output_type": "stream",
     "text": [
      "Change the y_dist distance array to a dataframe and add it to the simulated model.\n"
     ]
    },
    {
     "data": {
      "text/html": [
       "<div>\n",
       "<style scoped>\n",
       "    .dataframe tbody tr th:only-of-type {\n",
       "        vertical-align: middle;\n",
       "    }\n",
       "\n",
       "    .dataframe tbody tr th {\n",
       "        vertical-align: top;\n",
       "    }\n",
       "\n",
       "    .dataframe thead th {\n",
       "        text-align: right;\n",
       "    }\n",
       "</style>\n",
       "<table border=\"1\" class=\"dataframe\">\n",
       "  <thead>\n",
       "    <tr style=\"text-align: right;\">\n",
       "      <th></th>\n",
       "      <th>Distance</th>\n",
       "      <th>Duration</th>\n",
       "      <th>Time</th>\n",
       "      <th>Impedance</th>\n",
       "      <th>Stress</th>\n",
       "      <th>Distance-ch</th>\n",
       "    </tr>\n",
       "  </thead>\n",
       "  <tbody>\n",
       "    <tr>\n",
       "      <th>0</th>\n",
       "      <td>16-30 miles</td>\n",
       "      <td>NaN</td>\n",
       "      <td>NaN</td>\n",
       "      <td>NaN</td>\n",
       "      <td>NaN</td>\n",
       "      <td>0-5 miles</td>\n",
       "    </tr>\n",
       "    <tr>\n",
       "      <th>1</th>\n",
       "      <td>0-5 miles</td>\n",
       "      <td>NaN</td>\n",
       "      <td>NaN</td>\n",
       "      <td>NaN</td>\n",
       "      <td>NaN</td>\n",
       "      <td>6-15 miles</td>\n",
       "    </tr>\n",
       "    <tr>\n",
       "      <th>2</th>\n",
       "      <td>6-15 miles</td>\n",
       "      <td>NaN</td>\n",
       "      <td>NaN</td>\n",
       "      <td>NaN</td>\n",
       "      <td>NaN</td>\n",
       "      <td>6-15 miles</td>\n",
       "    </tr>\n",
       "    <tr>\n",
       "      <th>3</th>\n",
       "      <td>6-15 miles</td>\n",
       "      <td>NaN</td>\n",
       "      <td>NaN</td>\n",
       "      <td>NaN</td>\n",
       "      <td>NaN</td>\n",
       "      <td>6-15 miles</td>\n",
       "    </tr>\n",
       "    <tr>\n",
       "      <th>4</th>\n",
       "      <td>6-15 miles</td>\n",
       "      <td>NaN</td>\n",
       "      <td>NaN</td>\n",
       "      <td>NaN</td>\n",
       "      <td>NaN</td>\n",
       "      <td>6-15 miles</td>\n",
       "    </tr>\n",
       "  </tbody>\n",
       "</table>\n",
       "</div>"
      ],
      "text/plain": [
       "      Distance Duration Time Impedance Stress Distance-ch\n",
       "0  16-30 miles      NaN  NaN       NaN    NaN   0-5 miles\n",
       "1    0-5 miles      NaN  NaN       NaN    NaN  6-15 miles\n",
       "2   6-15 miles      NaN  NaN       NaN    NaN  6-15 miles\n",
       "3   6-15 miles      NaN  NaN       NaN    NaN  6-15 miles\n",
       "4   6-15 miles      NaN  NaN       NaN    NaN  6-15 miles"
      ]
     },
     "execution_count": 17,
     "metadata": {},
     "output_type": "execute_result"
    }
   ],
   "source": [
    "# change numbers to bands but before this put in series\n",
    "# values need to be initialised/cleared first especially if this cell is run more than once with values already present. \n",
    "df['rwDistance1'] = \"\"\n",
    "df['rwDistance2'] = \"\"\n",
    "df['rwDistance3'] = \"\"\n",
    "df['rwDistance4'] = \"\"\n",
    "df['rwDistance5'] = \"\"\n",
    "print(\"Change the y_dist distance array to a dataframe and add it to the simulated model.\")\n",
    "df['Distance'] = pd.Series(y_dist_rw)\n",
    "df.loc[df['Distance'] < 6, 'rwDistance1'] = '0-5 miles'\n",
    "df.loc[(df['Distance'] >= 6) & (df['Distance'] < 16), 'rwDistance2'] = '6-15 miles' \n",
    "df.loc[(df['Distance'] >= 16) & (df['Distance'] < 30), 'rwDistance3'] = '16-30 miles'\n",
    "df.loc[df['Distance'] >= 30, 'rwDistance4'] = 'Over 30 miles'\n",
    "df['Distance'] = df['rwDistance1']+df['rwDistance2']+df['rwDistance3']+df['rwDistance4']\n",
    "df.drop(['rwDistance1', 'rwDistance2', 'rwDistance3', 'rwDistance4', 'rwDistance5'], axis=1, inplace = True)\n",
    "df.head()\n",
    "\n"
   ]
  },
  {
   "cell_type": "code",
   "execution_count": 18,
   "metadata": {
    "scrolled": true
   },
   "outputs": [
    {
     "data": {
      "text/html": [
       "<div>\n",
       "<style scoped>\n",
       "    .dataframe tbody tr th:only-of-type {\n",
       "        vertical-align: middle;\n",
       "    }\n",
       "\n",
       "    .dataframe tbody tr th {\n",
       "        vertical-align: top;\n",
       "    }\n",
       "\n",
       "    .dataframe thead th {\n",
       "        text-align: right;\n",
       "    }\n",
       "</style>\n",
       "<table border=\"1\" class=\"dataframe\">\n",
       "  <thead>\n",
       "    <tr style=\"text-align: right;\">\n",
       "      <th></th>\n",
       "      <th>Distance</th>\n",
       "      <th>Duration</th>\n",
       "      <th>Time</th>\n",
       "      <th>Impedance</th>\n",
       "      <th>Stress</th>\n",
       "      <th>Distance-ch</th>\n",
       "    </tr>\n",
       "  </thead>\n",
       "  <tbody>\n",
       "    <tr>\n",
       "      <th>365</th>\n",
       "      <td>0-5 miles</td>\n",
       "      <td>NaN</td>\n",
       "      <td>NaN</td>\n",
       "      <td>NaN</td>\n",
       "      <td>NaN</td>\n",
       "      <td>16-30 miles</td>\n",
       "    </tr>\n",
       "    <tr>\n",
       "      <th>366</th>\n",
       "      <td>Over 30 miles</td>\n",
       "      <td>NaN</td>\n",
       "      <td>NaN</td>\n",
       "      <td>NaN</td>\n",
       "      <td>NaN</td>\n",
       "      <td>Over 30 miles</td>\n",
       "    </tr>\n",
       "    <tr>\n",
       "      <th>367</th>\n",
       "      <td>16-30 miles</td>\n",
       "      <td>NaN</td>\n",
       "      <td>NaN</td>\n",
       "      <td>NaN</td>\n",
       "      <td>NaN</td>\n",
       "      <td>6-15 miles</td>\n",
       "    </tr>\n",
       "    <tr>\n",
       "      <th>368</th>\n",
       "      <td>6-15 miles</td>\n",
       "      <td>NaN</td>\n",
       "      <td>NaN</td>\n",
       "      <td>NaN</td>\n",
       "      <td>NaN</td>\n",
       "      <td>6-15 miles</td>\n",
       "    </tr>\n",
       "    <tr>\n",
       "      <th>369</th>\n",
       "      <td>16-30 miles</td>\n",
       "      <td>NaN</td>\n",
       "      <td>NaN</td>\n",
       "      <td>NaN</td>\n",
       "      <td>NaN</td>\n",
       "      <td>Over 30 miles</td>\n",
       "    </tr>\n",
       "  </tbody>\n",
       "</table>\n",
       "</div>"
      ],
      "text/plain": [
       "          Distance Duration Time Impedance Stress    Distance-ch\n",
       "365      0-5 miles      NaN  NaN       NaN    NaN    16-30 miles\n",
       "366  Over 30 miles      NaN  NaN       NaN    NaN  Over 30 miles\n",
       "367    16-30 miles      NaN  NaN       NaN    NaN     6-15 miles\n",
       "368     6-15 miles      NaN  NaN       NaN    NaN     6-15 miles\n",
       "369    16-30 miles      NaN  NaN       NaN    NaN  Over 30 miles"
      ]
     },
     "execution_count": 18,
     "metadata": {},
     "output_type": "execute_result"
    }
   ],
   "source": [
    "# check the end of the dataframe\n",
    "df.tail()"
   ]
  },
  {
   "cell_type": "code",
   "execution_count": 19,
   "metadata": {},
   "outputs": [
    {
     "name": "stdout",
     "output_type": "stream",
     "text": [
      "<class 'pandas.core.frame.DataFrame'>\n",
      "RangeIndex: 370 entries, 0 to 369\n",
      "Data columns (total 6 columns):\n",
      "Distance       370 non-null object\n",
      "Duration       0 non-null object\n",
      "Time           0 non-null object\n",
      "Impedance      0 non-null object\n",
      "Stress         0 non-null object\n",
      "Distance-ch    370 non-null object\n",
      "dtypes: object(6)\n",
      "memory usage: 17.4+ KB\n"
     ]
    }
   ],
   "source": [
    "# check the info on the dataframe\n",
    "df.info()\n"
   ]
  },
  {
   "cell_type": "code",
   "execution_count": 20,
   "metadata": {},
   "outputs": [
    {
     "data": {
      "text/plain": [
       "Distance       4\n",
       "Duration       0\n",
       "Time           0\n",
       "Impedance      0\n",
       "Stress         0\n",
       "Distance-ch    4\n",
       "dtype: int64"
      ]
     },
     "execution_count": 20,
     "metadata": {},
     "output_type": "execute_result"
    }
   ],
   "source": [
    "# check the bands on the dataframe\n",
    "df.nunique()"
   ]
  },
  {
   "cell_type": "markdown",
   "metadata": {},
   "source": [
    "Lets plot the histogram of the commute distance bands. To plot the histogram the number of values in each duration band needs to be calculated. "
   ]
  },
  {
   "cell_type": "code",
   "execution_count": 21,
   "metadata": {},
   "outputs": [
    {
     "data": {
      "text/plain": [
       "Counter({'16-30 miles': 89,\n",
       "         '0-5 miles': 62,\n",
       "         '6-15 miles': 179,\n",
       "         'Over 30 miles': 40})"
      ]
     },
     "execution_count": 21,
     "metadata": {},
     "output_type": "execute_result"
    }
   ],
   "source": [
    "# calculate the number of responses to each distance band\n",
    "dist_counts = Counter(df['Distance'])\n",
    "# check to see if counts look reasonable\n",
    "dist_counts\n"
   ]
  },
  {
   "cell_type": "markdown",
   "metadata": {},
   "source": [
    "Compare the above array to Cassidy's findings of 0-5 miles =109; 6-15 miles =114; 16-30 miles =67; Over 30 miles =56 - looks low on the 0-5 miles band - why? maybe a distance of 0 from your place of work is unrealistic. (Aside - See what the data is like by changing dist_mp1= 0+(6-0)/2 to  2+(6-2)/2 )"
   ]
  },
  {
   "cell_type": "code",
   "execution_count": 22,
   "metadata": {},
   "outputs": [
    {
     "data": {
      "text/plain": [
       "370"
      ]
     },
     "execution_count": 22,
     "metadata": {},
     "output_type": "execute_result"
    }
   ],
   "source": [
    "# sum counts\n",
    "# list the values\n",
    "dist_counts.values()\n",
    "# sum the values\n",
    "sum(dist_counts.values())"
   ]
  },
  {
   "cell_type": "code",
   "execution_count": 23,
   "metadata": {},
   "outputs": [
    {
     "data": {
      "image/png": "[encoded data removed]",
      "text/plain": [
       "<Figure size 432x288 with 1 Axes>"
      ]
     },
     "metadata": {
      "needs_background": "light"
     },
     "output_type": "display_data"
    }
   ],
   "source": [
    "# create an indexed dataframe with the number of counts\n",
    "# code adapted from https://pandas.pydata.org/pandas-docs/stable/generated/pandas.DataFrame.from_dict.html\n",
    "#(Pandas community, 2018)\n",
    "df_dist = pd.DataFrame.from_dict(dist_counts, orient='index')\n",
    "                      \n",
    "#plot the bar chart of the distance counts\n",
    "df_dist.plot(kind='bar', title='Distance', legend = False)\n",
    "plt.show()"
   ]
  },
  {
   "cell_type": "code",
   "execution_count": 24,
   "metadata": {},
   "outputs": [
    {
     "data": {
      "image/png": "[encoded data removed]",
      "text/plain": [
       "<Figure size 432x288 with 1 Axes>"
      ]
     },
     "metadata": {
      "needs_background": "light"
     },
     "output_type": "display_data"
    }
   ],
   "source": [
    "# set the order in which the plots are displayed for easier comparisons\n",
    "df_dist.reindex(['0-5 miles', '6-15 miles',  '16-30 miles', 'Over 30 miles']).plot(kind='bar', title='Distance', legend = False)\n",
    "plt.show()"
   ]
  },
  {
   "cell_type": "markdown",
   "metadata": {},
   "source": [
    "How does this compare to Cassidy's survey on the distance variable? \n",
    "Lets plot Cassidy's data to get a visual comparison with the simulated distance via np.random.choice and np.random.lognormal random generators."
   ]
  },
  {
   "cell_type": "code",
   "execution_count": 25,
   "metadata": {},
   "outputs": [
    {
     "data": {
      "text/html": [
       "<div>\n",
       "<style scoped>\n",
       "    .dataframe tbody tr th:only-of-type {\n",
       "        vertical-align: middle;\n",
       "    }\n",
       "\n",
       "    .dataframe tbody tr th {\n",
       "        vertical-align: top;\n",
       "    }\n",
       "\n",
       "    .dataframe thead th {\n",
       "        text-align: right;\n",
       "    }\n",
       "</style>\n",
       "<table border=\"1\" class=\"dataframe\">\n",
       "  <thead>\n",
       "    <tr style=\"text-align: right;\">\n",
       "      <th></th>\n",
       "      <th>0</th>\n",
       "    </tr>\n",
       "  </thead>\n",
       "  <tbody>\n",
       "    <tr>\n",
       "      <th>0-5 miles</th>\n",
       "      <td>109</td>\n",
       "    </tr>\n",
       "    <tr>\n",
       "      <th>6-15 miles</th>\n",
       "      <td>114</td>\n",
       "    </tr>\n",
       "    <tr>\n",
       "      <th>16-30 miles</th>\n",
       "      <td>67</td>\n",
       "    </tr>\n",
       "    <tr>\n",
       "      <th>Over 30 miles</th>\n",
       "      <td>56</td>\n",
       "    </tr>\n",
       "  </tbody>\n",
       "</table>\n",
       "</div>"
      ],
      "text/plain": [
       "                 0\n",
       "0-5 miles      109\n",
       "6-15 miles     114\n",
       "16-30 miles     67\n",
       "Over 30 miles   56"
      ]
     },
     "execution_count": 25,
     "metadata": {},
     "output_type": "execute_result"
    }
   ],
   "source": [
    "# create Cassidy's Distance counts as a dataframe\n",
    "cass_dist = pd.DataFrame(np.array([[109, 114, 67, 56]]), columns=['0-5 miles', '6-15 miles',  '16-30 miles', 'Over 30 miles'])\n",
    "cass_dist = cass_dist.transpose()\n",
    "# check shape\n",
    "cass_dist.head()\n"
   ]
  },
  {
   "cell_type": "code",
   "execution_count": 26,
   "metadata": {},
   "outputs": [
    {
     "data": {
      "image/png": "[encoded data removed]",
      "text/plain": [
       "<Figure size 432x288 with 1 Axes>"
      ]
     },
     "metadata": {
      "needs_background": "light"
     },
     "output_type": "display_data"
    },
    {
     "data": {
      "image/png": "[encoded data removed]",
      "text/plain": [
       "<Figure size 432x288 with 1 Axes>"
      ]
     },
     "metadata": {
      "needs_background": "light"
     },
     "output_type": "display_data"
    },
    {
     "data": {
      "image/png": "[encoded data removed]",
      "text/plain": [
       "<Figure size 432x288 with 1 Axes>"
      ]
     },
     "metadata": {
      "needs_background": "light"
     },
     "output_type": "display_data"
    }
   ],
   "source": [
    "# set the order in which the plot displays the various bars for the original data\n",
    "cass_dist.reindex(['0-5 miles', '6-15 miles',  '16-30 miles', 'Over 30 miles']).plot(kind='bar', title='Original Distance')\n",
    "plt.legend([\"Original\"])\n",
    "# set the order in which the plot displays the various bars for the simulated data\n",
    "df_dist.reindex(['0-5 miles', '6-15 miles',  '16-30 miles', 'Over 30 miles']).plot(kind='bar', title='Simulated Distance with lognormal')\n",
    "plt.legend([\"Simulated\"]);\n",
    "df_dist_ch.reindex(['0-5 miles', '6-15 miles',  '16-30 miles', 'Over 30 miles']).plot(kind='bar', title='Simulated Distance with choice')\n",
    "plt.legend([\"Simulated\"]);\n",
    "\n",
    "plt.show()\n",
    "\n",
    "# to do figure out how to display both histograms/bars side by side on the same plot\n"
   ]
  },
  {
   "cell_type": "markdown",
   "metadata": {},
   "source": [
    "From the plots above the np.random.choice model fits Cassidy's data better. However in real life it would not be feasible to get the various probabilities for the whole commuting population so that the better fitting model np.random.choice could be used. Hence np.random.lognormal model is better as a representative of the population even though it does not fit the model as well as the choice model. "
   ]
  },
  {
   "cell_type": "markdown",
   "metadata": {},
   "source": [
    "### Duration\n",
    "\n",
    "Lets add the duration data. In Cassidy's study the duration of commute was as follows; 137 participants had 0-30 minutes duration; 121 participants had a commute duration of 30-60 minutes and 97 participants commuting time was over 60 minutes (Cassidy, 1992). Again, this was initially simulated with np.random.choice. \n",
    "\n",
    "#### Why?\n",
    "\n",
    "NumPy Random's choice was used to initially simulate the duration of commute. There are three bands and the data is ordinal, as there is a progression from 30 minutes to over 60 minutes. However as these choices were items on a survey NumPy Random's 'choice' function would be suitable as a model. There was a total of 355 responses to this section of the survey so this was taken as the total when calculating the probability weightings for each of the duration bands. A 'Duration' array was created containing the three duration bands, 0 to 30 minutes, 30- 60 minutes and over 60 minutes. There were 137 responses in the first band so this was weighted as 137/355, 121 for the second band giving a probability of 121/355 and 97 responses for the Over 60 minutes response giving a weighting of 97/355.  The first pass at the model of the Duration variable can be found below.\n"
   ]
  },
  {
   "cell_type": "code",
   "execution_count": 27,
   "metadata": {},
   "outputs": [
    {
     "name": "stdout",
     "output_type": "stream",
     "text": [
      "The duration of the commute is  ['0-30 minutes', '30-60 minutes', 'Over 60 minutes']\n"
     ]
    }
   ],
   "source": [
    "# add the duration categories\n",
    "duration = ['0-30 minutes', '30-60 minutes', 'Over 60 minutes']\n",
    "# check its added\n",
    "print(\"The duration of the commute is \", duration)"
   ]
  },
  {
   "cell_type": "code",
   "execution_count": 28,
   "metadata": {},
   "outputs": [
    {
     "name": "stdout",
     "output_type": "stream",
     "text": [
      "The number of respondants to the duration of commute question is  355\n"
     ]
    }
   ],
   "source": [
    "# calculate the total number of responses to this question\n",
    "tot_dur = 137+121+97\n",
    "# check its added\n",
    "print(\"The number of respondants to the duration of commute question is \", tot_dur)"
   ]
  },
  {
   "cell_type": "code",
   "execution_count": 29,
   "metadata": {},
   "outputs": [
    {
     "data": {
      "text/plain": [
       "array(['Over 60 minutes', 'Over 60 minutes', '0-30 minutes',\n",
       "       '0-30 minutes', '0-30 minutes', '0-30 minutes', '30-60 minutes'],\n",
       "      dtype='<U15')"
      ]
     },
     "execution_count": 29,
     "metadata": {},
     "output_type": "execute_result"
    }
   ],
   "source": [
    "# generate the responses to the 'Duration' category\n",
    "y_dur = np.random.choice(duration, size, p=[137/tot_dur, 121/tot_dur, 97/tot_dur])\n",
    "# check the first few values of the array\n",
    "y_dur[:7]\n"
   ]
  },
  {
   "cell_type": "code",
   "execution_count": 30,
   "metadata": {},
   "outputs": [
    {
     "data": {
      "text/html": [
       "<div>\n",
       "<style scoped>\n",
       "    .dataframe tbody tr th:only-of-type {\n",
       "        vertical-align: middle;\n",
       "    }\n",
       "\n",
       "    .dataframe tbody tr th {\n",
       "        vertical-align: top;\n",
       "    }\n",
       "\n",
       "    .dataframe thead th {\n",
       "        text-align: right;\n",
       "    }\n",
       "</style>\n",
       "<table border=\"1\" class=\"dataframe\">\n",
       "  <thead>\n",
       "    <tr style=\"text-align: right;\">\n",
       "      <th></th>\n",
       "      <th>Distance</th>\n",
       "      <th>Duration</th>\n",
       "      <th>Time</th>\n",
       "      <th>Impedance</th>\n",
       "      <th>Stress</th>\n",
       "      <th>Distance-ch</th>\n",
       "      <th>Duration-ch</th>\n",
       "    </tr>\n",
       "  </thead>\n",
       "  <tbody>\n",
       "    <tr>\n",
       "      <th>0</th>\n",
       "      <td>16-30 miles</td>\n",
       "      <td>NaN</td>\n",
       "      <td>NaN</td>\n",
       "      <td>NaN</td>\n",
       "      <td>NaN</td>\n",
       "      <td>0-5 miles</td>\n",
       "      <td>Over 60 minutes</td>\n",
       "    </tr>\n",
       "    <tr>\n",
       "      <th>1</th>\n",
       "      <td>0-5 miles</td>\n",
       "      <td>NaN</td>\n",
       "      <td>NaN</td>\n",
       "      <td>NaN</td>\n",
       "      <td>NaN</td>\n",
       "      <td>6-15 miles</td>\n",
       "      <td>Over 60 minutes</td>\n",
       "    </tr>\n",
       "    <tr>\n",
       "      <th>2</th>\n",
       "      <td>6-15 miles</td>\n",
       "      <td>NaN</td>\n",
       "      <td>NaN</td>\n",
       "      <td>NaN</td>\n",
       "      <td>NaN</td>\n",
       "      <td>6-15 miles</td>\n",
       "      <td>0-30 minutes</td>\n",
       "    </tr>\n",
       "    <tr>\n",
       "      <th>3</th>\n",
       "      <td>6-15 miles</td>\n",
       "      <td>NaN</td>\n",
       "      <td>NaN</td>\n",
       "      <td>NaN</td>\n",
       "      <td>NaN</td>\n",
       "      <td>6-15 miles</td>\n",
       "      <td>0-30 minutes</td>\n",
       "    </tr>\n",
       "    <tr>\n",
       "      <th>4</th>\n",
       "      <td>6-15 miles</td>\n",
       "      <td>NaN</td>\n",
       "      <td>NaN</td>\n",
       "      <td>NaN</td>\n",
       "      <td>NaN</td>\n",
       "      <td>6-15 miles</td>\n",
       "      <td>0-30 minutes</td>\n",
       "    </tr>\n",
       "  </tbody>\n",
       "</table>\n",
       "</div>"
      ],
      "text/plain": [
       "      Distance Duration Time Impedance Stress Distance-ch      Duration-ch\n",
       "0  16-30 miles      NaN  NaN       NaN    NaN   0-5 miles  Over 60 minutes\n",
       "1    0-5 miles      NaN  NaN       NaN    NaN  6-15 miles  Over 60 minutes\n",
       "2   6-15 miles      NaN  NaN       NaN    NaN  6-15 miles     0-30 minutes\n",
       "3   6-15 miles      NaN  NaN       NaN    NaN  6-15 miles     0-30 minutes\n",
       "4   6-15 miles      NaN  NaN       NaN    NaN  6-15 miles     0-30 minutes"
      ]
     },
     "execution_count": 30,
     "metadata": {},
     "output_type": "execute_result"
    }
   ],
   "source": [
    "df['Duration-ch'] = pd.Series(y_dur)\n",
    "df.head()\n"
   ]
  },
  {
   "cell_type": "code",
   "execution_count": 31,
   "metadata": {},
   "outputs": [
    {
     "data": {
      "text/plain": [
       "Counter({'Over 60 minutes': 106, '0-30 minutes': 135, '30-60 minutes': 129})"
      ]
     },
     "execution_count": 31,
     "metadata": {},
     "output_type": "execute_result"
    }
   ],
   "source": [
    "# calculate the number of responses to each duration band\n",
    "dur_counts_ch = Counter(df['Duration-ch'])\n",
    "# check to see if counts look reasonable\n",
    "dur_counts_ch\n"
   ]
  },
  {
   "cell_type": "code",
   "execution_count": 32,
   "metadata": {},
   "outputs": [
    {
     "data": {
      "text/plain": [
       "370"
      ]
     },
     "execution_count": 32,
     "metadata": {},
     "output_type": "execute_result"
    }
   ],
   "source": [
    "# sum counts\n",
    "# list the values\n",
    "dur_counts_ch.values()\n",
    "# sum the values\n",
    "sum(dur_counts_ch.values())"
   ]
  },
  {
   "cell_type": "code",
   "execution_count": 33,
   "metadata": {},
   "outputs": [
    {
     "data": {
      "image/png": "[encoded data removed]",
      "text/plain": [
       "<Figure size 432x288 with 1 Axes>"
      ]
     },
     "metadata": {
      "needs_background": "light"
     },
     "output_type": "display_data"
    }
   ],
   "source": [
    "# create an indexed dataframe with the number of counts\n",
    "# code adapted from https://pandas.pydata.org/pandas-docs/stable/generated/pandas.DataFrame.from_dict.html\n",
    "#(Pandas community, 2018)\n",
    "df_dur_ch = pd.DataFrame.from_dict(dur_counts_ch, orient='index')\n",
    "                      \n",
    "#plot the bar chart of the duration counts\n",
    "df_dur_ch.plot(kind='bar', title='Duration with np.random.choice', legend = False)\n",
    "plt.show()"
   ]
  },
  {
   "cell_type": "markdown",
   "metadata": {},
   "source": [
    "#### Distribution\n",
    "\n",
    "#### Duration of commute distribution\n",
    "\n",
    "\n",
    "Stutzer & Frey (2008) in their paper for the Scandinavian Journal of Economics titled *Stress  that  Doesn’t  Pay: The  Commuting  Paradox* reported commuting time in Germany from 1985-2003. They found that the average commute was 22 minutes per journey, i.e. 44 minutes round trip with a standard deviation of 18 minutes.\n",
    "They found long distance commuters who travel over an hour a day comprised of 6.8 percent of the sample. A figure of these findings is presented below.  \n",
    "\n",
    "![commute duration distribution stutzer & Frey](https://github.com/Osheah/images/raw/master/commute-stress/img/commute-time.JPG)\n",
    "\n",
    "Beige, 2012 also investigated commuting times in his large 2008 dataset of Berliner commuters. Like Stutzer & Frey he found a similarly shaped distribution (See the figure below) however the commuting times in minutes had a mean of 34.450 minutes and a standard deviation of standard deviation 24.208. \n",
    "\n",
    "![commute duration distribution beige](https://github.com/Osheah/images/raw/master/commute-stress/img/commute-time-beige.JPG)\n",
    "\n",
    "\n",
    "Weifeng et al (2013) investigated travel time distributions. They found that the best goodness of fit was the lognormal distribution. Other research also indicates that lognormal is frequently used to model travel time Guessous, 2014; Ma et al, 2015). However there is a great deal of variation in the models used depending on the routes taken and the method of transportation amongst many other factors(Büchel & Corman, 2018).\n",
    "\n",
    "The parameters from Beige (2012)of the lognormal distribution were $\\mu = 34.450$ minutes and $\\sigma = 24.208$ minutes. \n"
   ]
  },
  {
   "cell_type": "markdown",
   "metadata": {},
   "source": [
    "Lets get the mean and standard deviation of Cassidy's, (1992) data. Firstly use band interval midpoints as the duration. Assume no commute takes longer than 2 (120 minutes)hours one way."
   ]
  },
  {
   "cell_type": "code",
   "execution_count": 34,
   "metadata": {},
   "outputs": [
    {
     "name": "stdout",
     "output_type": "stream",
     "text": [
      "The mean duration for Cassidy's data is  45.72 minutes\n",
      "The standard deviation of duration for Cassidy's data is  14.39 minutes\n"
     ]
    }
   ],
   "source": [
    "#get mid points of the duration intervals\n",
    "dur_mp1= 0+(30-0)/2  \n",
    "dur_mp2= 30+(60-30)/2\n",
    "dur_mp3 = 60 + (120-60)/2 # assume maximum commute duration is 120 min\n",
    "dur_denom = 137+121+97\n",
    "dur_mean = (dur_mp1*137+dur_mp2*121+dur_mp3*97)/dur_denom\n",
    "print(\"The mean duration for Cassidy's data is \", f\"{dur_mean:.4}\", \"minutes\")\n",
    "dur_std = (((((dur_mp1-dur_mean)**2)*137+((dur_mp2-dur_mean)**2)*121+((dur_mp3-dur_mean)**2)*97))/dur_denom)**0.5\n",
    "print(\"The standard deviation of duration for Cassidy's data is \", f\"{dist_std:.4}\", \"minutes\")"
   ]
  },
  {
   "cell_type": "markdown",
   "metadata": {},
   "source": [
    "Transform the lognormal mean and standard deviation to the underlying normal mean and standard deviation that np.random.lognormal uses."
   ]
  },
  {
   "cell_type": "code",
   "execution_count": 35,
   "metadata": {},
   "outputs": [
    {
     "name": "stdout",
     "output_type": "stream",
     "text": [
      "The parameters for the lognormal duration distribution are mean of  3.64  and standard deviation of  0.598\n"
     ]
    }
   ],
   "source": [
    "# transform data parameters\n",
    "mu_dur_y = dur_mean\n",
    "sigma_dur_y = dur_std\n",
    "# convert lognormal values to normal values so that they can be entered into numpy randoms lognormal function\n",
    "# calc taken from https://ocw.mit.edu/courses/civil-and-environmental-engineering/1-151-probability-and-statistics-in-engineering-spring-2005/lecture-notes/briefnts8_relnl.pdf\n",
    "# reasoning taken from https://docs.scipy.org/doc/numpy/reference/generated/numpy.random.lognormal.html#numpy.random.lognormal\n",
    "mu_dur_x = 2*math.log(mu_dur_y)-0.5*math.log(sigma_dur_y**2 + mu_dur_y**2)\n",
    "sigma_dur_x = math.sqrt(-2*math.log(mu_dur_y) + math.log(sigma_dur_y**2+mu_dur_y**2))\n",
    "print(\"The parameters for the lognormal duration distribution are mean of \", f\"{mu_dur_x:.3}\", \" and standard deviation of \", f\"{sigma_dur_x:.3}\")"
   ]
  },
  {
   "cell_type": "markdown",
   "metadata": {},
   "source": [
    "Next generate the random values from the lognormal distribution using NumPy Random's lognormal function. \n"
   ]
  },
  {
   "cell_type": "code",
   "execution_count": 36,
   "metadata": {},
   "outputs": [
    {
     "data": {
      "image/png": "[encoded data removed]",
      "text/plain": [
       "<Figure size 432x288 with 1 Axes>"
      ]
     },
     "metadata": {
      "needs_background": "light"
     },
     "output_type": "display_data"
    },
    {
     "name": "stdout",
     "output_type": "stream",
     "text": [
      "The first few values of the duration array are \n",
      "  [84.19492471 36.82321639 48.70513639 28.48897928 70.75148442 58.05086223\n",
      " 85.59191606]\n"
     ]
    }
   ],
   "source": [
    "y_dur_rw = np.random.lognormal(mu_dur_x, sigma_dur_x, size)\n",
    "sns.distplot(y_dist_rw)\n",
    "plt.show()\n",
    "print(\"The first few values of the duration array are \\n \",y_dur_rw[:7])\n",
    "\n"
   ]
  },
  {
   "cell_type": "code",
   "execution_count": 37,
   "metadata": {},
   "outputs": [
    {
     "name": "stdout",
     "output_type": "stream",
     "text": [
      "Change the y_dur_rw duration array to a dataframe and add it to the simulated model.\n"
     ]
    },
    {
     "data": {
      "text/html": [
       "<div>\n",
       "<style scoped>\n",
       "    .dataframe tbody tr th:only-of-type {\n",
       "        vertical-align: middle;\n",
       "    }\n",
       "\n",
       "    .dataframe tbody tr th {\n",
       "        vertical-align: top;\n",
       "    }\n",
       "\n",
       "    .dataframe thead th {\n",
       "        text-align: right;\n",
       "    }\n",
       "</style>\n",
       "<table border=\"1\" class=\"dataframe\">\n",
       "  <thead>\n",
       "    <tr style=\"text-align: right;\">\n",
       "      <th></th>\n",
       "      <th>Distance</th>\n",
       "      <th>Duration</th>\n",
       "      <th>Time</th>\n",
       "      <th>Impedance</th>\n",
       "      <th>Stress</th>\n",
       "      <th>Distance-ch</th>\n",
       "      <th>Duration-ch</th>\n",
       "    </tr>\n",
       "  </thead>\n",
       "  <tbody>\n",
       "    <tr>\n",
       "      <th>0</th>\n",
       "      <td>16-30 miles</td>\n",
       "      <td>Over 60 minutes</td>\n",
       "      <td>NaN</td>\n",
       "      <td>NaN</td>\n",
       "      <td>NaN</td>\n",
       "      <td>0-5 miles</td>\n",
       "      <td>Over 60 minutes</td>\n",
       "    </tr>\n",
       "    <tr>\n",
       "      <th>1</th>\n",
       "      <td>0-5 miles</td>\n",
       "      <td>30-60 minutes</td>\n",
       "      <td>NaN</td>\n",
       "      <td>NaN</td>\n",
       "      <td>NaN</td>\n",
       "      <td>6-15 miles</td>\n",
       "      <td>Over 60 minutes</td>\n",
       "    </tr>\n",
       "    <tr>\n",
       "      <th>2</th>\n",
       "      <td>6-15 miles</td>\n",
       "      <td>30-60 minutes</td>\n",
       "      <td>NaN</td>\n",
       "      <td>NaN</td>\n",
       "      <td>NaN</td>\n",
       "      <td>6-15 miles</td>\n",
       "      <td>0-30 minutes</td>\n",
       "    </tr>\n",
       "    <tr>\n",
       "      <th>3</th>\n",
       "      <td>6-15 miles</td>\n",
       "      <td>0-30 minutes</td>\n",
       "      <td>NaN</td>\n",
       "      <td>NaN</td>\n",
       "      <td>NaN</td>\n",
       "      <td>6-15 miles</td>\n",
       "      <td>0-30 minutes</td>\n",
       "    </tr>\n",
       "    <tr>\n",
       "      <th>4</th>\n",
       "      <td>6-15 miles</td>\n",
       "      <td>Over 60 minutes</td>\n",
       "      <td>NaN</td>\n",
       "      <td>NaN</td>\n",
       "      <td>NaN</td>\n",
       "      <td>6-15 miles</td>\n",
       "      <td>0-30 minutes</td>\n",
       "    </tr>\n",
       "  </tbody>\n",
       "</table>\n",
       "</div>"
      ],
      "text/plain": [
       "      Distance         Duration Time Impedance Stress Distance-ch  \\\n",
       "0  16-30 miles  Over 60 minutes  NaN       NaN    NaN   0-5 miles   \n",
       "1    0-5 miles    30-60 minutes  NaN       NaN    NaN  6-15 miles   \n",
       "2   6-15 miles    30-60 minutes  NaN       NaN    NaN  6-15 miles   \n",
       "3   6-15 miles     0-30 minutes  NaN       NaN    NaN  6-15 miles   \n",
       "4   6-15 miles  Over 60 minutes  NaN       NaN    NaN  6-15 miles   \n",
       "\n",
       "       Duration-ch  \n",
       "0  Over 60 minutes  \n",
       "1  Over 60 minutes  \n",
       "2     0-30 minutes  \n",
       "3     0-30 minutes  \n",
       "4     0-30 minutes  "
      ]
     },
     "execution_count": 37,
     "metadata": {},
     "output_type": "execute_result"
    }
   ],
   "source": [
    "# change numbers to bands but before this put in series\n",
    "# temp values need to be cleared first\n",
    "df['rwDuration1'] = \"\"\n",
    "df['rwDuration2'] = \"\"\n",
    "df['rwDuration3'] = \"\"\n",
    "\n",
    "print(\"Change the y_dur_rw duration array to a dataframe and add it to the simulated model.\")\n",
    "df['Duration'] = pd.Series(y_dur_rw)\n",
    "df.loc[df['Duration'] < 30, 'rwDuration1'] = '0-30 minutes'\n",
    "df.loc[(df['Duration'] >= 30) & (df['Duration'] < 60), 'rwDuration2'] = '30-60 minutes' \n",
    "df.loc[df['Duration'] >= 60, 'rwDuration3'] = 'Over 60 minutes'\n",
    "df['Duration'] = df['rwDuration1']+df['rwDuration2']+df['rwDuration3']\n",
    "df.drop(['rwDuration1', 'rwDuration2', 'rwDuration3'], axis=1, inplace = True)\n",
    "df.head()\n",
    "\n"
   ]
  },
  {
   "cell_type": "markdown",
   "metadata": {},
   "source": [
    "Change the y_dur duration array to a dataframe and add it to the simulated model. "
   ]
  },
  {
   "cell_type": "code",
   "execution_count": 38,
   "metadata": {},
   "outputs": [
    {
     "data": {
      "text/html": [
       "<div>\n",
       "<style scoped>\n",
       "    .dataframe tbody tr th:only-of-type {\n",
       "        vertical-align: middle;\n",
       "    }\n",
       "\n",
       "    .dataframe tbody tr th {\n",
       "        vertical-align: top;\n",
       "    }\n",
       "\n",
       "    .dataframe thead th {\n",
       "        text-align: right;\n",
       "    }\n",
       "</style>\n",
       "<table border=\"1\" class=\"dataframe\">\n",
       "  <thead>\n",
       "    <tr style=\"text-align: right;\">\n",
       "      <th></th>\n",
       "      <th>Distance</th>\n",
       "      <th>Duration</th>\n",
       "      <th>Time</th>\n",
       "      <th>Impedance</th>\n",
       "      <th>Stress</th>\n",
       "      <th>Distance-ch</th>\n",
       "      <th>Duration-ch</th>\n",
       "    </tr>\n",
       "  </thead>\n",
       "  <tbody>\n",
       "    <tr>\n",
       "      <th>365</th>\n",
       "      <td>0-5 miles</td>\n",
       "      <td>30-60 minutes</td>\n",
       "      <td>NaN</td>\n",
       "      <td>NaN</td>\n",
       "      <td>NaN</td>\n",
       "      <td>16-30 miles</td>\n",
       "      <td>0-30 minutes</td>\n",
       "    </tr>\n",
       "    <tr>\n",
       "      <th>366</th>\n",
       "      <td>Over 30 miles</td>\n",
       "      <td>30-60 minutes</td>\n",
       "      <td>NaN</td>\n",
       "      <td>NaN</td>\n",
       "      <td>NaN</td>\n",
       "      <td>Over 30 miles</td>\n",
       "      <td>0-30 minutes</td>\n",
       "    </tr>\n",
       "    <tr>\n",
       "      <th>367</th>\n",
       "      <td>16-30 miles</td>\n",
       "      <td>Over 60 minutes</td>\n",
       "      <td>NaN</td>\n",
       "      <td>NaN</td>\n",
       "      <td>NaN</td>\n",
       "      <td>6-15 miles</td>\n",
       "      <td>0-30 minutes</td>\n",
       "    </tr>\n",
       "    <tr>\n",
       "      <th>368</th>\n",
       "      <td>6-15 miles</td>\n",
       "      <td>Over 60 minutes</td>\n",
       "      <td>NaN</td>\n",
       "      <td>NaN</td>\n",
       "      <td>NaN</td>\n",
       "      <td>6-15 miles</td>\n",
       "      <td>Over 60 minutes</td>\n",
       "    </tr>\n",
       "    <tr>\n",
       "      <th>369</th>\n",
       "      <td>16-30 miles</td>\n",
       "      <td>0-30 minutes</td>\n",
       "      <td>NaN</td>\n",
       "      <td>NaN</td>\n",
       "      <td>NaN</td>\n",
       "      <td>Over 30 miles</td>\n",
       "      <td>Over 60 minutes</td>\n",
       "    </tr>\n",
       "  </tbody>\n",
       "</table>\n",
       "</div>"
      ],
      "text/plain": [
       "          Distance         Duration Time Impedance Stress    Distance-ch  \\\n",
       "365      0-5 miles    30-60 minutes  NaN       NaN    NaN    16-30 miles   \n",
       "366  Over 30 miles    30-60 minutes  NaN       NaN    NaN  Over 30 miles   \n",
       "367    16-30 miles  Over 60 minutes  NaN       NaN    NaN     6-15 miles   \n",
       "368     6-15 miles  Over 60 minutes  NaN       NaN    NaN     6-15 miles   \n",
       "369    16-30 miles     0-30 minutes  NaN       NaN    NaN  Over 30 miles   \n",
       "\n",
       "         Duration-ch  \n",
       "365     0-30 minutes  \n",
       "366     0-30 minutes  \n",
       "367     0-30 minutes  \n",
       "368  Over 60 minutes  \n",
       "369  Over 60 minutes  "
      ]
     },
     "execution_count": 38,
     "metadata": {},
     "output_type": "execute_result"
    }
   ],
   "source": [
    "# check that the end of the dataframe looks okay\n",
    "df.tail()"
   ]
  },
  {
   "cell_type": "markdown",
   "metadata": {},
   "source": [
    "Lets plot the histogram of the commute duration bands"
   ]
  },
  {
   "cell_type": "code",
   "execution_count": 39,
   "metadata": {},
   "outputs": [
    {
     "name": "stdout",
     "output_type": "stream",
     "text": [
      "The number in each of the duration bands is  Counter({'30-60 minutes': 164, '0-30 minutes': 134, 'Over 60 minutes': 72})\n"
     ]
    }
   ],
   "source": [
    "# calculate the number of responses to each duration band\n",
    "dur_counts = Counter(df['Duration'])\n",
    "# check the number\n",
    "print(\"The number in each of the duration bands is \", dur_counts)"
   ]
  },
  {
   "cell_type": "code",
   "execution_count": 40,
   "metadata": {},
   "outputs": [
    {
     "data": {
      "text/html": [
       "<div>\n",
       "<style scoped>\n",
       "    .dataframe tbody tr th:only-of-type {\n",
       "        vertical-align: middle;\n",
       "    }\n",
       "\n",
       "    .dataframe tbody tr th {\n",
       "        vertical-align: top;\n",
       "    }\n",
       "\n",
       "    .dataframe thead th {\n",
       "        text-align: right;\n",
       "    }\n",
       "</style>\n",
       "<table border=\"1\" class=\"dataframe\">\n",
       "  <thead>\n",
       "    <tr style=\"text-align: right;\">\n",
       "      <th></th>\n",
       "      <th>0</th>\n",
       "    </tr>\n",
       "  </thead>\n",
       "  <tbody>\n",
       "    <tr>\n",
       "      <th>Over 60 minutes</th>\n",
       "      <td>72</td>\n",
       "    </tr>\n",
       "    <tr>\n",
       "      <th>30-60 minutes</th>\n",
       "      <td>164</td>\n",
       "    </tr>\n",
       "    <tr>\n",
       "      <th>0-30 minutes</th>\n",
       "      <td>134</td>\n",
       "    </tr>\n",
       "  </tbody>\n",
       "</table>\n",
       "</div>"
      ],
      "text/plain": [
       "                   0\n",
       "Over 60 minutes   72\n",
       "30-60 minutes    164\n",
       "0-30 minutes     134"
      ]
     },
     "execution_count": 40,
     "metadata": {},
     "output_type": "execute_result"
    }
   ],
   "source": [
    "# create an indexed dataframe with the number of counts\n",
    "df_dur = pd.DataFrame.from_dict(dur_counts, orient='index')\n",
    "# check it looks okay\n",
    "df_dur\n"
   ]
  },
  {
   "cell_type": "code",
   "execution_count": 41,
   "metadata": {},
   "outputs": [
    {
     "data": {
      "image/png": "[encoded data removed]",
      "text/plain": [
       "<Figure size 432x288 with 1 Axes>"
      ]
     },
     "metadata": {
      "needs_background": "light"
     },
     "output_type": "display_data"
    }
   ],
   "source": [
    "#plot the bar chart of the duration counts\n",
    "df_dur.plot(kind='bar', title='Duration')\n",
    "plt.legend([\"Simulated Duration\"]);\n",
    "plt.show()"
   ]
  },
  {
   "cell_type": "markdown",
   "metadata": {},
   "source": [
    "Lets see how this compares to Cassidy's survey by plotting the bar chart for his duration band counts."
   ]
  },
  {
   "cell_type": "code",
   "execution_count": 42,
   "metadata": {},
   "outputs": [
    {
     "data": {
      "text/html": [
       "<div>\n",
       "<style scoped>\n",
       "    .dataframe tbody tr th:only-of-type {\n",
       "        vertical-align: middle;\n",
       "    }\n",
       "\n",
       "    .dataframe tbody tr th {\n",
       "        vertical-align: top;\n",
       "    }\n",
       "\n",
       "    .dataframe thead th {\n",
       "        text-align: right;\n",
       "    }\n",
       "</style>\n",
       "<table border=\"1\" class=\"dataframe\">\n",
       "  <thead>\n",
       "    <tr style=\"text-align: right;\">\n",
       "      <th></th>\n",
       "      <th>0</th>\n",
       "    </tr>\n",
       "  </thead>\n",
       "  <tbody>\n",
       "    <tr>\n",
       "      <th>0-30 minutes</th>\n",
       "      <td>137</td>\n",
       "    </tr>\n",
       "    <tr>\n",
       "      <th>30-60 minutes</th>\n",
       "      <td>121</td>\n",
       "    </tr>\n",
       "    <tr>\n",
       "      <th>Over 60 minutes</th>\n",
       "      <td>97</td>\n",
       "    </tr>\n",
       "  </tbody>\n",
       "</table>\n",
       "</div>"
      ],
      "text/plain": [
       "                   0\n",
       "0-30 minutes     137\n",
       "30-60 minutes    121\n",
       "Over 60 minutes   97"
      ]
     },
     "execution_count": 42,
     "metadata": {},
     "output_type": "execute_result"
    }
   ],
   "source": [
    "# create Cassidy's Duration counts as a dataframe\n",
    "cass_dur = pd.DataFrame(np.array([[137, 121, 97]]), columns=['0-30 minutes', '30-60 minutes',  'Over 60 minutes'])\n",
    "cass_dur = cass_dur.transpose()\n",
    "# check shape\n",
    "cass_dur.head()\n"
   ]
  },
  {
   "cell_type": "code",
   "execution_count": 43,
   "metadata": {},
   "outputs": [
    {
     "data": {
      "image/png": "[encoded data removed]",
      "text/plain": [
       "<Figure size 432x288 with 1 Axes>"
      ]
     },
     "metadata": {
      "needs_background": "light"
     },
     "output_type": "display_data"
    },
    {
     "data": {
      "image/png": "[encoded data removed]",
      "text/plain": [
       "<Figure size 432x288 with 1 Axes>"
      ]
     },
     "metadata": {
      "needs_background": "light"
     },
     "output_type": "display_data"
    },
    {
     "data": {
      "image/png": "[encoded data removed]",
      "text/plain": [
       "<Figure size 432x288 with 1 Axes>"
      ]
     },
     "metadata": {
      "needs_background": "light"
     },
     "output_type": "display_data"
    }
   ],
   "source": [
    "# set the order in which the plot displays the various bars for the original data\n",
    "cass_dur.reindex(['0-30 minutes', '30-60 minutes',  'Over 60 minutes']).plot(kind='bar', title='Original Duration')\n",
    "plt.legend([\"Original\"])\n",
    "# set the order in which the plot displays the various bars for the simulated data\n",
    "df_dur.reindex(['0-30 minutes', '30-60 minutes',  'Over 60 minutes']).plot(kind='bar', title='Simulated Duration  with np.random.lognormal')\n",
    "plt.legend([\"Simulated\"]);\n",
    "df_dur_ch.reindex(['0-30 minutes', '30-60 minutes',  'Over 60 minutes']).plot(kind='bar', title='Simulated Duration  with np.random.choice')\n",
    "plt.legend([\"Simulated\"])\n",
    "plt.show()\n",
    "\n",
    "\n",
    "# to do figure out how to display both histograms/bars side by side on the same plot\n"
   ]
  },
  {
   "cell_type": "markdown",
   "metadata": {},
   "source": [
    "In Cassidy's data the most common duration band was the first one, 0-30 minutes. With the lognormal distribution model the most common duration is the second band 30-60 minutes. For the choice model the ratio of the first and second band are quite similar 0.39 and 0.34 so it varies which one is the most popular. In the real data and the models the Over 60 minutes duration is the least popular duration. "
   ]
  },
  {
   "cell_type": "markdown",
   "metadata": {},
   "source": [
    "### Time\n",
    "\n",
    "Lets add the time data. In Cassidy's study the time commuting does **not** refer to the duration of the commute but to the **overall time participants spent as a commuter traveling this duration**. This is commonly referred to in economics as employment or job tenure (OECD Statistics Directorate, 2002). It could also be interpreted as a measure of job churn (Wikipedia contributors, December 3 2018). Churn is the difference between end and start values i.e. turnover.  There was 343 respondents to this question on the survey with 73 responses indicating a commuting time of 1-29 months, 99 commuting for between 30 and 60 months, 80 commuting between 60 and 131 months and 132 participants commuting for over 132 months (Cassidy, 1992).  This was initially simulated with np.random.choice. \n",
    "\n",
    "#### Why?\n",
    "\n",
    "NumPy Random's choice was used to simulate the time spent commuting. There are four bands in this category. Again the data is ordinal, as there is a progression from 1 month to over 132 months.However as these choices were items on a survey NumPy Random's 'choice' function would be suitable as a model. There was a total of 343 responses to this section of the survey so this was taken as the total when calculating the probability weightings for each of the time bands. A 'Time' array was created containing the four time bands, 1 - 29 months, 30-60 months, 60-131 months and over 132 months. There were 73 responses in the first band so this was weighted as 73/343, 99 for the second band giving a probability of 99/343; 80 responses for the third band giving a weighting of 80/343 and finally 91 responses in the Over 132 month band giving a weighting of 91/343.   The first model of the Time variable can be found below.\n",
    "\n"
   ]
  },
  {
   "cell_type": "code",
   "execution_count": 44,
   "metadata": {},
   "outputs": [
    {
     "data": {
      "text/plain": [
       "['1-29 months', '30-60 months', '60-131 months', 'Over 132 months']"
      ]
     },
     "execution_count": 44,
     "metadata": {},
     "output_type": "execute_result"
    }
   ],
   "source": [
    "# add the  time category bands\n",
    "time = ['1-29 months', '30-60 months', '60-131 months', 'Over 132 months']\n",
    "# check the bands\n",
    "time"
   ]
  },
  {
   "cell_type": "code",
   "execution_count": 45,
   "metadata": {},
   "outputs": [
    {
     "name": "stdout",
     "output_type": "stream",
     "text": [
      "The number of respondents to the time question is  343\n"
     ]
    }
   ],
   "source": [
    "# calculate the number of responses to the Time category question\n",
    "tot_time = 73+99+80+91\n",
    "# check the number of respondents to the time question\n",
    "print(\"The number of respondents to the time question is \", tot_time)"
   ]
  },
  {
   "cell_type": "code",
   "execution_count": 46,
   "metadata": {},
   "outputs": [
    {
     "data": {
      "text/plain": [
       "array(['Over 132 months', '60-131 months', '30-60 months',\n",
       "       '60-131 months', 'Over 132 months', '60-131 months',\n",
       "       '60-131 months'], dtype='<U15')"
      ]
     },
     "execution_count": 46,
     "metadata": {},
     "output_type": "execute_result"
    }
   ],
   "source": [
    "# generate the time category responses with their respective weightings\n",
    "y_time = np.random.choice(time, size, p=[73/tot_time, 99/tot_time, 80/tot_time, 91/tot_time])\n",
    "# check the first few values look okay\n",
    "y_time[:7]"
   ]
  },
  {
   "cell_type": "code",
   "execution_count": 47,
   "metadata": {
    "scrolled": true
   },
   "outputs": [
    {
     "data": {
      "text/html": [
       "<div>\n",
       "<style scoped>\n",
       "    .dataframe tbody tr th:only-of-type {\n",
       "        vertical-align: middle;\n",
       "    }\n",
       "\n",
       "    .dataframe tbody tr th {\n",
       "        vertical-align: top;\n",
       "    }\n",
       "\n",
       "    .dataframe thead th {\n",
       "        text-align: right;\n",
       "    }\n",
       "</style>\n",
       "<table border=\"1\" class=\"dataframe\">\n",
       "  <thead>\n",
       "    <tr style=\"text-align: right;\">\n",
       "      <th></th>\n",
       "      <th>Distance</th>\n",
       "      <th>Duration</th>\n",
       "      <th>Time</th>\n",
       "      <th>Impedance</th>\n",
       "      <th>Stress</th>\n",
       "      <th>Distance-ch</th>\n",
       "      <th>Duration-ch</th>\n",
       "      <th>Time-ch</th>\n",
       "    </tr>\n",
       "  </thead>\n",
       "  <tbody>\n",
       "    <tr>\n",
       "      <th>0</th>\n",
       "      <td>16-30 miles</td>\n",
       "      <td>Over 60 minutes</td>\n",
       "      <td>NaN</td>\n",
       "      <td>NaN</td>\n",
       "      <td>NaN</td>\n",
       "      <td>0-5 miles</td>\n",
       "      <td>Over 60 minutes</td>\n",
       "      <td>Over 132 months</td>\n",
       "    </tr>\n",
       "    <tr>\n",
       "      <th>1</th>\n",
       "      <td>0-5 miles</td>\n",
       "      <td>30-60 minutes</td>\n",
       "      <td>NaN</td>\n",
       "      <td>NaN</td>\n",
       "      <td>NaN</td>\n",
       "      <td>6-15 miles</td>\n",
       "      <td>Over 60 minutes</td>\n",
       "      <td>60-131 months</td>\n",
       "    </tr>\n",
       "    <tr>\n",
       "      <th>2</th>\n",
       "      <td>6-15 miles</td>\n",
       "      <td>30-60 minutes</td>\n",
       "      <td>NaN</td>\n",
       "      <td>NaN</td>\n",
       "      <td>NaN</td>\n",
       "      <td>6-15 miles</td>\n",
       "      <td>0-30 minutes</td>\n",
       "      <td>30-60 months</td>\n",
       "    </tr>\n",
       "    <tr>\n",
       "      <th>3</th>\n",
       "      <td>6-15 miles</td>\n",
       "      <td>0-30 minutes</td>\n",
       "      <td>NaN</td>\n",
       "      <td>NaN</td>\n",
       "      <td>NaN</td>\n",
       "      <td>6-15 miles</td>\n",
       "      <td>0-30 minutes</td>\n",
       "      <td>60-131 months</td>\n",
       "    </tr>\n",
       "    <tr>\n",
       "      <th>4</th>\n",
       "      <td>6-15 miles</td>\n",
       "      <td>Over 60 minutes</td>\n",
       "      <td>NaN</td>\n",
       "      <td>NaN</td>\n",
       "      <td>NaN</td>\n",
       "      <td>6-15 miles</td>\n",
       "      <td>0-30 minutes</td>\n",
       "      <td>Over 132 months</td>\n",
       "    </tr>\n",
       "  </tbody>\n",
       "</table>\n",
       "</div>"
      ],
      "text/plain": [
       "      Distance         Duration Time Impedance Stress Distance-ch  \\\n",
       "0  16-30 miles  Over 60 minutes  NaN       NaN    NaN   0-5 miles   \n",
       "1    0-5 miles    30-60 minutes  NaN       NaN    NaN  6-15 miles   \n",
       "2   6-15 miles    30-60 minutes  NaN       NaN    NaN  6-15 miles   \n",
       "3   6-15 miles     0-30 minutes  NaN       NaN    NaN  6-15 miles   \n",
       "4   6-15 miles  Over 60 minutes  NaN       NaN    NaN  6-15 miles   \n",
       "\n",
       "       Duration-ch          Time-ch  \n",
       "0  Over 60 minutes  Over 132 months  \n",
       "1  Over 60 minutes    60-131 months  \n",
       "2     0-30 minutes     30-60 months  \n",
       "3     0-30 minutes    60-131 months  \n",
       "4     0-30 minutes  Over 132 months  "
      ]
     },
     "execution_count": 47,
     "metadata": {},
     "output_type": "execute_result"
    }
   ],
   "source": [
    "df['Time-ch'] = pd.Series(y_time)\n",
    "df.head()\n"
   ]
  },
  {
   "cell_type": "code",
   "execution_count": 48,
   "metadata": {},
   "outputs": [
    {
     "data": {
      "text/plain": [
       "Counter({'Over 132 months': 106,\n",
       "         '60-131 months': 84,\n",
       "         '30-60 months': 116,\n",
       "         '1-29 months': 64})"
      ]
     },
     "execution_count": 48,
     "metadata": {},
     "output_type": "execute_result"
    }
   ],
   "source": [
    "# calculate the number of responses to each time band\n",
    "time_counts_ch = Counter(df['Time-ch'])\n",
    "# check to see if counts look reasonable\n",
    "time_counts_ch\n"
   ]
  },
  {
   "cell_type": "code",
   "execution_count": 49,
   "metadata": {},
   "outputs": [
    {
     "data": {
      "text/plain": [
       "370"
      ]
     },
     "execution_count": 49,
     "metadata": {},
     "output_type": "execute_result"
    }
   ],
   "source": [
    "# sum counts\n",
    "# list the values\n",
    "time_counts_ch.values()\n",
    "# sum the values\n",
    "sum(time_counts_ch.values())"
   ]
  },
  {
   "cell_type": "code",
   "execution_count": 50,
   "metadata": {},
   "outputs": [
    {
     "data": {
      "image/png": "[encoded data removed]",
      "text/plain": [
       "<Figure size 432x288 with 1 Axes>"
      ]
     },
     "metadata": {
      "needs_background": "light"
     },
     "output_type": "display_data"
    }
   ],
   "source": [
    "# create an indexed dataframe with the number of counts\n",
    "# code adapted from https://pandas.pydata.org/pandas-docs/stable/generated/pandas.DataFrame.from_dict.html\n",
    "#(Pandas community, 2018)\n",
    "df_time_ch = pd.DataFrame.from_dict(time_counts_ch, orient='index')\n",
    "                      \n",
    "#plot the bar chart of the time counts\n",
    "df_time_ch.plot(kind='bar', title='Time with np.random.choice', legend = False)\n",
    "plt.show()"
   ]
  },
  {
   "cell_type": "markdown",
   "metadata": {},
   "source": [
    "#### Distribution of commute time (length of time in commuting this distance)\n",
    "\n",
    "Time i.e. the time spend commuting this distance was difficult to research. Hence it was assumed that the time spent in employment was equivalent job/employment tenure i.e the length of time workers stay in their current employment. \n",
    "\n",
    "Research produced data from the OECD that measured the months spent in specific employment broken down by year and country (OECD, 2018). However these figures did not include populations only the time spend in their current employment. The United States Department of Labour, Bureau of Labour Statistics (BLS) contained information including populations and time spent in current employment which will be used to produce the parameters (U.S.A, Department of Labour, 2018).\n",
    "\n",
    "(Aside - I did not use Cassidy's data for the calculating the parameters of this distribution as I got negative value for alpha when doing the calculations and was unsure how to proceed). \n"
   ]
  },
  {
   "cell_type": "code",
   "execution_count": 51,
   "metadata": {
    "scrolled": false
   },
   "outputs": [
    {
     "data": {
      "text/html": [
       "<div>\n",
       "<style scoped>\n",
       "    .dataframe tbody tr th:only-of-type {\n",
       "        vertical-align: middle;\n",
       "    }\n",
       "\n",
       "    .dataframe tbody tr th {\n",
       "        vertical-align: top;\n",
       "    }\n",
       "\n",
       "    .dataframe thead th {\n",
       "        text-align: right;\n",
       "    }\n",
       "</style>\n",
       "<table border=\"1\" class=\"dataframe\">\n",
       "  <thead>\n",
       "    <tr style=\"text-align: right;\">\n",
       "      <th></th>\n",
       "      <th>12 months or less</th>\n",
       "      <th>13 to 23 months</th>\n",
       "      <th>2 years</th>\n",
       "      <th>3 to 4 years</th>\n",
       "      <th>5 to 9 years</th>\n",
       "      <th>10 to 14 years</th>\n",
       "      <th>15 to 19 years</th>\n",
       "      <th>20 years or more</th>\n",
       "    </tr>\n",
       "  </thead>\n",
       "  <tbody>\n",
       "    <tr>\n",
       "      <th>0</th>\n",
       "      <td>30649.566</td>\n",
       "      <td>9483.498</td>\n",
       "      <td>7696.752</td>\n",
       "      <td>24189.792</td>\n",
       "      <td>25839.096</td>\n",
       "      <td>15943.272</td>\n",
       "      <td>9483.498</td>\n",
       "      <td>14156.526</td>\n",
       "    </tr>\n",
       "  </tbody>\n",
       "</table>\n",
       "</div>"
      ],
      "text/plain": [
       "   12 months or less  13 to 23 months   2 years  3 to 4 years  5 to 9 years  \\\n",
       "0          30649.566         9483.498  7696.752     24189.792     25839.096   \n",
       "\n",
       "   10 to 14 years  15 to 19 years  20 years or more  \n",
       "0       15943.272        9483.498         14156.526  "
      ]
     },
     "execution_count": 51,
     "metadata": {},
     "output_type": "execute_result"
    }
   ],
   "source": [
    "# data taken from https://www.bls.gov/news.release/pdf/tenure.pdf\n",
    "# I gave up trying to minipulate the dataframe with pandas after hours and hours trying to get it to do a simple sum\n",
    "# as I was running out of time in writing this assignment I did it quickly in excel namely I took the data in the distributin \n",
    "# by tenure jan 2018 csv file(which was got by copying and pasting the table in the pdf listed above into excel) then I took the first line\n",
    "# which was tenure for people aged 16 years and over and multiplied the percentages out by their total of 137442 then tidied up the empty cells- I do not know\n",
    "# why this proved to be so problematic but nothing was going right so I did it in excel\n",
    "job_time = pd.read_csv(\"https://raw.githubusercontent.com/Osheah/datasets/master/Distribution_by_tenure_January_2018_summary.csv\" ) \n",
    "job_time.head()\n"
   ]
  },
  {
   "cell_type": "markdown",
   "metadata": {},
   "source": [
    "Lets plot the BLS data."
   ]
  },
  {
   "cell_type": "code",
   "execution_count": 52,
   "metadata": {},
   "outputs": [
    {
     "data": {
      "image/png": "[encoded data removed]",
      "text/plain": [
       "<Figure size 432x288 with 1 Axes>"
      ]
     },
     "metadata": {
      "needs_background": "light"
     },
     "output_type": "display_data"
    },
    {
     "name": "stdout",
     "output_type": "stream",
     "text": [
      "The histogram of the BLS data suggests two peaks\n"
     ]
    }
   ],
   "source": [
    "job_time.plot(kind='bar')\n",
    "plt.title(\"BLS Job Tenure Jan 2018\")\n",
    "plt.show()\n",
    "print(\"The histogram of the BLS data suggests two peaks\") # though that might just be the bin size or something"
   ]
  },
  {
   "cell_type": "markdown",
   "metadata": {},
   "source": [
    "Some assumptions were made in shaping this data in a similar way to Cassidy's data. A very loose interpretation of time bands was used. For example the band '60-131 months' i.e. 5 years to just under 11 years in Cassidy's data, was created by summing the bands '5 to 9 years' and '10 to 14 years' in the BLS data etc. It would have been cleaner to use Cassidy's own data and his bands.  "
   ]
  },
  {
   "cell_type": "code",
   "execution_count": 53,
   "metadata": {},
   "outputs": [
    {
     "name": "stdout",
     "output_type": "stream",
     "text": [
      "['1-29 months', '30-60 months', '60-131 months', 'Over 132 months']\n",
      "   12 months or less  13 to 23 months   2 years  3 to 4 years  5 to 9 years  \\\n",
      "0          30649.566         9483.498  7696.752     24189.792     25839.096   \n",
      "\n",
      "   10 to 14 years  15 to 19 years  20 years or more  \n",
      "0       15943.272        9483.498         14156.526  \n"
     ]
    },
    {
     "data": {
      "image/png": "[encoded data removed]",
      "text/plain": [
       "<Figure size 432x288 with 1 Axes>"
      ]
     },
     "metadata": {
      "needs_background": "light"
     },
     "output_type": "display_data"
    }
   ],
   "source": [
    "# Add some columns together to get a similar shape to Cassidy - make some assumptions e.g. 2 years is same as \n",
    "print(time)\n",
    "print(job_time)\n",
    "job_time['1-29 months'] = job_time['12 months or less']+job_time['13 to 23 months'] + job_time['2 years']\n",
    "# assume these bands are roughly (very roughly) equivelant to Cassidy's\n",
    "job_time['30-60 months'] = job_time['3 to 4 years']\n",
    "# assume roughly equivalent to cassidy's bands - if I've time try and get a rough interpolated figure for his month divisions\n",
    "job_time['60-131 months'] = job_time['5 to 9 years']+job_time['10 to 14 years'] \n",
    "job_time['Over 132 months'] = job_time['15 to 19 years']+job_time['20 years or more'] \n",
    "job_time.drop(['12 months or less', '13 to 23 months','2 years', '3 to 4 years','5 to 9 years','10 to 14 years', '15 to 19 years','20 years or more'  ], axis =1, inplace = True)\n",
    "job_time.plot(kind='bar')\n",
    "# quick comparision with cassidy's data\n",
    "#cass_time.reindex(['1-29 months', '30-60 months', '60-131 months', 'Over 132 months']).plot(kind='bar')\n",
    "plt.show()"
   ]
  },
  {
   "cell_type": "markdown",
   "metadata": {},
   "source": [
    "\n",
    "The distribution this falls into is not clear but it may be bimodal. Papadopoulos, 1970 investigated job tenure measures via linked employer-employee data. This contained several graphs some of which are reproduced below. Job tenure is a complex distribution that depends on many factors such as type of job, level of eduction or skill etc; commuting distance is but one such factor (Papadopoulos, 1970). \n",
    "\n",
    "\n",
    "\n",
    "![job tenure fig 1](https://github.com/Osheah/images/raw/master/commute-stress/img/tenurefig1.JPG)\n",
    "\n",
    "\n",
    "\n",
    "![job tenure fig 3](https://github.com/Osheah/images/raw/master/commute-stress/img/tenurefig3.JPG)\n",
    "\n",
    "\n",
    "\n",
    "![job tenure fig 4](https://github.com/Osheah/images/raw/master/commute-stress/img/tenurefig4.JPG)\n",
    "\n",
    "\n",
    "These images show a possible U shaped distribution. Roberts, 2014 noted that this may be due to two types of distribution, people who are a good fit for their current employment (therefore tending to have longer tenure) and people who are a poor fit for their current employment (therefore tending to have short tenure). \n",
    "\n",
    "\n",
    "Patel, 2018 noted that modeling churn (in this case job churn) is difficult. He mentioned that the typical model used, follows a Beta distribution which has a characteristic U shape. The first peak represents the poorly fitted people to their career and the second peak represents the well fitted people to their career. \n",
    "\n",
    "Hence the beta distribution is the distribution that will be used to model the time variable with parameters (alpha and beta) calculated from the BLS data. The dataframe used to calculate the parameters is the original BLS one without the aggregated tenure bands (which is reloaded and renamed below)."
   ]
  },
  {
   "cell_type": "code",
   "execution_count": 54,
   "metadata": {},
   "outputs": [
    {
     "data": {
      "text/html": [
       "<div>\n",
       "<style scoped>\n",
       "    .dataframe tbody tr th:only-of-type {\n",
       "        vertical-align: middle;\n",
       "    }\n",
       "\n",
       "    .dataframe tbody tr th {\n",
       "        vertical-align: top;\n",
       "    }\n",
       "\n",
       "    .dataframe thead th {\n",
       "        text-align: right;\n",
       "    }\n",
       "</style>\n",
       "<table border=\"1\" class=\"dataframe\">\n",
       "  <thead>\n",
       "    <tr style=\"text-align: right;\">\n",
       "      <th></th>\n",
       "      <th>12 months or less</th>\n",
       "      <th>13 to 23 months</th>\n",
       "      <th>2 years</th>\n",
       "      <th>3 to 4 years</th>\n",
       "      <th>5 to 9 years</th>\n",
       "      <th>10 to 14 years</th>\n",
       "      <th>15 to 19 years</th>\n",
       "      <th>20 years or more</th>\n",
       "    </tr>\n",
       "  </thead>\n",
       "  <tbody>\n",
       "    <tr>\n",
       "      <th>0</th>\n",
       "      <td>30649.566</td>\n",
       "      <td>9483.498</td>\n",
       "      <td>7696.752</td>\n",
       "      <td>24189.792</td>\n",
       "      <td>25839.096</td>\n",
       "      <td>15943.272</td>\n",
       "      <td>9483.498</td>\n",
       "      <td>14156.526</td>\n",
       "    </tr>\n",
       "  </tbody>\n",
       "</table>\n",
       "</div>"
      ],
      "text/plain": [
       "   12 months or less  13 to 23 months   2 years  3 to 4 years  5 to 9 years  \\\n",
       "0          30649.566         9483.498  7696.752     24189.792     25839.096   \n",
       "\n",
       "   10 to 14 years  15 to 19 years  20 years or more  \n",
       "0       15943.272        9483.498         14156.526  "
      ]
     },
     "execution_count": 54,
     "metadata": {},
     "output_type": "execute_result"
    }
   ],
   "source": [
    "# reload the dataset and call it something other than job_time\n",
    "calc_time = pd.read_csv(\"https://raw.githubusercontent.com/Osheah/datasets/master/Distribution_by_tenure_January_2018_summary.csv\" )\n",
    "calc_time.head()"
   ]
  },
  {
   "cell_type": "markdown",
   "metadata": {},
   "source": [
    "Calculate the parameters for the Beta distribution. This will be done via SciPy's beta.fit function (SciPy community, 2018). "
   ]
  },
  {
   "cell_type": "code",
   "execution_count": 55,
   "metadata": {},
   "outputs": [
    {
     "name": "stdout",
     "output_type": "stream",
     "text": [
      "alpha is   0.39394508619137675\n",
      "beta is   0.5455135795551629\n",
      "loc is  5714.949457269766\n",
      "scale is  24934.61654273024\n"
     ]
    }
   ],
   "source": [
    "import scipy.stats\n",
    "alpha, beta, loc, scale = scipy.stats.beta.fit(calc_time) # https://docs.scipy.org/doc/scipy/reference/generated/scipy.stats.beta.html\n",
    "print(\"alpha is  \",  alpha)\n",
    "print(\"beta is  \", beta)\n",
    "print(\"loc is \", loc)\n",
    "print(\"scale is \", scale)\n",
    "# what are these numbers? loc? scale? alpha is lower number beta is uper number alpha and beta are between 0 and 1\n",
    "# looks like the distribution needs to be rescaled from https://mathematica.stackexchange.com/questions/129413/how-to-generate-random-numbers-for-beta-distribution-in-a-range\n"
   ]
  },
  {
   "cell_type": "markdown",
   "metadata": {},
   "source": [
    "Plot the distribution based on the above alpha and beta parameters with numbers generated randomly from np.random.beta distribution. "
   ]
  },
  {
   "cell_type": "code",
   "execution_count": 56,
   "metadata": {},
   "outputs": [
    {
     "data": {
      "image/png": "[encoded data removed]",
      "text/plain": [
       "<Figure size 432x288 with 1 Axes>"
      ]
     },
     "metadata": {
      "needs_background": "light"
     },
     "output_type": "display_data"
    }
   ],
   "source": [
    "fig, ax = plt.subplots(1, 1)\n",
    "y_time_rw = np.random.beta(alpha, beta, size)\n",
    "ax.hist(y_time_rw, density=True, histtype='stepfilled', alpha=0.8)\n",
    "plt.title(\"Simulated with np.beta distribution\")\n",
    "plt.show()"
   ]
  },
  {
   "cell_type": "markdown",
   "metadata": {},
   "source": [
    "The above beta distribution plot is between 0 and 1. It should be positioned between 1 and 480. "
   ]
  },
  {
   "cell_type": "markdown",
   "metadata": {},
   "source": [
    "The beta distribution needs to be positioned in the right spot. The maximum possible working period in months is assumed to be 480 months i.e. 40 years and the minimum possible working period is assumed to be 1 month. The rescale formula is (max - min) + min (Stack Exchange user ubpdqn, October 23 2016)."
   ]
  },
  {
   "cell_type": "code",
   "execution_count": 57,
   "metadata": {},
   "outputs": [
    {
     "name": "stdout",
     "output_type": "stream",
     "text": [
      "the rescale factor is 480\n"
     ]
    }
   ],
   "source": [
    "# looks like the distribution needs to be rescaled from https://mathematica.stackexchange.com/questions/129413/how-to-generate-random-numbers-for-beta-distribution-in-a-range\n",
    "# info taken from https://mathematica.stackexchange.com/questions/129413/how-to-generate-random-numbers-for-beta-distribution-in-a-range\n",
    "max = 480# i.e. 40 working years in months \n",
    "min = 1 # 1 month\n",
    "rescale = (max - min) + min\n",
    "print(\"the rescale factor is\", rescale)\n"
   ]
  },
  {
   "cell_type": "code",
   "execution_count": 58,
   "metadata": {},
   "outputs": [
    {
     "data": {
      "image/png": "[encoded data removed]",
      "text/plain": [
       "<Figure size 432x288 with 1 Axes>"
      ]
     },
     "metadata": {
      "needs_background": "light"
     },
     "output_type": "display_data"
    }
   ],
   "source": [
    "# rescale the list and plot it\n",
    "\n",
    "y_time_rw_rescaled = [i * rescale for i in y_time_rw]\n",
    "y_time_rw_rescaled\n",
    "fig, ax = plt.subplots(1, 1)\n",
    "ax.hist(y_time_rw_rescaled, density=True, histtype='stepfilled', alpha=0.8)\n",
    "plt.title(\"Simulated with rescaled np.beta distribution\")\n",
    "plt.show()\n",
    "\n"
   ]
  },
  {
   "cell_type": "code",
   "execution_count": 59,
   "metadata": {},
   "outputs": [
    {
     "name": "stdout",
     "output_type": "stream",
     "text": [
      "The histogram and density plot of the simulated time data can be found below\n"
     ]
    },
    {
     "data": {
      "image/png": "[encoded data removed]",
      "text/plain": [
       "<Figure size 432x288 with 1 Axes>"
      ]
     },
     "metadata": {
      "needs_background": "light"
     },
     "output_type": "display_data"
    },
    {
     "name": "stdout",
     "output_type": "stream",
     "text": [
      "The first few values of the simulated time array are  [13.367732119927052, 347.1316811063048, 459.2261194930069, 179.9643926707997, 287.6135152075918, 32.621789977484234, 233.79559637116506]\n"
     ]
    },
    {
     "data": {
      "text/plain": [
       "['1-29 months', '30-60 months', '60-131 months', 'Over 132 months']"
      ]
     },
     "execution_count": 59,
     "metadata": {},
     "output_type": "execute_result"
    }
   ],
   "source": [
    "print(\"The histogram and density plot of the simulated time data can be found below\")\n",
    "sns.distplot(y_time_rw_rescaled)\n",
    "plt.title(\"kde and histogram of simulated Time distribution\")\n",
    "plt.show()\n",
    "print(\"The first few values of the simulated time array are \" , y_time_rw_rescaled[:7])\n",
    "time"
   ]
  },
  {
   "cell_type": "markdown",
   "metadata": {},
   "source": [
    "Now lets populate the dataframe with values in one of the 4 bands, 1-29 months, 30-60 months, 60-131 months and over 132 months (but under 480 months)."
   ]
  },
  {
   "cell_type": "code",
   "execution_count": 60,
   "metadata": {},
   "outputs": [
    {
     "name": "stdout",
     "output_type": "stream",
     "text": [
      "Change the y_time_rw duration array to a dataframe and add it to the simulated model.\n"
     ]
    },
    {
     "data": {
      "text/html": [
       "<div>\n",
       "<style scoped>\n",
       "    .dataframe tbody tr th:only-of-type {\n",
       "        vertical-align: middle;\n",
       "    }\n",
       "\n",
       "    .dataframe tbody tr th {\n",
       "        vertical-align: top;\n",
       "    }\n",
       "\n",
       "    .dataframe thead th {\n",
       "        text-align: right;\n",
       "    }\n",
       "</style>\n",
       "<table border=\"1\" class=\"dataframe\">\n",
       "  <thead>\n",
       "    <tr style=\"text-align: right;\">\n",
       "      <th></th>\n",
       "      <th>Distance</th>\n",
       "      <th>Duration</th>\n",
       "      <th>Time</th>\n",
       "      <th>Impedance</th>\n",
       "      <th>Stress</th>\n",
       "      <th>Distance-ch</th>\n",
       "      <th>Duration-ch</th>\n",
       "      <th>Time-ch</th>\n",
       "    </tr>\n",
       "  </thead>\n",
       "  <tbody>\n",
       "    <tr>\n",
       "      <th>0</th>\n",
       "      <td>16-30 miles</td>\n",
       "      <td>Over 60 minutes</td>\n",
       "      <td>1-29 months</td>\n",
       "      <td>NaN</td>\n",
       "      <td>NaN</td>\n",
       "      <td>0-5 miles</td>\n",
       "      <td>Over 60 minutes</td>\n",
       "      <td>Over 132 months</td>\n",
       "    </tr>\n",
       "    <tr>\n",
       "      <th>1</th>\n",
       "      <td>0-5 miles</td>\n",
       "      <td>30-60 minutes</td>\n",
       "      <td>Over 132 months</td>\n",
       "      <td>NaN</td>\n",
       "      <td>NaN</td>\n",
       "      <td>6-15 miles</td>\n",
       "      <td>Over 60 minutes</td>\n",
       "      <td>60-131 months</td>\n",
       "    </tr>\n",
       "    <tr>\n",
       "      <th>2</th>\n",
       "      <td>6-15 miles</td>\n",
       "      <td>30-60 minutes</td>\n",
       "      <td>Over 132 months</td>\n",
       "      <td>NaN</td>\n",
       "      <td>NaN</td>\n",
       "      <td>6-15 miles</td>\n",
       "      <td>0-30 minutes</td>\n",
       "      <td>30-60 months</td>\n",
       "    </tr>\n",
       "    <tr>\n",
       "      <th>3</th>\n",
       "      <td>6-15 miles</td>\n",
       "      <td>0-30 minutes</td>\n",
       "      <td>Over 132 months</td>\n",
       "      <td>NaN</td>\n",
       "      <td>NaN</td>\n",
       "      <td>6-15 miles</td>\n",
       "      <td>0-30 minutes</td>\n",
       "      <td>60-131 months</td>\n",
       "    </tr>\n",
       "    <tr>\n",
       "      <th>4</th>\n",
       "      <td>6-15 miles</td>\n",
       "      <td>Over 60 minutes</td>\n",
       "      <td>Over 132 months</td>\n",
       "      <td>NaN</td>\n",
       "      <td>NaN</td>\n",
       "      <td>6-15 miles</td>\n",
       "      <td>0-30 minutes</td>\n",
       "      <td>Over 132 months</td>\n",
       "    </tr>\n",
       "  </tbody>\n",
       "</table>\n",
       "</div>"
      ],
      "text/plain": [
       "      Distance         Duration             Time Impedance Stress Distance-ch  \\\n",
       "0  16-30 miles  Over 60 minutes      1-29 months       NaN    NaN   0-5 miles   \n",
       "1    0-5 miles    30-60 minutes  Over 132 months       NaN    NaN  6-15 miles   \n",
       "2   6-15 miles    30-60 minutes  Over 132 months       NaN    NaN  6-15 miles   \n",
       "3   6-15 miles     0-30 minutes  Over 132 months       NaN    NaN  6-15 miles   \n",
       "4   6-15 miles  Over 60 minutes  Over 132 months       NaN    NaN  6-15 miles   \n",
       "\n",
       "       Duration-ch          Time-ch  \n",
       "0  Over 60 minutes  Over 132 months  \n",
       "1  Over 60 minutes    60-131 months  \n",
       "2     0-30 minutes     30-60 months  \n",
       "3     0-30 minutes    60-131 months  \n",
       "4     0-30 minutes  Over 132 months  "
      ]
     },
     "execution_count": 60,
     "metadata": {},
     "output_type": "execute_result"
    }
   ],
   "source": [
    "# initialize the temp data fields\n",
    "\n",
    "df['rwTime1'] = \"\"\n",
    "df['rwTime2'] = \"\"\n",
    "df['rwTime3'] = \"\"\n",
    "df['rwTime4'] = \"\"\n",
    "print(\"Change the y_time_rw duration array to a dataframe and add it to the simulated model.\")\n",
    "# put the scaled np.random.beta array into a series.\n",
    "df['Time'] = pd.Series(y_time_rw_rescaled)\n",
    "# set up the temp bands\n",
    "df.loc[df['Time'] < 30, 'rwTime1'] = '1-29 months'\n",
    "df.loc[(df['Time'] >=30) & (df['Time'] < 60), 'rwTime2'] = '30-60 months' \n",
    "df.loc[(df['Time'] >=60) & (df['Time'] < 131), 'rwTime2'] = '60-131 months'\n",
    "df.loc[df['Time'] >=131, 'rwTime3'] = 'Over 132 months'\n",
    "# add the temp bands to the Time field\n",
    "df['Time'] = df['rwTime1']+df['rwTime2']+df['rwTime3']+df['rwTime4']\n",
    "# drop the temp bands\n",
    "df.drop(['rwTime1', 'rwTime2', 'rwTime3', 'rwTime4'], axis=1, inplace = True)\n",
    "df.head()\n",
    " \n"
   ]
  },
  {
   "cell_type": "markdown",
   "metadata": {},
   "source": [
    "The above table has changee the y_time time array into a dataframe and added it to the simulated model. "
   ]
  },
  {
   "cell_type": "code",
   "execution_count": 61,
   "metadata": {},
   "outputs": [
    {
     "data": {
      "text/html": [
       "<div>\n",
       "<style scoped>\n",
       "    .dataframe tbody tr th:only-of-type {\n",
       "        vertical-align: middle;\n",
       "    }\n",
       "\n",
       "    .dataframe tbody tr th {\n",
       "        vertical-align: top;\n",
       "    }\n",
       "\n",
       "    .dataframe thead th {\n",
       "        text-align: right;\n",
       "    }\n",
       "</style>\n",
       "<table border=\"1\" class=\"dataframe\">\n",
       "  <thead>\n",
       "    <tr style=\"text-align: right;\">\n",
       "      <th></th>\n",
       "      <th>Distance</th>\n",
       "      <th>Duration</th>\n",
       "      <th>Time</th>\n",
       "      <th>Impedance</th>\n",
       "      <th>Stress</th>\n",
       "      <th>Distance-ch</th>\n",
       "      <th>Duration-ch</th>\n",
       "      <th>Time-ch</th>\n",
       "    </tr>\n",
       "  </thead>\n",
       "  <tbody>\n",
       "    <tr>\n",
       "      <th>365</th>\n",
       "      <td>0-5 miles</td>\n",
       "      <td>30-60 minutes</td>\n",
       "      <td>60-131 months</td>\n",
       "      <td>NaN</td>\n",
       "      <td>NaN</td>\n",
       "      <td>16-30 miles</td>\n",
       "      <td>0-30 minutes</td>\n",
       "      <td>60-131 months</td>\n",
       "    </tr>\n",
       "    <tr>\n",
       "      <th>366</th>\n",
       "      <td>Over 30 miles</td>\n",
       "      <td>30-60 minutes</td>\n",
       "      <td>Over 132 months</td>\n",
       "      <td>NaN</td>\n",
       "      <td>NaN</td>\n",
       "      <td>Over 30 miles</td>\n",
       "      <td>0-30 minutes</td>\n",
       "      <td>30-60 months</td>\n",
       "    </tr>\n",
       "    <tr>\n",
       "      <th>367</th>\n",
       "      <td>16-30 miles</td>\n",
       "      <td>Over 60 minutes</td>\n",
       "      <td>Over 132 months</td>\n",
       "      <td>NaN</td>\n",
       "      <td>NaN</td>\n",
       "      <td>6-15 miles</td>\n",
       "      <td>0-30 minutes</td>\n",
       "      <td>30-60 months</td>\n",
       "    </tr>\n",
       "    <tr>\n",
       "      <th>368</th>\n",
       "      <td>6-15 miles</td>\n",
       "      <td>Over 60 minutes</td>\n",
       "      <td>Over 132 months</td>\n",
       "      <td>NaN</td>\n",
       "      <td>NaN</td>\n",
       "      <td>6-15 miles</td>\n",
       "      <td>Over 60 minutes</td>\n",
       "      <td>1-29 months</td>\n",
       "    </tr>\n",
       "    <tr>\n",
       "      <th>369</th>\n",
       "      <td>16-30 miles</td>\n",
       "      <td>0-30 minutes</td>\n",
       "      <td>Over 132 months</td>\n",
       "      <td>NaN</td>\n",
       "      <td>NaN</td>\n",
       "      <td>Over 30 miles</td>\n",
       "      <td>Over 60 minutes</td>\n",
       "      <td>1-29 months</td>\n",
       "    </tr>\n",
       "  </tbody>\n",
       "</table>\n",
       "</div>"
      ],
      "text/plain": [
       "          Distance         Duration             Time Impedance Stress  \\\n",
       "365      0-5 miles    30-60 minutes    60-131 months       NaN    NaN   \n",
       "366  Over 30 miles    30-60 minutes  Over 132 months       NaN    NaN   \n",
       "367    16-30 miles  Over 60 minutes  Over 132 months       NaN    NaN   \n",
       "368     6-15 miles  Over 60 minutes  Over 132 months       NaN    NaN   \n",
       "369    16-30 miles     0-30 minutes  Over 132 months       NaN    NaN   \n",
       "\n",
       "       Distance-ch      Duration-ch        Time-ch  \n",
       "365    16-30 miles     0-30 minutes  60-131 months  \n",
       "366  Over 30 miles     0-30 minutes   30-60 months  \n",
       "367     6-15 miles     0-30 minutes   30-60 months  \n",
       "368     6-15 miles  Over 60 minutes    1-29 months  \n",
       "369  Over 30 miles  Over 60 minutes    1-29 months  "
      ]
     },
     "execution_count": 61,
     "metadata": {},
     "output_type": "execute_result"
    }
   ],
   "source": [
    "# check the end of the dataframe\n",
    "df.tail()"
   ]
  },
  {
   "cell_type": "markdown",
   "metadata": {},
   "source": [
    "Lets plot the histogram of the time spent as a commuter bands"
   ]
  },
  {
   "cell_type": "code",
   "execution_count": 62,
   "metadata": {},
   "outputs": [
    {
     "data": {
      "text/plain": [
       "Counter({'1-29 months': 102,\n",
       "         'Over 132 months': 209,\n",
       "         '30-60 months': 29,\n",
       "         '60-131 months': 30})"
      ]
     },
     "execution_count": 62,
     "metadata": {},
     "output_type": "execute_result"
    }
   ],
   "source": [
    "# calculate the number of responses to each duration band\n",
    "time_counts = Counter(df['Time'])\n",
    "# check the Time counters look okay\n",
    "time_counts"
   ]
  },
  {
   "cell_type": "markdown",
   "metadata": {},
   "source": [
    "I'm not sure why more values are generated in the last band compared to the first band, it may be due to the band sizes not being equal with 1-29 months having 28 months and the last band >132 months having 348 months. "
   ]
  },
  {
   "cell_type": "code",
   "execution_count": 63,
   "metadata": {},
   "outputs": [
    {
     "data": {
      "text/html": [
       "<div>\n",
       "<style scoped>\n",
       "    .dataframe tbody tr th:only-of-type {\n",
       "        vertical-align: middle;\n",
       "    }\n",
       "\n",
       "    .dataframe tbody tr th {\n",
       "        vertical-align: top;\n",
       "    }\n",
       "\n",
       "    .dataframe thead th {\n",
       "        text-align: right;\n",
       "    }\n",
       "</style>\n",
       "<table border=\"1\" class=\"dataframe\">\n",
       "  <thead>\n",
       "    <tr style=\"text-align: right;\">\n",
       "      <th></th>\n",
       "      <th>0</th>\n",
       "    </tr>\n",
       "  </thead>\n",
       "  <tbody>\n",
       "    <tr>\n",
       "      <th>1-29 months</th>\n",
       "      <td>102</td>\n",
       "    </tr>\n",
       "    <tr>\n",
       "      <th>Over 132 months</th>\n",
       "      <td>209</td>\n",
       "    </tr>\n",
       "    <tr>\n",
       "      <th>30-60 months</th>\n",
       "      <td>29</td>\n",
       "    </tr>\n",
       "    <tr>\n",
       "      <th>60-131 months</th>\n",
       "      <td>30</td>\n",
       "    </tr>\n",
       "  </tbody>\n",
       "</table>\n",
       "</div>"
      ],
      "text/plain": [
       "                   0\n",
       "1-29 months      102\n",
       "Over 132 months  209\n",
       "30-60 months      29\n",
       "60-131 months     30"
      ]
     },
     "execution_count": 63,
     "metadata": {},
     "output_type": "execute_result"
    }
   ],
   "source": [
    "# create an indexed dataframe with the number of counts\n",
    "df_time = pd.DataFrame.from_dict(time_counts, orient='index')\n",
    "# check the dataframe of the time counts looks okay\n",
    "df_time\n",
    "# bit high with the over 132 months - maybe check the rescale factor"
   ]
  },
  {
   "cell_type": "code",
   "execution_count": 64,
   "metadata": {},
   "outputs": [
    {
     "data": {
      "image/png": "[encoded data removed]",
      "text/plain": [
       "<Figure size 432x288 with 1 Axes>"
      ]
     },
     "metadata": {
      "needs_background": "light"
     },
     "output_type": "display_data"
    }
   ],
   "source": [
    "#plot the bar chart of the duration counts\n",
    "df_time.plot(kind='bar', title='Time', legend = False)\n",
    "plt.show()"
   ]
  },
  {
   "cell_type": "markdown",
   "metadata": {},
   "source": [
    "This is the simulated distribution of the time variable with a Beta distribution. Lets see how it compares to Cassidy's data. "
   ]
  },
  {
   "cell_type": "code",
   "execution_count": 65,
   "metadata": {},
   "outputs": [
    {
     "data": {
      "text/html": [
       "<div>\n",
       "<style scoped>\n",
       "    .dataframe tbody tr th:only-of-type {\n",
       "        vertical-align: middle;\n",
       "    }\n",
       "\n",
       "    .dataframe tbody tr th {\n",
       "        vertical-align: top;\n",
       "    }\n",
       "\n",
       "    .dataframe thead th {\n",
       "        text-align: right;\n",
       "    }\n",
       "</style>\n",
       "<table border=\"1\" class=\"dataframe\">\n",
       "  <thead>\n",
       "    <tr style=\"text-align: right;\">\n",
       "      <th></th>\n",
       "      <th>0</th>\n",
       "    </tr>\n",
       "  </thead>\n",
       "  <tbody>\n",
       "    <tr>\n",
       "      <th>1-29 months</th>\n",
       "      <td>73</td>\n",
       "    </tr>\n",
       "    <tr>\n",
       "      <th>30-60 months</th>\n",
       "      <td>99</td>\n",
       "    </tr>\n",
       "    <tr>\n",
       "      <th>60-131 months</th>\n",
       "      <td>80</td>\n",
       "    </tr>\n",
       "    <tr>\n",
       "      <th>Over 132 months</th>\n",
       "      <td>91</td>\n",
       "    </tr>\n",
       "  </tbody>\n",
       "</table>\n",
       "</div>"
      ],
      "text/plain": [
       "                  0\n",
       "1-29 months      73\n",
       "30-60 months     99\n",
       "60-131 months    80\n",
       "Over 132 months  91"
      ]
     },
     "execution_count": 65,
     "metadata": {},
     "output_type": "execute_result"
    }
   ],
   "source": [
    "# create Cassidy's Time counts as a dataframe\n",
    "cass_time = pd.DataFrame(np.array([[73, 99, 80, 91]]), columns=['1-29 months', '30-60 months', '60-131 months', 'Over 132 months'])\n",
    "cass_time = cass_time.transpose()\n",
    "# check shape\n",
    "cass_time.head()\n"
   ]
  },
  {
   "cell_type": "code",
   "execution_count": 66,
   "metadata": {},
   "outputs": [
    {
     "data": {
      "image/png": "[encoded data removed]",
      "text/plain": [
       "<Figure size 432x288 with 1 Axes>"
      ]
     },
     "metadata": {
      "needs_background": "light"
     },
     "output_type": "display_data"
    },
    {
     "data": {
      "image/png": "[encoded data removed]",
      "text/plain": [
       "<Figure size 432x288 with 1 Axes>"
      ]
     },
     "metadata": {
      "needs_background": "light"
     },
     "output_type": "display_data"
    },
    {
     "data": {
      "image/png": "[encoded data removed]",
      "text/plain": [
       "<Figure size 432x288 with 1 Axes>"
      ]
     },
     "metadata": {
      "needs_background": "light"
     },
     "output_type": "display_data"
    }
   ],
   "source": [
    "# set the order in which the plot displays the various bars for the original data\n",
    "cass_time.reindex(['1-29 months', '30-60 months', '60-131 months', 'Over 132 months']).plot(kind='bar', title='Original Time')\n",
    "plt.legend([\"Original\"])\n",
    "# set the order in which the plot displays the various bars for the simulated data\n",
    "df_time.reindex(['1-29 months', '30-60 months', '60-131 months', 'Over 132 months']).plot(kind='bar', title='Simulated Time with np.random.beta')\n",
    "plt.legend([\"Simulated\"]);\n",
    "df_time_ch.reindex(['1-29 months', '30-60 months', '60-131 months', 'Over 132 months']).plot(kind='bar', title='Simulated Duration  with np.random.choice')\n",
    "plt.legend([\"Simulated\"])\n",
    "plt.show()\n",
    "# to do figure out how to display both histograms/bars side by side on the same plot\n"
   ]
  },
  {
   "cell_type": "markdown",
   "metadata": {},
   "source": [
    "This shows that the most common timeframe of being a commuter in the study was 30-60 months and the least common one was 1-29 months. The simulated data is broadly similar to Cassidy's study in this respect with np.random.choice model but does not resemble Cassidy's study with the np.random.beta model. Possibly the distribution chosen is not the correct one. It may also be that with such a large population sample in the dataframe used for the Beta distribution, variations that are not present in a sample size of 370, emerge. "
   ]
  },
  {
   "cell_type": "markdown",
   "metadata": {},
   "source": [
    "Cassidy's study shows that the most popular time lengths of commuting was 30-60 months (2.5 - 5 years), followed closely by 60-131 years (5 - approx 11 years) then 1-29 months ( up to 2.5 years) closely followed by over 132 months (11 years +)"
   ]
  },
  {
   "cell_type": "markdown",
   "metadata": {},
   "source": [
    "### Impedance\n",
    "\n",
    "Lets add the impedance data. In Cassidy's study the impedance (or speed traveled on the commute) was divided into three bands. All participants responded to this question on the survey. The majority of them (207) reported speeds of 17 mph or less as a hindering factor; 97 respondents reported speeds between 13.3 and 30 mph and 66 reported speeds over 30 mph. Again this was simulated with np.random.choice at first. \n",
    "\n",
    "#### Why?\n",
    "\n",
    "NumPy Random's choice was used to simulate the time spent commuting. There are three bands in this category, 17 mph or less, 17.3 - 30 mph and Over 30 mph. Again the data is ordinal, as there is a progression from 17 mph to over 30 mph. However as these choices were items on a survey NumPy Random's 'choice' function would be suitable as a model. There was a total of 370 responses to this section of the survey so this was taken as the total when calculating the probability weightings for each of the time bands (which in this case was the number of people surveyed). An 'Impedance' array was created containing the three impedance bands. There were 207 responses in the first band so this was weighted as 207/370, 97 for the second band giving a probability of 97/370; 66 responses for the third band giving a weighting of 66/370. The model of the Impedance variable can be found below."
   ]
  },
  {
   "cell_type": "code",
   "execution_count": 67,
   "metadata": {},
   "outputs": [
    {
     "data": {
      "text/plain": [
       "['17 mph or less', '17.3-30 mph', 'Over 30 mph']"
      ]
     },
     "execution_count": 67,
     "metadata": {},
     "output_type": "execute_result"
    }
   ],
   "source": [
    "# create the impedance bands\n",
    "impedance = ['17 mph or less', '17.3-30 mph', 'Over 30 mph']\n",
    "# check the list\n",
    "impedance"
   ]
  },
  {
   "cell_type": "code",
   "execution_count": 68,
   "metadata": {},
   "outputs": [
    {
     "name": "stdout",
     "output_type": "stream",
     "text": [
      "The number of respondents to the Impedance question is   370\n"
     ]
    }
   ],
   "source": [
    "# calculate the number of responses to the impedance question\n",
    "tot_imp = 207+97+66\n",
    "print(\"The number of respondents to the Impedance question is  \", tot_imp)"
   ]
  },
  {
   "cell_type": "code",
   "execution_count": 69,
   "metadata": {},
   "outputs": [
    {
     "data": {
      "text/plain": [
       "array(['Over 30 mph', 'Over 30 mph', 'Over 30 mph', '17 mph or less',\n",
       "       '17 mph or less', '17 mph or less', '17.3-30 mph'], dtype='<U14')"
      ]
     },
     "execution_count": 69,
     "metadata": {},
     "output_type": "execute_result"
    }
   ],
   "source": [
    "# generate responses to the impedence question\n",
    "y_imp = np.random.choice(impedance, size, p=[207/tot_imp, 97/tot_imp, 66/tot_imp])\n",
    "# check the first few values on the array\n",
    "y_imp[:7]"
   ]
  },
  {
   "cell_type": "markdown",
   "metadata": {},
   "source": [
    "Change the y_imp impedance array to a dataframe and add it to the simulated model. "
   ]
  },
  {
   "cell_type": "code",
   "execution_count": 70,
   "metadata": {
    "scrolled": true
   },
   "outputs": [
    {
     "data": {
      "text/html": [
       "<div>\n",
       "<style scoped>\n",
       "    .dataframe tbody tr th:only-of-type {\n",
       "        vertical-align: middle;\n",
       "    }\n",
       "\n",
       "    .dataframe tbody tr th {\n",
       "        vertical-align: top;\n",
       "    }\n",
       "\n",
       "    .dataframe thead th {\n",
       "        text-align: right;\n",
       "    }\n",
       "</style>\n",
       "<table border=\"1\" class=\"dataframe\">\n",
       "  <thead>\n",
       "    <tr style=\"text-align: right;\">\n",
       "      <th></th>\n",
       "      <th>Distance</th>\n",
       "      <th>Duration</th>\n",
       "      <th>Time</th>\n",
       "      <th>Impedance</th>\n",
       "      <th>Stress</th>\n",
       "      <th>Distance-ch</th>\n",
       "      <th>Duration-ch</th>\n",
       "      <th>Time-ch</th>\n",
       "      <th>Impedance-ch</th>\n",
       "    </tr>\n",
       "  </thead>\n",
       "  <tbody>\n",
       "    <tr>\n",
       "      <th>0</th>\n",
       "      <td>16-30 miles</td>\n",
       "      <td>Over 60 minutes</td>\n",
       "      <td>1-29 months</td>\n",
       "      <td>NaN</td>\n",
       "      <td>NaN</td>\n",
       "      <td>0-5 miles</td>\n",
       "      <td>Over 60 minutes</td>\n",
       "      <td>Over 132 months</td>\n",
       "      <td>Over 30 mph</td>\n",
       "    </tr>\n",
       "    <tr>\n",
       "      <th>1</th>\n",
       "      <td>0-5 miles</td>\n",
       "      <td>30-60 minutes</td>\n",
       "      <td>Over 132 months</td>\n",
       "      <td>NaN</td>\n",
       "      <td>NaN</td>\n",
       "      <td>6-15 miles</td>\n",
       "      <td>Over 60 minutes</td>\n",
       "      <td>60-131 months</td>\n",
       "      <td>Over 30 mph</td>\n",
       "    </tr>\n",
       "    <tr>\n",
       "      <th>2</th>\n",
       "      <td>6-15 miles</td>\n",
       "      <td>30-60 minutes</td>\n",
       "      <td>Over 132 months</td>\n",
       "      <td>NaN</td>\n",
       "      <td>NaN</td>\n",
       "      <td>6-15 miles</td>\n",
       "      <td>0-30 minutes</td>\n",
       "      <td>30-60 months</td>\n",
       "      <td>Over 30 mph</td>\n",
       "    </tr>\n",
       "    <tr>\n",
       "      <th>3</th>\n",
       "      <td>6-15 miles</td>\n",
       "      <td>0-30 minutes</td>\n",
       "      <td>Over 132 months</td>\n",
       "      <td>NaN</td>\n",
       "      <td>NaN</td>\n",
       "      <td>6-15 miles</td>\n",
       "      <td>0-30 minutes</td>\n",
       "      <td>60-131 months</td>\n",
       "      <td>17 mph or less</td>\n",
       "    </tr>\n",
       "    <tr>\n",
       "      <th>4</th>\n",
       "      <td>6-15 miles</td>\n",
       "      <td>Over 60 minutes</td>\n",
       "      <td>Over 132 months</td>\n",
       "      <td>NaN</td>\n",
       "      <td>NaN</td>\n",
       "      <td>6-15 miles</td>\n",
       "      <td>0-30 minutes</td>\n",
       "      <td>Over 132 months</td>\n",
       "      <td>17 mph or less</td>\n",
       "    </tr>\n",
       "  </tbody>\n",
       "</table>\n",
       "</div>"
      ],
      "text/plain": [
       "      Distance         Duration             Time Impedance Stress Distance-ch  \\\n",
       "0  16-30 miles  Over 60 minutes      1-29 months       NaN    NaN   0-5 miles   \n",
       "1    0-5 miles    30-60 minutes  Over 132 months       NaN    NaN  6-15 miles   \n",
       "2   6-15 miles    30-60 minutes  Over 132 months       NaN    NaN  6-15 miles   \n",
       "3   6-15 miles     0-30 minutes  Over 132 months       NaN    NaN  6-15 miles   \n",
       "4   6-15 miles  Over 60 minutes  Over 132 months       NaN    NaN  6-15 miles   \n",
       "\n",
       "       Duration-ch          Time-ch    Impedance-ch  \n",
       "0  Over 60 minutes  Over 132 months     Over 30 mph  \n",
       "1  Over 60 minutes    60-131 months     Over 30 mph  \n",
       "2     0-30 minutes     30-60 months     Over 30 mph  \n",
       "3     0-30 minutes    60-131 months  17 mph or less  \n",
       "4     0-30 minutes  Over 132 months  17 mph or less  "
      ]
     },
     "execution_count": 70,
     "metadata": {},
     "output_type": "execute_result"
    }
   ],
   "source": [
    "df['Impedance-ch'] = pd.Series(y_imp)\n",
    "df.head()\n"
   ]
  },
  {
   "cell_type": "code",
   "execution_count": 71,
   "metadata": {},
   "outputs": [
    {
     "data": {
      "text/plain": [
       "Counter({'Over 30 mph': 62, '17 mph or less': 212, '17.3-30 mph': 96})"
      ]
     },
     "execution_count": 71,
     "metadata": {},
     "output_type": "execute_result"
    }
   ],
   "source": [
    "# calculate the number of responses to each time band\n",
    "imp_counts_ch = Counter(df['Impedance-ch'])\n",
    "# check to see if counts look reasonable\n",
    "imp_counts_ch\n"
   ]
  },
  {
   "cell_type": "code",
   "execution_count": 72,
   "metadata": {},
   "outputs": [
    {
     "data": {
      "text/plain": [
       "370"
      ]
     },
     "execution_count": 72,
     "metadata": {},
     "output_type": "execute_result"
    }
   ],
   "source": [
    "# sum counts\n",
    "# list the values\n",
    "imp_counts_ch.values()\n",
    "# sum the values\n",
    "sum(imp_counts_ch.values())"
   ]
  },
  {
   "cell_type": "code",
   "execution_count": 73,
   "metadata": {},
   "outputs": [
    {
     "data": {
      "image/png": "[encoded data removed]",
      "text/plain": [
       "<Figure size 432x288 with 1 Axes>"
      ]
     },
     "metadata": {
      "needs_background": "light"
     },
     "output_type": "display_data"
    }
   ],
   "source": [
    "# create an indexed dataframe with the number of counts\n",
    "# code adapted from https://pandas.pydata.org/pandas-docs/stable/generated/pandas.DataFrame.from_dict.html\n",
    "#(Pandas community, 2018)\n",
    "df_imp_ch = pd.DataFrame.from_dict(imp_counts_ch, orient='index')\n",
    "                      \n",
    "#plot the bar chart of the time counts\n",
    "df_imp_ch.plot(kind='bar', title='Impedance with np.random.choice', legend = False)\n",
    "plt.show()"
   ]
  },
  {
   "cell_type": "markdown",
   "metadata": {},
   "source": [
    "#### Distribution\n",
    "\n",
    "#### Impedance of commute distribution\n",
    "\n",
    "There are many ways to model impedance or traffic speed. It has been modeled by normal, gamma, lognormal, burr and weibull distributions to name a few.  It depends on the vehicle, road, urban/rural environment and other factors (Maurya, 2015). For free flowing traffic a normal distribution has be assumed (Salter, 1989; Geistefeldt, 2015)."
   ]
  },
  {
   "cell_type": "markdown",
   "metadata": {},
   "source": [
    "For this reason it was decided to use Cassidy's own data in calculating parameters for the chosen distribution -  normal. \n",
    "\n",
    "![speed limits](https://github.com/Osheah/images/raw/master/commute-stress/img/speed.jpg)\n",
    "\n",
    "In Cassidy's data, the number of respondents reported speeds at or lower than 17 mph as the greatest impedance. The figures were 207 participants at the 17 mph or less, 97 participants reporting speeds of 17.3-30 mph (assume 17.3 means greater than or equal to 17) and 66 respondents reporting speeds of over 66 mph. The mean speed and its standard deviation are calculated below. A top speed of 60 mph i.e 96.5 kmph is assumed and a minimum speed of 0. "
   ]
  },
  {
   "cell_type": "code",
   "execution_count": 74,
   "metadata": {},
   "outputs": [
    {
     "name": "stdout",
     "output_type": "stream",
     "text": [
      "calculate the mean speed using midpoint of intervals and assuming the maximum and minimum speeds are 0 and 40mph speed\n",
      "given the assumptions, the average speed is  18.94 mph \n",
      " with a standard deviation of  13.7 mph\n"
     ]
    }
   ],
   "source": [
    "# check\n",
    "print(\"calculate the mean speed using midpoint of intervals and assuming the maximum and minimum speeds are 0 and 40mph speed\")\n",
    "# reference https://www.bbc.com/news/uk-scotland-highlands-islands-29792420\n",
    "\n",
    "imp_mp1=0+(17-0)/2\n",
    "imp_mp2 =17+(30-17)/2\n",
    "imp_mp3 = 30+(60-30)/2\n",
    "imp_denom = 207+97+66\n",
    "imp_mean = (imp_mp1*207 + imp_mp2*97+ imp_mp3*66)/imp_denom\n",
    "imp_std = ((((imp_mp1-imp_mean)**2)*207+ ((imp_mp2 - imp_mean)**2)*97+ ((imp_mp3-imp_mean)**2)*66)/imp_denom)**0.5\n",
    "print(\"given the assumptions, the average speed is \", f\"{imp_mean:.4}\", \"mph\",  \"\\n with a standard deviation of \", f\"{imp_std:.3}\", \"mph\")"
   ]
  },
  {
   "cell_type": "markdown",
   "metadata": {},
   "source": [
    "Next generate the random values from the normal distribution using NumPy Random's normal function and the specified mean and standard deviation. \n"
   ]
  },
  {
   "cell_type": "code",
   "execution_count": 75,
   "metadata": {},
   "outputs": [
    {
     "data": {
      "image/png": "[encoded data removed]",
      "text/plain": [
       "<Figure size 432x288 with 1 Axes>"
      ]
     },
     "metadata": {
      "needs_background": "light"
     },
     "output_type": "display_data"
    }
   ],
   "source": [
    "y_imp_rw = np.random.normal(imp_mean, imp_std, size)\n",
    "sns.distplot(y_imp_rw)\n",
    "plt.title(\"Simulated Impedance Histogram and KDE plot\")\n",
    "plt.show()\n",
    "\n"
   ]
  },
  {
   "cell_type": "code",
   "execution_count": 76,
   "metadata": {},
   "outputs": [
    {
     "name": "stdout",
     "output_type": "stream",
     "text": [
      "Change the y_imp_rw duration array to a dataframe and add it to the simulated model.\n"
     ]
    },
    {
     "data": {
      "text/html": [
       "<div>\n",
       "<style scoped>\n",
       "    .dataframe tbody tr th:only-of-type {\n",
       "        vertical-align: middle;\n",
       "    }\n",
       "\n",
       "    .dataframe tbody tr th {\n",
       "        vertical-align: top;\n",
       "    }\n",
       "\n",
       "    .dataframe thead th {\n",
       "        text-align: right;\n",
       "    }\n",
       "</style>\n",
       "<table border=\"1\" class=\"dataframe\">\n",
       "  <thead>\n",
       "    <tr style=\"text-align: right;\">\n",
       "      <th></th>\n",
       "      <th>Distance</th>\n",
       "      <th>Duration</th>\n",
       "      <th>Time</th>\n",
       "      <th>Impedance</th>\n",
       "      <th>Stress</th>\n",
       "      <th>Distance-ch</th>\n",
       "      <th>Duration-ch</th>\n",
       "      <th>Time-ch</th>\n",
       "      <th>Impedance-ch</th>\n",
       "    </tr>\n",
       "  </thead>\n",
       "  <tbody>\n",
       "    <tr>\n",
       "      <th>0</th>\n",
       "      <td>16-30 miles</td>\n",
       "      <td>Over 60 minutes</td>\n",
       "      <td>1-29 months</td>\n",
       "      <td>17.3-30 mph</td>\n",
       "      <td>NaN</td>\n",
       "      <td>0-5 miles</td>\n",
       "      <td>Over 60 minutes</td>\n",
       "      <td>Over 132 months</td>\n",
       "      <td>Over 30 mph</td>\n",
       "    </tr>\n",
       "    <tr>\n",
       "      <th>1</th>\n",
       "      <td>0-5 miles</td>\n",
       "      <td>30-60 minutes</td>\n",
       "      <td>Over 132 months</td>\n",
       "      <td>Over 30 mph</td>\n",
       "      <td>NaN</td>\n",
       "      <td>6-15 miles</td>\n",
       "      <td>Over 60 minutes</td>\n",
       "      <td>60-131 months</td>\n",
       "      <td>Over 30 mph</td>\n",
       "    </tr>\n",
       "    <tr>\n",
       "      <th>2</th>\n",
       "      <td>6-15 miles</td>\n",
       "      <td>30-60 minutes</td>\n",
       "      <td>Over 132 months</td>\n",
       "      <td>Over 30 mph</td>\n",
       "      <td>NaN</td>\n",
       "      <td>6-15 miles</td>\n",
       "      <td>0-30 minutes</td>\n",
       "      <td>30-60 months</td>\n",
       "      <td>Over 30 mph</td>\n",
       "    </tr>\n",
       "    <tr>\n",
       "      <th>3</th>\n",
       "      <td>6-15 miles</td>\n",
       "      <td>0-30 minutes</td>\n",
       "      <td>Over 132 months</td>\n",
       "      <td>17.3-30 mph</td>\n",
       "      <td>NaN</td>\n",
       "      <td>6-15 miles</td>\n",
       "      <td>0-30 minutes</td>\n",
       "      <td>60-131 months</td>\n",
       "      <td>17 mph or less</td>\n",
       "    </tr>\n",
       "    <tr>\n",
       "      <th>4</th>\n",
       "      <td>6-15 miles</td>\n",
       "      <td>Over 60 minutes</td>\n",
       "      <td>Over 132 months</td>\n",
       "      <td>17 mph or less</td>\n",
       "      <td>NaN</td>\n",
       "      <td>6-15 miles</td>\n",
       "      <td>0-30 minutes</td>\n",
       "      <td>Over 132 months</td>\n",
       "      <td>17 mph or less</td>\n",
       "    </tr>\n",
       "  </tbody>\n",
       "</table>\n",
       "</div>"
      ],
      "text/plain": [
       "      Distance         Duration             Time       Impedance Stress  \\\n",
       "0  16-30 miles  Over 60 minutes      1-29 months     17.3-30 mph    NaN   \n",
       "1    0-5 miles    30-60 minutes  Over 132 months     Over 30 mph    NaN   \n",
       "2   6-15 miles    30-60 minutes  Over 132 months     Over 30 mph    NaN   \n",
       "3   6-15 miles     0-30 minutes  Over 132 months     17.3-30 mph    NaN   \n",
       "4   6-15 miles  Over 60 minutes  Over 132 months  17 mph or less    NaN   \n",
       "\n",
       "  Distance-ch      Duration-ch          Time-ch    Impedance-ch  \n",
       "0   0-5 miles  Over 60 minutes  Over 132 months     Over 30 mph  \n",
       "1  6-15 miles  Over 60 minutes    60-131 months     Over 30 mph  \n",
       "2  6-15 miles     0-30 minutes     30-60 months     Over 30 mph  \n",
       "3  6-15 miles     0-30 minutes    60-131 months  17 mph or less  \n",
       "4  6-15 miles     0-30 minutes  Over 132 months  17 mph or less  "
      ]
     },
     "execution_count": 76,
     "metadata": {},
     "output_type": "execute_result"
    }
   ],
   "source": [
    "y_imp_rw\n",
    "# change numbers to bands but before this put in series\n",
    "# temp values need to be cleared first\n",
    "df['rwImpedance1'] = \"\"\n",
    "df['rwImpedance2'] = \"\"\n",
    "df['rwImpedance3'] = \"\"\n",
    "print(\"Change the y_imp_rw duration array to a dataframe and add it to the simulated model.\")\n",
    "df['Impedance'] = pd.Series(y_imp_rw)\n",
    "df.loc[df['Impedance'] <= 17, 'rwImpedance1'] = '17 mph or less'\n",
    "df.loc[(df['Impedance'] > 17) & (df['Impedance'] <= 30), 'rwImpedance2'] = '17.3-30 mph' \n",
    "df.loc[df['Impedance'] > 30, 'rwImpedance3'] = 'Over 30 mph'\n",
    "df['Impedance'] = df['rwImpedance1']+df['rwImpedance2']+df['rwImpedance3']\n",
    "df.drop(['rwImpedance1', 'rwImpedance2', 'rwImpedance3'], axis=1, inplace = True)\n",
    "df.head()\n"
   ]
  },
  {
   "cell_type": "code",
   "execution_count": 77,
   "metadata": {},
   "outputs": [
    {
     "data": {
      "text/html": [
       "<div>\n",
       "<style scoped>\n",
       "    .dataframe tbody tr th:only-of-type {\n",
       "        vertical-align: middle;\n",
       "    }\n",
       "\n",
       "    .dataframe tbody tr th {\n",
       "        vertical-align: top;\n",
       "    }\n",
       "\n",
       "    .dataframe thead th {\n",
       "        text-align: right;\n",
       "    }\n",
       "</style>\n",
       "<table border=\"1\" class=\"dataframe\">\n",
       "  <thead>\n",
       "    <tr style=\"text-align: right;\">\n",
       "      <th></th>\n",
       "      <th>Distance</th>\n",
       "      <th>Duration</th>\n",
       "      <th>Time</th>\n",
       "      <th>Impedance</th>\n",
       "      <th>Stress</th>\n",
       "      <th>Distance-ch</th>\n",
       "      <th>Duration-ch</th>\n",
       "      <th>Time-ch</th>\n",
       "      <th>Impedance-ch</th>\n",
       "    </tr>\n",
       "  </thead>\n",
       "  <tbody>\n",
       "    <tr>\n",
       "      <th>365</th>\n",
       "      <td>0-5 miles</td>\n",
       "      <td>30-60 minutes</td>\n",
       "      <td>60-131 months</td>\n",
       "      <td>17.3-30 mph</td>\n",
       "      <td>NaN</td>\n",
       "      <td>16-30 miles</td>\n",
       "      <td>0-30 minutes</td>\n",
       "      <td>60-131 months</td>\n",
       "      <td>17 mph or less</td>\n",
       "    </tr>\n",
       "    <tr>\n",
       "      <th>366</th>\n",
       "      <td>Over 30 miles</td>\n",
       "      <td>30-60 minutes</td>\n",
       "      <td>Over 132 months</td>\n",
       "      <td>17 mph or less</td>\n",
       "      <td>NaN</td>\n",
       "      <td>Over 30 miles</td>\n",
       "      <td>0-30 minutes</td>\n",
       "      <td>30-60 months</td>\n",
       "      <td>17.3-30 mph</td>\n",
       "    </tr>\n",
       "    <tr>\n",
       "      <th>367</th>\n",
       "      <td>16-30 miles</td>\n",
       "      <td>Over 60 minutes</td>\n",
       "      <td>Over 132 months</td>\n",
       "      <td>Over 30 mph</td>\n",
       "      <td>NaN</td>\n",
       "      <td>6-15 miles</td>\n",
       "      <td>0-30 minutes</td>\n",
       "      <td>30-60 months</td>\n",
       "      <td>17 mph or less</td>\n",
       "    </tr>\n",
       "    <tr>\n",
       "      <th>368</th>\n",
       "      <td>6-15 miles</td>\n",
       "      <td>Over 60 minutes</td>\n",
       "      <td>Over 132 months</td>\n",
       "      <td>Over 30 mph</td>\n",
       "      <td>NaN</td>\n",
       "      <td>6-15 miles</td>\n",
       "      <td>Over 60 minutes</td>\n",
       "      <td>1-29 months</td>\n",
       "      <td>17 mph or less</td>\n",
       "    </tr>\n",
       "    <tr>\n",
       "      <th>369</th>\n",
       "      <td>16-30 miles</td>\n",
       "      <td>0-30 minutes</td>\n",
       "      <td>Over 132 months</td>\n",
       "      <td>17 mph or less</td>\n",
       "      <td>NaN</td>\n",
       "      <td>Over 30 miles</td>\n",
       "      <td>Over 60 minutes</td>\n",
       "      <td>1-29 months</td>\n",
       "      <td>17.3-30 mph</td>\n",
       "    </tr>\n",
       "  </tbody>\n",
       "</table>\n",
       "</div>"
      ],
      "text/plain": [
       "          Distance         Duration             Time       Impedance Stress  \\\n",
       "365      0-5 miles    30-60 minutes    60-131 months     17.3-30 mph    NaN   \n",
       "366  Over 30 miles    30-60 minutes  Over 132 months  17 mph or less    NaN   \n",
       "367    16-30 miles  Over 60 minutes  Over 132 months     Over 30 mph    NaN   \n",
       "368     6-15 miles  Over 60 minutes  Over 132 months     Over 30 mph    NaN   \n",
       "369    16-30 miles     0-30 minutes  Over 132 months  17 mph or less    NaN   \n",
       "\n",
       "       Distance-ch      Duration-ch        Time-ch    Impedance-ch  \n",
       "365    16-30 miles     0-30 minutes  60-131 months  17 mph or less  \n",
       "366  Over 30 miles     0-30 minutes   30-60 months     17.3-30 mph  \n",
       "367     6-15 miles     0-30 minutes   30-60 months  17 mph or less  \n",
       "368     6-15 miles  Over 60 minutes    1-29 months  17 mph or less  \n",
       "369  Over 30 miles  Over 60 minutes    1-29 months     17.3-30 mph  "
      ]
     },
     "execution_count": 77,
     "metadata": {},
     "output_type": "execute_result"
    }
   ],
   "source": [
    "# check the end of the dataframe looks okay\n",
    "df.tail()"
   ]
  },
  {
   "cell_type": "markdown",
   "metadata": {},
   "source": [
    "Lets plot the histogram of the impedance distance bands"
   ]
  },
  {
   "cell_type": "code",
   "execution_count": 78,
   "metadata": {},
   "outputs": [
    {
     "data": {
      "text/plain": [
       "Counter({'17.3-30 mph': 137, 'Over 30 mph': 74, '17 mph or less': 159})"
      ]
     },
     "execution_count": 78,
     "metadata": {},
     "output_type": "execute_result"
    }
   ],
   "source": [
    "# calculate the number of responses to each impedance band\n",
    "imp_counts = Counter(df['Impedance'])\n",
    "# check the counts look okay\n",
    "imp_counts"
   ]
  },
  {
   "cell_type": "code",
   "execution_count": 79,
   "metadata": {},
   "outputs": [
    {
     "data": {
      "text/html": [
       "<div>\n",
       "<style scoped>\n",
       "    .dataframe tbody tr th:only-of-type {\n",
       "        vertical-align: middle;\n",
       "    }\n",
       "\n",
       "    .dataframe tbody tr th {\n",
       "        vertical-align: top;\n",
       "    }\n",
       "\n",
       "    .dataframe thead th {\n",
       "        text-align: right;\n",
       "    }\n",
       "</style>\n",
       "<table border=\"1\" class=\"dataframe\">\n",
       "  <thead>\n",
       "    <tr style=\"text-align: right;\">\n",
       "      <th></th>\n",
       "      <th>0</th>\n",
       "    </tr>\n",
       "  </thead>\n",
       "  <tbody>\n",
       "    <tr>\n",
       "      <th>17.3-30 mph</th>\n",
       "      <td>137</td>\n",
       "    </tr>\n",
       "    <tr>\n",
       "      <th>Over 30 mph</th>\n",
       "      <td>74</td>\n",
       "    </tr>\n",
       "    <tr>\n",
       "      <th>17 mph or less</th>\n",
       "      <td>159</td>\n",
       "    </tr>\n",
       "  </tbody>\n",
       "</table>\n",
       "</div>"
      ],
      "text/plain": [
       "                  0\n",
       "17.3-30 mph     137\n",
       "Over 30 mph      74\n",
       "17 mph or less  159"
      ]
     },
     "execution_count": 79,
     "metadata": {},
     "output_type": "execute_result"
    }
   ],
   "source": [
    "# create an indexed dataframe with the number of counts\n",
    "df_imp = pd.DataFrame.from_dict(imp_counts, orient='index')\n",
    "# check the counts dataframe for impedence looks okay\n",
    "df_imp\n"
   ]
  },
  {
   "cell_type": "code",
   "execution_count": 80,
   "metadata": {},
   "outputs": [
    {
     "data": {
      "image/png": "[encoded data removed]",
      "text/plain": [
       "<Figure size 432x288 with 1 Axes>"
      ]
     },
     "metadata": {
      "needs_background": "light"
     },
     "output_type": "display_data"
    }
   ],
   "source": [
    "#plot the bar chart of the duration counts\n",
    "df_imp.plot(kind='bar', title='Impedance')\n",
    "plt.legend([\"Simulated Impedance\"])\n",
    "plt.show()"
   ]
  },
  {
   "cell_type": "code",
   "execution_count": 81,
   "metadata": {},
   "outputs": [
    {
     "data": {
      "text/html": [
       "<div>\n",
       "<style scoped>\n",
       "    .dataframe tbody tr th:only-of-type {\n",
       "        vertical-align: middle;\n",
       "    }\n",
       "\n",
       "    .dataframe tbody tr th {\n",
       "        vertical-align: top;\n",
       "    }\n",
       "\n",
       "    .dataframe thead th {\n",
       "        text-align: right;\n",
       "    }\n",
       "</style>\n",
       "<table border=\"1\" class=\"dataframe\">\n",
       "  <thead>\n",
       "    <tr style=\"text-align: right;\">\n",
       "      <th></th>\n",
       "      <th>0</th>\n",
       "    </tr>\n",
       "  </thead>\n",
       "  <tbody>\n",
       "    <tr>\n",
       "      <th>17 mph or less</th>\n",
       "      <td>207</td>\n",
       "    </tr>\n",
       "    <tr>\n",
       "      <th>17.3-30 mph</th>\n",
       "      <td>97</td>\n",
       "    </tr>\n",
       "    <tr>\n",
       "      <th>Over 30 mph</th>\n",
       "      <td>66</td>\n",
       "    </tr>\n",
       "  </tbody>\n",
       "</table>\n",
       "</div>"
      ],
      "text/plain": [
       "                  0\n",
       "17 mph or less  207\n",
       "17.3-30 mph      97\n",
       "Over 30 mph      66"
      ]
     },
     "execution_count": 81,
     "metadata": {},
     "output_type": "execute_result"
    }
   ],
   "source": [
    "# create Cassidy's Time counts as a dataframe\n",
    "cass_imp = pd.DataFrame(np.array([[207, 97, 66]]), columns=['17 mph or less', '17.3-30 mph', 'Over 30 mph'])\n",
    "cass_imp = cass_imp.transpose()\n",
    "# check shape\n",
    "cass_imp.head()\n"
   ]
  },
  {
   "cell_type": "code",
   "execution_count": 82,
   "metadata": {},
   "outputs": [
    {
     "data": {
      "image/png": "[encoded data removed]",
      "text/plain": [
       "<Figure size 432x288 with 1 Axes>"
      ]
     },
     "metadata": {
      "needs_background": "light"
     },
     "output_type": "display_data"
    },
    {
     "data": {
      "image/png": "[encoded data removed]",
      "text/plain": [
       "<Figure size 432x288 with 1 Axes>"
      ]
     },
     "metadata": {
      "needs_background": "light"
     },
     "output_type": "display_data"
    },
    {
     "data": {
      "image/png": "[encoded data removed]",
      "text/plain": [
       "<Figure size 432x288 with 1 Axes>"
      ]
     },
     "metadata": {
      "needs_background": "light"
     },
     "output_type": "display_data"
    }
   ],
   "source": [
    "# set the order in which the plot displays the various bars for the original data\n",
    "cass_imp.reindex(['17 mph or less', '17.3-30 mph', 'Over 30 mph']).plot(kind='bar', title='Original Impedance')\n",
    "plt.legend([\"Original\"])\n",
    "# set the order in which the plot displays the various bars for the simulated data\n",
    "df_imp.reindex(['17 mph or less', '17.3-30 mph', 'Over 30 mph']).plot(kind='bar', title='Simulated Impedance with np.random.normal')\n",
    "plt.legend([\"Simulated\"]);\n",
    "df_imp_ch.reindex(['17 mph or less', '17.3-30 mph', 'Over 30 mph']).plot(kind='bar', title='Simulated Duration  with np.random.choice')\n",
    "plt.legend([\"Simulated\"])\n",
    "plt.show()\n",
    "\n",
    "# to do figure out how to display both histograms/bars side by side on the same plot\n"
   ]
  },
  {
   "cell_type": "markdown",
   "metadata": {},
   "source": [
    "This showed that the most common type of impedance was speeds under 17 mph with much less reported difficulty with the other two bands. The over 30 mph was reported as having the lowest impedance. The figures produced with the choice function appear to be a better match to Cassidy's data however the figures produced with the normal function are better representatives of the general driving population. Again there are a lot of assumptions made as traffic speed is complex. "
   ]
  },
  {
   "cell_type": "markdown",
   "metadata": {},
   "source": [
    "So far the 'independent type variables' (they are  not really independent as this is a correlational  investigation so all variables are equally treated) of distance, duration, time and impedance have been modeled. It is assumed that these have an effect on the ' dependent type variable' (again its not really a dependent variable - correlational study) of stress. As noted above stress is complex and has many factors affecting it over many domains but for simplicity one general domain is assumed. Stress will modeled by answers to the PSS likert questionnaire. "
   ]
  },
  {
   "cell_type": "markdown",
   "metadata": {},
   "source": [
    "### Stress\n",
    "\n",
    "Cassidy, (1992) measured stress over five domains, home, commute, work, leisure and personal. There was no numerical data given on these measures but three bar charts illustrated the report graphs with data from these domains. \n",
    "\n",
    "#### Cassidy's Stress assesment variables\n",
    "\n",
    "Cassidy 1992 measured stress along five domains namely \n",
    "* **Home domain** - This contained measures of perceived stress including perceived financial stress, social support, time spend at home and if home time was used to mediate work related problems\n",
    "* **Commuting domain** - This contained measures of perceived commuting related stress and commuting mood. \n",
    "* **Work domain** - This contained measures of perceived work related stress including the level of participants commitment to their job. Work stress measures were also collected. \n",
    "* **Leisure domain** - This contained information on the participants leisure attitude and experiences. It measured how often participants exercised and socialised and their perception of their fitness levels. \n",
    "* **Personal domain** - This measured the participants cognitive style such as their problem solving ability and whether or not the attributed events to internal or external factors. It measured participants reported levels of hopelessness, level of control, motivation, confidence and their general perceived stress. It also assessed their level of satisfaction with the direction their life was taking. \n",
    "\n",
    "The report contained four histogram comparison charts, one for the distance of commute, one for the duration of commute and one for the impedance of commute and one for the time spent commuting. \n",
    "\n",
    "##### Distance\n",
    "\n",
    "Cassidy (1992) found that commuters who travel longer distances reported more negative commuting experiences but did not report more stress than participants traveling shorter distances. However longer distance commuters reported higher scores on motivation and job commitment measures and more positive problem solving ability and use of leisure. Cassidy noted that this suggests longer distance commuters developed coping strategies within other domains to negate the negative effects of a long commute. Commuters who traveled by car had a greater sense of control over their situation however public transport commuters were able to use their commuting time productively along one or more domain. They read, slept,caught up with work etc. Cassidy noted that while this may seem beneficial it may  have long term implications in blurring boundaries between the various domains. In Cassidy's study longer distance commuters scored lower than other participants on the intention to continue to commute at this distance. Cassidy suggested that this shows participants are aware of the negative impact long commutes are having on their other domains. \n",
    "\n",
    "##### Duration\n",
    "\n",
    "Participants reported more negative and less positive responses as the duration of commute increased. There was significantly more work related stress reported for participants with higher duration of commute.\n",
    "\n",
    "##### Impedance\n",
    "\n",
    "This measure was the *strongest indicator of stress*. The greater the impedance i.e. the slower the speed reported significantly more negative and less positive experiences over most of the domains. Cassidy (1992) was cautious in drawing conclusions however he suggested there may be an element of 'learned helplessness' when participants cannot control the speed it takes them to travel to and from work. \n",
    "\n",
    "##### Time\n",
    "\n",
    "Cassidy (1992)found participants who were commuting for several years had more positive perceptions of their commute. This may be due to those who dislike commuting leaving the commuting pool resulting in a hardier 'ol' timer' commuter population. There was some support for this in the problem solving styles of the longer commuter and their levels of optimism. However long time commuters also showed higher work commitment but lower achievement motivation. Cassidy (1992) suggested this showed their higher level of commitment to their job which also had negative impact on their home and leisure domain.  \n",
    "\n",
    "### Measuring Stress\n",
    "\n",
    "### Step 1 - Stress score on PSS\n",
    "\n",
    "Firstly the score on the PSS was simulated as an indicator of general stress levels. This was simulated with np.random.choice as it models questions on a survey. First, a template for the 10 questions was created and answers for each question were simulated via the choice function. "
   ]
  },
  {
   "cell_type": "code",
   "execution_count": 83,
   "metadata": {},
   "outputs": [
    {
     "data": {
      "text/html": [
       "<div>\n",
       "<style scoped>\n",
       "    .dataframe tbody tr th:only-of-type {\n",
       "        vertical-align: middle;\n",
       "    }\n",
       "\n",
       "    .dataframe tbody tr th {\n",
       "        vertical-align: top;\n",
       "    }\n",
       "\n",
       "    .dataframe thead th {\n",
       "        text-align: right;\n",
       "    }\n",
       "</style>\n",
       "<table border=\"1\" class=\"dataframe\">\n",
       "  <thead>\n",
       "    <tr style=\"text-align: right;\">\n",
       "      <th></th>\n",
       "      <th>Question 1</th>\n",
       "      <th>Question 2</th>\n",
       "      <th>Question 3</th>\n",
       "      <th>Question 4</th>\n",
       "      <th>Question 5</th>\n",
       "      <th>Question 6</th>\n",
       "      <th>Question 7</th>\n",
       "      <th>Question 8</th>\n",
       "      <th>Question 9</th>\n",
       "      <th>Question 10</th>\n",
       "      <th>PSS</th>\n",
       "    </tr>\n",
       "  </thead>\n",
       "  <tbody>\n",
       "    <tr>\n",
       "      <th>0</th>\n",
       "      <td>NaN</td>\n",
       "      <td>NaN</td>\n",
       "      <td>NaN</td>\n",
       "      <td>NaN</td>\n",
       "      <td>NaN</td>\n",
       "      <td>NaN</td>\n",
       "      <td>NaN</td>\n",
       "      <td>NaN</td>\n",
       "      <td>NaN</td>\n",
       "      <td>NaN</td>\n",
       "      <td>NaN</td>\n",
       "    </tr>\n",
       "    <tr>\n",
       "      <th>1</th>\n",
       "      <td>NaN</td>\n",
       "      <td>NaN</td>\n",
       "      <td>NaN</td>\n",
       "      <td>NaN</td>\n",
       "      <td>NaN</td>\n",
       "      <td>NaN</td>\n",
       "      <td>NaN</td>\n",
       "      <td>NaN</td>\n",
       "      <td>NaN</td>\n",
       "      <td>NaN</td>\n",
       "      <td>NaN</td>\n",
       "    </tr>\n",
       "    <tr>\n",
       "      <th>2</th>\n",
       "      <td>NaN</td>\n",
       "      <td>NaN</td>\n",
       "      <td>NaN</td>\n",
       "      <td>NaN</td>\n",
       "      <td>NaN</td>\n",
       "      <td>NaN</td>\n",
       "      <td>NaN</td>\n",
       "      <td>NaN</td>\n",
       "      <td>NaN</td>\n",
       "      <td>NaN</td>\n",
       "      <td>NaN</td>\n",
       "    </tr>\n",
       "    <tr>\n",
       "      <th>3</th>\n",
       "      <td>NaN</td>\n",
       "      <td>NaN</td>\n",
       "      <td>NaN</td>\n",
       "      <td>NaN</td>\n",
       "      <td>NaN</td>\n",
       "      <td>NaN</td>\n",
       "      <td>NaN</td>\n",
       "      <td>NaN</td>\n",
       "      <td>NaN</td>\n",
       "      <td>NaN</td>\n",
       "      <td>NaN</td>\n",
       "    </tr>\n",
       "    <tr>\n",
       "      <th>4</th>\n",
       "      <td>NaN</td>\n",
       "      <td>NaN</td>\n",
       "      <td>NaN</td>\n",
       "      <td>NaN</td>\n",
       "      <td>NaN</td>\n",
       "      <td>NaN</td>\n",
       "      <td>NaN</td>\n",
       "      <td>NaN</td>\n",
       "      <td>NaN</td>\n",
       "      <td>NaN</td>\n",
       "      <td>NaN</td>\n",
       "    </tr>\n",
       "  </tbody>\n",
       "</table>\n",
       "</div>"
      ],
      "text/plain": [
       "  Question 1 Question 2 Question 3 Question 4 Question 5 Question 6  \\\n",
       "0        NaN        NaN        NaN        NaN        NaN        NaN   \n",
       "1        NaN        NaN        NaN        NaN        NaN        NaN   \n",
       "2        NaN        NaN        NaN        NaN        NaN        NaN   \n",
       "3        NaN        NaN        NaN        NaN        NaN        NaN   \n",
       "4        NaN        NaN        NaN        NaN        NaN        NaN   \n",
       "\n",
       "  Question 7 Question 8 Question 9 Question 10  PSS  \n",
       "0        NaN        NaN        NaN         NaN  NaN  \n",
       "1        NaN        NaN        NaN         NaN  NaN  \n",
       "2        NaN        NaN        NaN         NaN  NaN  \n",
       "3        NaN        NaN        NaN         NaN  NaN  \n",
       "4        NaN        NaN        NaN         NaN  NaN  "
      ]
     },
     "execution_count": 83,
     "metadata": {},
     "output_type": "execute_result"
    }
   ],
   "source": [
    "# create the questionnaire dataframe \n",
    "df_q = pd.DataFrame(columns = ['Question 1','Question 2','Question 3','Question 4','Question 5','Question 6','Question 7','Question 8','Question 9','Question 10', 'PSS'], index = x)\n",
    "#check the question headings\n",
    "df_q.head()\n"
   ]
  },
  {
   "cell_type": "markdown",
   "metadata": {},
   "source": [
    "The overall score on the 10 questions will be added to the simulated participant's PSS value.  The responses that can be entered are noted below."
   ]
  },
  {
   "cell_type": "code",
   "execution_count": 84,
   "metadata": {},
   "outputs": [
    {
     "name": "stdout",
     "output_type": "stream",
     "text": [
      "where the response  0  equals never\n",
      "where the response  1  equals almost never\n",
      "where the response  2  equals sometimes\n",
      "where the response  3  equals fairly often\n",
      "where the response  4  equals very often\n"
     ]
    }
   ],
   "source": [
    "#for each question fill it with simulated responses\n",
    "# create the stress band resposes 0 - never 1 - almost never 2 - sometimes 3 - fairly often 4 - very often\n",
    "responses = [0, 1, 2, 3, 4]\n",
    "responses\n",
    "print(\"where the response \", responses[0], \" equals never\" )\n",
    "print(\"where the response \", responses[1], \" equals almost never\" )\n",
    "print(\"where the response \", responses[2], \" equals sometimes\" )\n",
    "print(\"where the response \", responses[3], \" equals fairly often\" )\n",
    "print(\"where the response \", responses[4], \" equals very often\" )\n",
    "\n"
   ]
  },
  {
   "cell_type": "markdown",
   "metadata": {},
   "source": [
    "Stress scores is calculated by summing each participants responses to the 10 questions. The minimum score achievable is 0 (a response of 0 for every question) and the maximum is $4 \\times 10 = 40$ (a response of 4 for every question)"
   ]
  },
  {
   "cell_type": "code",
   "execution_count": 85,
   "metadata": {},
   "outputs": [
    {
     "name": "stdout",
     "output_type": "stream",
     "text": [
      "The first few responses to question 5 are \n",
      "  [3 1 2 3 4 2 4]\n"
     ]
    }
   ],
   "source": [
    "# generate the transport response array\n",
    "#seed = np.random.seed(1)\n",
    "#seed\n",
    "y_q1 = np.random.choice(responses, size)\n",
    "y_q2 = np.random.choice(responses, size)\n",
    "y_q3 = np.random.choice(responses, size)\n",
    "y_q4 = np.random.choice(responses, size)\n",
    "y_q5 = np.random.choice(responses, size)\n",
    "y_q6 = np.random.choice(responses, size)\n",
    "y_q7 = np.random.choice(responses, size)\n",
    "y_q8 = np.random.choice(responses, size)\n",
    "y_q9 = np.random.choice(responses, size)\n",
    "y_q10 = np.random.choice(responses, size)\n",
    "\n",
    "# check the first few values in one of the above arrays to see if it looks right\n",
    "print(\"The first few responses to question 5 are \\n \", y_q5[:7])\n"
   ]
  },
  {
   "cell_type": "markdown",
   "metadata": {},
   "source": [
    "The questions and responses are then put into an pandas series."
   ]
  },
  {
   "cell_type": "code",
   "execution_count": 86,
   "metadata": {},
   "outputs": [
    {
     "name": "stdout",
     "output_type": "stream",
     "text": [
      "The first few responses to question 4 are \n",
      " \n",
      " 0    2\n",
      "1    1\n",
      "2    0\n",
      "3    2\n",
      "4    2\n",
      "Name: Question 4, dtype: int32\n"
     ]
    }
   ],
   "source": [
    "# put the array into the dataframe\n",
    "\n",
    "df_q['Question 1'] = pd.Series(y_q1)\n",
    "df_q['Question 2'] = pd.Series(y_q2)\n",
    "df_q['Question 3'] = pd.Series(y_q3)\n",
    "df_q['Question 4'] = pd.Series(y_q4)\n",
    "df_q['Question 5'] = pd.Series(y_q5)\n",
    "df_q['Question 6'] = pd.Series(y_q6)\n",
    "df_q['Question 7'] = pd.Series(y_q7)\n",
    "df_q['Question 8'] = pd.Series(y_q8)\n",
    "df_q['Question 9'] = pd.Series(y_q9)\n",
    "df_q['Question 10'] = pd.Series(y_q10)\n",
    "# check the dataframes first few values\n",
    "print(\"The first few responses to question 4 are \\n \\n\", df_q['Question 4'].head())"
   ]
  },
  {
   "cell_type": "code",
   "execution_count": 87,
   "metadata": {},
   "outputs": [
    {
     "data": {
      "text/html": [
       "<div>\n",
       "<style scoped>\n",
       "    .dataframe tbody tr th:only-of-type {\n",
       "        vertical-align: middle;\n",
       "    }\n",
       "\n",
       "    .dataframe tbody tr th {\n",
       "        vertical-align: top;\n",
       "    }\n",
       "\n",
       "    .dataframe thead th {\n",
       "        text-align: right;\n",
       "    }\n",
       "</style>\n",
       "<table border=\"1\" class=\"dataframe\">\n",
       "  <thead>\n",
       "    <tr style=\"text-align: right;\">\n",
       "      <th></th>\n",
       "      <th>Question 1</th>\n",
       "      <th>Question 2</th>\n",
       "      <th>Question 3</th>\n",
       "      <th>Question 4</th>\n",
       "      <th>Question 5</th>\n",
       "      <th>Question 6</th>\n",
       "      <th>Question 7</th>\n",
       "      <th>Question 8</th>\n",
       "      <th>Question 9</th>\n",
       "      <th>Question 10</th>\n",
       "      <th>PSS</th>\n",
       "    </tr>\n",
       "  </thead>\n",
       "  <tbody>\n",
       "    <tr>\n",
       "      <th>0</th>\n",
       "      <td>3</td>\n",
       "      <td>3</td>\n",
       "      <td>1</td>\n",
       "      <td>2</td>\n",
       "      <td>3</td>\n",
       "      <td>0</td>\n",
       "      <td>3</td>\n",
       "      <td>0</td>\n",
       "      <td>4</td>\n",
       "      <td>1</td>\n",
       "      <td>NaN</td>\n",
       "    </tr>\n",
       "    <tr>\n",
       "      <th>1</th>\n",
       "      <td>0</td>\n",
       "      <td>4</td>\n",
       "      <td>1</td>\n",
       "      <td>1</td>\n",
       "      <td>1</td>\n",
       "      <td>0</td>\n",
       "      <td>0</td>\n",
       "      <td>2</td>\n",
       "      <td>3</td>\n",
       "      <td>2</td>\n",
       "      <td>NaN</td>\n",
       "    </tr>\n",
       "    <tr>\n",
       "      <th>2</th>\n",
       "      <td>3</td>\n",
       "      <td>3</td>\n",
       "      <td>0</td>\n",
       "      <td>0</td>\n",
       "      <td>2</td>\n",
       "      <td>4</td>\n",
       "      <td>4</td>\n",
       "      <td>2</td>\n",
       "      <td>1</td>\n",
       "      <td>1</td>\n",
       "      <td>NaN</td>\n",
       "    </tr>\n",
       "    <tr>\n",
       "      <th>3</th>\n",
       "      <td>1</td>\n",
       "      <td>2</td>\n",
       "      <td>1</td>\n",
       "      <td>2</td>\n",
       "      <td>3</td>\n",
       "      <td>3</td>\n",
       "      <td>1</td>\n",
       "      <td>1</td>\n",
       "      <td>2</td>\n",
       "      <td>4</td>\n",
       "      <td>NaN</td>\n",
       "    </tr>\n",
       "    <tr>\n",
       "      <th>4</th>\n",
       "      <td>2</td>\n",
       "      <td>3</td>\n",
       "      <td>2</td>\n",
       "      <td>2</td>\n",
       "      <td>4</td>\n",
       "      <td>2</td>\n",
       "      <td>4</td>\n",
       "      <td>3</td>\n",
       "      <td>1</td>\n",
       "      <td>4</td>\n",
       "      <td>NaN</td>\n",
       "    </tr>\n",
       "  </tbody>\n",
       "</table>\n",
       "</div>"
      ],
      "text/plain": [
       "   Question 1  Question 2  Question 3  Question 4  Question 5  Question 6  \\\n",
       "0           3           3           1           2           3           0   \n",
       "1           0           4           1           1           1           0   \n",
       "2           3           3           0           0           2           4   \n",
       "3           1           2           1           2           3           3   \n",
       "4           2           3           2           2           4           2   \n",
       "\n",
       "   Question 7  Question 8  Question 9  Question 10  PSS  \n",
       "0           3           0           4            1  NaN  \n",
       "1           0           2           3            2  NaN  \n",
       "2           4           2           1            1  NaN  \n",
       "3           1           1           2            4  NaN  \n",
       "4           4           3           1            4  NaN  "
      ]
     },
     "execution_count": 87,
     "metadata": {},
     "output_type": "execute_result"
    }
   ],
   "source": [
    "# check the start of the question dataframe\n",
    "df_q.head()\n"
   ]
  },
  {
   "cell_type": "code",
   "execution_count": 88,
   "metadata": {
    "scrolled": true
   },
   "outputs": [
    {
     "data": {
      "text/html": [
       "<div>\n",
       "<style scoped>\n",
       "    .dataframe tbody tr th:only-of-type {\n",
       "        vertical-align: middle;\n",
       "    }\n",
       "\n",
       "    .dataframe tbody tr th {\n",
       "        vertical-align: top;\n",
       "    }\n",
       "\n",
       "    .dataframe thead th {\n",
       "        text-align: right;\n",
       "    }\n",
       "</style>\n",
       "<table border=\"1\" class=\"dataframe\">\n",
       "  <thead>\n",
       "    <tr style=\"text-align: right;\">\n",
       "      <th></th>\n",
       "      <th>Question 1</th>\n",
       "      <th>Question 2</th>\n",
       "      <th>Question 3</th>\n",
       "      <th>Question 4</th>\n",
       "      <th>Question 5</th>\n",
       "      <th>Question 6</th>\n",
       "      <th>Question 7</th>\n",
       "      <th>Question 8</th>\n",
       "      <th>Question 9</th>\n",
       "      <th>Question 10</th>\n",
       "      <th>PSS</th>\n",
       "    </tr>\n",
       "  </thead>\n",
       "  <tbody>\n",
       "    <tr>\n",
       "      <th>365</th>\n",
       "      <td>2</td>\n",
       "      <td>4</td>\n",
       "      <td>0</td>\n",
       "      <td>3</td>\n",
       "      <td>2</td>\n",
       "      <td>1</td>\n",
       "      <td>2</td>\n",
       "      <td>2</td>\n",
       "      <td>0</td>\n",
       "      <td>1</td>\n",
       "      <td>NaN</td>\n",
       "    </tr>\n",
       "    <tr>\n",
       "      <th>366</th>\n",
       "      <td>0</td>\n",
       "      <td>0</td>\n",
       "      <td>3</td>\n",
       "      <td>4</td>\n",
       "      <td>4</td>\n",
       "      <td>3</td>\n",
       "      <td>0</td>\n",
       "      <td>1</td>\n",
       "      <td>0</td>\n",
       "      <td>3</td>\n",
       "      <td>NaN</td>\n",
       "    </tr>\n",
       "    <tr>\n",
       "      <th>367</th>\n",
       "      <td>4</td>\n",
       "      <td>1</td>\n",
       "      <td>4</td>\n",
       "      <td>1</td>\n",
       "      <td>4</td>\n",
       "      <td>0</td>\n",
       "      <td>4</td>\n",
       "      <td>0</td>\n",
       "      <td>1</td>\n",
       "      <td>0</td>\n",
       "      <td>NaN</td>\n",
       "    </tr>\n",
       "    <tr>\n",
       "      <th>368</th>\n",
       "      <td>4</td>\n",
       "      <td>3</td>\n",
       "      <td>2</td>\n",
       "      <td>4</td>\n",
       "      <td>4</td>\n",
       "      <td>2</td>\n",
       "      <td>2</td>\n",
       "      <td>2</td>\n",
       "      <td>0</td>\n",
       "      <td>0</td>\n",
       "      <td>NaN</td>\n",
       "    </tr>\n",
       "    <tr>\n",
       "      <th>369</th>\n",
       "      <td>1</td>\n",
       "      <td>3</td>\n",
       "      <td>0</td>\n",
       "      <td>0</td>\n",
       "      <td>1</td>\n",
       "      <td>0</td>\n",
       "      <td>0</td>\n",
       "      <td>2</td>\n",
       "      <td>1</td>\n",
       "      <td>3</td>\n",
       "      <td>NaN</td>\n",
       "    </tr>\n",
       "  </tbody>\n",
       "</table>\n",
       "</div>"
      ],
      "text/plain": [
       "     Question 1  Question 2  Question 3  Question 4  Question 5  Question 6  \\\n",
       "365           2           4           0           3           2           1   \n",
       "366           0           0           3           4           4           3   \n",
       "367           4           1           4           1           4           0   \n",
       "368           4           3           2           4           4           2   \n",
       "369           1           3           0           0           1           0   \n",
       "\n",
       "     Question 7  Question 8  Question 9  Question 10  PSS  \n",
       "365           2           2           0            1  NaN  \n",
       "366           0           1           0            3  NaN  \n",
       "367           4           0           1            0  NaN  \n",
       "368           2           2           0            0  NaN  \n",
       "369           0           2           1            3  NaN  "
      ]
     },
     "execution_count": 88,
     "metadata": {},
     "output_type": "execute_result"
    }
   ],
   "source": [
    "# check the end of the question dataframe\n",
    "df_q.tail()"
   ]
  },
  {
   "cell_type": "markdown",
   "metadata": {},
   "source": [
    "Now sum up the question scores on the 10 questions for each participant by summing rows. But before this, questions 4, 5, 7 and 8 require a reversal of their response as the PSS is balanced to avoid response bias of always answering at one or other of the extreme responses.  "
   ]
  },
  {
   "cell_type": "markdown",
   "metadata": {},
   "source": [
    "Questions 4, 5, 7 and 8 require a reversal of their responses. "
   ]
  },
  {
   "cell_type": "code",
   "execution_count": 89,
   "metadata": {},
   "outputs": [
    {
     "data": {
      "text/html": [
       "<div>\n",
       "<style scoped>\n",
       "    .dataframe tbody tr th:only-of-type {\n",
       "        vertical-align: middle;\n",
       "    }\n",
       "\n",
       "    .dataframe tbody tr th {\n",
       "        vertical-align: top;\n",
       "    }\n",
       "\n",
       "    .dataframe thead th {\n",
       "        text-align: right;\n",
       "    }\n",
       "</style>\n",
       "<table border=\"1\" class=\"dataframe\">\n",
       "  <thead>\n",
       "    <tr style=\"text-align: right;\">\n",
       "      <th></th>\n",
       "      <th>Question 1</th>\n",
       "      <th>Question 2</th>\n",
       "      <th>Question 3</th>\n",
       "      <th>Question 4</th>\n",
       "      <th>Question 5</th>\n",
       "      <th>Question 6</th>\n",
       "      <th>Question 7</th>\n",
       "      <th>Question 8</th>\n",
       "      <th>Question 9</th>\n",
       "      <th>Question 10</th>\n",
       "      <th>PSS</th>\n",
       "      <th>tmpQuestion 4</th>\n",
       "      <th>tmpQuestion 5</th>\n",
       "      <th>tmpQuestion 7</th>\n",
       "      <th>tmpQuestion 8</th>\n",
       "    </tr>\n",
       "  </thead>\n",
       "  <tbody>\n",
       "    <tr>\n",
       "      <th>0</th>\n",
       "      <td>3</td>\n",
       "      <td>3</td>\n",
       "      <td>1</td>\n",
       "      <td>2</td>\n",
       "      <td>3</td>\n",
       "      <td>0</td>\n",
       "      <td>3</td>\n",
       "      <td>0</td>\n",
       "      <td>4</td>\n",
       "      <td>1</td>\n",
       "      <td>NaN</td>\n",
       "      <td>2</td>\n",
       "      <td>1</td>\n",
       "      <td>1</td>\n",
       "      <td>4</td>\n",
       "    </tr>\n",
       "    <tr>\n",
       "      <th>1</th>\n",
       "      <td>0</td>\n",
       "      <td>4</td>\n",
       "      <td>1</td>\n",
       "      <td>1</td>\n",
       "      <td>1</td>\n",
       "      <td>0</td>\n",
       "      <td>0</td>\n",
       "      <td>2</td>\n",
       "      <td>3</td>\n",
       "      <td>2</td>\n",
       "      <td>NaN</td>\n",
       "      <td>3</td>\n",
       "      <td>3</td>\n",
       "      <td>4</td>\n",
       "      <td>2</td>\n",
       "    </tr>\n",
       "    <tr>\n",
       "      <th>2</th>\n",
       "      <td>3</td>\n",
       "      <td>3</td>\n",
       "      <td>0</td>\n",
       "      <td>0</td>\n",
       "      <td>2</td>\n",
       "      <td>4</td>\n",
       "      <td>4</td>\n",
       "      <td>2</td>\n",
       "      <td>1</td>\n",
       "      <td>1</td>\n",
       "      <td>NaN</td>\n",
       "      <td>4</td>\n",
       "      <td>2</td>\n",
       "      <td>0</td>\n",
       "      <td>2</td>\n",
       "    </tr>\n",
       "    <tr>\n",
       "      <th>3</th>\n",
       "      <td>1</td>\n",
       "      <td>2</td>\n",
       "      <td>1</td>\n",
       "      <td>2</td>\n",
       "      <td>3</td>\n",
       "      <td>3</td>\n",
       "      <td>1</td>\n",
       "      <td>1</td>\n",
       "      <td>2</td>\n",
       "      <td>4</td>\n",
       "      <td>NaN</td>\n",
       "      <td>2</td>\n",
       "      <td>1</td>\n",
       "      <td>3</td>\n",
       "      <td>3</td>\n",
       "    </tr>\n",
       "    <tr>\n",
       "      <th>4</th>\n",
       "      <td>2</td>\n",
       "      <td>3</td>\n",
       "      <td>2</td>\n",
       "      <td>2</td>\n",
       "      <td>4</td>\n",
       "      <td>2</td>\n",
       "      <td>4</td>\n",
       "      <td>3</td>\n",
       "      <td>1</td>\n",
       "      <td>4</td>\n",
       "      <td>NaN</td>\n",
       "      <td>2</td>\n",
       "      <td>0</td>\n",
       "      <td>0</td>\n",
       "      <td>1</td>\n",
       "    </tr>\n",
       "  </tbody>\n",
       "</table>\n",
       "</div>"
      ],
      "text/plain": [
       "   Question 1  Question 2  Question 3  Question 4  Question 5  Question 6  \\\n",
       "0           3           3           1           2           3           0   \n",
       "1           0           4           1           1           1           0   \n",
       "2           3           3           0           0           2           4   \n",
       "3           1           2           1           2           3           3   \n",
       "4           2           3           2           2           4           2   \n",
       "\n",
       "   Question 7  Question 8  Question 9  Question 10  PSS  tmpQuestion 4  \\\n",
       "0           3           0           4            1  NaN              2   \n",
       "1           0           2           3            2  NaN              3   \n",
       "2           4           2           1            1  NaN              4   \n",
       "3           1           1           2            4  NaN              2   \n",
       "4           4           3           1            4  NaN              2   \n",
       "\n",
       "   tmpQuestion 5  tmpQuestion 7  tmpQuestion 8  \n",
       "0              1              1              4  \n",
       "1              3              4              2  \n",
       "2              2              0              2  \n",
       "3              1              3              3  \n",
       "4              0              0              1  "
      ]
     },
     "execution_count": 89,
     "metadata": {},
     "output_type": "execute_result"
    }
   ],
   "source": [
    "# take a copy of question 4 named tmpQuestion 4\n",
    "df_q['tmpQuestion 4'] = df_q['Question 4']\n",
    "# select all the values that are 0, 1, 2, 3, 4 respectively and add 4, 3, 2, 1, 0 respectivley into the tmpQuestion 4\n",
    "df_q.loc[df_q['Question 4'] == 0, 'tmpQuestion 4'] = 4\n",
    "df_q.loc[df_q['Question 4'] == 1, 'tmpQuestion 4'] = 3\n",
    "df_q.loc[df_q['Question 4'] == 2, 'tmpQuestion 4'] = 2\n",
    "df_q.loc[df_q['Question 4'] == 3, 'tmpQuestion 4'] = 1\n",
    "df_q.loc[df_q['Question 4'] == 4, 'tmpQuestion 4'] = 0\n",
    "#check the headings and values\n",
    "df_q\n",
    "# take a copy of question 5 named tmpQuestion 5\n",
    "df_q['tmpQuestion 5'] = df_q['Question 5']\n",
    "# select all the values that are 0, 1, 2, 3, 4 respectively and add 4, 3, 2, 1, 0 respectivley into the tmpQuestion 5\n",
    "df_q.loc[df_q['Question 5'] == 0, 'tmpQuestion 5'] = 4\n",
    "df_q.loc[df_q['Question 5'] == 1, 'tmpQuestion 5'] = 3\n",
    "df_q.loc[df_q['Question 5'] == 2, 'tmpQuestion 5'] = 2\n",
    "df_q.loc[df_q['Question 5'] == 3, 'tmpQuestion 5'] = 1\n",
    "df_q.loc[df_q['Question 5'] == 4, 'tmpQuestion 5'] = 0\n",
    "#check the headings and values\n",
    "df_q\n",
    "# take a copy of question 7 named tmpQuestion 7\n",
    "df_q['tmpQuestion 7'] = df_q['Question 7']\n",
    "# select all the values that are 0, 1, 2, 3, 4 respectively and add 4, 3, 2, 1, 0 respectivley into the tmpQuestion 7\n",
    "df_q.loc[df_q['Question 7'] == 0, 'tmpQuestion 7'] = 4\n",
    "df_q.loc[df_q['Question 7'] == 1, 'tmpQuestion 7'] = 3\n",
    "df_q.loc[df_q['Question 7'] == 2, 'tmpQuestion 7'] = 2\n",
    "df_q.loc[df_q['Question 7'] == 3, 'tmpQuestion 7'] = 1\n",
    "df_q.loc[df_q['Question 7'] == 4, 'tmpQuestion 7'] = 0\n",
    "#check the headings and values\n",
    "df_q\n",
    "# take a copy of question 4 named tmpQuestion 8\n",
    "df_q['tmpQuestion 8'] = df_q['Question 8']\n",
    "# select all the values that are 0, 1, 2, 3, 4 respectively and add 4, 3, 2, 1, 0 respectivley into the tmpQuestion 8\n",
    "df_q.loc[df_q['Question 8'] == 0, 'tmpQuestion 8'] = 4\n",
    "df_q.loc[df_q['Question 8'] == 1, 'tmpQuestion 8'] = 3\n",
    "df_q.loc[df_q['Question 8'] == 2, 'tmpQuestion 8'] = 2\n",
    "df_q.loc[df_q['Question 8'] == 3, 'tmpQuestion 8'] = 1\n",
    "df_q.loc[df_q['Question 8'] == 4, 'tmpQuestion 8'] = 0\n",
    "#check the headings and values\n",
    "df_q.head()"
   ]
  },
  {
   "cell_type": "code",
   "execution_count": 90,
   "metadata": {},
   "outputs": [
    {
     "name": "stdout",
     "output_type": "stream",
     "text": [
      "the first few values in question 4 are  0    2\n",
      "1    1\n",
      "2    0\n",
      "3    2\n",
      "4    2\n",
      "5    0\n",
      "6    3\n",
      "Name: Question 4, dtype: int32\n"
     ]
    }
   ],
   "source": [
    "#check question 4 column\n",
    "print(\"the first few values in question 4 are \", df_q['Question 4'][:7])\n",
    "\n"
   ]
  },
  {
   "cell_type": "markdown",
   "metadata": {},
   "source": [
    "Next these reversed responses are copied into their respective question, then the temporary field is dropped from the dataframe. "
   ]
  },
  {
   "cell_type": "markdown",
   "metadata": {},
   "source": [
    "* copying reversed question 4 responses"
   ]
  },
  {
   "cell_type": "code",
   "execution_count": 91,
   "metadata": {},
   "outputs": [
    {
     "name": "stdout",
     "output_type": "stream",
     "text": [
      "the first few values in question 4 are  0    2\n",
      "1    3\n",
      "2    4\n",
      "3    2\n",
      "4    2\n",
      "5    4\n",
      "6    1\n",
      "Name: Question 4, dtype: int32\n"
     ]
    }
   ],
   "source": [
    "# copy the temp values into question 4\n",
    "df_q['Question 4'] = df_q['tmpQuestion 4']\n",
    "#check question 4 column\n",
    "print(\"the first few values in question 4 are \", df_q['Question 4'][:7])\n"
   ]
  },
  {
   "cell_type": "code",
   "execution_count": 92,
   "metadata": {},
   "outputs": [
    {
     "data": {
      "text/html": [
       "<div>\n",
       "<style scoped>\n",
       "    .dataframe tbody tr th:only-of-type {\n",
       "        vertical-align: middle;\n",
       "    }\n",
       "\n",
       "    .dataframe tbody tr th {\n",
       "        vertical-align: top;\n",
       "    }\n",
       "\n",
       "    .dataframe thead th {\n",
       "        text-align: right;\n",
       "    }\n",
       "</style>\n",
       "<table border=\"1\" class=\"dataframe\">\n",
       "  <thead>\n",
       "    <tr style=\"text-align: right;\">\n",
       "      <th></th>\n",
       "      <th>Question 1</th>\n",
       "      <th>Question 2</th>\n",
       "      <th>Question 3</th>\n",
       "      <th>Question 4</th>\n",
       "      <th>Question 5</th>\n",
       "      <th>Question 6</th>\n",
       "      <th>Question 7</th>\n",
       "      <th>Question 8</th>\n",
       "      <th>Question 9</th>\n",
       "      <th>Question 10</th>\n",
       "      <th>PSS</th>\n",
       "      <th>tmpQuestion 5</th>\n",
       "      <th>tmpQuestion 7</th>\n",
       "      <th>tmpQuestion 8</th>\n",
       "    </tr>\n",
       "  </thead>\n",
       "  <tbody>\n",
       "    <tr>\n",
       "      <th>0</th>\n",
       "      <td>3</td>\n",
       "      <td>3</td>\n",
       "      <td>1</td>\n",
       "      <td>2</td>\n",
       "      <td>3</td>\n",
       "      <td>0</td>\n",
       "      <td>3</td>\n",
       "      <td>0</td>\n",
       "      <td>4</td>\n",
       "      <td>1</td>\n",
       "      <td>NaN</td>\n",
       "      <td>1</td>\n",
       "      <td>1</td>\n",
       "      <td>4</td>\n",
       "    </tr>\n",
       "    <tr>\n",
       "      <th>1</th>\n",
       "      <td>0</td>\n",
       "      <td>4</td>\n",
       "      <td>1</td>\n",
       "      <td>3</td>\n",
       "      <td>1</td>\n",
       "      <td>0</td>\n",
       "      <td>0</td>\n",
       "      <td>2</td>\n",
       "      <td>3</td>\n",
       "      <td>2</td>\n",
       "      <td>NaN</td>\n",
       "      <td>3</td>\n",
       "      <td>4</td>\n",
       "      <td>2</td>\n",
       "    </tr>\n",
       "    <tr>\n",
       "      <th>2</th>\n",
       "      <td>3</td>\n",
       "      <td>3</td>\n",
       "      <td>0</td>\n",
       "      <td>4</td>\n",
       "      <td>2</td>\n",
       "      <td>4</td>\n",
       "      <td>4</td>\n",
       "      <td>2</td>\n",
       "      <td>1</td>\n",
       "      <td>1</td>\n",
       "      <td>NaN</td>\n",
       "      <td>2</td>\n",
       "      <td>0</td>\n",
       "      <td>2</td>\n",
       "    </tr>\n",
       "    <tr>\n",
       "      <th>3</th>\n",
       "      <td>1</td>\n",
       "      <td>2</td>\n",
       "      <td>1</td>\n",
       "      <td>2</td>\n",
       "      <td>3</td>\n",
       "      <td>3</td>\n",
       "      <td>1</td>\n",
       "      <td>1</td>\n",
       "      <td>2</td>\n",
       "      <td>4</td>\n",
       "      <td>NaN</td>\n",
       "      <td>1</td>\n",
       "      <td>3</td>\n",
       "      <td>3</td>\n",
       "    </tr>\n",
       "    <tr>\n",
       "      <th>4</th>\n",
       "      <td>2</td>\n",
       "      <td>3</td>\n",
       "      <td>2</td>\n",
       "      <td>2</td>\n",
       "      <td>4</td>\n",
       "      <td>2</td>\n",
       "      <td>4</td>\n",
       "      <td>3</td>\n",
       "      <td>1</td>\n",
       "      <td>4</td>\n",
       "      <td>NaN</td>\n",
       "      <td>0</td>\n",
       "      <td>0</td>\n",
       "      <td>1</td>\n",
       "    </tr>\n",
       "  </tbody>\n",
       "</table>\n",
       "</div>"
      ],
      "text/plain": [
       "   Question 1  Question 2  Question 3  Question 4  Question 5  Question 6  \\\n",
       "0           3           3           1           2           3           0   \n",
       "1           0           4           1           3           1           0   \n",
       "2           3           3           0           4           2           4   \n",
       "3           1           2           1           2           3           3   \n",
       "4           2           3           2           2           4           2   \n",
       "\n",
       "   Question 7  Question 8  Question 9  Question 10  PSS  tmpQuestion 5  \\\n",
       "0           3           0           4            1  NaN              1   \n",
       "1           0           2           3            2  NaN              3   \n",
       "2           4           2           1            1  NaN              2   \n",
       "3           1           1           2            4  NaN              1   \n",
       "4           4           3           1            4  NaN              0   \n",
       "\n",
       "   tmpQuestion 7  tmpQuestion 8  \n",
       "0              1              4  \n",
       "1              4              2  \n",
       "2              0              2  \n",
       "3              3              3  \n",
       "4              0              1  "
      ]
     },
     "execution_count": 92,
     "metadata": {},
     "output_type": "execute_result"
    }
   ],
   "source": [
    "# drop tmpQuestion 4 column\n",
    "df_q.drop(['tmpQuestion 4'], axis=1, inplace = True)\n",
    "df_q.head()"
   ]
  },
  {
   "cell_type": "markdown",
   "metadata": {},
   "source": [
    "* copying reversed question 5 responses"
   ]
  },
  {
   "cell_type": "code",
   "execution_count": 93,
   "metadata": {},
   "outputs": [
    {
     "name": "stdout",
     "output_type": "stream",
     "text": [
      "the first few values in question 5 are  0    3\n",
      "1    1\n",
      "2    2\n",
      "3    3\n",
      "4    4\n",
      "5    2\n",
      "6    4\n",
      "Name: Question 5, dtype: int32\n"
     ]
    }
   ],
   "source": [
    "#check question 5 column\n",
    "print(\"the first few values in question 5 are \", df_q['Question 5'][:7])\n",
    "\n"
   ]
  },
  {
   "cell_type": "code",
   "execution_count": 94,
   "metadata": {},
   "outputs": [
    {
     "name": "stdout",
     "output_type": "stream",
     "text": [
      "the first few values in question 5 are  0    1\n",
      "1    3\n",
      "2    2\n",
      "3    1\n",
      "4    0\n",
      "5    2\n",
      "6    0\n",
      "Name: Question 5, dtype: int32\n"
     ]
    }
   ],
   "source": [
    "# copy the temp values into question 5\n",
    "df_q['Question 5'] = df_q['tmpQuestion 5']\n",
    "#check question 5 column\n",
    "print(\"the first few values in question 5 are \", df_q['Question 5'][:7])\n"
   ]
  },
  {
   "cell_type": "code",
   "execution_count": 95,
   "metadata": {},
   "outputs": [
    {
     "data": {
      "text/html": [
       "<div>\n",
       "<style scoped>\n",
       "    .dataframe tbody tr th:only-of-type {\n",
       "        vertical-align: middle;\n",
       "    }\n",
       "\n",
       "    .dataframe tbody tr th {\n",
       "        vertical-align: top;\n",
       "    }\n",
       "\n",
       "    .dataframe thead th {\n",
       "        text-align: right;\n",
       "    }\n",
       "</style>\n",
       "<table border=\"1\" class=\"dataframe\">\n",
       "  <thead>\n",
       "    <tr style=\"text-align: right;\">\n",
       "      <th></th>\n",
       "      <th>Question 1</th>\n",
       "      <th>Question 2</th>\n",
       "      <th>Question 3</th>\n",
       "      <th>Question 4</th>\n",
       "      <th>Question 5</th>\n",
       "      <th>Question 6</th>\n",
       "      <th>Question 7</th>\n",
       "      <th>Question 8</th>\n",
       "      <th>Question 9</th>\n",
       "      <th>Question 10</th>\n",
       "      <th>PSS</th>\n",
       "      <th>tmpQuestion 7</th>\n",
       "      <th>tmpQuestion 8</th>\n",
       "    </tr>\n",
       "  </thead>\n",
       "  <tbody>\n",
       "    <tr>\n",
       "      <th>0</th>\n",
       "      <td>3</td>\n",
       "      <td>3</td>\n",
       "      <td>1</td>\n",
       "      <td>2</td>\n",
       "      <td>1</td>\n",
       "      <td>0</td>\n",
       "      <td>3</td>\n",
       "      <td>0</td>\n",
       "      <td>4</td>\n",
       "      <td>1</td>\n",
       "      <td>NaN</td>\n",
       "      <td>1</td>\n",
       "      <td>4</td>\n",
       "    </tr>\n",
       "    <tr>\n",
       "      <th>1</th>\n",
       "      <td>0</td>\n",
       "      <td>4</td>\n",
       "      <td>1</td>\n",
       "      <td>3</td>\n",
       "      <td>3</td>\n",
       "      <td>0</td>\n",
       "      <td>0</td>\n",
       "      <td>2</td>\n",
       "      <td>3</td>\n",
       "      <td>2</td>\n",
       "      <td>NaN</td>\n",
       "      <td>4</td>\n",
       "      <td>2</td>\n",
       "    </tr>\n",
       "    <tr>\n",
       "      <th>2</th>\n",
       "      <td>3</td>\n",
       "      <td>3</td>\n",
       "      <td>0</td>\n",
       "      <td>4</td>\n",
       "      <td>2</td>\n",
       "      <td>4</td>\n",
       "      <td>4</td>\n",
       "      <td>2</td>\n",
       "      <td>1</td>\n",
       "      <td>1</td>\n",
       "      <td>NaN</td>\n",
       "      <td>0</td>\n",
       "      <td>2</td>\n",
       "    </tr>\n",
       "    <tr>\n",
       "      <th>3</th>\n",
       "      <td>1</td>\n",
       "      <td>2</td>\n",
       "      <td>1</td>\n",
       "      <td>2</td>\n",
       "      <td>1</td>\n",
       "      <td>3</td>\n",
       "      <td>1</td>\n",
       "      <td>1</td>\n",
       "      <td>2</td>\n",
       "      <td>4</td>\n",
       "      <td>NaN</td>\n",
       "      <td>3</td>\n",
       "      <td>3</td>\n",
       "    </tr>\n",
       "    <tr>\n",
       "      <th>4</th>\n",
       "      <td>2</td>\n",
       "      <td>3</td>\n",
       "      <td>2</td>\n",
       "      <td>2</td>\n",
       "      <td>0</td>\n",
       "      <td>2</td>\n",
       "      <td>4</td>\n",
       "      <td>3</td>\n",
       "      <td>1</td>\n",
       "      <td>4</td>\n",
       "      <td>NaN</td>\n",
       "      <td>0</td>\n",
       "      <td>1</td>\n",
       "    </tr>\n",
       "  </tbody>\n",
       "</table>\n",
       "</div>"
      ],
      "text/plain": [
       "   Question 1  Question 2  Question 3  Question 4  Question 5  Question 6  \\\n",
       "0           3           3           1           2           1           0   \n",
       "1           0           4           1           3           3           0   \n",
       "2           3           3           0           4           2           4   \n",
       "3           1           2           1           2           1           3   \n",
       "4           2           3           2           2           0           2   \n",
       "\n",
       "   Question 7  Question 8  Question 9  Question 10  PSS  tmpQuestion 7  \\\n",
       "0           3           0           4            1  NaN              1   \n",
       "1           0           2           3            2  NaN              4   \n",
       "2           4           2           1            1  NaN              0   \n",
       "3           1           1           2            4  NaN              3   \n",
       "4           4           3           1            4  NaN              0   \n",
       "\n",
       "   tmpQuestion 8  \n",
       "0              4  \n",
       "1              2  \n",
       "2              2  \n",
       "3              3  \n",
       "4              1  "
      ]
     },
     "execution_count": 95,
     "metadata": {},
     "output_type": "execute_result"
    }
   ],
   "source": [
    "# drop tmpQuestion 5 column\n",
    "df_q.drop(['tmpQuestion 5'], axis=1, inplace = True)\n",
    "df_q.head()"
   ]
  },
  {
   "cell_type": "markdown",
   "metadata": {},
   "source": [
    "* copying reversed question 7 responses"
   ]
  },
  {
   "cell_type": "code",
   "execution_count": 96,
   "metadata": {},
   "outputs": [
    {
     "name": "stdout",
     "output_type": "stream",
     "text": [
      "the first few values in question 7 are  0    3\n",
      "1    0\n",
      "2    4\n",
      "3    1\n",
      "4    4\n",
      "5    3\n",
      "6    4\n",
      "Name: Question 7, dtype: int32\n"
     ]
    }
   ],
   "source": [
    "#check question 7 column\n",
    "print(\"the first few values in question 7 are \", df_q['Question 7'][:7])\n",
    "\n"
   ]
  },
  {
   "cell_type": "code",
   "execution_count": 97,
   "metadata": {},
   "outputs": [
    {
     "name": "stdout",
     "output_type": "stream",
     "text": [
      "the first few values in question 7 are  0    1\n",
      "1    4\n",
      "2    0\n",
      "3    3\n",
      "4    0\n",
      "5    1\n",
      "6    0\n",
      "Name: Question 7, dtype: int32\n"
     ]
    }
   ],
   "source": [
    "# copy the temp values into question 7\n",
    "df_q['Question 7'] = df_q['tmpQuestion 7']\n",
    "#check question 7 column\n",
    "print(\"the first few values in question 7 are \", df_q['Question 7'][:7])\n"
   ]
  },
  {
   "cell_type": "code",
   "execution_count": 98,
   "metadata": {},
   "outputs": [
    {
     "data": {
      "text/html": [
       "<div>\n",
       "<style scoped>\n",
       "    .dataframe tbody tr th:only-of-type {\n",
       "        vertical-align: middle;\n",
       "    }\n",
       "\n",
       "    .dataframe tbody tr th {\n",
       "        vertical-align: top;\n",
       "    }\n",
       "\n",
       "    .dataframe thead th {\n",
       "        text-align: right;\n",
       "    }\n",
       "</style>\n",
       "<table border=\"1\" class=\"dataframe\">\n",
       "  <thead>\n",
       "    <tr style=\"text-align: right;\">\n",
       "      <th></th>\n",
       "      <th>Question 1</th>\n",
       "      <th>Question 2</th>\n",
       "      <th>Question 3</th>\n",
       "      <th>Question 4</th>\n",
       "      <th>Question 5</th>\n",
       "      <th>Question 6</th>\n",
       "      <th>Question 7</th>\n",
       "      <th>Question 8</th>\n",
       "      <th>Question 9</th>\n",
       "      <th>Question 10</th>\n",
       "      <th>PSS</th>\n",
       "      <th>tmpQuestion 8</th>\n",
       "    </tr>\n",
       "  </thead>\n",
       "  <tbody>\n",
       "    <tr>\n",
       "      <th>0</th>\n",
       "      <td>3</td>\n",
       "      <td>3</td>\n",
       "      <td>1</td>\n",
       "      <td>2</td>\n",
       "      <td>1</td>\n",
       "      <td>0</td>\n",
       "      <td>1</td>\n",
       "      <td>0</td>\n",
       "      <td>4</td>\n",
       "      <td>1</td>\n",
       "      <td>NaN</td>\n",
       "      <td>4</td>\n",
       "    </tr>\n",
       "    <tr>\n",
       "      <th>1</th>\n",
       "      <td>0</td>\n",
       "      <td>4</td>\n",
       "      <td>1</td>\n",
       "      <td>3</td>\n",
       "      <td>3</td>\n",
       "      <td>0</td>\n",
       "      <td>4</td>\n",
       "      <td>2</td>\n",
       "      <td>3</td>\n",
       "      <td>2</td>\n",
       "      <td>NaN</td>\n",
       "      <td>2</td>\n",
       "    </tr>\n",
       "    <tr>\n",
       "      <th>2</th>\n",
       "      <td>3</td>\n",
       "      <td>3</td>\n",
       "      <td>0</td>\n",
       "      <td>4</td>\n",
       "      <td>2</td>\n",
       "      <td>4</td>\n",
       "      <td>0</td>\n",
       "      <td>2</td>\n",
       "      <td>1</td>\n",
       "      <td>1</td>\n",
       "      <td>NaN</td>\n",
       "      <td>2</td>\n",
       "    </tr>\n",
       "    <tr>\n",
       "      <th>3</th>\n",
       "      <td>1</td>\n",
       "      <td>2</td>\n",
       "      <td>1</td>\n",
       "      <td>2</td>\n",
       "      <td>1</td>\n",
       "      <td>3</td>\n",
       "      <td>3</td>\n",
       "      <td>1</td>\n",
       "      <td>2</td>\n",
       "      <td>4</td>\n",
       "      <td>NaN</td>\n",
       "      <td>3</td>\n",
       "    </tr>\n",
       "    <tr>\n",
       "      <th>4</th>\n",
       "      <td>2</td>\n",
       "      <td>3</td>\n",
       "      <td>2</td>\n",
       "      <td>2</td>\n",
       "      <td>0</td>\n",
       "      <td>2</td>\n",
       "      <td>0</td>\n",
       "      <td>3</td>\n",
       "      <td>1</td>\n",
       "      <td>4</td>\n",
       "      <td>NaN</td>\n",
       "      <td>1</td>\n",
       "    </tr>\n",
       "  </tbody>\n",
       "</table>\n",
       "</div>"
      ],
      "text/plain": [
       "   Question 1  Question 2  Question 3  Question 4  Question 5  Question 6  \\\n",
       "0           3           3           1           2           1           0   \n",
       "1           0           4           1           3           3           0   \n",
       "2           3           3           0           4           2           4   \n",
       "3           1           2           1           2           1           3   \n",
       "4           2           3           2           2           0           2   \n",
       "\n",
       "   Question 7  Question 8  Question 9  Question 10  PSS  tmpQuestion 8  \n",
       "0           1           0           4            1  NaN              4  \n",
       "1           4           2           3            2  NaN              2  \n",
       "2           0           2           1            1  NaN              2  \n",
       "3           3           1           2            4  NaN              3  \n",
       "4           0           3           1            4  NaN              1  "
      ]
     },
     "execution_count": 98,
     "metadata": {},
     "output_type": "execute_result"
    }
   ],
   "source": [
    "# drop tmpQuestion 7 column\n",
    "df_q.drop(['tmpQuestion 7'], axis=1, inplace = True)\n",
    "df_q.head()"
   ]
  },
  {
   "cell_type": "markdown",
   "metadata": {},
   "source": [
    "* copying reversed question 8 responses"
   ]
  },
  {
   "cell_type": "code",
   "execution_count": 99,
   "metadata": {},
   "outputs": [
    {
     "name": "stdout",
     "output_type": "stream",
     "text": [
      "the first few values in question 8 are  0    0\n",
      "1    2\n",
      "2    2\n",
      "3    1\n",
      "4    3\n",
      "5    0\n",
      "6    3\n",
      "Name: Question 8, dtype: int32\n"
     ]
    }
   ],
   "source": [
    "#check question 8 column\n",
    "print(\"the first few values in question 8 are \", df_q['Question 8'][:7])\n",
    "\n"
   ]
  },
  {
   "cell_type": "code",
   "execution_count": 100,
   "metadata": {},
   "outputs": [
    {
     "name": "stdout",
     "output_type": "stream",
     "text": [
      "the first few values in question 8 are  0    4\n",
      "1    2\n",
      "2    2\n",
      "3    3\n",
      "4    1\n",
      "5    4\n",
      "6    1\n",
      "Name: Question 8, dtype: int32\n"
     ]
    }
   ],
   "source": [
    "# copy the temp values into question 8\n",
    "df_q['Question 8'] = df_q['tmpQuestion 8']\n",
    "#check question 8 column\n",
    "print(\"the first few values in question 8 are \", df_q['Question 8'][:7])\n"
   ]
  },
  {
   "cell_type": "code",
   "execution_count": 101,
   "metadata": {},
   "outputs": [
    {
     "data": {
      "text/html": [
       "<div>\n",
       "<style scoped>\n",
       "    .dataframe tbody tr th:only-of-type {\n",
       "        vertical-align: middle;\n",
       "    }\n",
       "\n",
       "    .dataframe tbody tr th {\n",
       "        vertical-align: top;\n",
       "    }\n",
       "\n",
       "    .dataframe thead th {\n",
       "        text-align: right;\n",
       "    }\n",
       "</style>\n",
       "<table border=\"1\" class=\"dataframe\">\n",
       "  <thead>\n",
       "    <tr style=\"text-align: right;\">\n",
       "      <th></th>\n",
       "      <th>Question 1</th>\n",
       "      <th>Question 2</th>\n",
       "      <th>Question 3</th>\n",
       "      <th>Question 4</th>\n",
       "      <th>Question 5</th>\n",
       "      <th>Question 6</th>\n",
       "      <th>Question 7</th>\n",
       "      <th>Question 8</th>\n",
       "      <th>Question 9</th>\n",
       "      <th>Question 10</th>\n",
       "      <th>PSS</th>\n",
       "    </tr>\n",
       "  </thead>\n",
       "  <tbody>\n",
       "    <tr>\n",
       "      <th>0</th>\n",
       "      <td>3</td>\n",
       "      <td>3</td>\n",
       "      <td>1</td>\n",
       "      <td>2</td>\n",
       "      <td>1</td>\n",
       "      <td>0</td>\n",
       "      <td>1</td>\n",
       "      <td>4</td>\n",
       "      <td>4</td>\n",
       "      <td>1</td>\n",
       "      <td>NaN</td>\n",
       "    </tr>\n",
       "    <tr>\n",
       "      <th>1</th>\n",
       "      <td>0</td>\n",
       "      <td>4</td>\n",
       "      <td>1</td>\n",
       "      <td>3</td>\n",
       "      <td>3</td>\n",
       "      <td>0</td>\n",
       "      <td>4</td>\n",
       "      <td>2</td>\n",
       "      <td>3</td>\n",
       "      <td>2</td>\n",
       "      <td>NaN</td>\n",
       "    </tr>\n",
       "    <tr>\n",
       "      <th>2</th>\n",
       "      <td>3</td>\n",
       "      <td>3</td>\n",
       "      <td>0</td>\n",
       "      <td>4</td>\n",
       "      <td>2</td>\n",
       "      <td>4</td>\n",
       "      <td>0</td>\n",
       "      <td>2</td>\n",
       "      <td>1</td>\n",
       "      <td>1</td>\n",
       "      <td>NaN</td>\n",
       "    </tr>\n",
       "    <tr>\n",
       "      <th>3</th>\n",
       "      <td>1</td>\n",
       "      <td>2</td>\n",
       "      <td>1</td>\n",
       "      <td>2</td>\n",
       "      <td>1</td>\n",
       "      <td>3</td>\n",
       "      <td>3</td>\n",
       "      <td>3</td>\n",
       "      <td>2</td>\n",
       "      <td>4</td>\n",
       "      <td>NaN</td>\n",
       "    </tr>\n",
       "    <tr>\n",
       "      <th>4</th>\n",
       "      <td>2</td>\n",
       "      <td>3</td>\n",
       "      <td>2</td>\n",
       "      <td>2</td>\n",
       "      <td>0</td>\n",
       "      <td>2</td>\n",
       "      <td>0</td>\n",
       "      <td>1</td>\n",
       "      <td>1</td>\n",
       "      <td>4</td>\n",
       "      <td>NaN</td>\n",
       "    </tr>\n",
       "  </tbody>\n",
       "</table>\n",
       "</div>"
      ],
      "text/plain": [
       "   Question 1  Question 2  Question 3  Question 4  Question 5  Question 6  \\\n",
       "0           3           3           1           2           1           0   \n",
       "1           0           4           1           3           3           0   \n",
       "2           3           3           0           4           2           4   \n",
       "3           1           2           1           2           1           3   \n",
       "4           2           3           2           2           0           2   \n",
       "\n",
       "   Question 7  Question 8  Question 9  Question 10  PSS  \n",
       "0           1           4           4            1  NaN  \n",
       "1           4           2           3            2  NaN  \n",
       "2           0           2           1            1  NaN  \n",
       "3           3           3           2            4  NaN  \n",
       "4           0           1           1            4  NaN  "
      ]
     },
     "execution_count": 101,
     "metadata": {},
     "output_type": "execute_result"
    }
   ],
   "source": [
    "# drop tmpQuestion 8 column\n",
    "df_q.drop(['tmpQuestion 8'], axis=1, inplace = True)\n",
    "df_q.head()"
   ]
  },
  {
   "cell_type": "markdown",
   "metadata": {},
   "source": [
    "Then the row values are summed to get the PSS score for each row (respondent)"
   ]
  },
  {
   "cell_type": "code",
   "execution_count": 102,
   "metadata": {
    "scrolled": false
   },
   "outputs": [
    {
     "data": {
      "text/html": [
       "<div>\n",
       "<style scoped>\n",
       "    .dataframe tbody tr th:only-of-type {\n",
       "        vertical-align: middle;\n",
       "    }\n",
       "\n",
       "    .dataframe tbody tr th {\n",
       "        vertical-align: top;\n",
       "    }\n",
       "\n",
       "    .dataframe thead th {\n",
       "        text-align: right;\n",
       "    }\n",
       "</style>\n",
       "<table border=\"1\" class=\"dataframe\">\n",
       "  <thead>\n",
       "    <tr style=\"text-align: right;\">\n",
       "      <th></th>\n",
       "      <th>Question 1</th>\n",
       "      <th>Question 2</th>\n",
       "      <th>Question 3</th>\n",
       "      <th>Question 4</th>\n",
       "      <th>Question 5</th>\n",
       "      <th>Question 6</th>\n",
       "      <th>Question 7</th>\n",
       "      <th>Question 8</th>\n",
       "      <th>Question 9</th>\n",
       "      <th>Question 10</th>\n",
       "      <th>PSS</th>\n",
       "    </tr>\n",
       "  </thead>\n",
       "  <tbody>\n",
       "    <tr>\n",
       "      <th>0</th>\n",
       "      <td>3</td>\n",
       "      <td>3</td>\n",
       "      <td>1</td>\n",
       "      <td>2</td>\n",
       "      <td>1</td>\n",
       "      <td>0</td>\n",
       "      <td>1</td>\n",
       "      <td>4</td>\n",
       "      <td>4</td>\n",
       "      <td>1</td>\n",
       "      <td>20</td>\n",
       "    </tr>\n",
       "    <tr>\n",
       "      <th>1</th>\n",
       "      <td>0</td>\n",
       "      <td>4</td>\n",
       "      <td>1</td>\n",
       "      <td>3</td>\n",
       "      <td>3</td>\n",
       "      <td>0</td>\n",
       "      <td>4</td>\n",
       "      <td>2</td>\n",
       "      <td>3</td>\n",
       "      <td>2</td>\n",
       "      <td>22</td>\n",
       "    </tr>\n",
       "    <tr>\n",
       "      <th>2</th>\n",
       "      <td>3</td>\n",
       "      <td>3</td>\n",
       "      <td>0</td>\n",
       "      <td>4</td>\n",
       "      <td>2</td>\n",
       "      <td>4</td>\n",
       "      <td>0</td>\n",
       "      <td>2</td>\n",
       "      <td>1</td>\n",
       "      <td>1</td>\n",
       "      <td>20</td>\n",
       "    </tr>\n",
       "    <tr>\n",
       "      <th>3</th>\n",
       "      <td>1</td>\n",
       "      <td>2</td>\n",
       "      <td>1</td>\n",
       "      <td>2</td>\n",
       "      <td>1</td>\n",
       "      <td>3</td>\n",
       "      <td>3</td>\n",
       "      <td>3</td>\n",
       "      <td>2</td>\n",
       "      <td>4</td>\n",
       "      <td>22</td>\n",
       "    </tr>\n",
       "    <tr>\n",
       "      <th>4</th>\n",
       "      <td>2</td>\n",
       "      <td>3</td>\n",
       "      <td>2</td>\n",
       "      <td>2</td>\n",
       "      <td>0</td>\n",
       "      <td>2</td>\n",
       "      <td>0</td>\n",
       "      <td>1</td>\n",
       "      <td>1</td>\n",
       "      <td>4</td>\n",
       "      <td>17</td>\n",
       "    </tr>\n",
       "  </tbody>\n",
       "</table>\n",
       "</div>"
      ],
      "text/plain": [
       "   Question 1  Question 2  Question 3  Question 4  Question 5  Question 6  \\\n",
       "0           3           3           1           2           1           0   \n",
       "1           0           4           1           3           3           0   \n",
       "2           3           3           0           4           2           4   \n",
       "3           1           2           1           2           1           3   \n",
       "4           2           3           2           2           0           2   \n",
       "\n",
       "   Question 7  Question 8  Question 9  Question 10  PSS  \n",
       "0           1           4           4            1   20  \n",
       "1           4           2           3            2   22  \n",
       "2           0           2           1            1   20  \n",
       "3           3           3           2            4   22  \n",
       "4           0           1           1            4   17  "
      ]
     },
     "execution_count": 102,
     "metadata": {},
     "output_type": "execute_result"
    }
   ],
   "source": [
    "# sum the rows to get the stress score\n",
    "# adapted from https://stackoverflow.com/questions/44003371/all-row-sum-with-pandas-except-one\n",
    "df_q['PSS'] = df_q.drop('PSS', axis=1).sum(axis=1) # sum the rows that are not 'PSS' and put the answer into 'PSS'\n",
    "df_q.head()"
   ]
  },
  {
   "cell_type": "markdown",
   "metadata": {},
   "source": [
    "The description of the simulated questionnaire is below. This shows the maximum and minimum values of the PSS score. The maximum should be 40 or less and the minimum should be 0 or more. "
   ]
  },
  {
   "cell_type": "code",
   "execution_count": 103,
   "metadata": {},
   "outputs": [
    {
     "data": {
      "text/html": [
       "<div>\n",
       "<style scoped>\n",
       "    .dataframe tbody tr th:only-of-type {\n",
       "        vertical-align: middle;\n",
       "    }\n",
       "\n",
       "    .dataframe tbody tr th {\n",
       "        vertical-align: top;\n",
       "    }\n",
       "\n",
       "    .dataframe thead th {\n",
       "        text-align: right;\n",
       "    }\n",
       "</style>\n",
       "<table border=\"1\" class=\"dataframe\">\n",
       "  <thead>\n",
       "    <tr style=\"text-align: right;\">\n",
       "      <th></th>\n",
       "      <th>Question 1</th>\n",
       "      <th>Question 2</th>\n",
       "      <th>Question 3</th>\n",
       "      <th>Question 4</th>\n",
       "      <th>Question 5</th>\n",
       "      <th>Question 6</th>\n",
       "      <th>Question 7</th>\n",
       "      <th>Question 8</th>\n",
       "      <th>Question 9</th>\n",
       "      <th>Question 10</th>\n",
       "      <th>PSS</th>\n",
       "    </tr>\n",
       "  </thead>\n",
       "  <tbody>\n",
       "    <tr>\n",
       "      <th>count</th>\n",
       "      <td>370.000000</td>\n",
       "      <td>370.000000</td>\n",
       "      <td>370.000000</td>\n",
       "      <td>370.000000</td>\n",
       "      <td>370.000000</td>\n",
       "      <td>370.000000</td>\n",
       "      <td>370.000000</td>\n",
       "      <td>370.000000</td>\n",
       "      <td>370.000000</td>\n",
       "      <td>370.000000</td>\n",
       "      <td>370.000000</td>\n",
       "    </tr>\n",
       "    <tr>\n",
       "      <th>mean</th>\n",
       "      <td>2.121622</td>\n",
       "      <td>2.032432</td>\n",
       "      <td>2.102703</td>\n",
       "      <td>2.002703</td>\n",
       "      <td>1.897297</td>\n",
       "      <td>1.962162</td>\n",
       "      <td>1.835135</td>\n",
       "      <td>2.008108</td>\n",
       "      <td>1.829730</td>\n",
       "      <td>2.067568</td>\n",
       "      <td>19.859459</td>\n",
       "    </tr>\n",
       "    <tr>\n",
       "      <th>std</th>\n",
       "      <td>1.432801</td>\n",
       "      <td>1.446059</td>\n",
       "      <td>1.414307</td>\n",
       "      <td>1.415169</td>\n",
       "      <td>1.448387</td>\n",
       "      <td>1.419445</td>\n",
       "      <td>1.462210</td>\n",
       "      <td>1.378283</td>\n",
       "      <td>1.433506</td>\n",
       "      <td>1.392304</td>\n",
       "      <td>4.353204</td>\n",
       "    </tr>\n",
       "    <tr>\n",
       "      <th>min</th>\n",
       "      <td>0.000000</td>\n",
       "      <td>0.000000</td>\n",
       "      <td>0.000000</td>\n",
       "      <td>0.000000</td>\n",
       "      <td>0.000000</td>\n",
       "      <td>0.000000</td>\n",
       "      <td>0.000000</td>\n",
       "      <td>0.000000</td>\n",
       "      <td>0.000000</td>\n",
       "      <td>0.000000</td>\n",
       "      <td>9.000000</td>\n",
       "    </tr>\n",
       "    <tr>\n",
       "      <th>25%</th>\n",
       "      <td>1.000000</td>\n",
       "      <td>1.000000</td>\n",
       "      <td>1.000000</td>\n",
       "      <td>1.000000</td>\n",
       "      <td>1.000000</td>\n",
       "      <td>1.000000</td>\n",
       "      <td>0.000000</td>\n",
       "      <td>1.000000</td>\n",
       "      <td>1.000000</td>\n",
       "      <td>1.000000</td>\n",
       "      <td>17.000000</td>\n",
       "    </tr>\n",
       "    <tr>\n",
       "      <th>50%</th>\n",
       "      <td>2.000000</td>\n",
       "      <td>2.000000</td>\n",
       "      <td>2.000000</td>\n",
       "      <td>2.000000</td>\n",
       "      <td>2.000000</td>\n",
       "      <td>2.000000</td>\n",
       "      <td>2.000000</td>\n",
       "      <td>2.000000</td>\n",
       "      <td>2.000000</td>\n",
       "      <td>2.000000</td>\n",
       "      <td>20.000000</td>\n",
       "    </tr>\n",
       "    <tr>\n",
       "      <th>75%</th>\n",
       "      <td>3.000000</td>\n",
       "      <td>3.000000</td>\n",
       "      <td>3.000000</td>\n",
       "      <td>3.000000</td>\n",
       "      <td>3.000000</td>\n",
       "      <td>3.000000</td>\n",
       "      <td>3.000000</td>\n",
       "      <td>3.000000</td>\n",
       "      <td>3.000000</td>\n",
       "      <td>3.000000</td>\n",
       "      <td>23.000000</td>\n",
       "    </tr>\n",
       "    <tr>\n",
       "      <th>max</th>\n",
       "      <td>4.000000</td>\n",
       "      <td>4.000000</td>\n",
       "      <td>4.000000</td>\n",
       "      <td>4.000000</td>\n",
       "      <td>4.000000</td>\n",
       "      <td>4.000000</td>\n",
       "      <td>4.000000</td>\n",
       "      <td>4.000000</td>\n",
       "      <td>4.000000</td>\n",
       "      <td>4.000000</td>\n",
       "      <td>32.000000</td>\n",
       "    </tr>\n",
       "  </tbody>\n",
       "</table>\n",
       "</div>"
      ],
      "text/plain": [
       "       Question 1  Question 2  Question 3  Question 4  Question 5  Question 6  \\\n",
       "count  370.000000  370.000000  370.000000  370.000000  370.000000  370.000000   \n",
       "mean     2.121622    2.032432    2.102703    2.002703    1.897297    1.962162   \n",
       "std      1.432801    1.446059    1.414307    1.415169    1.448387    1.419445   \n",
       "min      0.000000    0.000000    0.000000    0.000000    0.000000    0.000000   \n",
       "25%      1.000000    1.000000    1.000000    1.000000    1.000000    1.000000   \n",
       "50%      2.000000    2.000000    2.000000    2.000000    2.000000    2.000000   \n",
       "75%      3.000000    3.000000    3.000000    3.000000    3.000000    3.000000   \n",
       "max      4.000000    4.000000    4.000000    4.000000    4.000000    4.000000   \n",
       "\n",
       "       Question 7  Question 8  Question 9  Question 10         PSS  \n",
       "count  370.000000  370.000000  370.000000   370.000000  370.000000  \n",
       "mean     1.835135    2.008108    1.829730     2.067568   19.859459  \n",
       "std      1.462210    1.378283    1.433506     1.392304    4.353204  \n",
       "min      0.000000    0.000000    0.000000     0.000000    9.000000  \n",
       "25%      0.000000    1.000000    1.000000     1.000000   17.000000  \n",
       "50%      2.000000    2.000000    2.000000     2.000000   20.000000  \n",
       "75%      3.000000    3.000000    3.000000     3.000000   23.000000  \n",
       "max      4.000000    4.000000    4.000000     4.000000   32.000000  "
      ]
     },
     "execution_count": 103,
     "metadata": {},
     "output_type": "execute_result"
    }
   ],
   "source": [
    "df_q.describe()"
   ]
  },
  {
   "cell_type": "markdown",
   "metadata": {},
   "source": [
    "Next add the PSS value to the dataframe with the other variables. The PSS score is added to the column field 'Stress'"
   ]
  },
  {
   "cell_type": "code",
   "execution_count": 104,
   "metadata": {},
   "outputs": [
    {
     "data": {
      "text/html": [
       "<div>\n",
       "<style scoped>\n",
       "    .dataframe tbody tr th:only-of-type {\n",
       "        vertical-align: middle;\n",
       "    }\n",
       "\n",
       "    .dataframe tbody tr th {\n",
       "        vertical-align: top;\n",
       "    }\n",
       "\n",
       "    .dataframe thead th {\n",
       "        text-align: right;\n",
       "    }\n",
       "</style>\n",
       "<table border=\"1\" class=\"dataframe\">\n",
       "  <thead>\n",
       "    <tr style=\"text-align: right;\">\n",
       "      <th></th>\n",
       "      <th>Distance</th>\n",
       "      <th>Duration</th>\n",
       "      <th>Time</th>\n",
       "      <th>Impedance</th>\n",
       "      <th>Stress</th>\n",
       "      <th>Distance-ch</th>\n",
       "      <th>Duration-ch</th>\n",
       "      <th>Time-ch</th>\n",
       "      <th>Impedance-ch</th>\n",
       "      <th>Stress-ch</th>\n",
       "    </tr>\n",
       "  </thead>\n",
       "  <tbody>\n",
       "    <tr>\n",
       "      <th>0</th>\n",
       "      <td>16-30 miles</td>\n",
       "      <td>Over 60 minutes</td>\n",
       "      <td>1-29 months</td>\n",
       "      <td>17.3-30 mph</td>\n",
       "      <td>20</td>\n",
       "      <td>0-5 miles</td>\n",
       "      <td>Over 60 minutes</td>\n",
       "      <td>Over 132 months</td>\n",
       "      <td>Over 30 mph</td>\n",
       "      <td>20</td>\n",
       "    </tr>\n",
       "    <tr>\n",
       "      <th>1</th>\n",
       "      <td>0-5 miles</td>\n",
       "      <td>30-60 minutes</td>\n",
       "      <td>Over 132 months</td>\n",
       "      <td>Over 30 mph</td>\n",
       "      <td>22</td>\n",
       "      <td>6-15 miles</td>\n",
       "      <td>Over 60 minutes</td>\n",
       "      <td>60-131 months</td>\n",
       "      <td>Over 30 mph</td>\n",
       "      <td>22</td>\n",
       "    </tr>\n",
       "    <tr>\n",
       "      <th>2</th>\n",
       "      <td>6-15 miles</td>\n",
       "      <td>30-60 minutes</td>\n",
       "      <td>Over 132 months</td>\n",
       "      <td>Over 30 mph</td>\n",
       "      <td>20</td>\n",
       "      <td>6-15 miles</td>\n",
       "      <td>0-30 minutes</td>\n",
       "      <td>30-60 months</td>\n",
       "      <td>Over 30 mph</td>\n",
       "      <td>20</td>\n",
       "    </tr>\n",
       "    <tr>\n",
       "      <th>3</th>\n",
       "      <td>6-15 miles</td>\n",
       "      <td>0-30 minutes</td>\n",
       "      <td>Over 132 months</td>\n",
       "      <td>17.3-30 mph</td>\n",
       "      <td>22</td>\n",
       "      <td>6-15 miles</td>\n",
       "      <td>0-30 minutes</td>\n",
       "      <td>60-131 months</td>\n",
       "      <td>17 mph or less</td>\n",
       "      <td>22</td>\n",
       "    </tr>\n",
       "    <tr>\n",
       "      <th>4</th>\n",
       "      <td>6-15 miles</td>\n",
       "      <td>Over 60 minutes</td>\n",
       "      <td>Over 132 months</td>\n",
       "      <td>17 mph or less</td>\n",
       "      <td>17</td>\n",
       "      <td>6-15 miles</td>\n",
       "      <td>0-30 minutes</td>\n",
       "      <td>Over 132 months</td>\n",
       "      <td>17 mph or less</td>\n",
       "      <td>17</td>\n",
       "    </tr>\n",
       "  </tbody>\n",
       "</table>\n",
       "</div>"
      ],
      "text/plain": [
       "      Distance         Duration             Time       Impedance  Stress  \\\n",
       "0  16-30 miles  Over 60 minutes      1-29 months     17.3-30 mph      20   \n",
       "1    0-5 miles    30-60 minutes  Over 132 months     Over 30 mph      22   \n",
       "2   6-15 miles    30-60 minutes  Over 132 months     Over 30 mph      20   \n",
       "3   6-15 miles     0-30 minutes  Over 132 months     17.3-30 mph      22   \n",
       "4   6-15 miles  Over 60 minutes  Over 132 months  17 mph or less      17   \n",
       "\n",
       "  Distance-ch      Duration-ch          Time-ch    Impedance-ch  Stress-ch  \n",
       "0   0-5 miles  Over 60 minutes  Over 132 months     Over 30 mph         20  \n",
       "1  6-15 miles  Over 60 minutes    60-131 months     Over 30 mph         22  \n",
       "2  6-15 miles     0-30 minutes     30-60 months     Over 30 mph         20  \n",
       "3  6-15 miles     0-30 minutes    60-131 months  17 mph or less         22  \n",
       "4  6-15 miles     0-30 minutes  Over 132 months  17 mph or less         17  "
      ]
     },
     "execution_count": 104,
     "metadata": {},
     "output_type": "execute_result"
    }
   ],
   "source": [
    "# add the stress score to the dataframe\n",
    "df['Stress'] = df_q['PSS']\n",
    "# and a copy of it for random choice\n",
    "df['Stress-ch'] = df_q['PSS']\n",
    "df.head()\n"
   ]
  },
  {
   "cell_type": "code",
   "execution_count": 105,
   "metadata": {},
   "outputs": [
    {
     "data": {
      "text/html": [
       "<div>\n",
       "<style scoped>\n",
       "    .dataframe tbody tr th:only-of-type {\n",
       "        vertical-align: middle;\n",
       "    }\n",
       "\n",
       "    .dataframe tbody tr th {\n",
       "        vertical-align: top;\n",
       "    }\n",
       "\n",
       "    .dataframe thead th {\n",
       "        text-align: right;\n",
       "    }\n",
       "</style>\n",
       "<table border=\"1\" class=\"dataframe\">\n",
       "  <thead>\n",
       "    <tr style=\"text-align: right;\">\n",
       "      <th></th>\n",
       "      <th>Stress</th>\n",
       "      <th>Stress-ch</th>\n",
       "    </tr>\n",
       "  </thead>\n",
       "  <tbody>\n",
       "    <tr>\n",
       "      <th>count</th>\n",
       "      <td>370.000000</td>\n",
       "      <td>370.000000</td>\n",
       "    </tr>\n",
       "    <tr>\n",
       "      <th>mean</th>\n",
       "      <td>19.859459</td>\n",
       "      <td>19.859459</td>\n",
       "    </tr>\n",
       "    <tr>\n",
       "      <th>std</th>\n",
       "      <td>4.353204</td>\n",
       "      <td>4.353204</td>\n",
       "    </tr>\n",
       "    <tr>\n",
       "      <th>min</th>\n",
       "      <td>9.000000</td>\n",
       "      <td>9.000000</td>\n",
       "    </tr>\n",
       "    <tr>\n",
       "      <th>25%</th>\n",
       "      <td>17.000000</td>\n",
       "      <td>17.000000</td>\n",
       "    </tr>\n",
       "    <tr>\n",
       "      <th>50%</th>\n",
       "      <td>20.000000</td>\n",
       "      <td>20.000000</td>\n",
       "    </tr>\n",
       "    <tr>\n",
       "      <th>75%</th>\n",
       "      <td>23.000000</td>\n",
       "      <td>23.000000</td>\n",
       "    </tr>\n",
       "    <tr>\n",
       "      <th>max</th>\n",
       "      <td>32.000000</td>\n",
       "      <td>32.000000</td>\n",
       "    </tr>\n",
       "  </tbody>\n",
       "</table>\n",
       "</div>"
      ],
      "text/plain": [
       "           Stress   Stress-ch\n",
       "count  370.000000  370.000000\n",
       "mean    19.859459   19.859459\n",
       "std      4.353204    4.353204\n",
       "min      9.000000    9.000000\n",
       "25%     17.000000   17.000000\n",
       "50%     20.000000   20.000000\n",
       "75%     23.000000   23.000000\n",
       "max     32.000000   32.000000"
      ]
     },
     "execution_count": 105,
     "metadata": {},
     "output_type": "execute_result"
    }
   ],
   "source": [
    "df.describe()"
   ]
  },
  {
   "cell_type": "markdown",
   "metadata": {},
   "source": [
    "#### Simplification of the Stress variable\n",
    "\n",
    "The measure of stress in Cassidy's report was calculated along five domains. Neither the questions on the survey nor the method of scoring was obvious in the report. Hence this project makes some assumptions and simplifications. A general stress indicator is used via the PSS as simulated above. I was unsure how to link the variables, (distance, duration, time and impedance) to the stress score. I settled on adding weightings based on Cassidy's research indicating if the variable helped or hindered stress levels. \n",
    "\n",
    "There is problems with this as I have no evidence that such a scale passes reliability or validity in what it purports to measure. It would also negate the reliability and validity of the PSS. However the assignment was to simulate the data and not to develop the formula underlying the data (if such a formula even exists). With this in mind, I decided that adding values to the PSS score based on responses to the survey questions would link the variables to the stress score.\n",
    "\n",
    "\n",
    "The PSS responses to the 10 questions were numbers from 0 to 4 so the minimum possible value was 0 and the maximum possible value was 40. This was to be adjusted, with each of the 4 variables, distance, duration, time and impedance adding to the base PSS score.   \n",
    "\n",
    "#### Adjustments\n",
    "\n",
    "Adjustments were added to the PSS depending on participants responses to the other variables on the survey. The adjustments to this scale were to allocate 10 points each for the variables distance, duration and time. These were to be distributed through out the variables bands. 20 points were allocated for the impedance band as this was the most significant factor correlated to stress. Thus the over all Stress score will have a maximum of 90 possible points.\n",
    "\n",
    "##### Distance\n",
    "\n",
    "Evidence from Cassidy's study that longer commute distances is related to higher stress levels in commuters is supported elsewhere(Chatterjee et al. 2017). There were four bands in the Distance variable so these were rated 0 for 0-5 miles band, 2 for 6-15 miles band, 3 for the 16-30 miles and 5 for over 30 miles band. This adds a possible ten points to the stress score, making the maximum Stress score 50 instead of 40. The minimum remains the same at 0.\n",
    "\n"
   ]
  },
  {
   "cell_type": "code",
   "execution_count": 106,
   "metadata": {},
   "outputs": [
    {
     "data": {
      "text/html": [
       "<div>\n",
       "<style scoped>\n",
       "    .dataframe tbody tr th:only-of-type {\n",
       "        vertical-align: middle;\n",
       "    }\n",
       "\n",
       "    .dataframe tbody tr th {\n",
       "        vertical-align: top;\n",
       "    }\n",
       "\n",
       "    .dataframe thead th {\n",
       "        text-align: right;\n",
       "    }\n",
       "</style>\n",
       "<table border=\"1\" class=\"dataframe\">\n",
       "  <thead>\n",
       "    <tr style=\"text-align: right;\">\n",
       "      <th></th>\n",
       "      <th>Distance</th>\n",
       "      <th>Duration</th>\n",
       "      <th>Time</th>\n",
       "      <th>Impedance</th>\n",
       "      <th>Stress</th>\n",
       "      <th>Distance-ch</th>\n",
       "      <th>Duration-ch</th>\n",
       "      <th>Time-ch</th>\n",
       "      <th>Impedance-ch</th>\n",
       "      <th>Stress-ch</th>\n",
       "      <th>Distance Score</th>\n",
       "      <th>Distance-ch Score</th>\n",
       "    </tr>\n",
       "  </thead>\n",
       "  <tbody>\n",
       "    <tr>\n",
       "      <th>0</th>\n",
       "      <td>16-30 miles</td>\n",
       "      <td>Over 60 minutes</td>\n",
       "      <td>1-29 months</td>\n",
       "      <td>17.3-30 mph</td>\n",
       "      <td>20</td>\n",
       "      <td>0-5 miles</td>\n",
       "      <td>Over 60 minutes</td>\n",
       "      <td>Over 132 months</td>\n",
       "      <td>Over 30 mph</td>\n",
       "      <td>20</td>\n",
       "      <td>16-30 miles</td>\n",
       "      <td>0-5 miles</td>\n",
       "    </tr>\n",
       "    <tr>\n",
       "      <th>1</th>\n",
       "      <td>0-5 miles</td>\n",
       "      <td>30-60 minutes</td>\n",
       "      <td>Over 132 months</td>\n",
       "      <td>Over 30 mph</td>\n",
       "      <td>22</td>\n",
       "      <td>6-15 miles</td>\n",
       "      <td>Over 60 minutes</td>\n",
       "      <td>60-131 months</td>\n",
       "      <td>Over 30 mph</td>\n",
       "      <td>22</td>\n",
       "      <td>0-5 miles</td>\n",
       "      <td>6-15 miles</td>\n",
       "    </tr>\n",
       "    <tr>\n",
       "      <th>2</th>\n",
       "      <td>6-15 miles</td>\n",
       "      <td>30-60 minutes</td>\n",
       "      <td>Over 132 months</td>\n",
       "      <td>Over 30 mph</td>\n",
       "      <td>20</td>\n",
       "      <td>6-15 miles</td>\n",
       "      <td>0-30 minutes</td>\n",
       "      <td>30-60 months</td>\n",
       "      <td>Over 30 mph</td>\n",
       "      <td>20</td>\n",
       "      <td>6-15 miles</td>\n",
       "      <td>6-15 miles</td>\n",
       "    </tr>\n",
       "    <tr>\n",
       "      <th>3</th>\n",
       "      <td>6-15 miles</td>\n",
       "      <td>0-30 minutes</td>\n",
       "      <td>Over 132 months</td>\n",
       "      <td>17.3-30 mph</td>\n",
       "      <td>22</td>\n",
       "      <td>6-15 miles</td>\n",
       "      <td>0-30 minutes</td>\n",
       "      <td>60-131 months</td>\n",
       "      <td>17 mph or less</td>\n",
       "      <td>22</td>\n",
       "      <td>6-15 miles</td>\n",
       "      <td>6-15 miles</td>\n",
       "    </tr>\n",
       "    <tr>\n",
       "      <th>4</th>\n",
       "      <td>6-15 miles</td>\n",
       "      <td>Over 60 minutes</td>\n",
       "      <td>Over 132 months</td>\n",
       "      <td>17 mph or less</td>\n",
       "      <td>17</td>\n",
       "      <td>6-15 miles</td>\n",
       "      <td>0-30 minutes</td>\n",
       "      <td>Over 132 months</td>\n",
       "      <td>17 mph or less</td>\n",
       "      <td>17</td>\n",
       "      <td>6-15 miles</td>\n",
       "      <td>6-15 miles</td>\n",
       "    </tr>\n",
       "  </tbody>\n",
       "</table>\n",
       "</div>"
      ],
      "text/plain": [
       "      Distance         Duration             Time       Impedance  Stress  \\\n",
       "0  16-30 miles  Over 60 minutes      1-29 months     17.3-30 mph      20   \n",
       "1    0-5 miles    30-60 minutes  Over 132 months     Over 30 mph      22   \n",
       "2   6-15 miles    30-60 minutes  Over 132 months     Over 30 mph      20   \n",
       "3   6-15 miles     0-30 minutes  Over 132 months     17.3-30 mph      22   \n",
       "4   6-15 miles  Over 60 minutes  Over 132 months  17 mph or less      17   \n",
       "\n",
       "  Distance-ch      Duration-ch          Time-ch    Impedance-ch  Stress-ch  \\\n",
       "0   0-5 miles  Over 60 minutes  Over 132 months     Over 30 mph         20   \n",
       "1  6-15 miles  Over 60 minutes    60-131 months     Over 30 mph         22   \n",
       "2  6-15 miles     0-30 minutes     30-60 months     Over 30 mph         20   \n",
       "3  6-15 miles     0-30 minutes    60-131 months  17 mph or less         22   \n",
       "4  6-15 miles     0-30 minutes  Over 132 months  17 mph or less         17   \n",
       "\n",
       "  Distance Score Distance-ch Score  \n",
       "0    16-30 miles         0-5 miles  \n",
       "1      0-5 miles        6-15 miles  \n",
       "2     6-15 miles        6-15 miles  \n",
       "3     6-15 miles        6-15 miles  \n",
       "4     6-15 miles        6-15 miles  "
      ]
     },
     "execution_count": 106,
     "metadata": {},
     "output_type": "execute_result"
    }
   ],
   "source": [
    "# Score distance\n",
    "# take a copy of the distance data and put it in a new column\n",
    "df['Distance Score'] = df['Distance']\n",
    "# for random.choice\n",
    "df['Distance-ch Score'] = df['Distance-ch']\n",
    "# check it\n",
    "df.head()"
   ]
  },
  {
   "cell_type": "code",
   "execution_count": 107,
   "metadata": {},
   "outputs": [
    {
     "data": {
      "text/html": [
       "<div>\n",
       "<style scoped>\n",
       "    .dataframe tbody tr th:only-of-type {\n",
       "        vertical-align: middle;\n",
       "    }\n",
       "\n",
       "    .dataframe tbody tr th {\n",
       "        vertical-align: top;\n",
       "    }\n",
       "\n",
       "    .dataframe thead th {\n",
       "        text-align: right;\n",
       "    }\n",
       "</style>\n",
       "<table border=\"1\" class=\"dataframe\">\n",
       "  <thead>\n",
       "    <tr style=\"text-align: right;\">\n",
       "      <th></th>\n",
       "      <th>Distance</th>\n",
       "      <th>Duration</th>\n",
       "      <th>Time</th>\n",
       "      <th>Impedance</th>\n",
       "      <th>Stress</th>\n",
       "      <th>Distance-ch</th>\n",
       "      <th>Duration-ch</th>\n",
       "      <th>Time-ch</th>\n",
       "      <th>Impedance-ch</th>\n",
       "      <th>Stress-ch</th>\n",
       "      <th>Distance Score</th>\n",
       "      <th>Distance-ch Score</th>\n",
       "    </tr>\n",
       "  </thead>\n",
       "  <tbody>\n",
       "    <tr>\n",
       "      <th>0</th>\n",
       "      <td>16-30 miles</td>\n",
       "      <td>Over 60 minutes</td>\n",
       "      <td>1-29 months</td>\n",
       "      <td>17.3-30 mph</td>\n",
       "      <td>20</td>\n",
       "      <td>0-5 miles</td>\n",
       "      <td>Over 60 minutes</td>\n",
       "      <td>Over 132 months</td>\n",
       "      <td>Over 30 mph</td>\n",
       "      <td>20</td>\n",
       "      <td>3</td>\n",
       "      <td>0</td>\n",
       "    </tr>\n",
       "    <tr>\n",
       "      <th>1</th>\n",
       "      <td>0-5 miles</td>\n",
       "      <td>30-60 minutes</td>\n",
       "      <td>Over 132 months</td>\n",
       "      <td>Over 30 mph</td>\n",
       "      <td>22</td>\n",
       "      <td>6-15 miles</td>\n",
       "      <td>Over 60 minutes</td>\n",
       "      <td>60-131 months</td>\n",
       "      <td>Over 30 mph</td>\n",
       "      <td>22</td>\n",
       "      <td>0</td>\n",
       "      <td>2</td>\n",
       "    </tr>\n",
       "    <tr>\n",
       "      <th>2</th>\n",
       "      <td>6-15 miles</td>\n",
       "      <td>30-60 minutes</td>\n",
       "      <td>Over 132 months</td>\n",
       "      <td>Over 30 mph</td>\n",
       "      <td>20</td>\n",
       "      <td>6-15 miles</td>\n",
       "      <td>0-30 minutes</td>\n",
       "      <td>30-60 months</td>\n",
       "      <td>Over 30 mph</td>\n",
       "      <td>20</td>\n",
       "      <td>2</td>\n",
       "      <td>2</td>\n",
       "    </tr>\n",
       "    <tr>\n",
       "      <th>3</th>\n",
       "      <td>6-15 miles</td>\n",
       "      <td>0-30 minutes</td>\n",
       "      <td>Over 132 months</td>\n",
       "      <td>17.3-30 mph</td>\n",
       "      <td>22</td>\n",
       "      <td>6-15 miles</td>\n",
       "      <td>0-30 minutes</td>\n",
       "      <td>60-131 months</td>\n",
       "      <td>17 mph or less</td>\n",
       "      <td>22</td>\n",
       "      <td>2</td>\n",
       "      <td>2</td>\n",
       "    </tr>\n",
       "    <tr>\n",
       "      <th>4</th>\n",
       "      <td>6-15 miles</td>\n",
       "      <td>Over 60 minutes</td>\n",
       "      <td>Over 132 months</td>\n",
       "      <td>17 mph or less</td>\n",
       "      <td>17</td>\n",
       "      <td>6-15 miles</td>\n",
       "      <td>0-30 minutes</td>\n",
       "      <td>Over 132 months</td>\n",
       "      <td>17 mph or less</td>\n",
       "      <td>17</td>\n",
       "      <td>2</td>\n",
       "      <td>2</td>\n",
       "    </tr>\n",
       "  </tbody>\n",
       "</table>\n",
       "</div>"
      ],
      "text/plain": [
       "      Distance         Duration             Time       Impedance  Stress  \\\n",
       "0  16-30 miles  Over 60 minutes      1-29 months     17.3-30 mph      20   \n",
       "1    0-5 miles    30-60 minutes  Over 132 months     Over 30 mph      22   \n",
       "2   6-15 miles    30-60 minutes  Over 132 months     Over 30 mph      20   \n",
       "3   6-15 miles     0-30 minutes  Over 132 months     17.3-30 mph      22   \n",
       "4   6-15 miles  Over 60 minutes  Over 132 months  17 mph or less      17   \n",
       "\n",
       "  Distance-ch      Duration-ch          Time-ch    Impedance-ch  Stress-ch  \\\n",
       "0   0-5 miles  Over 60 minutes  Over 132 months     Over 30 mph         20   \n",
       "1  6-15 miles  Over 60 minutes    60-131 months     Over 30 mph         22   \n",
       "2  6-15 miles     0-30 minutes     30-60 months     Over 30 mph         20   \n",
       "3  6-15 miles     0-30 minutes    60-131 months  17 mph or less         22   \n",
       "4  6-15 miles     0-30 minutes  Over 132 months  17 mph or less         17   \n",
       "\n",
       "   Distance Score  Distance-ch Score  \n",
       "0               3                  0  \n",
       "1               0                  2  \n",
       "2               2                  2  \n",
       "3               2                  2  \n",
       "4               2                  2  "
      ]
     },
     "execution_count": 107,
     "metadata": {},
     "output_type": "execute_result"
    }
   ],
   "source": [
    "# find all values in distance that are '0-5' and set it to 1 in the distance score column etc...\n",
    "# the less miles travelled the less stress\n",
    "# for the distributon model\n",
    "df.loc[df['Distance'] == '0-5 miles', 'Distance Score'] = 0\n",
    "df.loc[df['Distance'] == '6-15 miles', 'Distance Score'] = 2\n",
    "df.loc[df['Distance'] == '16-30 miles', 'Distance Score'] = 3\n",
    "df.loc[df['Distance'] == 'Over 30 miles', 'Distance Score'] = 5\n",
    "# for random.choice\n",
    "df.loc[df['Distance-ch'] == '0-5 miles', 'Distance-ch Score'] = 0\n",
    "df.loc[df['Distance-ch'] == '6-15 miles', 'Distance-ch Score'] = 2\n",
    "df.loc[df['Distance-ch'] == '16-30 miles', 'Distance-ch Score'] = 3\n",
    "df.loc[df['Distance-ch'] == 'Over 30 miles', 'Distance-ch Score'] = 5\n",
    "# check it\n",
    "df.head()"
   ]
  },
  {
   "cell_type": "code",
   "execution_count": 108,
   "metadata": {},
   "outputs": [
    {
     "data": {
      "text/html": [
       "<div>\n",
       "<style scoped>\n",
       "    .dataframe tbody tr th:only-of-type {\n",
       "        vertical-align: middle;\n",
       "    }\n",
       "\n",
       "    .dataframe tbody tr th {\n",
       "        vertical-align: top;\n",
       "    }\n",
       "\n",
       "    .dataframe thead th {\n",
       "        text-align: right;\n",
       "    }\n",
       "</style>\n",
       "<table border=\"1\" class=\"dataframe\">\n",
       "  <thead>\n",
       "    <tr style=\"text-align: right;\">\n",
       "      <th></th>\n",
       "      <th>Distance</th>\n",
       "      <th>Duration</th>\n",
       "      <th>Time</th>\n",
       "      <th>Impedance</th>\n",
       "      <th>Stress</th>\n",
       "      <th>Distance-ch</th>\n",
       "      <th>Duration-ch</th>\n",
       "      <th>Time-ch</th>\n",
       "      <th>Impedance-ch</th>\n",
       "      <th>Stress-ch</th>\n",
       "      <th>Distance Score</th>\n",
       "      <th>Distance-ch Score</th>\n",
       "    </tr>\n",
       "  </thead>\n",
       "  <tbody>\n",
       "    <tr>\n",
       "      <th>0</th>\n",
       "      <td>16-30 miles</td>\n",
       "      <td>Over 60 minutes</td>\n",
       "      <td>1-29 months</td>\n",
       "      <td>17.3-30 mph</td>\n",
       "      <td>23</td>\n",
       "      <td>0-5 miles</td>\n",
       "      <td>Over 60 minutes</td>\n",
       "      <td>Over 132 months</td>\n",
       "      <td>Over 30 mph</td>\n",
       "      <td>20</td>\n",
       "      <td>3</td>\n",
       "      <td>0</td>\n",
       "    </tr>\n",
       "    <tr>\n",
       "      <th>1</th>\n",
       "      <td>0-5 miles</td>\n",
       "      <td>30-60 minutes</td>\n",
       "      <td>Over 132 months</td>\n",
       "      <td>Over 30 mph</td>\n",
       "      <td>22</td>\n",
       "      <td>6-15 miles</td>\n",
       "      <td>Over 60 minutes</td>\n",
       "      <td>60-131 months</td>\n",
       "      <td>Over 30 mph</td>\n",
       "      <td>24</td>\n",
       "      <td>0</td>\n",
       "      <td>2</td>\n",
       "    </tr>\n",
       "    <tr>\n",
       "      <th>2</th>\n",
       "      <td>6-15 miles</td>\n",
       "      <td>30-60 minutes</td>\n",
       "      <td>Over 132 months</td>\n",
       "      <td>Over 30 mph</td>\n",
       "      <td>22</td>\n",
       "      <td>6-15 miles</td>\n",
       "      <td>0-30 minutes</td>\n",
       "      <td>30-60 months</td>\n",
       "      <td>Over 30 mph</td>\n",
       "      <td>22</td>\n",
       "      <td>2</td>\n",
       "      <td>2</td>\n",
       "    </tr>\n",
       "    <tr>\n",
       "      <th>3</th>\n",
       "      <td>6-15 miles</td>\n",
       "      <td>0-30 minutes</td>\n",
       "      <td>Over 132 months</td>\n",
       "      <td>17.3-30 mph</td>\n",
       "      <td>24</td>\n",
       "      <td>6-15 miles</td>\n",
       "      <td>0-30 minutes</td>\n",
       "      <td>60-131 months</td>\n",
       "      <td>17 mph or less</td>\n",
       "      <td>24</td>\n",
       "      <td>2</td>\n",
       "      <td>2</td>\n",
       "    </tr>\n",
       "    <tr>\n",
       "      <th>4</th>\n",
       "      <td>6-15 miles</td>\n",
       "      <td>Over 60 minutes</td>\n",
       "      <td>Over 132 months</td>\n",
       "      <td>17 mph or less</td>\n",
       "      <td>19</td>\n",
       "      <td>6-15 miles</td>\n",
       "      <td>0-30 minutes</td>\n",
       "      <td>Over 132 months</td>\n",
       "      <td>17 mph or less</td>\n",
       "      <td>19</td>\n",
       "      <td>2</td>\n",
       "      <td>2</td>\n",
       "    </tr>\n",
       "  </tbody>\n",
       "</table>\n",
       "</div>"
      ],
      "text/plain": [
       "      Distance         Duration             Time       Impedance  Stress  \\\n",
       "0  16-30 miles  Over 60 minutes      1-29 months     17.3-30 mph      23   \n",
       "1    0-5 miles    30-60 minutes  Over 132 months     Over 30 mph      22   \n",
       "2   6-15 miles    30-60 minutes  Over 132 months     Over 30 mph      22   \n",
       "3   6-15 miles     0-30 minutes  Over 132 months     17.3-30 mph      24   \n",
       "4   6-15 miles  Over 60 minutes  Over 132 months  17 mph or less      19   \n",
       "\n",
       "  Distance-ch      Duration-ch          Time-ch    Impedance-ch  Stress-ch  \\\n",
       "0   0-5 miles  Over 60 minutes  Over 132 months     Over 30 mph         20   \n",
       "1  6-15 miles  Over 60 minutes    60-131 months     Over 30 mph         24   \n",
       "2  6-15 miles     0-30 minutes     30-60 months     Over 30 mph         22   \n",
       "3  6-15 miles     0-30 minutes    60-131 months  17 mph or less         24   \n",
       "4  6-15 miles     0-30 minutes  Over 132 months  17 mph or less         19   \n",
       "\n",
       "   Distance Score  Distance-ch Score  \n",
       "0               3                  0  \n",
       "1               0                  2  \n",
       "2               2                  2  \n",
       "3               2                  2  \n",
       "4               2                  2  "
      ]
     },
     "execution_count": 108,
     "metadata": {},
     "output_type": "execute_result"
    }
   ],
   "source": [
    "# add the Distance score to the stress value\n",
    "# for the distributon model\n",
    "df['Stress'] = df['Stress'] + df['Distance Score'] \n",
    "# for random.choice\n",
    "df['Stress-ch'] = df['Stress-ch'] + df['Distance-ch Score'] \n",
    "# check it\n",
    "df.head()\n"
   ]
  },
  {
   "cell_type": "code",
   "execution_count": 109,
   "metadata": {
    "scrolled": true
   },
   "outputs": [
    {
     "data": {
      "text/html": [
       "<div>\n",
       "<style scoped>\n",
       "    .dataframe tbody tr th:only-of-type {\n",
       "        vertical-align: middle;\n",
       "    }\n",
       "\n",
       "    .dataframe tbody tr th {\n",
       "        vertical-align: top;\n",
       "    }\n",
       "\n",
       "    .dataframe thead th {\n",
       "        text-align: right;\n",
       "    }\n",
       "</style>\n",
       "<table border=\"1\" class=\"dataframe\">\n",
       "  <thead>\n",
       "    <tr style=\"text-align: right;\">\n",
       "      <th></th>\n",
       "      <th>Distance</th>\n",
       "      <th>Duration</th>\n",
       "      <th>Time</th>\n",
       "      <th>Impedance</th>\n",
       "      <th>Stress</th>\n",
       "      <th>Distance-ch</th>\n",
       "      <th>Duration-ch</th>\n",
       "      <th>Time-ch</th>\n",
       "      <th>Impedance-ch</th>\n",
       "      <th>Stress-ch</th>\n",
       "      <th>Distance Score</th>\n",
       "      <th>Distance-ch Score</th>\n",
       "    </tr>\n",
       "  </thead>\n",
       "  <tbody>\n",
       "    <tr>\n",
       "      <th>365</th>\n",
       "      <td>0-5 miles</td>\n",
       "      <td>30-60 minutes</td>\n",
       "      <td>60-131 months</td>\n",
       "      <td>17.3-30 mph</td>\n",
       "      <td>15</td>\n",
       "      <td>16-30 miles</td>\n",
       "      <td>0-30 minutes</td>\n",
       "      <td>60-131 months</td>\n",
       "      <td>17 mph or less</td>\n",
       "      <td>18</td>\n",
       "      <td>0</td>\n",
       "      <td>3</td>\n",
       "    </tr>\n",
       "    <tr>\n",
       "      <th>366</th>\n",
       "      <td>Over 30 miles</td>\n",
       "      <td>30-60 minutes</td>\n",
       "      <td>Over 132 months</td>\n",
       "      <td>17 mph or less</td>\n",
       "      <td>21</td>\n",
       "      <td>Over 30 miles</td>\n",
       "      <td>0-30 minutes</td>\n",
       "      <td>30-60 months</td>\n",
       "      <td>17.3-30 mph</td>\n",
       "      <td>21</td>\n",
       "      <td>5</td>\n",
       "      <td>5</td>\n",
       "    </tr>\n",
       "    <tr>\n",
       "      <th>367</th>\n",
       "      <td>16-30 miles</td>\n",
       "      <td>Over 60 minutes</td>\n",
       "      <td>Over 132 months</td>\n",
       "      <td>Over 30 mph</td>\n",
       "      <td>20</td>\n",
       "      <td>6-15 miles</td>\n",
       "      <td>0-30 minutes</td>\n",
       "      <td>30-60 months</td>\n",
       "      <td>17 mph or less</td>\n",
       "      <td>19</td>\n",
       "      <td>3</td>\n",
       "      <td>2</td>\n",
       "    </tr>\n",
       "    <tr>\n",
       "      <th>368</th>\n",
       "      <td>6-15 miles</td>\n",
       "      <td>Over 60 minutes</td>\n",
       "      <td>Over 132 months</td>\n",
       "      <td>Over 30 mph</td>\n",
       "      <td>17</td>\n",
       "      <td>6-15 miles</td>\n",
       "      <td>Over 60 minutes</td>\n",
       "      <td>1-29 months</td>\n",
       "      <td>17 mph or less</td>\n",
       "      <td>17</td>\n",
       "      <td>2</td>\n",
       "      <td>2</td>\n",
       "    </tr>\n",
       "    <tr>\n",
       "      <th>369</th>\n",
       "      <td>16-30 miles</td>\n",
       "      <td>0-30 minutes</td>\n",
       "      <td>Over 132 months</td>\n",
       "      <td>17 mph or less</td>\n",
       "      <td>24</td>\n",
       "      <td>Over 30 miles</td>\n",
       "      <td>Over 60 minutes</td>\n",
       "      <td>1-29 months</td>\n",
       "      <td>17.3-30 mph</td>\n",
       "      <td>26</td>\n",
       "      <td>3</td>\n",
       "      <td>5</td>\n",
       "    </tr>\n",
       "  </tbody>\n",
       "</table>\n",
       "</div>"
      ],
      "text/plain": [
       "          Distance         Duration             Time       Impedance  Stress  \\\n",
       "365      0-5 miles    30-60 minutes    60-131 months     17.3-30 mph      15   \n",
       "366  Over 30 miles    30-60 minutes  Over 132 months  17 mph or less      21   \n",
       "367    16-30 miles  Over 60 minutes  Over 132 months     Over 30 mph      20   \n",
       "368     6-15 miles  Over 60 minutes  Over 132 months     Over 30 mph      17   \n",
       "369    16-30 miles     0-30 minutes  Over 132 months  17 mph or less      24   \n",
       "\n",
       "       Distance-ch      Duration-ch        Time-ch    Impedance-ch  Stress-ch  \\\n",
       "365    16-30 miles     0-30 minutes  60-131 months  17 mph or less         18   \n",
       "366  Over 30 miles     0-30 minutes   30-60 months     17.3-30 mph         21   \n",
       "367     6-15 miles     0-30 minutes   30-60 months  17 mph or less         19   \n",
       "368     6-15 miles  Over 60 minutes    1-29 months  17 mph or less         17   \n",
       "369  Over 30 miles  Over 60 minutes    1-29 months     17.3-30 mph         26   \n",
       "\n",
       "     Distance Score  Distance-ch Score  \n",
       "365               0                  3  \n",
       "366               5                  5  \n",
       "367               3                  2  \n",
       "368               2                  2  \n",
       "369               3                  5  "
      ]
     },
     "execution_count": 109,
     "metadata": {},
     "output_type": "execute_result"
    }
   ],
   "source": [
    "# check end of dataframe\n",
    "df.tail()"
   ]
  },
  {
   "cell_type": "markdown",
   "metadata": {},
   "source": [
    "##### Duration\n",
    "In Cassidy's study, participants with commutes that were of a longer duration reported more negative experiences and had less intention to continue with the commute in the future. Distance is positively correlated with stress, and duration follows this same pattern. Research outside of Cassidy's study also finds that the greater the duration of the commute i.e. the daily time taken to commute, the more stress is experienced by the commuter(Chatterjee et al. 2017). \n",
    "\n",
    "\n",
    "There were three Duration of commute bands, 0-30 minutes was scored as a 0, 30-60 minutes was scored as 4 and over 60 minutes was scored as 6. \n"
   ]
  },
  {
   "cell_type": "code",
   "execution_count": 110,
   "metadata": {},
   "outputs": [
    {
     "data": {
      "text/html": [
       "<div>\n",
       "<style scoped>\n",
       "    .dataframe tbody tr th:only-of-type {\n",
       "        vertical-align: middle;\n",
       "    }\n",
       "\n",
       "    .dataframe tbody tr th {\n",
       "        vertical-align: top;\n",
       "    }\n",
       "\n",
       "    .dataframe thead th {\n",
       "        text-align: right;\n",
       "    }\n",
       "</style>\n",
       "<table border=\"1\" class=\"dataframe\">\n",
       "  <thead>\n",
       "    <tr style=\"text-align: right;\">\n",
       "      <th></th>\n",
       "      <th>Distance</th>\n",
       "      <th>Duration</th>\n",
       "      <th>Time</th>\n",
       "      <th>Impedance</th>\n",
       "      <th>Stress</th>\n",
       "      <th>Distance-ch</th>\n",
       "      <th>Duration-ch</th>\n",
       "      <th>Time-ch</th>\n",
       "      <th>Impedance-ch</th>\n",
       "      <th>Stress-ch</th>\n",
       "      <th>Distance Score</th>\n",
       "      <th>Distance-ch Score</th>\n",
       "      <th>Duration Score</th>\n",
       "      <th>Duration-ch Score</th>\n",
       "    </tr>\n",
       "  </thead>\n",
       "  <tbody>\n",
       "    <tr>\n",
       "      <th>0</th>\n",
       "      <td>16-30 miles</td>\n",
       "      <td>Over 60 minutes</td>\n",
       "      <td>1-29 months</td>\n",
       "      <td>17.3-30 mph</td>\n",
       "      <td>23</td>\n",
       "      <td>0-5 miles</td>\n",
       "      <td>Over 60 minutes</td>\n",
       "      <td>Over 132 months</td>\n",
       "      <td>Over 30 mph</td>\n",
       "      <td>20</td>\n",
       "      <td>3</td>\n",
       "      <td>0</td>\n",
       "      <td>Over 60 minutes</td>\n",
       "      <td>Over 60 minutes</td>\n",
       "    </tr>\n",
       "    <tr>\n",
       "      <th>1</th>\n",
       "      <td>0-5 miles</td>\n",
       "      <td>30-60 minutes</td>\n",
       "      <td>Over 132 months</td>\n",
       "      <td>Over 30 mph</td>\n",
       "      <td>22</td>\n",
       "      <td>6-15 miles</td>\n",
       "      <td>Over 60 minutes</td>\n",
       "      <td>60-131 months</td>\n",
       "      <td>Over 30 mph</td>\n",
       "      <td>24</td>\n",
       "      <td>0</td>\n",
       "      <td>2</td>\n",
       "      <td>30-60 minutes</td>\n",
       "      <td>Over 60 minutes</td>\n",
       "    </tr>\n",
       "    <tr>\n",
       "      <th>2</th>\n",
       "      <td>6-15 miles</td>\n",
       "      <td>30-60 minutes</td>\n",
       "      <td>Over 132 months</td>\n",
       "      <td>Over 30 mph</td>\n",
       "      <td>22</td>\n",
       "      <td>6-15 miles</td>\n",
       "      <td>0-30 minutes</td>\n",
       "      <td>30-60 months</td>\n",
       "      <td>Over 30 mph</td>\n",
       "      <td>22</td>\n",
       "      <td>2</td>\n",
       "      <td>2</td>\n",
       "      <td>30-60 minutes</td>\n",
       "      <td>0-30 minutes</td>\n",
       "    </tr>\n",
       "    <tr>\n",
       "      <th>3</th>\n",
       "      <td>6-15 miles</td>\n",
       "      <td>0-30 minutes</td>\n",
       "      <td>Over 132 months</td>\n",
       "      <td>17.3-30 mph</td>\n",
       "      <td>24</td>\n",
       "      <td>6-15 miles</td>\n",
       "      <td>0-30 minutes</td>\n",
       "      <td>60-131 months</td>\n",
       "      <td>17 mph or less</td>\n",
       "      <td>24</td>\n",
       "      <td>2</td>\n",
       "      <td>2</td>\n",
       "      <td>0-30 minutes</td>\n",
       "      <td>0-30 minutes</td>\n",
       "    </tr>\n",
       "    <tr>\n",
       "      <th>4</th>\n",
       "      <td>6-15 miles</td>\n",
       "      <td>Over 60 minutes</td>\n",
       "      <td>Over 132 months</td>\n",
       "      <td>17 mph or less</td>\n",
       "      <td>19</td>\n",
       "      <td>6-15 miles</td>\n",
       "      <td>0-30 minutes</td>\n",
       "      <td>Over 132 months</td>\n",
       "      <td>17 mph or less</td>\n",
       "      <td>19</td>\n",
       "      <td>2</td>\n",
       "      <td>2</td>\n",
       "      <td>Over 60 minutes</td>\n",
       "      <td>0-30 minutes</td>\n",
       "    </tr>\n",
       "  </tbody>\n",
       "</table>\n",
       "</div>"
      ],
      "text/plain": [
       "      Distance         Duration             Time       Impedance  Stress  \\\n",
       "0  16-30 miles  Over 60 minutes      1-29 months     17.3-30 mph      23   \n",
       "1    0-5 miles    30-60 minutes  Over 132 months     Over 30 mph      22   \n",
       "2   6-15 miles    30-60 minutes  Over 132 months     Over 30 mph      22   \n",
       "3   6-15 miles     0-30 minutes  Over 132 months     17.3-30 mph      24   \n",
       "4   6-15 miles  Over 60 minutes  Over 132 months  17 mph or less      19   \n",
       "\n",
       "  Distance-ch      Duration-ch          Time-ch    Impedance-ch  Stress-ch  \\\n",
       "0   0-5 miles  Over 60 minutes  Over 132 months     Over 30 mph         20   \n",
       "1  6-15 miles  Over 60 minutes    60-131 months     Over 30 mph         24   \n",
       "2  6-15 miles     0-30 minutes     30-60 months     Over 30 mph         22   \n",
       "3  6-15 miles     0-30 minutes    60-131 months  17 mph or less         24   \n",
       "4  6-15 miles     0-30 minutes  Over 132 months  17 mph or less         19   \n",
       "\n",
       "   Distance Score  Distance-ch Score   Duration Score Duration-ch Score  \n",
       "0               3                  0  Over 60 minutes   Over 60 minutes  \n",
       "1               0                  2    30-60 minutes   Over 60 minutes  \n",
       "2               2                  2    30-60 minutes      0-30 minutes  \n",
       "3               2                  2     0-30 minutes      0-30 minutes  \n",
       "4               2                  2  Over 60 minutes      0-30 minutes  "
      ]
     },
     "execution_count": 110,
     "metadata": {},
     "output_type": "execute_result"
    }
   ],
   "source": [
    "# Score duration\n",
    "# take a copy of the duration data and put it in a new column\n",
    "# for the distributon model\n",
    "df['Duration Score'] = df['Duration']\n",
    "# for random choice\n",
    "df['Duration-ch Score'] = df['Duration-ch']\n",
    "\n",
    "# check the first few rows\n",
    "df.head()\n"
   ]
  },
  {
   "cell_type": "code",
   "execution_count": 111,
   "metadata": {},
   "outputs": [
    {
     "data": {
      "text/html": [
       "<div>\n",
       "<style scoped>\n",
       "    .dataframe tbody tr th:only-of-type {\n",
       "        vertical-align: middle;\n",
       "    }\n",
       "\n",
       "    .dataframe tbody tr th {\n",
       "        vertical-align: top;\n",
       "    }\n",
       "\n",
       "    .dataframe thead th {\n",
       "        text-align: right;\n",
       "    }\n",
       "</style>\n",
       "<table border=\"1\" class=\"dataframe\">\n",
       "  <thead>\n",
       "    <tr style=\"text-align: right;\">\n",
       "      <th></th>\n",
       "      <th>Distance</th>\n",
       "      <th>Duration</th>\n",
       "      <th>Time</th>\n",
       "      <th>Impedance</th>\n",
       "      <th>Stress</th>\n",
       "      <th>Distance-ch</th>\n",
       "      <th>Duration-ch</th>\n",
       "      <th>Time-ch</th>\n",
       "      <th>Impedance-ch</th>\n",
       "      <th>Stress-ch</th>\n",
       "      <th>Distance Score</th>\n",
       "      <th>Distance-ch Score</th>\n",
       "      <th>Duration Score</th>\n",
       "      <th>Duration-ch Score</th>\n",
       "    </tr>\n",
       "  </thead>\n",
       "  <tbody>\n",
       "    <tr>\n",
       "      <th>0</th>\n",
       "      <td>16-30 miles</td>\n",
       "      <td>Over 60 minutes</td>\n",
       "      <td>1-29 months</td>\n",
       "      <td>17.3-30 mph</td>\n",
       "      <td>23</td>\n",
       "      <td>0-5 miles</td>\n",
       "      <td>Over 60 minutes</td>\n",
       "      <td>Over 132 months</td>\n",
       "      <td>Over 30 mph</td>\n",
       "      <td>20</td>\n",
       "      <td>3</td>\n",
       "      <td>0</td>\n",
       "      <td>6</td>\n",
       "      <td>6</td>\n",
       "    </tr>\n",
       "    <tr>\n",
       "      <th>1</th>\n",
       "      <td>0-5 miles</td>\n",
       "      <td>30-60 minutes</td>\n",
       "      <td>Over 132 months</td>\n",
       "      <td>Over 30 mph</td>\n",
       "      <td>22</td>\n",
       "      <td>6-15 miles</td>\n",
       "      <td>Over 60 minutes</td>\n",
       "      <td>60-131 months</td>\n",
       "      <td>Over 30 mph</td>\n",
       "      <td>24</td>\n",
       "      <td>0</td>\n",
       "      <td>2</td>\n",
       "      <td>4</td>\n",
       "      <td>6</td>\n",
       "    </tr>\n",
       "    <tr>\n",
       "      <th>2</th>\n",
       "      <td>6-15 miles</td>\n",
       "      <td>30-60 minutes</td>\n",
       "      <td>Over 132 months</td>\n",
       "      <td>Over 30 mph</td>\n",
       "      <td>22</td>\n",
       "      <td>6-15 miles</td>\n",
       "      <td>0-30 minutes</td>\n",
       "      <td>30-60 months</td>\n",
       "      <td>Over 30 mph</td>\n",
       "      <td>22</td>\n",
       "      <td>2</td>\n",
       "      <td>2</td>\n",
       "      <td>4</td>\n",
       "      <td>0</td>\n",
       "    </tr>\n",
       "    <tr>\n",
       "      <th>3</th>\n",
       "      <td>6-15 miles</td>\n",
       "      <td>0-30 minutes</td>\n",
       "      <td>Over 132 months</td>\n",
       "      <td>17.3-30 mph</td>\n",
       "      <td>24</td>\n",
       "      <td>6-15 miles</td>\n",
       "      <td>0-30 minutes</td>\n",
       "      <td>60-131 months</td>\n",
       "      <td>17 mph or less</td>\n",
       "      <td>24</td>\n",
       "      <td>2</td>\n",
       "      <td>2</td>\n",
       "      <td>0</td>\n",
       "      <td>0</td>\n",
       "    </tr>\n",
       "    <tr>\n",
       "      <th>4</th>\n",
       "      <td>6-15 miles</td>\n",
       "      <td>Over 60 minutes</td>\n",
       "      <td>Over 132 months</td>\n",
       "      <td>17 mph or less</td>\n",
       "      <td>19</td>\n",
       "      <td>6-15 miles</td>\n",
       "      <td>0-30 minutes</td>\n",
       "      <td>Over 132 months</td>\n",
       "      <td>17 mph or less</td>\n",
       "      <td>19</td>\n",
       "      <td>2</td>\n",
       "      <td>2</td>\n",
       "      <td>6</td>\n",
       "      <td>0</td>\n",
       "    </tr>\n",
       "  </tbody>\n",
       "</table>\n",
       "</div>"
      ],
      "text/plain": [
       "      Distance         Duration             Time       Impedance  Stress  \\\n",
       "0  16-30 miles  Over 60 minutes      1-29 months     17.3-30 mph      23   \n",
       "1    0-5 miles    30-60 minutes  Over 132 months     Over 30 mph      22   \n",
       "2   6-15 miles    30-60 minutes  Over 132 months     Over 30 mph      22   \n",
       "3   6-15 miles     0-30 minutes  Over 132 months     17.3-30 mph      24   \n",
       "4   6-15 miles  Over 60 minutes  Over 132 months  17 mph or less      19   \n",
       "\n",
       "  Distance-ch      Duration-ch          Time-ch    Impedance-ch  Stress-ch  \\\n",
       "0   0-5 miles  Over 60 minutes  Over 132 months     Over 30 mph         20   \n",
       "1  6-15 miles  Over 60 minutes    60-131 months     Over 30 mph         24   \n",
       "2  6-15 miles     0-30 minutes     30-60 months     Over 30 mph         22   \n",
       "3  6-15 miles     0-30 minutes    60-131 months  17 mph or less         24   \n",
       "4  6-15 miles     0-30 minutes  Over 132 months  17 mph or less         19   \n",
       "\n",
       "   Distance Score  Distance-ch Score  Duration Score  Duration-ch Score  \n",
       "0               3                  0               6                  6  \n",
       "1               0                  2               4                  6  \n",
       "2               2                  2               4                  0  \n",
       "3               2                  2               0                  0  \n",
       "4               2                  2               6                  0  "
      ]
     },
     "execution_count": 111,
     "metadata": {},
     "output_type": "execute_result"
    }
   ],
   "source": [
    "# find all values in duration that are '0-30 minutes' and set it to 0 in the duration score column etc...\n",
    "# the shorter the commute duration the less stress\n",
    "# for the distributon model\n",
    "df.loc[df['Duration'] == '0-30 minutes', 'Duration Score'] = 0\n",
    "df.loc[df['Duration'] == '30-60 minutes', 'Duration Score'] = 4\n",
    "df.loc[df['Duration'] == 'Over 60 minutes', 'Duration Score'] = 6\n",
    "# for random choice\n",
    "df.loc[df['Duration-ch'] == '0-30 minutes', 'Duration-ch Score'] = 0\n",
    "df.loc[df['Duration-ch'] == '30-60 minutes', 'Duration-ch Score'] = 4\n",
    "df.loc[df['Duration-ch'] == 'Over 60 minutes', 'Duration-ch Score'] = 6\n",
    "# check the first few rows\n",
    "df.head()"
   ]
  },
  {
   "cell_type": "markdown",
   "metadata": {},
   "source": [
    "Lets add this to the Stress field."
   ]
  },
  {
   "cell_type": "code",
   "execution_count": 112,
   "metadata": {},
   "outputs": [
    {
     "data": {
      "text/html": [
       "<div>\n",
       "<style scoped>\n",
       "    .dataframe tbody tr th:only-of-type {\n",
       "        vertical-align: middle;\n",
       "    }\n",
       "\n",
       "    .dataframe tbody tr th {\n",
       "        vertical-align: top;\n",
       "    }\n",
       "\n",
       "    .dataframe thead th {\n",
       "        text-align: right;\n",
       "    }\n",
       "</style>\n",
       "<table border=\"1\" class=\"dataframe\">\n",
       "  <thead>\n",
       "    <tr style=\"text-align: right;\">\n",
       "      <th></th>\n",
       "      <th>Distance</th>\n",
       "      <th>Duration</th>\n",
       "      <th>Time</th>\n",
       "      <th>Impedance</th>\n",
       "      <th>Stress</th>\n",
       "      <th>Distance-ch</th>\n",
       "      <th>Duration-ch</th>\n",
       "      <th>Time-ch</th>\n",
       "      <th>Impedance-ch</th>\n",
       "      <th>Stress-ch</th>\n",
       "      <th>Distance Score</th>\n",
       "      <th>Distance-ch Score</th>\n",
       "      <th>Duration Score</th>\n",
       "      <th>Duration-ch Score</th>\n",
       "    </tr>\n",
       "  </thead>\n",
       "  <tbody>\n",
       "    <tr>\n",
       "      <th>0</th>\n",
       "      <td>16-30 miles</td>\n",
       "      <td>Over 60 minutes</td>\n",
       "      <td>1-29 months</td>\n",
       "      <td>17.3-30 mph</td>\n",
       "      <td>29</td>\n",
       "      <td>0-5 miles</td>\n",
       "      <td>Over 60 minutes</td>\n",
       "      <td>Over 132 months</td>\n",
       "      <td>Over 30 mph</td>\n",
       "      <td>26</td>\n",
       "      <td>3</td>\n",
       "      <td>0</td>\n",
       "      <td>6</td>\n",
       "      <td>6</td>\n",
       "    </tr>\n",
       "    <tr>\n",
       "      <th>1</th>\n",
       "      <td>0-5 miles</td>\n",
       "      <td>30-60 minutes</td>\n",
       "      <td>Over 132 months</td>\n",
       "      <td>Over 30 mph</td>\n",
       "      <td>26</td>\n",
       "      <td>6-15 miles</td>\n",
       "      <td>Over 60 minutes</td>\n",
       "      <td>60-131 months</td>\n",
       "      <td>Over 30 mph</td>\n",
       "      <td>30</td>\n",
       "      <td>0</td>\n",
       "      <td>2</td>\n",
       "      <td>4</td>\n",
       "      <td>6</td>\n",
       "    </tr>\n",
       "    <tr>\n",
       "      <th>2</th>\n",
       "      <td>6-15 miles</td>\n",
       "      <td>30-60 minutes</td>\n",
       "      <td>Over 132 months</td>\n",
       "      <td>Over 30 mph</td>\n",
       "      <td>26</td>\n",
       "      <td>6-15 miles</td>\n",
       "      <td>0-30 minutes</td>\n",
       "      <td>30-60 months</td>\n",
       "      <td>Over 30 mph</td>\n",
       "      <td>22</td>\n",
       "      <td>2</td>\n",
       "      <td>2</td>\n",
       "      <td>4</td>\n",
       "      <td>0</td>\n",
       "    </tr>\n",
       "    <tr>\n",
       "      <th>3</th>\n",
       "      <td>6-15 miles</td>\n",
       "      <td>0-30 minutes</td>\n",
       "      <td>Over 132 months</td>\n",
       "      <td>17.3-30 mph</td>\n",
       "      <td>24</td>\n",
       "      <td>6-15 miles</td>\n",
       "      <td>0-30 minutes</td>\n",
       "      <td>60-131 months</td>\n",
       "      <td>17 mph or less</td>\n",
       "      <td>24</td>\n",
       "      <td>2</td>\n",
       "      <td>2</td>\n",
       "      <td>0</td>\n",
       "      <td>0</td>\n",
       "    </tr>\n",
       "    <tr>\n",
       "      <th>4</th>\n",
       "      <td>6-15 miles</td>\n",
       "      <td>Over 60 minutes</td>\n",
       "      <td>Over 132 months</td>\n",
       "      <td>17 mph or less</td>\n",
       "      <td>25</td>\n",
       "      <td>6-15 miles</td>\n",
       "      <td>0-30 minutes</td>\n",
       "      <td>Over 132 months</td>\n",
       "      <td>17 mph or less</td>\n",
       "      <td>19</td>\n",
       "      <td>2</td>\n",
       "      <td>2</td>\n",
       "      <td>6</td>\n",
       "      <td>0</td>\n",
       "    </tr>\n",
       "  </tbody>\n",
       "</table>\n",
       "</div>"
      ],
      "text/plain": [
       "      Distance         Duration             Time       Impedance  Stress  \\\n",
       "0  16-30 miles  Over 60 minutes      1-29 months     17.3-30 mph      29   \n",
       "1    0-5 miles    30-60 minutes  Over 132 months     Over 30 mph      26   \n",
       "2   6-15 miles    30-60 minutes  Over 132 months     Over 30 mph      26   \n",
       "3   6-15 miles     0-30 minutes  Over 132 months     17.3-30 mph      24   \n",
       "4   6-15 miles  Over 60 minutes  Over 132 months  17 mph or less      25   \n",
       "\n",
       "  Distance-ch      Duration-ch          Time-ch    Impedance-ch  Stress-ch  \\\n",
       "0   0-5 miles  Over 60 minutes  Over 132 months     Over 30 mph         26   \n",
       "1  6-15 miles  Over 60 minutes    60-131 months     Over 30 mph         30   \n",
       "2  6-15 miles     0-30 minutes     30-60 months     Over 30 mph         22   \n",
       "3  6-15 miles     0-30 minutes    60-131 months  17 mph or less         24   \n",
       "4  6-15 miles     0-30 minutes  Over 132 months  17 mph or less         19   \n",
       "\n",
       "   Distance Score  Distance-ch Score  Duration Score  Duration-ch Score  \n",
       "0               3                  0               6                  6  \n",
       "1               0                  2               4                  6  \n",
       "2               2                  2               4                  0  \n",
       "3               2                  2               0                  0  \n",
       "4               2                  2               6                  0  "
      ]
     },
     "execution_count": 112,
     "metadata": {},
     "output_type": "execute_result"
    }
   ],
   "source": [
    "# add the duration score to the stress value\n",
    "# for the distributon model\n",
    "df['Stress'] = df['Stress'] + df['Duration Score']\n",
    "# for random choice\n",
    "df['Stress-ch'] = df['Stress-ch'] + df['Duration-ch Score']\n",
    "df.head()"
   ]
  },
  {
   "cell_type": "markdown",
   "metadata": {},
   "source": [
    "This adds a possible 10 extra marks to the Stress score, bringing the maximum possible stress value to 60. "
   ]
  },
  {
   "cell_type": "markdown",
   "metadata": {},
   "source": [
    "##### Time\n",
    "\n",
    "Schneider as cited in Schaefer 2005 noted that long time commuters of long distances reported negative impact in many areas of their life. Ideally this variable should also be linked to increasing distances however for simplicity it is treated independently. Cassidy 1992 found less negative experiences reported in longtime commuters of long distances and noted that this may be due to less hardier commuters leaving that pool. However long time commuters of lengthy commutes also reported more commitment to their work which has a knock on effect on stress in other areas of their life such as personal time, leisure time and home life. So while stress may reduce on one domain - the commute - it is likely to increase on other domains. Hence time spend as a commuter was deemed positively correlated with Stress and marked accordingly.  \n",
    "\n",
    "There were four bands in this variable, a rating of 0 was given to the shortest band 1-29 months; a rating of 1 was given to the 30-60 months band; A rating of 3 was given to the 60-131 months band and a rating of 6 was given to the over 132 months band. "
   ]
  },
  {
   "cell_type": "code",
   "execution_count": 113,
   "metadata": {},
   "outputs": [
    {
     "data": {
      "text/html": [
       "<div>\n",
       "<style scoped>\n",
       "    .dataframe tbody tr th:only-of-type {\n",
       "        vertical-align: middle;\n",
       "    }\n",
       "\n",
       "    .dataframe tbody tr th {\n",
       "        vertical-align: top;\n",
       "    }\n",
       "\n",
       "    .dataframe thead th {\n",
       "        text-align: right;\n",
       "    }\n",
       "</style>\n",
       "<table border=\"1\" class=\"dataframe\">\n",
       "  <thead>\n",
       "    <tr style=\"text-align: right;\">\n",
       "      <th></th>\n",
       "      <th>Distance</th>\n",
       "      <th>Duration</th>\n",
       "      <th>Time</th>\n",
       "      <th>Impedance</th>\n",
       "      <th>Stress</th>\n",
       "      <th>Distance-ch</th>\n",
       "      <th>Duration-ch</th>\n",
       "      <th>Time-ch</th>\n",
       "      <th>Impedance-ch</th>\n",
       "      <th>Stress-ch</th>\n",
       "      <th>Distance Score</th>\n",
       "      <th>Distance-ch Score</th>\n",
       "      <th>Duration Score</th>\n",
       "      <th>Duration-ch Score</th>\n",
       "      <th>Time Score</th>\n",
       "      <th>Time-ch Score</th>\n",
       "    </tr>\n",
       "  </thead>\n",
       "  <tbody>\n",
       "    <tr>\n",
       "      <th>0</th>\n",
       "      <td>16-30 miles</td>\n",
       "      <td>Over 60 minutes</td>\n",
       "      <td>1-29 months</td>\n",
       "      <td>17.3-30 mph</td>\n",
       "      <td>29</td>\n",
       "      <td>0-5 miles</td>\n",
       "      <td>Over 60 minutes</td>\n",
       "      <td>Over 132 months</td>\n",
       "      <td>Over 30 mph</td>\n",
       "      <td>26</td>\n",
       "      <td>3</td>\n",
       "      <td>0</td>\n",
       "      <td>6</td>\n",
       "      <td>6</td>\n",
       "      <td>1-29 months</td>\n",
       "      <td>Over 132 months</td>\n",
       "    </tr>\n",
       "    <tr>\n",
       "      <th>1</th>\n",
       "      <td>0-5 miles</td>\n",
       "      <td>30-60 minutes</td>\n",
       "      <td>Over 132 months</td>\n",
       "      <td>Over 30 mph</td>\n",
       "      <td>26</td>\n",
       "      <td>6-15 miles</td>\n",
       "      <td>Over 60 minutes</td>\n",
       "      <td>60-131 months</td>\n",
       "      <td>Over 30 mph</td>\n",
       "      <td>30</td>\n",
       "      <td>0</td>\n",
       "      <td>2</td>\n",
       "      <td>4</td>\n",
       "      <td>6</td>\n",
       "      <td>Over 132 months</td>\n",
       "      <td>60-131 months</td>\n",
       "    </tr>\n",
       "    <tr>\n",
       "      <th>2</th>\n",
       "      <td>6-15 miles</td>\n",
       "      <td>30-60 minutes</td>\n",
       "      <td>Over 132 months</td>\n",
       "      <td>Over 30 mph</td>\n",
       "      <td>26</td>\n",
       "      <td>6-15 miles</td>\n",
       "      <td>0-30 minutes</td>\n",
       "      <td>30-60 months</td>\n",
       "      <td>Over 30 mph</td>\n",
       "      <td>22</td>\n",
       "      <td>2</td>\n",
       "      <td>2</td>\n",
       "      <td>4</td>\n",
       "      <td>0</td>\n",
       "      <td>Over 132 months</td>\n",
       "      <td>30-60 months</td>\n",
       "    </tr>\n",
       "    <tr>\n",
       "      <th>3</th>\n",
       "      <td>6-15 miles</td>\n",
       "      <td>0-30 minutes</td>\n",
       "      <td>Over 132 months</td>\n",
       "      <td>17.3-30 mph</td>\n",
       "      <td>24</td>\n",
       "      <td>6-15 miles</td>\n",
       "      <td>0-30 minutes</td>\n",
       "      <td>60-131 months</td>\n",
       "      <td>17 mph or less</td>\n",
       "      <td>24</td>\n",
       "      <td>2</td>\n",
       "      <td>2</td>\n",
       "      <td>0</td>\n",
       "      <td>0</td>\n",
       "      <td>Over 132 months</td>\n",
       "      <td>60-131 months</td>\n",
       "    </tr>\n",
       "    <tr>\n",
       "      <th>4</th>\n",
       "      <td>6-15 miles</td>\n",
       "      <td>Over 60 minutes</td>\n",
       "      <td>Over 132 months</td>\n",
       "      <td>17 mph or less</td>\n",
       "      <td>25</td>\n",
       "      <td>6-15 miles</td>\n",
       "      <td>0-30 minutes</td>\n",
       "      <td>Over 132 months</td>\n",
       "      <td>17 mph or less</td>\n",
       "      <td>19</td>\n",
       "      <td>2</td>\n",
       "      <td>2</td>\n",
       "      <td>6</td>\n",
       "      <td>0</td>\n",
       "      <td>Over 132 months</td>\n",
       "      <td>Over 132 months</td>\n",
       "    </tr>\n",
       "  </tbody>\n",
       "</table>\n",
       "</div>"
      ],
      "text/plain": [
       "      Distance         Duration             Time       Impedance  Stress  \\\n",
       "0  16-30 miles  Over 60 minutes      1-29 months     17.3-30 mph      29   \n",
       "1    0-5 miles    30-60 minutes  Over 132 months     Over 30 mph      26   \n",
       "2   6-15 miles    30-60 minutes  Over 132 months     Over 30 mph      26   \n",
       "3   6-15 miles     0-30 minutes  Over 132 months     17.3-30 mph      24   \n",
       "4   6-15 miles  Over 60 minutes  Over 132 months  17 mph or less      25   \n",
       "\n",
       "  Distance-ch      Duration-ch          Time-ch    Impedance-ch  Stress-ch  \\\n",
       "0   0-5 miles  Over 60 minutes  Over 132 months     Over 30 mph         26   \n",
       "1  6-15 miles  Over 60 minutes    60-131 months     Over 30 mph         30   \n",
       "2  6-15 miles     0-30 minutes     30-60 months     Over 30 mph         22   \n",
       "3  6-15 miles     0-30 minutes    60-131 months  17 mph or less         24   \n",
       "4  6-15 miles     0-30 minutes  Over 132 months  17 mph or less         19   \n",
       "\n",
       "   Distance Score  Distance-ch Score  Duration Score  Duration-ch Score  \\\n",
       "0               3                  0               6                  6   \n",
       "1               0                  2               4                  6   \n",
       "2               2                  2               4                  0   \n",
       "3               2                  2               0                  0   \n",
       "4               2                  2               6                  0   \n",
       "\n",
       "        Time Score    Time-ch Score  \n",
       "0      1-29 months  Over 132 months  \n",
       "1  Over 132 months    60-131 months  \n",
       "2  Over 132 months     30-60 months  \n",
       "3  Over 132 months    60-131 months  \n",
       "4  Over 132 months  Over 132 months  "
      ]
     },
     "execution_count": 113,
     "metadata": {},
     "output_type": "execute_result"
    }
   ],
   "source": [
    "# Score time\n",
    "# take a copy of the time data and put it in a new column\n",
    "# for the distributon model\n",
    "df['Time Score'] = df['Time']\n",
    "# for random choice\n",
    "df['Time-ch Score'] = df['Time-ch']\n",
    "# check the first few values\n",
    "df.head()"
   ]
  },
  {
   "cell_type": "code",
   "execution_count": 114,
   "metadata": {},
   "outputs": [
    {
     "data": {
      "text/html": [
       "<div>\n",
       "<style scoped>\n",
       "    .dataframe tbody tr th:only-of-type {\n",
       "        vertical-align: middle;\n",
       "    }\n",
       "\n",
       "    .dataframe tbody tr th {\n",
       "        vertical-align: top;\n",
       "    }\n",
       "\n",
       "    .dataframe thead th {\n",
       "        text-align: right;\n",
       "    }\n",
       "</style>\n",
       "<table border=\"1\" class=\"dataframe\">\n",
       "  <thead>\n",
       "    <tr style=\"text-align: right;\">\n",
       "      <th></th>\n",
       "      <th>Distance</th>\n",
       "      <th>Duration</th>\n",
       "      <th>Time</th>\n",
       "      <th>Impedance</th>\n",
       "      <th>Stress</th>\n",
       "      <th>Distance-ch</th>\n",
       "      <th>Duration-ch</th>\n",
       "      <th>Time-ch</th>\n",
       "      <th>Impedance-ch</th>\n",
       "      <th>Stress-ch</th>\n",
       "      <th>Distance Score</th>\n",
       "      <th>Distance-ch Score</th>\n",
       "      <th>Duration Score</th>\n",
       "      <th>Duration-ch Score</th>\n",
       "      <th>Time Score</th>\n",
       "      <th>Time-ch Score</th>\n",
       "    </tr>\n",
       "  </thead>\n",
       "  <tbody>\n",
       "    <tr>\n",
       "      <th>0</th>\n",
       "      <td>16-30 miles</td>\n",
       "      <td>Over 60 minutes</td>\n",
       "      <td>1-29 months</td>\n",
       "      <td>17.3-30 mph</td>\n",
       "      <td>29</td>\n",
       "      <td>0-5 miles</td>\n",
       "      <td>Over 60 minutes</td>\n",
       "      <td>Over 132 months</td>\n",
       "      <td>Over 30 mph</td>\n",
       "      <td>26</td>\n",
       "      <td>3</td>\n",
       "      <td>0</td>\n",
       "      <td>6</td>\n",
       "      <td>6</td>\n",
       "      <td>0</td>\n",
       "      <td>6</td>\n",
       "    </tr>\n",
       "    <tr>\n",
       "      <th>1</th>\n",
       "      <td>0-5 miles</td>\n",
       "      <td>30-60 minutes</td>\n",
       "      <td>Over 132 months</td>\n",
       "      <td>Over 30 mph</td>\n",
       "      <td>26</td>\n",
       "      <td>6-15 miles</td>\n",
       "      <td>Over 60 minutes</td>\n",
       "      <td>60-131 months</td>\n",
       "      <td>Over 30 mph</td>\n",
       "      <td>30</td>\n",
       "      <td>0</td>\n",
       "      <td>2</td>\n",
       "      <td>4</td>\n",
       "      <td>6</td>\n",
       "      <td>6</td>\n",
       "      <td>3</td>\n",
       "    </tr>\n",
       "    <tr>\n",
       "      <th>2</th>\n",
       "      <td>6-15 miles</td>\n",
       "      <td>30-60 minutes</td>\n",
       "      <td>Over 132 months</td>\n",
       "      <td>Over 30 mph</td>\n",
       "      <td>26</td>\n",
       "      <td>6-15 miles</td>\n",
       "      <td>0-30 minutes</td>\n",
       "      <td>30-60 months</td>\n",
       "      <td>Over 30 mph</td>\n",
       "      <td>22</td>\n",
       "      <td>2</td>\n",
       "      <td>2</td>\n",
       "      <td>4</td>\n",
       "      <td>0</td>\n",
       "      <td>6</td>\n",
       "      <td>1</td>\n",
       "    </tr>\n",
       "    <tr>\n",
       "      <th>3</th>\n",
       "      <td>6-15 miles</td>\n",
       "      <td>0-30 minutes</td>\n",
       "      <td>Over 132 months</td>\n",
       "      <td>17.3-30 mph</td>\n",
       "      <td>24</td>\n",
       "      <td>6-15 miles</td>\n",
       "      <td>0-30 minutes</td>\n",
       "      <td>60-131 months</td>\n",
       "      <td>17 mph or less</td>\n",
       "      <td>24</td>\n",
       "      <td>2</td>\n",
       "      <td>2</td>\n",
       "      <td>0</td>\n",
       "      <td>0</td>\n",
       "      <td>6</td>\n",
       "      <td>3</td>\n",
       "    </tr>\n",
       "    <tr>\n",
       "      <th>4</th>\n",
       "      <td>6-15 miles</td>\n",
       "      <td>Over 60 minutes</td>\n",
       "      <td>Over 132 months</td>\n",
       "      <td>17 mph or less</td>\n",
       "      <td>25</td>\n",
       "      <td>6-15 miles</td>\n",
       "      <td>0-30 minutes</td>\n",
       "      <td>Over 132 months</td>\n",
       "      <td>17 mph or less</td>\n",
       "      <td>19</td>\n",
       "      <td>2</td>\n",
       "      <td>2</td>\n",
       "      <td>6</td>\n",
       "      <td>0</td>\n",
       "      <td>6</td>\n",
       "      <td>6</td>\n",
       "    </tr>\n",
       "  </tbody>\n",
       "</table>\n",
       "</div>"
      ],
      "text/plain": [
       "      Distance         Duration             Time       Impedance  Stress  \\\n",
       "0  16-30 miles  Over 60 minutes      1-29 months     17.3-30 mph      29   \n",
       "1    0-5 miles    30-60 minutes  Over 132 months     Over 30 mph      26   \n",
       "2   6-15 miles    30-60 minutes  Over 132 months     Over 30 mph      26   \n",
       "3   6-15 miles     0-30 minutes  Over 132 months     17.3-30 mph      24   \n",
       "4   6-15 miles  Over 60 minutes  Over 132 months  17 mph or less      25   \n",
       "\n",
       "  Distance-ch      Duration-ch          Time-ch    Impedance-ch  Stress-ch  \\\n",
       "0   0-5 miles  Over 60 minutes  Over 132 months     Over 30 mph         26   \n",
       "1  6-15 miles  Over 60 minutes    60-131 months     Over 30 mph         30   \n",
       "2  6-15 miles     0-30 minutes     30-60 months     Over 30 mph         22   \n",
       "3  6-15 miles     0-30 minutes    60-131 months  17 mph or less         24   \n",
       "4  6-15 miles     0-30 minutes  Over 132 months  17 mph or less         19   \n",
       "\n",
       "   Distance Score  Distance-ch Score  Duration Score  Duration-ch Score  \\\n",
       "0               3                  0               6                  6   \n",
       "1               0                  2               4                  6   \n",
       "2               2                  2               4                  0   \n",
       "3               2                  2               0                  0   \n",
       "4               2                  2               6                  0   \n",
       "\n",
       "   Time Score  Time-ch Score  \n",
       "0           0              6  \n",
       "1           6              3  \n",
       "2           6              1  \n",
       "3           6              3  \n",
       "4           6              6  "
      ]
     },
     "execution_count": 114,
     "metadata": {},
     "output_type": "execute_result"
    }
   ],
   "source": [
    "# find all values in time that are '1-29 months' and set it to 0 in the time score column etc...\n",
    "# for the distributon model\n",
    "df.loc[df['Time'] == '1-29 months', 'Time Score'] = 0\n",
    "df.loc[df['Time'] == '30-60 months', 'Time Score'] = 1\n",
    "df.loc[df['Time'] == '60-131 months', 'Time Score'] = 3\n",
    "df.loc[df['Time'] == 'Over 132 months', 'Time Score'] = 6\n",
    "# for random choice\n",
    "df.loc[df['Time-ch'] == '1-29 months', 'Time-ch Score'] = 0\n",
    "df.loc[df['Time-ch'] == '30-60 months', 'Time-ch Score'] = 1\n",
    "df.loc[df['Time-ch'] == '60-131 months', 'Time-ch Score'] = 3\n",
    "df.loc[df['Time-ch'] == 'Over 132 months', 'Time-ch Score'] = 6\n",
    "# check the first few values\n",
    "df.head()"
   ]
  },
  {
   "cell_type": "code",
   "execution_count": 115,
   "metadata": {},
   "outputs": [
    {
     "data": {
      "text/html": [
       "<div>\n",
       "<style scoped>\n",
       "    .dataframe tbody tr th:only-of-type {\n",
       "        vertical-align: middle;\n",
       "    }\n",
       "\n",
       "    .dataframe tbody tr th {\n",
       "        vertical-align: top;\n",
       "    }\n",
       "\n",
       "    .dataframe thead th {\n",
       "        text-align: right;\n",
       "    }\n",
       "</style>\n",
       "<table border=\"1\" class=\"dataframe\">\n",
       "  <thead>\n",
       "    <tr style=\"text-align: right;\">\n",
       "      <th></th>\n",
       "      <th>Distance</th>\n",
       "      <th>Duration</th>\n",
       "      <th>Time</th>\n",
       "      <th>Impedance</th>\n",
       "      <th>Stress</th>\n",
       "      <th>Distance-ch</th>\n",
       "      <th>Duration-ch</th>\n",
       "      <th>Time-ch</th>\n",
       "      <th>Impedance-ch</th>\n",
       "      <th>Stress-ch</th>\n",
       "      <th>Distance Score</th>\n",
       "      <th>Distance-ch Score</th>\n",
       "      <th>Duration Score</th>\n",
       "      <th>Duration-ch Score</th>\n",
       "      <th>Time Score</th>\n",
       "      <th>Time-ch Score</th>\n",
       "    </tr>\n",
       "  </thead>\n",
       "  <tbody>\n",
       "    <tr>\n",
       "      <th>0</th>\n",
       "      <td>16-30 miles</td>\n",
       "      <td>Over 60 minutes</td>\n",
       "      <td>1-29 months</td>\n",
       "      <td>17.3-30 mph</td>\n",
       "      <td>29</td>\n",
       "      <td>0-5 miles</td>\n",
       "      <td>Over 60 minutes</td>\n",
       "      <td>Over 132 months</td>\n",
       "      <td>Over 30 mph</td>\n",
       "      <td>32</td>\n",
       "      <td>3</td>\n",
       "      <td>0</td>\n",
       "      <td>6</td>\n",
       "      <td>6</td>\n",
       "      <td>0</td>\n",
       "      <td>6</td>\n",
       "    </tr>\n",
       "    <tr>\n",
       "      <th>1</th>\n",
       "      <td>0-5 miles</td>\n",
       "      <td>30-60 minutes</td>\n",
       "      <td>Over 132 months</td>\n",
       "      <td>Over 30 mph</td>\n",
       "      <td>32</td>\n",
       "      <td>6-15 miles</td>\n",
       "      <td>Over 60 minutes</td>\n",
       "      <td>60-131 months</td>\n",
       "      <td>Over 30 mph</td>\n",
       "      <td>33</td>\n",
       "      <td>0</td>\n",
       "      <td>2</td>\n",
       "      <td>4</td>\n",
       "      <td>6</td>\n",
       "      <td>6</td>\n",
       "      <td>3</td>\n",
       "    </tr>\n",
       "    <tr>\n",
       "      <th>2</th>\n",
       "      <td>6-15 miles</td>\n",
       "      <td>30-60 minutes</td>\n",
       "      <td>Over 132 months</td>\n",
       "      <td>Over 30 mph</td>\n",
       "      <td>32</td>\n",
       "      <td>6-15 miles</td>\n",
       "      <td>0-30 minutes</td>\n",
       "      <td>30-60 months</td>\n",
       "      <td>Over 30 mph</td>\n",
       "      <td>23</td>\n",
       "      <td>2</td>\n",
       "      <td>2</td>\n",
       "      <td>4</td>\n",
       "      <td>0</td>\n",
       "      <td>6</td>\n",
       "      <td>1</td>\n",
       "    </tr>\n",
       "    <tr>\n",
       "      <th>3</th>\n",
       "      <td>6-15 miles</td>\n",
       "      <td>0-30 minutes</td>\n",
       "      <td>Over 132 months</td>\n",
       "      <td>17.3-30 mph</td>\n",
       "      <td>30</td>\n",
       "      <td>6-15 miles</td>\n",
       "      <td>0-30 minutes</td>\n",
       "      <td>60-131 months</td>\n",
       "      <td>17 mph or less</td>\n",
       "      <td>27</td>\n",
       "      <td>2</td>\n",
       "      <td>2</td>\n",
       "      <td>0</td>\n",
       "      <td>0</td>\n",
       "      <td>6</td>\n",
       "      <td>3</td>\n",
       "    </tr>\n",
       "    <tr>\n",
       "      <th>4</th>\n",
       "      <td>6-15 miles</td>\n",
       "      <td>Over 60 minutes</td>\n",
       "      <td>Over 132 months</td>\n",
       "      <td>17 mph or less</td>\n",
       "      <td>31</td>\n",
       "      <td>6-15 miles</td>\n",
       "      <td>0-30 minutes</td>\n",
       "      <td>Over 132 months</td>\n",
       "      <td>17 mph or less</td>\n",
       "      <td>25</td>\n",
       "      <td>2</td>\n",
       "      <td>2</td>\n",
       "      <td>6</td>\n",
       "      <td>0</td>\n",
       "      <td>6</td>\n",
       "      <td>6</td>\n",
       "    </tr>\n",
       "  </tbody>\n",
       "</table>\n",
       "</div>"
      ],
      "text/plain": [
       "      Distance         Duration             Time       Impedance  Stress  \\\n",
       "0  16-30 miles  Over 60 minutes      1-29 months     17.3-30 mph      29   \n",
       "1    0-5 miles    30-60 minutes  Over 132 months     Over 30 mph      32   \n",
       "2   6-15 miles    30-60 minutes  Over 132 months     Over 30 mph      32   \n",
       "3   6-15 miles     0-30 minutes  Over 132 months     17.3-30 mph      30   \n",
       "4   6-15 miles  Over 60 minutes  Over 132 months  17 mph or less      31   \n",
       "\n",
       "  Distance-ch      Duration-ch          Time-ch    Impedance-ch  Stress-ch  \\\n",
       "0   0-5 miles  Over 60 minutes  Over 132 months     Over 30 mph         32   \n",
       "1  6-15 miles  Over 60 minutes    60-131 months     Over 30 mph         33   \n",
       "2  6-15 miles     0-30 minutes     30-60 months     Over 30 mph         23   \n",
       "3  6-15 miles     0-30 minutes    60-131 months  17 mph or less         27   \n",
       "4  6-15 miles     0-30 minutes  Over 132 months  17 mph or less         25   \n",
       "\n",
       "   Distance Score  Distance-ch Score  Duration Score  Duration-ch Score  \\\n",
       "0               3                  0               6                  6   \n",
       "1               0                  2               4                  6   \n",
       "2               2                  2               4                  0   \n",
       "3               2                  2               0                  0   \n",
       "4               2                  2               6                  0   \n",
       "\n",
       "   Time Score  Time-ch Score  \n",
       "0           0              6  \n",
       "1           6              3  \n",
       "2           6              1  \n",
       "3           6              3  \n",
       "4           6              6  "
      ]
     },
     "execution_count": 115,
     "metadata": {},
     "output_type": "execute_result"
    }
   ],
   "source": [
    "# add the time score to the stress value\n",
    "# for the distributon model\n",
    "df['Stress'] = df['Stress'] + df['Time Score']\n",
    "#for random choice\n",
    "df['Stress-ch'] = df['Stress-ch'] + df['Time-ch Score']\n",
    "# check the first few values\n",
    "df.head()"
   ]
  },
  {
   "cell_type": "markdown",
   "metadata": {},
   "source": [
    "The maximum possible Stress score is now 70 with the minimum of 0. "
   ]
  },
  {
   "cell_type": "markdown",
   "metadata": {},
   "source": [
    "##### Impedance\n",
    "\n",
    "Cassidy, 1992 found impedance to be the biggest indicator of increased stress levels. For this reason the impedance was given 20 points for distribution in its bands. There were three impedance bands, Over 30 mph was rated as 0, 17.3-30 mph was rated as 7 and 17 mph or less was rated as 13. "
   ]
  },
  {
   "cell_type": "code",
   "execution_count": 116,
   "metadata": {},
   "outputs": [
    {
     "data": {
      "text/html": [
       "<div>\n",
       "<style scoped>\n",
       "    .dataframe tbody tr th:only-of-type {\n",
       "        vertical-align: middle;\n",
       "    }\n",
       "\n",
       "    .dataframe tbody tr th {\n",
       "        vertical-align: top;\n",
       "    }\n",
       "\n",
       "    .dataframe thead th {\n",
       "        text-align: right;\n",
       "    }\n",
       "</style>\n",
       "<table border=\"1\" class=\"dataframe\">\n",
       "  <thead>\n",
       "    <tr style=\"text-align: right;\">\n",
       "      <th></th>\n",
       "      <th>Distance</th>\n",
       "      <th>Duration</th>\n",
       "      <th>Time</th>\n",
       "      <th>Impedance</th>\n",
       "      <th>Stress</th>\n",
       "      <th>Distance-ch</th>\n",
       "      <th>Duration-ch</th>\n",
       "      <th>Time-ch</th>\n",
       "      <th>Impedance-ch</th>\n",
       "      <th>Stress-ch</th>\n",
       "      <th>Distance Score</th>\n",
       "      <th>Distance-ch Score</th>\n",
       "      <th>Duration Score</th>\n",
       "      <th>Duration-ch Score</th>\n",
       "      <th>Time Score</th>\n",
       "      <th>Time-ch Score</th>\n",
       "      <th>Impedance Score</th>\n",
       "      <th>Impedance-ch Score</th>\n",
       "    </tr>\n",
       "  </thead>\n",
       "  <tbody>\n",
       "    <tr>\n",
       "      <th>0</th>\n",
       "      <td>16-30 miles</td>\n",
       "      <td>Over 60 minutes</td>\n",
       "      <td>1-29 months</td>\n",
       "      <td>17.3-30 mph</td>\n",
       "      <td>29</td>\n",
       "      <td>0-5 miles</td>\n",
       "      <td>Over 60 minutes</td>\n",
       "      <td>Over 132 months</td>\n",
       "      <td>Over 30 mph</td>\n",
       "      <td>32</td>\n",
       "      <td>3</td>\n",
       "      <td>0</td>\n",
       "      <td>6</td>\n",
       "      <td>6</td>\n",
       "      <td>0</td>\n",
       "      <td>6</td>\n",
       "      <td>17.3-30 mph</td>\n",
       "      <td>Over 30 mph</td>\n",
       "    </tr>\n",
       "    <tr>\n",
       "      <th>1</th>\n",
       "      <td>0-5 miles</td>\n",
       "      <td>30-60 minutes</td>\n",
       "      <td>Over 132 months</td>\n",
       "      <td>Over 30 mph</td>\n",
       "      <td>32</td>\n",
       "      <td>6-15 miles</td>\n",
       "      <td>Over 60 minutes</td>\n",
       "      <td>60-131 months</td>\n",
       "      <td>Over 30 mph</td>\n",
       "      <td>33</td>\n",
       "      <td>0</td>\n",
       "      <td>2</td>\n",
       "      <td>4</td>\n",
       "      <td>6</td>\n",
       "      <td>6</td>\n",
       "      <td>3</td>\n",
       "      <td>Over 30 mph</td>\n",
       "      <td>Over 30 mph</td>\n",
       "    </tr>\n",
       "    <tr>\n",
       "      <th>2</th>\n",
       "      <td>6-15 miles</td>\n",
       "      <td>30-60 minutes</td>\n",
       "      <td>Over 132 months</td>\n",
       "      <td>Over 30 mph</td>\n",
       "      <td>32</td>\n",
       "      <td>6-15 miles</td>\n",
       "      <td>0-30 minutes</td>\n",
       "      <td>30-60 months</td>\n",
       "      <td>Over 30 mph</td>\n",
       "      <td>23</td>\n",
       "      <td>2</td>\n",
       "      <td>2</td>\n",
       "      <td>4</td>\n",
       "      <td>0</td>\n",
       "      <td>6</td>\n",
       "      <td>1</td>\n",
       "      <td>Over 30 mph</td>\n",
       "      <td>Over 30 mph</td>\n",
       "    </tr>\n",
       "    <tr>\n",
       "      <th>3</th>\n",
       "      <td>6-15 miles</td>\n",
       "      <td>0-30 minutes</td>\n",
       "      <td>Over 132 months</td>\n",
       "      <td>17.3-30 mph</td>\n",
       "      <td>30</td>\n",
       "      <td>6-15 miles</td>\n",
       "      <td>0-30 minutes</td>\n",
       "      <td>60-131 months</td>\n",
       "      <td>17 mph or less</td>\n",
       "      <td>27</td>\n",
       "      <td>2</td>\n",
       "      <td>2</td>\n",
       "      <td>0</td>\n",
       "      <td>0</td>\n",
       "      <td>6</td>\n",
       "      <td>3</td>\n",
       "      <td>17.3-30 mph</td>\n",
       "      <td>17 mph or less</td>\n",
       "    </tr>\n",
       "    <tr>\n",
       "      <th>4</th>\n",
       "      <td>6-15 miles</td>\n",
       "      <td>Over 60 minutes</td>\n",
       "      <td>Over 132 months</td>\n",
       "      <td>17 mph or less</td>\n",
       "      <td>31</td>\n",
       "      <td>6-15 miles</td>\n",
       "      <td>0-30 minutes</td>\n",
       "      <td>Over 132 months</td>\n",
       "      <td>17 mph or less</td>\n",
       "      <td>25</td>\n",
       "      <td>2</td>\n",
       "      <td>2</td>\n",
       "      <td>6</td>\n",
       "      <td>0</td>\n",
       "      <td>6</td>\n",
       "      <td>6</td>\n",
       "      <td>17 mph or less</td>\n",
       "      <td>17 mph or less</td>\n",
       "    </tr>\n",
       "  </tbody>\n",
       "</table>\n",
       "</div>"
      ],
      "text/plain": [
       "      Distance         Duration             Time       Impedance  Stress  \\\n",
       "0  16-30 miles  Over 60 minutes      1-29 months     17.3-30 mph      29   \n",
       "1    0-5 miles    30-60 minutes  Over 132 months     Over 30 mph      32   \n",
       "2   6-15 miles    30-60 minutes  Over 132 months     Over 30 mph      32   \n",
       "3   6-15 miles     0-30 minutes  Over 132 months     17.3-30 mph      30   \n",
       "4   6-15 miles  Over 60 minutes  Over 132 months  17 mph or less      31   \n",
       "\n",
       "  Distance-ch      Duration-ch          Time-ch    Impedance-ch  Stress-ch  \\\n",
       "0   0-5 miles  Over 60 minutes  Over 132 months     Over 30 mph         32   \n",
       "1  6-15 miles  Over 60 minutes    60-131 months     Over 30 mph         33   \n",
       "2  6-15 miles     0-30 minutes     30-60 months     Over 30 mph         23   \n",
       "3  6-15 miles     0-30 minutes    60-131 months  17 mph or less         27   \n",
       "4  6-15 miles     0-30 minutes  Over 132 months  17 mph or less         25   \n",
       "\n",
       "   Distance Score  Distance-ch Score  Duration Score  Duration-ch Score  \\\n",
       "0               3                  0               6                  6   \n",
       "1               0                  2               4                  6   \n",
       "2               2                  2               4                  0   \n",
       "3               2                  2               0                  0   \n",
       "4               2                  2               6                  0   \n",
       "\n",
       "   Time Score  Time-ch Score Impedance Score Impedance-ch Score  \n",
       "0           0              6     17.3-30 mph        Over 30 mph  \n",
       "1           6              3     Over 30 mph        Over 30 mph  \n",
       "2           6              1     Over 30 mph        Over 30 mph  \n",
       "3           6              3     17.3-30 mph     17 mph or less  \n",
       "4           6              6  17 mph or less     17 mph or less  "
      ]
     },
     "execution_count": 116,
     "metadata": {},
     "output_type": "execute_result"
    }
   ],
   "source": [
    "# Score impedance\n",
    "# take a copy of the impendace data and put it in a new column\n",
    "# for the distributon model\n",
    "df['Impedance Score'] = df['Impedance']\n",
    "# for random choice\n",
    "df['Impedance-ch Score'] = df['Impedance-ch']\n",
    "# check the first few values\n",
    "df.head()       "
   ]
  },
  {
   "cell_type": "code",
   "execution_count": 117,
   "metadata": {},
   "outputs": [
    {
     "data": {
      "text/html": [
       "<div>\n",
       "<style scoped>\n",
       "    .dataframe tbody tr th:only-of-type {\n",
       "        vertical-align: middle;\n",
       "    }\n",
       "\n",
       "    .dataframe tbody tr th {\n",
       "        vertical-align: top;\n",
       "    }\n",
       "\n",
       "    .dataframe thead th {\n",
       "        text-align: right;\n",
       "    }\n",
       "</style>\n",
       "<table border=\"1\" class=\"dataframe\">\n",
       "  <thead>\n",
       "    <tr style=\"text-align: right;\">\n",
       "      <th></th>\n",
       "      <th>Distance</th>\n",
       "      <th>Duration</th>\n",
       "      <th>Time</th>\n",
       "      <th>Impedance</th>\n",
       "      <th>Stress</th>\n",
       "      <th>Distance-ch</th>\n",
       "      <th>Duration-ch</th>\n",
       "      <th>Time-ch</th>\n",
       "      <th>Impedance-ch</th>\n",
       "      <th>Stress-ch</th>\n",
       "      <th>Distance Score</th>\n",
       "      <th>Distance-ch Score</th>\n",
       "      <th>Duration Score</th>\n",
       "      <th>Duration-ch Score</th>\n",
       "      <th>Time Score</th>\n",
       "      <th>Time-ch Score</th>\n",
       "      <th>Impedance Score</th>\n",
       "      <th>Impedance-ch Score</th>\n",
       "    </tr>\n",
       "  </thead>\n",
       "  <tbody>\n",
       "    <tr>\n",
       "      <th>0</th>\n",
       "      <td>16-30 miles</td>\n",
       "      <td>Over 60 minutes</td>\n",
       "      <td>1-29 months</td>\n",
       "      <td>17.3-30 mph</td>\n",
       "      <td>29</td>\n",
       "      <td>0-5 miles</td>\n",
       "      <td>Over 60 minutes</td>\n",
       "      <td>Over 132 months</td>\n",
       "      <td>Over 30 mph</td>\n",
       "      <td>32</td>\n",
       "      <td>3</td>\n",
       "      <td>0</td>\n",
       "      <td>6</td>\n",
       "      <td>6</td>\n",
       "      <td>0</td>\n",
       "      <td>6</td>\n",
       "      <td>7</td>\n",
       "      <td>0</td>\n",
       "    </tr>\n",
       "    <tr>\n",
       "      <th>1</th>\n",
       "      <td>0-5 miles</td>\n",
       "      <td>30-60 minutes</td>\n",
       "      <td>Over 132 months</td>\n",
       "      <td>Over 30 mph</td>\n",
       "      <td>32</td>\n",
       "      <td>6-15 miles</td>\n",
       "      <td>Over 60 minutes</td>\n",
       "      <td>60-131 months</td>\n",
       "      <td>Over 30 mph</td>\n",
       "      <td>33</td>\n",
       "      <td>0</td>\n",
       "      <td>2</td>\n",
       "      <td>4</td>\n",
       "      <td>6</td>\n",
       "      <td>6</td>\n",
       "      <td>3</td>\n",
       "      <td>0</td>\n",
       "      <td>0</td>\n",
       "    </tr>\n",
       "    <tr>\n",
       "      <th>2</th>\n",
       "      <td>6-15 miles</td>\n",
       "      <td>30-60 minutes</td>\n",
       "      <td>Over 132 months</td>\n",
       "      <td>Over 30 mph</td>\n",
       "      <td>32</td>\n",
       "      <td>6-15 miles</td>\n",
       "      <td>0-30 minutes</td>\n",
       "      <td>30-60 months</td>\n",
       "      <td>Over 30 mph</td>\n",
       "      <td>23</td>\n",
       "      <td>2</td>\n",
       "      <td>2</td>\n",
       "      <td>4</td>\n",
       "      <td>0</td>\n",
       "      <td>6</td>\n",
       "      <td>1</td>\n",
       "      <td>0</td>\n",
       "      <td>0</td>\n",
       "    </tr>\n",
       "    <tr>\n",
       "      <th>3</th>\n",
       "      <td>6-15 miles</td>\n",
       "      <td>0-30 minutes</td>\n",
       "      <td>Over 132 months</td>\n",
       "      <td>17.3-30 mph</td>\n",
       "      <td>30</td>\n",
       "      <td>6-15 miles</td>\n",
       "      <td>0-30 minutes</td>\n",
       "      <td>60-131 months</td>\n",
       "      <td>17 mph or less</td>\n",
       "      <td>27</td>\n",
       "      <td>2</td>\n",
       "      <td>2</td>\n",
       "      <td>0</td>\n",
       "      <td>0</td>\n",
       "      <td>6</td>\n",
       "      <td>3</td>\n",
       "      <td>7</td>\n",
       "      <td>13</td>\n",
       "    </tr>\n",
       "    <tr>\n",
       "      <th>4</th>\n",
       "      <td>6-15 miles</td>\n",
       "      <td>Over 60 minutes</td>\n",
       "      <td>Over 132 months</td>\n",
       "      <td>17 mph or less</td>\n",
       "      <td>31</td>\n",
       "      <td>6-15 miles</td>\n",
       "      <td>0-30 minutes</td>\n",
       "      <td>Over 132 months</td>\n",
       "      <td>17 mph or less</td>\n",
       "      <td>25</td>\n",
       "      <td>2</td>\n",
       "      <td>2</td>\n",
       "      <td>6</td>\n",
       "      <td>0</td>\n",
       "      <td>6</td>\n",
       "      <td>6</td>\n",
       "      <td>13</td>\n",
       "      <td>13</td>\n",
       "    </tr>\n",
       "  </tbody>\n",
       "</table>\n",
       "</div>"
      ],
      "text/plain": [
       "      Distance         Duration             Time       Impedance  Stress  \\\n",
       "0  16-30 miles  Over 60 minutes      1-29 months     17.3-30 mph      29   \n",
       "1    0-5 miles    30-60 minutes  Over 132 months     Over 30 mph      32   \n",
       "2   6-15 miles    30-60 minutes  Over 132 months     Over 30 mph      32   \n",
       "3   6-15 miles     0-30 minutes  Over 132 months     17.3-30 mph      30   \n",
       "4   6-15 miles  Over 60 minutes  Over 132 months  17 mph or less      31   \n",
       "\n",
       "  Distance-ch      Duration-ch          Time-ch    Impedance-ch  Stress-ch  \\\n",
       "0   0-5 miles  Over 60 minutes  Over 132 months     Over 30 mph         32   \n",
       "1  6-15 miles  Over 60 minutes    60-131 months     Over 30 mph         33   \n",
       "2  6-15 miles     0-30 minutes     30-60 months     Over 30 mph         23   \n",
       "3  6-15 miles     0-30 minutes    60-131 months  17 mph or less         27   \n",
       "4  6-15 miles     0-30 minutes  Over 132 months  17 mph or less         25   \n",
       "\n",
       "   Distance Score  Distance-ch Score  Duration Score  Duration-ch Score  \\\n",
       "0               3                  0               6                  6   \n",
       "1               0                  2               4                  6   \n",
       "2               2                  2               4                  0   \n",
       "3               2                  2               0                  0   \n",
       "4               2                  2               6                  0   \n",
       "\n",
       "   Time Score  Time-ch Score  Impedance Score  Impedance-ch Score  \n",
       "0           0              6                7                   0  \n",
       "1           6              3                0                   0  \n",
       "2           6              1                0                   0  \n",
       "3           6              3                7                  13  \n",
       "4           6              6               13                  13  "
      ]
     },
     "execution_count": 117,
     "metadata": {},
     "output_type": "execute_result"
    }
   ],
   "source": [
    "# find all values in impendace that are '17 mph or less' and set it to 2 in the impedance score column\n",
    "# the slower the speed the more the stress\n",
    "# for the distributon model\n",
    "df.loc[df['Impedance'] == '17 mph or less', 'Impedance Score'] = 13\n",
    "df.loc[df['Impedance'] == '17.3-30 mph', 'Impedance Score'] = 7\n",
    "df.loc[df['Impedance'] == 'Over 30 mph', 'Impedance Score'] = 0\n",
    "# for random choice\n",
    "df.loc[df['Impedance-ch'] == '17 mph or less', 'Impedance-ch Score'] = 13\n",
    "df.loc[df['Impedance-ch'] == '17.3-30 mph', 'Impedance-ch Score'] = 7\n",
    "df.loc[df['Impedance-ch'] == 'Over 30 mph', 'Impedance-ch Score'] = 0\n",
    "# check the first few values\n",
    "df.head()"
   ]
  },
  {
   "cell_type": "code",
   "execution_count": 118,
   "metadata": {},
   "outputs": [
    {
     "data": {
      "text/html": [
       "<div>\n",
       "<style scoped>\n",
       "    .dataframe tbody tr th:only-of-type {\n",
       "        vertical-align: middle;\n",
       "    }\n",
       "\n",
       "    .dataframe tbody tr th {\n",
       "        vertical-align: top;\n",
       "    }\n",
       "\n",
       "    .dataframe thead th {\n",
       "        text-align: right;\n",
       "    }\n",
       "</style>\n",
       "<table border=\"1\" class=\"dataframe\">\n",
       "  <thead>\n",
       "    <tr style=\"text-align: right;\">\n",
       "      <th></th>\n",
       "      <th>Distance</th>\n",
       "      <th>Duration</th>\n",
       "      <th>Time</th>\n",
       "      <th>Impedance</th>\n",
       "      <th>Stress</th>\n",
       "      <th>Distance-ch</th>\n",
       "      <th>Duration-ch</th>\n",
       "      <th>Time-ch</th>\n",
       "      <th>Impedance-ch</th>\n",
       "      <th>Stress-ch</th>\n",
       "      <th>Distance Score</th>\n",
       "      <th>Distance-ch Score</th>\n",
       "      <th>Duration Score</th>\n",
       "      <th>Duration-ch Score</th>\n",
       "      <th>Time Score</th>\n",
       "      <th>Time-ch Score</th>\n",
       "      <th>Impedance Score</th>\n",
       "      <th>Impedance-ch Score</th>\n",
       "    </tr>\n",
       "  </thead>\n",
       "  <tbody>\n",
       "    <tr>\n",
       "      <th>0</th>\n",
       "      <td>16-30 miles</td>\n",
       "      <td>Over 60 minutes</td>\n",
       "      <td>1-29 months</td>\n",
       "      <td>17.3-30 mph</td>\n",
       "      <td>36</td>\n",
       "      <td>0-5 miles</td>\n",
       "      <td>Over 60 minutes</td>\n",
       "      <td>Over 132 months</td>\n",
       "      <td>Over 30 mph</td>\n",
       "      <td>32</td>\n",
       "      <td>3</td>\n",
       "      <td>0</td>\n",
       "      <td>6</td>\n",
       "      <td>6</td>\n",
       "      <td>0</td>\n",
       "      <td>6</td>\n",
       "      <td>7</td>\n",
       "      <td>0</td>\n",
       "    </tr>\n",
       "    <tr>\n",
       "      <th>1</th>\n",
       "      <td>0-5 miles</td>\n",
       "      <td>30-60 minutes</td>\n",
       "      <td>Over 132 months</td>\n",
       "      <td>Over 30 mph</td>\n",
       "      <td>32</td>\n",
       "      <td>6-15 miles</td>\n",
       "      <td>Over 60 minutes</td>\n",
       "      <td>60-131 months</td>\n",
       "      <td>Over 30 mph</td>\n",
       "      <td>33</td>\n",
       "      <td>0</td>\n",
       "      <td>2</td>\n",
       "      <td>4</td>\n",
       "      <td>6</td>\n",
       "      <td>6</td>\n",
       "      <td>3</td>\n",
       "      <td>0</td>\n",
       "      <td>0</td>\n",
       "    </tr>\n",
       "    <tr>\n",
       "      <th>2</th>\n",
       "      <td>6-15 miles</td>\n",
       "      <td>30-60 minutes</td>\n",
       "      <td>Over 132 months</td>\n",
       "      <td>Over 30 mph</td>\n",
       "      <td>32</td>\n",
       "      <td>6-15 miles</td>\n",
       "      <td>0-30 minutes</td>\n",
       "      <td>30-60 months</td>\n",
       "      <td>Over 30 mph</td>\n",
       "      <td>23</td>\n",
       "      <td>2</td>\n",
       "      <td>2</td>\n",
       "      <td>4</td>\n",
       "      <td>0</td>\n",
       "      <td>6</td>\n",
       "      <td>1</td>\n",
       "      <td>0</td>\n",
       "      <td>0</td>\n",
       "    </tr>\n",
       "    <tr>\n",
       "      <th>3</th>\n",
       "      <td>6-15 miles</td>\n",
       "      <td>0-30 minutes</td>\n",
       "      <td>Over 132 months</td>\n",
       "      <td>17.3-30 mph</td>\n",
       "      <td>37</td>\n",
       "      <td>6-15 miles</td>\n",
       "      <td>0-30 minutes</td>\n",
       "      <td>60-131 months</td>\n",
       "      <td>17 mph or less</td>\n",
       "      <td>40</td>\n",
       "      <td>2</td>\n",
       "      <td>2</td>\n",
       "      <td>0</td>\n",
       "      <td>0</td>\n",
       "      <td>6</td>\n",
       "      <td>3</td>\n",
       "      <td>7</td>\n",
       "      <td>13</td>\n",
       "    </tr>\n",
       "    <tr>\n",
       "      <th>4</th>\n",
       "      <td>6-15 miles</td>\n",
       "      <td>Over 60 minutes</td>\n",
       "      <td>Over 132 months</td>\n",
       "      <td>17 mph or less</td>\n",
       "      <td>44</td>\n",
       "      <td>6-15 miles</td>\n",
       "      <td>0-30 minutes</td>\n",
       "      <td>Over 132 months</td>\n",
       "      <td>17 mph or less</td>\n",
       "      <td>38</td>\n",
       "      <td>2</td>\n",
       "      <td>2</td>\n",
       "      <td>6</td>\n",
       "      <td>0</td>\n",
       "      <td>6</td>\n",
       "      <td>6</td>\n",
       "      <td>13</td>\n",
       "      <td>13</td>\n",
       "    </tr>\n",
       "  </tbody>\n",
       "</table>\n",
       "</div>"
      ],
      "text/plain": [
       "      Distance         Duration             Time       Impedance  Stress  \\\n",
       "0  16-30 miles  Over 60 minutes      1-29 months     17.3-30 mph      36   \n",
       "1    0-5 miles    30-60 minutes  Over 132 months     Over 30 mph      32   \n",
       "2   6-15 miles    30-60 minutes  Over 132 months     Over 30 mph      32   \n",
       "3   6-15 miles     0-30 minutes  Over 132 months     17.3-30 mph      37   \n",
       "4   6-15 miles  Over 60 minutes  Over 132 months  17 mph or less      44   \n",
       "\n",
       "  Distance-ch      Duration-ch          Time-ch    Impedance-ch  Stress-ch  \\\n",
       "0   0-5 miles  Over 60 minutes  Over 132 months     Over 30 mph         32   \n",
       "1  6-15 miles  Over 60 minutes    60-131 months     Over 30 mph         33   \n",
       "2  6-15 miles     0-30 minutes     30-60 months     Over 30 mph         23   \n",
       "3  6-15 miles     0-30 minutes    60-131 months  17 mph or less         40   \n",
       "4  6-15 miles     0-30 minutes  Over 132 months  17 mph or less         38   \n",
       "\n",
       "   Distance Score  Distance-ch Score  Duration Score  Duration-ch Score  \\\n",
       "0               3                  0               6                  6   \n",
       "1               0                  2               4                  6   \n",
       "2               2                  2               4                  0   \n",
       "3               2                  2               0                  0   \n",
       "4               2                  2               6                  0   \n",
       "\n",
       "   Time Score  Time-ch Score  Impedance Score  Impedance-ch Score  \n",
       "0           0              6                7                   0  \n",
       "1           6              3                0                   0  \n",
       "2           6              1                0                   0  \n",
       "3           6              3                7                  13  \n",
       "4           6              6               13                  13  "
      ]
     },
     "execution_count": 118,
     "metadata": {},
     "output_type": "execute_result"
    }
   ],
   "source": [
    "# add the impedance score to the stress value\n",
    "# for the distributon model\n",
    "df['Stress'] = df['Stress'] + df['Impedance Score']\n",
    "# for random choice\n",
    "df['Stress-ch'] = df['Stress-ch'] + df['Impedance-ch Score']\n",
    "# check it\n",
    "df.head()"
   ]
  },
  {
   "cell_type": "markdown",
   "metadata": {},
   "source": [
    "This brings the maximum possible stress score to 90 and the minimum possible score remains at 0. "
   ]
  },
  {
   "cell_type": "markdown",
   "metadata": {},
   "source": [
    "Now that the stress score is calculated, the intermediate columns in the dataframe can be removed. The 'Stress' field is also renamed 'Stress Score (Dis)' and 'Stress-ch' renamed 'Stress Score (Ch)'."
   ]
  },
  {
   "cell_type": "code",
   "execution_count": 119,
   "metadata": {},
   "outputs": [
    {
     "data": {
      "text/html": [
       "<div>\n",
       "<style scoped>\n",
       "    .dataframe tbody tr th:only-of-type {\n",
       "        vertical-align: middle;\n",
       "    }\n",
       "\n",
       "    .dataframe tbody tr th {\n",
       "        vertical-align: top;\n",
       "    }\n",
       "\n",
       "    .dataframe thead th {\n",
       "        text-align: right;\n",
       "    }\n",
       "</style>\n",
       "<table border=\"1\" class=\"dataframe\">\n",
       "  <thead>\n",
       "    <tr style=\"text-align: right;\">\n",
       "      <th></th>\n",
       "      <th>Distance</th>\n",
       "      <th>Duration</th>\n",
       "      <th>Time</th>\n",
       "      <th>Impedance</th>\n",
       "      <th>Stress Score (Dis)</th>\n",
       "      <th>Distance-ch</th>\n",
       "      <th>Duration-ch</th>\n",
       "      <th>Time-ch</th>\n",
       "      <th>Impedance-ch</th>\n",
       "      <th>Stress Score (Ch)</th>\n",
       "    </tr>\n",
       "  </thead>\n",
       "  <tbody>\n",
       "    <tr>\n",
       "      <th>0</th>\n",
       "      <td>16-30 miles</td>\n",
       "      <td>Over 60 minutes</td>\n",
       "      <td>1-29 months</td>\n",
       "      <td>17.3-30 mph</td>\n",
       "      <td>36</td>\n",
       "      <td>0-5 miles</td>\n",
       "      <td>Over 60 minutes</td>\n",
       "      <td>Over 132 months</td>\n",
       "      <td>Over 30 mph</td>\n",
       "      <td>32</td>\n",
       "    </tr>\n",
       "    <tr>\n",
       "      <th>1</th>\n",
       "      <td>0-5 miles</td>\n",
       "      <td>30-60 minutes</td>\n",
       "      <td>Over 132 months</td>\n",
       "      <td>Over 30 mph</td>\n",
       "      <td>32</td>\n",
       "      <td>6-15 miles</td>\n",
       "      <td>Over 60 minutes</td>\n",
       "      <td>60-131 months</td>\n",
       "      <td>Over 30 mph</td>\n",
       "      <td>33</td>\n",
       "    </tr>\n",
       "    <tr>\n",
       "      <th>2</th>\n",
       "      <td>6-15 miles</td>\n",
       "      <td>30-60 minutes</td>\n",
       "      <td>Over 132 months</td>\n",
       "      <td>Over 30 mph</td>\n",
       "      <td>32</td>\n",
       "      <td>6-15 miles</td>\n",
       "      <td>0-30 minutes</td>\n",
       "      <td>30-60 months</td>\n",
       "      <td>Over 30 mph</td>\n",
       "      <td>23</td>\n",
       "    </tr>\n",
       "    <tr>\n",
       "      <th>3</th>\n",
       "      <td>6-15 miles</td>\n",
       "      <td>0-30 minutes</td>\n",
       "      <td>Over 132 months</td>\n",
       "      <td>17.3-30 mph</td>\n",
       "      <td>37</td>\n",
       "      <td>6-15 miles</td>\n",
       "      <td>0-30 minutes</td>\n",
       "      <td>60-131 months</td>\n",
       "      <td>17 mph or less</td>\n",
       "      <td>40</td>\n",
       "    </tr>\n",
       "    <tr>\n",
       "      <th>4</th>\n",
       "      <td>6-15 miles</td>\n",
       "      <td>Over 60 minutes</td>\n",
       "      <td>Over 132 months</td>\n",
       "      <td>17 mph or less</td>\n",
       "      <td>44</td>\n",
       "      <td>6-15 miles</td>\n",
       "      <td>0-30 minutes</td>\n",
       "      <td>Over 132 months</td>\n",
       "      <td>17 mph or less</td>\n",
       "      <td>38</td>\n",
       "    </tr>\n",
       "  </tbody>\n",
       "</table>\n",
       "</div>"
      ],
      "text/plain": [
       "      Distance         Duration             Time       Impedance  \\\n",
       "0  16-30 miles  Over 60 minutes      1-29 months     17.3-30 mph   \n",
       "1    0-5 miles    30-60 minutes  Over 132 months     Over 30 mph   \n",
       "2   6-15 miles    30-60 minutes  Over 132 months     Over 30 mph   \n",
       "3   6-15 miles     0-30 minutes  Over 132 months     17.3-30 mph   \n",
       "4   6-15 miles  Over 60 minutes  Over 132 months  17 mph or less   \n",
       "\n",
       "   Stress Score (Dis) Distance-ch      Duration-ch          Time-ch  \\\n",
       "0                  36   0-5 miles  Over 60 minutes  Over 132 months   \n",
       "1                  32  6-15 miles  Over 60 minutes    60-131 months   \n",
       "2                  32  6-15 miles     0-30 minutes     30-60 months   \n",
       "3                  37  6-15 miles     0-30 minutes    60-131 months   \n",
       "4                  44  6-15 miles     0-30 minutes  Over 132 months   \n",
       "\n",
       "     Impedance-ch  Stress Score (Ch)  \n",
       "0     Over 30 mph                 32  \n",
       "1     Over 30 mph                 33  \n",
       "2     Over 30 mph                 23  \n",
       "3  17 mph or less                 40  \n",
       "4  17 mph or less                 38  "
      ]
     },
     "execution_count": 119,
     "metadata": {},
     "output_type": "execute_result"
    }
   ],
   "source": [
    "# drop variable score values as they are now in the stress column\n",
    "df.drop(['Impedance Score', 'Distance Score', 'Duration Score', 'Time Score','Impedance-ch Score', 'Distance-ch Score', 'Duration-ch Score','Time-ch Score'], axis=1, inplace = True)\n",
    "# rename Stress as Stress Score\n",
    "df.rename(columns={'Stress': 'Stress Score (Dis)', 'Stress-ch': 'Stress Score (Ch)'}, inplace = True)\n",
    "df.head()\n"
   ]
  },
  {
   "cell_type": "markdown",
   "metadata": {},
   "source": [
    "Split the dataframe into the two models"
   ]
  },
  {
   "cell_type": "code",
   "execution_count": 120,
   "metadata": {},
   "outputs": [
    {
     "data": {
      "text/html": [
       "<div>\n",
       "<style scoped>\n",
       "    .dataframe tbody tr th:only-of-type {\n",
       "        vertical-align: middle;\n",
       "    }\n",
       "\n",
       "    .dataframe tbody tr th {\n",
       "        vertical-align: top;\n",
       "    }\n",
       "\n",
       "    .dataframe thead th {\n",
       "        text-align: right;\n",
       "    }\n",
       "</style>\n",
       "<table border=\"1\" class=\"dataframe\">\n",
       "  <thead>\n",
       "    <tr style=\"text-align: right;\">\n",
       "      <th></th>\n",
       "      <th>Distance-ch</th>\n",
       "      <th>Duration-ch</th>\n",
       "      <th>Time-ch</th>\n",
       "      <th>Impedance-ch</th>\n",
       "      <th>Stress Score (Ch)</th>\n",
       "    </tr>\n",
       "  </thead>\n",
       "  <tbody>\n",
       "    <tr>\n",
       "      <th>0</th>\n",
       "      <td>0-5 miles</td>\n",
       "      <td>Over 60 minutes</td>\n",
       "      <td>Over 132 months</td>\n",
       "      <td>Over 30 mph</td>\n",
       "      <td>32</td>\n",
       "    </tr>\n",
       "    <tr>\n",
       "      <th>1</th>\n",
       "      <td>6-15 miles</td>\n",
       "      <td>Over 60 minutes</td>\n",
       "      <td>60-131 months</td>\n",
       "      <td>Over 30 mph</td>\n",
       "      <td>33</td>\n",
       "    </tr>\n",
       "    <tr>\n",
       "      <th>2</th>\n",
       "      <td>6-15 miles</td>\n",
       "      <td>0-30 minutes</td>\n",
       "      <td>30-60 months</td>\n",
       "      <td>Over 30 mph</td>\n",
       "      <td>23</td>\n",
       "    </tr>\n",
       "    <tr>\n",
       "      <th>3</th>\n",
       "      <td>6-15 miles</td>\n",
       "      <td>0-30 minutes</td>\n",
       "      <td>60-131 months</td>\n",
       "      <td>17 mph or less</td>\n",
       "      <td>40</td>\n",
       "    </tr>\n",
       "    <tr>\n",
       "      <th>4</th>\n",
       "      <td>6-15 miles</td>\n",
       "      <td>0-30 minutes</td>\n",
       "      <td>Over 132 months</td>\n",
       "      <td>17 mph or less</td>\n",
       "      <td>38</td>\n",
       "    </tr>\n",
       "  </tbody>\n",
       "</table>\n",
       "</div>"
      ],
      "text/plain": [
       "  Distance-ch      Duration-ch          Time-ch    Impedance-ch  \\\n",
       "0   0-5 miles  Over 60 minutes  Over 132 months     Over 30 mph   \n",
       "1  6-15 miles  Over 60 minutes    60-131 months     Over 30 mph   \n",
       "2  6-15 miles     0-30 minutes     30-60 months     Over 30 mph   \n",
       "3  6-15 miles     0-30 minutes    60-131 months  17 mph or less   \n",
       "4  6-15 miles     0-30 minutes  Over 132 months  17 mph or less   \n",
       "\n",
       "   Stress Score (Ch)  \n",
       "0                 32  \n",
       "1                 33  \n",
       "2                 23  \n",
       "3                 40  \n",
       "4                 38  "
      ]
     },
     "execution_count": 120,
     "metadata": {},
     "output_type": "execute_result"
    }
   ],
   "source": [
    "model1= df.drop(['Distance', 'Duration', 'Time', 'Impedance', 'Stress Score (Dis)'], axis=1)\n",
    "model1.head()"
   ]
  },
  {
   "cell_type": "code",
   "execution_count": 121,
   "metadata": {},
   "outputs": [],
   "source": [
    "model2= df.drop(['Distance-ch', 'Duration-ch', 'Time-ch', 'Impedance-ch', 'Stress Score (Ch)'], axis=1)\n",
    "model2.head()"
   ]
  },
  {
   "cell_type": "code",
   "execution_count": 122,
   "metadata": {},
   "outputs": [
    {
     "data": {
      "text/html": [
       "<div>\n",
       "<style scoped>\n",
       "    .dataframe tbody tr th:only-of-type {\n",
       "        vertical-align: middle;\n",
       "    }\n",
       "\n",
       "    .dataframe tbody tr th {\n",
       "        vertical-align: top;\n",
       "    }\n",
       "\n",
       "    .dataframe thead th {\n",
       "        text-align: right;\n",
       "    }\n",
       "</style>\n",
       "<table border=\"1\" class=\"dataframe\">\n",
       "  <thead>\n",
       "    <tr style=\"text-align: right;\">\n",
       "      <th></th>\n",
       "      <th>Distance</th>\n",
       "      <th>Duration</th>\n",
       "      <th>Time</th>\n",
       "      <th>Impedance</th>\n",
       "      <th>Stress Score (Dis)</th>\n",
       "    </tr>\n",
       "  </thead>\n",
       "  <tbody>\n",
       "    <tr>\n",
       "      <th>0</th>\n",
       "      <td>16-30 miles</td>\n",
       "      <td>Over 60 minutes</td>\n",
       "      <td>1-29 months</td>\n",
       "      <td>17.3-30 mph</td>\n",
       "      <td>36</td>\n",
       "    </tr>\n",
       "    <tr>\n",
       "      <th>1</th>\n",
       "      <td>0-5 miles</td>\n",
       "      <td>30-60 minutes</td>\n",
       "      <td>Over 132 months</td>\n",
       "      <td>Over 30 mph</td>\n",
       "      <td>32</td>\n",
       "    </tr>\n",
       "    <tr>\n",
       "      <th>2</th>\n",
       "      <td>6-15 miles</td>\n",
       "      <td>30-60 minutes</td>\n",
       "      <td>Over 132 months</td>\n",
       "      <td>Over 30 mph</td>\n",
       "      <td>32</td>\n",
       "    </tr>\n",
       "    <tr>\n",
       "      <th>3</th>\n",
       "      <td>6-15 miles</td>\n",
       "      <td>0-30 minutes</td>\n",
       "      <td>Over 132 months</td>\n",
       "      <td>17.3-30 mph</td>\n",
       "      <td>37</td>\n",
       "    </tr>\n",
       "    <tr>\n",
       "      <th>4</th>\n",
       "      <td>6-15 miles</td>\n",
       "      <td>Over 60 minutes</td>\n",
       "      <td>Over 132 months</td>\n",
       "      <td>17 mph or less</td>\n",
       "      <td>44</td>\n",
       "    </tr>\n",
       "  </tbody>\n",
       "</table>\n",
       "</div>"
      ],
      "text/plain": [
       "      Distance         Duration             Time       Impedance  \\\n",
       "0  16-30 miles  Over 60 minutes      1-29 months     17.3-30 mph   \n",
       "1    0-5 miles    30-60 minutes  Over 132 months     Over 30 mph   \n",
       "2   6-15 miles    30-60 minutes  Over 132 months     Over 30 mph   \n",
       "3   6-15 miles     0-30 minutes  Over 132 months     17.3-30 mph   \n",
       "4   6-15 miles  Over 60 minutes  Over 132 months  17 mph or less   \n",
       "\n",
       "   Stress Score (Dis)  \n",
       "0                  36  \n",
       "1                  32  \n",
       "2                  32  \n",
       "3                  37  \n",
       "4                  44  "
      ]
     },
     "execution_count": 122,
     "metadata": {},
     "output_type": "execute_result"
    }
   ],
   "source": [
    "model2.head()"
   ]
  },
  {
   "cell_type": "markdown",
   "metadata": {},
   "source": [
    " ## The simulated data for *Commuting and Stress*\n",
    " \n",
    " \n",
    " The simulated dataset is below along with the information and description of it. As the only numeric value in the table is stress, only this field is reported in the description.                     \n"
   ]
  },
  {
   "cell_type": "code",
   "execution_count": null,
   "metadata": {},
   "outputs": [],
   "source": [
    "df"
   ]
  },
  {
   "cell_type": "code",
   "execution_count": null,
   "metadata": {},
   "outputs": [],
   "source": [
    "df.info()"
   ]
  },
  {
   "cell_type": "code",
   "execution_count": null,
   "metadata": {},
   "outputs": [],
   "source": [
    "df.describe()"
   ]
  },
  {
   "cell_type": "code",
   "execution_count": null,
   "metadata": {},
   "outputs": [],
   "source": [
    "df.nunique()"
   ]
  },
  {
   "cell_type": "markdown",
   "metadata": {},
   "source": [
    "## Compare the simulated model\n",
    "\n",
    "There were two simulated models for the first four variables (distance, duration, time and impedance). One using Cassidy's data with probabilities entered into np.random.choice and one using distributions generated by np.random.lognormal, np.random.beta and np.random.normal. The stress score was calculated with the data from the second model \n"
   ]
  },
  {
   "cell_type": "code",
   "execution_count": 145,
   "metadata": {},
   "outputs": [
    {
     "data": {
      "text/plain": [
       "<matplotlib.axes._subplots.AxesSubplot at 0x2948ecbaba8>"
      ]
     },
     "execution_count": 145,
     "metadata": {},
     "output_type": "execute_result"
    },
    {
     "data": {
      "image/png": "[encoded data removed]",
      "text/plain": [
       "<Figure size 432x288 with 1 Axes>"
      ]
     },
     "metadata": {
      "needs_background": "light"
     },
     "output_type": "display_data"
    }
   ],
   "source": [
    "#model1[['Distance-ch','Stress Score (Ch)']].reindex(['0-5 miles', '6-15 miles',  '16-30 miles', 'Over 30 miles']).plot(kind='bar')"
   ]
  },
  {
   "cell_type": "code",
   "execution_count": 146,
   "metadata": {
    "scrolled": true
   },
   "outputs": [
    {
     "data": {
      "image/png": "[encoded data removed]",
      "text/plain": [
       "<Figure size 432x288 with 1 Axes>"
      ]
     },
     "metadata": {
      "needs_background": "light"
     },
     "output_type": "display_data"
    },
    {
     "data": {
      "image/png": "[encoded data removed]",
      "text/plain": [
       "<Figure size 432x288 with 1 Axes>"
      ]
     },
     "metadata": {
      "needs_background": "light"
     },
     "output_type": "display_data"
    }
   ],
   "source": [
    "plt.bar(model1['Distance-ch'], model1['Stress Score (Ch)'])\n",
    "plt.title(\"Distance vs Stress score - with np.random.choice\")\n",
    "plt.xlabel(\"Distance commuted\")\n",
    "plt.ylabel(\"Stress Score\")\n",
    "plt.show() \n",
    "\n",
    "plt.bar(model2['Distance'], model2['Stress Score (Dis)'])\n",
    "plt.title(\"Distance vs Stress score - with np.random distributions\")\n",
    "plt.xlabel(\"Distance commuted\")\n",
    "plt.ylabel(\"Stress Score\")\n",
    "plt.show() "
   ]
  },
  {
   "cell_type": "markdown",
   "metadata": {},
   "source": [
    "This shows fairly similar stress levels over all the bands - This might have to be weighted differently to better model the link between distance and stress. "
   ]
  },
  {
   "cell_type": "code",
   "execution_count": 128,
   "metadata": {
    "scrolled": true
   },
   "outputs": [
    {
     "data": {
      "image/png": "[encoded data removed]",
      "text/plain": [
       "<Figure size 432x288 with 1 Axes>"
      ]
     },
     "metadata": {
      "needs_background": "light"
     },
     "output_type": "display_data"
    },
    {
     "data": {
      "image/png": "[encoded data removed]",
      "text/plain": [
       "<Figure size 432x288 with 1 Axes>"
      ]
     },
     "metadata": {
      "needs_background": "light"
     },
     "output_type": "display_data"
    }
   ],
   "source": [
    "plt.bar(model1['Duration-ch'], df['Stress Score (Ch)'])\n",
    "plt.title(\"Duration vs Stress score - with np.random.choice\")\n",
    "plt.xlabel(\"Duration of the commute\")\n",
    "plt.ylabel(\"Stress Score\")\n",
    "plt.show() \n",
    "\n",
    "plt.bar(model2['Duration'], df['Stress Score (Dis)'])\n",
    "plt.title(\"Duration vs Stress score - with np.random distributions\")\n",
    "plt.xlabel(\"Duration of the commute\")\n",
    "plt.ylabel(\"Stress Score\")\n",
    "plt.show() "
   ]
  },
  {
   "cell_type": "markdown",
   "metadata": {},
   "source": [
    "Again this is not as clear indication of increased stress linked to increasing duration of commute as I would like. Maybe the weightings for the duration score need adjusting. "
   ]
  },
  {
   "cell_type": "code",
   "execution_count": 129,
   "metadata": {
    "scrolled": true
   },
   "outputs": [
    {
     "data": {
      "image/png": "[encoded data removed]",
      "text/plain": [
       "<Figure size 720x360 with 1 Axes>"
      ]
     },
     "metadata": {
      "needs_background": "light"
     },
     "output_type": "display_data"
    },
    {
     "data": {
      "image/png": "[encoded data removed]",
      "text/plain": [
       "<Figure size 720x360 with 1 Axes>"
      ]
     },
     "metadata": {
      "needs_background": "light"
     },
     "output_type": "display_data"
    }
   ],
   "source": [
    "# labels are a bit squiched so use figsize\n",
    "plt.figure(figsize=(10,5))\n",
    "plt.bar(model1['Time-ch'], df['Stress Score (Ch)'])\n",
    "plt.title(\"Time vs Stress score - with np.random.choice\")\n",
    "plt.xlabel(\"Time spend commuting this distance\")\n",
    "plt.ylabel(\"Stress Score\")\n",
    "plt.show() \n",
    "\n",
    "plt.figure(figsize=(10,5))\n",
    "plt.bar(model2['Time'], df['Stress Score (Dis)'])\n",
    "plt.title(\"Time vs Stress score - with np.random distributions\")\n",
    "plt.xlabel(\"Time spend commuting this distance\")\n",
    "plt.ylabel(\"Stress Score\")\n",
    "plt.show() "
   ]
  },
  {
   "cell_type": "markdown",
   "metadata": {},
   "source": [
    "This looks to be of the right shape at the over 132 months but the weightings may be off on the other time bands."
   ]
  },
  {
   "cell_type": "code",
   "execution_count": 130,
   "metadata": {
    "scrolled": true
   },
   "outputs": [
    {
     "data": {
      "image/png": "[encoded data removed]",
      "text/plain": [
       "<Figure size 432x288 with 1 Axes>"
      ]
     },
     "metadata": {
      "needs_background": "light"
     },
     "output_type": "display_data"
    },
    {
     "data": {
      "image/png": "[encoded data removed]",
      "text/plain": [
       "<Figure size 432x288 with 1 Axes>"
      ]
     },
     "metadata": {
      "needs_background": "light"
     },
     "output_type": "display_data"
    }
   ],
   "source": [
    "plt.bar(model1['Impedance-ch'], df['Stress Score (Ch)'])\n",
    "plt.title(\"Impedance vs Stress score - with np.random.choice\")\n",
    "plt.xlabel(\"Impedance during commute\")\n",
    "plt.ylabel(\"Stress Score\")\n",
    "plt.show() \n",
    "\n",
    "plt.bar(model2['Impedance'], df['Stress Score (Dis)'])\n",
    "plt.title(\"Impedance vs Stress score - with np.random distributions\")\n",
    "plt.xlabel(\"Impedance during commute\")\n",
    "plt.ylabel(\"Stress Score\")\n",
    "plt.show() "
   ]
  },
  {
   "cell_type": "markdown",
   "metadata": {},
   "source": [
    "This looks to be of the right shaped needed to show that slower speed is correlated with greater stress levels. "
   ]
  },
  {
   "cell_type": "markdown",
   "metadata": {},
   "source": [
    "## Conclusion\n",
    "\n",
    "To conclude, generating data here allowed for the tweaking of parameters. It allowed different distributions to be tried out to see if a better model could be generated. Simulation allowed for the sample data to be extrapolated to model the general population without requiring additional people to be surveyed. However, this required a good understanding of the data and its likely distribution. The factors in this report are likely to be influenced by many other factors so matching distributions proved difficult, even with simplifications and assumptions. For a simulation to be a valid model, more nuanced modeling is needed. \n"
   ]
  },
  {
   "cell_type": "markdown",
   "metadata": {},
   "source": [
    "## References\n"
   ]
  },
  {
   "cell_type": "markdown",
   "metadata": {},
   "source": [
    "American Psychological Association. (2010). Gender and Stress. Retrieved December 5, 2018, from https://www.apa.org/news/press/releases/stress/2010/gender-stress.aspx \n",
    "\n",
    "Beige, S. (2012). Analyses of commuting distances and times in the household context: The case of Berlin (Rep.). Retrieved December 8, 2018, from Institute of Transport Research, German Aerospace Centre, Berlin, Germany website: https://elib.dlr.de/76743/1/Beige_Analyses_of_commuting_distances_and_times_in_the_household_context_aktuell.pdf \n",
    "\n",
    "Büchel, B., & Corman, F. (2018, May 16). Modelling Probability Distributions of Public Transport Travel Time Components. In 18th Swiss Transport Research Conference. Retrieved December 11, 2018, from http://www.strc.ch/2018/Buechel_Corman.pdf doi:https://doi.org/10.3929/ethz-b-000263929 \n",
    "\n",
    "\n",
    "Cassidy, T. (1992),Commuting-related Stress: Consequences and Implications, Employee Councelling Today, Vol. 4 Iss\n",
    "2 pp. 15 - 21 Retrieved from https://www.researchgate.net/profile/AnthonyTony_Cassidy/publication/235250379_Commuting-related_Stress_Consequences_and_Implications/links/574da3f608ae061b3303533c/Commuting-related-Stress-Consequences-and-Implications.pdf\n",
    "\n",
    "\n",
    "Central Statistics Office. (2017, August 31). Census of Population 2016 – Profile 6 Commuting in Ireland. Retrieved November 24, 2018, from https://www.cso.ie/en/releasesandpublications/ep/p-cp6ci/p6cii/p6noc/\n",
    "\n",
    "\n",
    "Chatterjee, K., Clark, B., Martin, A. & Davis, A. (2017). The Commuting and Wellbeing Study: Understanding the Impact of Commuting on People’s Lives. UWE Bristol, UK. \n",
    "\n",
    "Civil and Enviromental Engineering Course. (2005). Relationships between Mean and Variance of Normal and Lognormal Distributions. Lecture presented at Probability and Statistics in Engineering. Retrieved December 9, 2018, from https://ocw.mit.edu/courses/civil-and-environmental-engineering/1-151-probability-and-statistics-in-engineering-spring-2005/lecture-notes/briefnts8_relnl.pdf \n",
    "\n",
    "Cohen, S., Kamarck,, T., & Mermelstein, R. (1983). Perceived Stress Scale. Retrieved December 5, 2018, from https://das.nh.gov/wellness/docs/percieved%20stress%20scale.pdf \n",
    "\n",
    "Cohen, S., Kamarck, T., & Mermelstein, R. (1983b). Perceived Stress Scale Questions. Retrieved from http://www.psy.cmu.edu/~scohen/PSS.html \n",
    "\n",
    "Duzevik, D. (2018, February 08). Advantages and Disadvantages of Simulation. Retrieved December 13, 2018, from https://concentricmarket.com/blog/advantages-and-disadvantages-of-simulation/\n",
    "\n",
    "\n",
    "Gatersleben, B., & Uzzell, D. (2007). Affective Appraisals of the Daily Commute: Comparing Perceptions of Drivers, Cyclists, Walkers, and Users of Public Transport. Environment and Behavior, 39(3), 416–431. https://doi.org/10.1177/0013916506294032\n",
    "\n",
    "Geistefeldt, J. (2015). Empirical Estimation of Desired Speed Distributions for Microscopic Traffic Simulation. Transportation Research Record: Journal of the Transportation Research Board, 2490(1), 41-46. doi:10.3141/2490-05 \n",
    "\n",
    "Guessous, Y., Aron, M., Bhouri, N., & Cohen, S. (2014). Estimating Travel Time Distribution under Different Traffic Conditions. Transportation Research Procedia, 3, 339-348. doi:10.1016/j.trpro.2014.10.014 \n",
    "\n",
    "Hassard, J., Teoh, K., Cox, T., Dewe, P., Cosma, M., Gründler, R., . . . Van den Broek, K. (2014). Calculating the cost of work-related stress and psychosocial risks (Rep.). Luxembourg: Publications Office of the European Union. doi:10.2802/20493\n",
    "\n",
    "Johar, A., Jain, S. S., Garg, P. K., & Gundaliya, P. J. (2015). A study for Commuter Walk Distance from Bus Stops to Different Destination along Routes in Delhi. 12(59). doi:10.9737/hist.2018.658 \n",
    "\n",
    "\n",
    "Kéry, M., & Royle, J. A. (2016). Applied hierarchical modeling in ecology: Analysis of distribution, abundance and species richness in R and BUGS. Retrieved from https://www.sciencedirect.com/topics/earth-and-planetary-sciences/data-simulation\n",
    "\n",
    "Ma, Z., Ferreira, L., Mesbah, M., & Zhu, S. (2015). Modeling distributions of travel time variability for bus operations. Journal of Advanced Transportation, 50(1), 6-24. doi:10.1002/atr.1314 \n",
    "\n",
    "Matplotlib community, (November 11, 2018) Matplotlib User Guide,Release 3.0.2 Retrieved from https://matplotlib.org/users/index.html\n",
    "\n",
    "Maurya, A. K., Dey, S., & Das, S. (2015). Speed and Time Headway Distribution under Mixed Traffic Condition. Journal of the Eastern Asia Society for Transportation Studies, 11, 1774-1792. doi:https://doi.org/10.11175/easts.11.1774 \n",
    "\n",
    "\n",
    "Monteiro, N.M. Shyngle K. Balogun & Kutlo N. Oratile (2014) Managing stress: the influence of gender, age and emotion regulation on coping among university students in Botswana, International Journal of Adolescence and Youth, 19:2, 153-173, DOI: 10.1080/02673843.2014.908784 \n",
    "\n",
    "NumPy community, (2018). NumPy Reference Release 1.15.1.[ebook] Retrieved from https://docs.scipy.org/doc/numpy/numpy-ref-1.15.1.pdf\n",
    "\n",
    "OECD Statistics Directorate. (2002, May 19). Glossary of Statistical Terms - Job Tenure. Retrieved December 9, 2018, from https://stats.oecd.org/glossary/detail.asp?ID=3661 \n",
    "\n",
    "Oliphant, T. (2006). Guide to NumPy. 1st ed. [ebook] Available at: https://docs.scipy.org/doc/_static/numpybook.pdf [Accessed 20 Oct. 2018].\n",
    "\n",
    "\n",
    "Pandas community, (August 06, 2018). pandas: powerful Python data analysis toolkit Release 0.23.4 [ebook] Retrieved from https://pandas.pydata.org/pandas-docs/stable/pandas.pdf\n",
    "\n",
    "Papadopoulos, T. (1970). Measuring Job Tenure Using Linked Employer-Employee Data. Labour, Employment and Work in New Zealand. doi:10.26686/lew.v0i0.1618 \n",
    "\n",
    "Patel, N. (2018, June 25). Why Modeling Churn is Difficult. Retrieved December 11, 2018, from https://neilpatel.com/blog/modeling-churn/ \n",
    "\n",
    "Plötz, P., Jakobsson, N., Sprei, F., & Karlsson, S. (2014). On the distribution of individual daily driving distances. European Electric Vehicle Congress Brussels, 101, 213-227. Retrieved December 11, 2018, from http://citeseerx.ist.psu.edu/viewdoc/download?doi=10.1.1.870.8192&rep=rep1&type=pdf \n",
    "\n",
    "Reliability HotWire. (2005). Characteristics of the Lognormal Distribution. Retrieved December 8, 2018, from https://www.weibull.com/hotwire/issue47/relbasics47.htm \n",
    "\n",
    "Roberts, P. (2014, May 3). Employee Churn 202: Good and Bad Churn. Retrieved December 11, 2018, from https://www.kdnuggets.com/2014/05/employee-churn-202-good-bad-churn.html \n",
    "\n",
    "SciPy community. (2018, May 5). SciPy Reference Release 1.1.0. Retrieved December 13, 2018, from https://docs.scipy.org/doc/scipy/reference/ \n",
    "\n",
    "Salter R.J. (1989) Distribution of Highway Traffic Speeds, Fitting to a Normal Distribution. In: Traffic Engineering. Palgrave, London\n",
    "\n",
    "Schaefer, A. (2005, October 01). Commuting Takes Its Toll. Retrieved December 6, 2018, from https://www.scientificamerican.com/article/commuting-takes-its-toll/ \n",
    "\n",
    "Stutzer, A., & Frey, B. S. (2008). Stress that Doesnt Pay: The Commuting Paradox*. Scandinavian Journal of Economics, 110(2), 339-366. doi:10.1111/j.1467-9442.2008.00542.x \n",
    "\n",
    "Stack Exchange, user Max. (2011, June). Calculating the parameters of a Beta distribution using the mean and variance. Retrieved from https://stats.stackexchange.com/questions/12232/calculating-the-parameters-of-a-beta-distribution-using-the-mean-and-variance\n",
    "\n",
    "Stack Exchange, user ubpdqn. (2016, October 23). How to generate random numbers for Beta distribution in a range? Retrieved December 13, 2018, from https://mathematica.stackexchange.com/questions/129413/how-to-generate-random-numbers-for-beta-distribution-in-a-range \n",
    "\n",
    "UCLA: Statistical Consulting Group. (n.d.). What is the difference between categorical, ordinal and interval variables? Retrieved December 5, 2018, from https://stats.idre.ucla.edu/other/mult-pkg/whatstat/what-is-the-difference-between-categorical-ordinal-and-interval-variables/ \n",
    "\n",
    "U.S.A, Department of Labour, Bureau of Labour and Statistics. (2018, September 20). Bureau of Labour and Statistics U.S. Department of Labour. Retrieved December 06, 2018, from https://www.bls.gov/news.release/pdf/tenure.pdf \n",
    "\n",
    "\n",
    "Van Ommeren, J. (2004, April 22). The Commuting Distribution (Rep.). Retrieved December 8, 2018, from Tinberge n Institute Discussion Paper website: https://papers.tinbergen.nl/04045.pdf \n",
    "\n",
    "Wener, R. E., & Evans, G. W. (2011). Comparing stress of car and train commuters. Transportation Research Part F: Traffic Psychology and Behaviour, 14(2), 111-116. doi:10.1016/j.trf.2010.11.008 \n",
    "\n",
    "Weijschede, van der Straaten, J.W. & Rouwendal, Jan. (2011). Why are the commuting distances of power couples so short? An analysis of the location preferences of households. Retrieved December 11, 2018, from https://sbe.vu.nl/nl/Images/paper-rouwendal_tcm257-214783.pdf\n",
    "\n",
    "\n",
    "Wikipedia contributors. (2018, May 31). Perceived Stress Scale. In Wikipedia, The Free Encyclopedia. Retrieved 11:47, December 5, 2018, from https://en.wikipedia.org/w/index.php?title=Perceived_Stress_Scale&oldid=843740320\n",
    "\n",
    "\n",
    "Wikipedia contributors. (2018, September 17). Stochastic process. In Wikipedia, The Free Encyclopedia. Retrieved 11:19, November 24, 2018, from https://en.wikipedia.org/w/index.php?title=Stochastic_process&oldid=859982240\n",
    "\n",
    "\n",
    "Wikipedia contributors. (2018, November 12). Fight-or-flight response. In Wikipedia, The Free Encyclopedia. Retrieved 00:59, December 4, 2018, from https://en.wikipedia.org/w/index.php?title=Fight-or-flight_response&oldid=868423450\n",
    "\n",
    "\n",
    "Wikipedia contributors. (2018, November 23). Human sex ratio. In Wikipedia, The Free Encyclopedia. Retrieved 13:07, November 24, 2018, from https://en.wikipedia.org/w/index.php?title=Human_sex_ratio&oldid=870236802\n",
    "\n",
    "Wikipedia contributors. (2018, November 26). Likert scale. In Wikipedia, The Free Encyclopedia. Retrieved 12:01, December 5, 2018, from https://en.wikipedia.org/w/index.php?title=Likert_scale&oldid=870626181\n",
    "\n",
    "Wikipedia contributors. (2018, December 3). Churn rate. In Wikipedia, The Free Encyclopedia. Retrieved 15:27, December 11, 2018, from https://en.wikipedia.org/w/index.php?title=Churn_rate&oldid=871855949\n",
    "\n",
    "Wikipedia contributors. (2018, December 9). Data validation. In Wikipedia, The Free Encyclopedia. Retrieved 11:51, December 13, 2018, from https://en.wikipedia.org/w/index.php?title=Data_validation&oldid=872864299\n"
   ]
  }
 ],
 "metadata": {
  "kernelspec": {
   "display_name": "Python 3",
   "language": "python",
   "name": "python3"
  },
  "language_info": {
   "codemirror_mode": {
    "name": "ipython",
    "version": 3
   },
   "file_extension": ".py",
   "mimetype": "text/x-python",
   "name": "python",
   "nbconvert_exporter": "python",
   "pygments_lexer": "ipython3",
   "version": "3.6.7"
  }
 },
 "nbformat": 4,
 "nbformat_minor": 2
}
