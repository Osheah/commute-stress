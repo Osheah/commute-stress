{
 "cells": [
  {
   "cell_type": "markdown",
   "metadata": {},
   "source": [
    "The Dataset\n",
    "start with the dataset then do the modeling\n"
   ]
  },
  {
   "cell_type": "markdown",
   "metadata": {},
   "source": [
    "# Commuting and Stress\n",
    "\n",
    "\n",
    "\n",
    "\n",
    "![Gridlock](https://github.com/Osheah/images/raw/master/commute-stress/img/gridlock.jpg)\n",
    "\n"
   ]
  },
  {
   "cell_type": "markdown",
   "metadata": {},
   "source": [
    "## Simulate commuting stress\n",
    "\n",
    "Summarise the paper by Tony Cassidy (Cassidy, 1992)\n",
    "\n"
   ]
  },
  {
   "cell_type": "markdown",
   "metadata": {},
   "source": [
    "## Why simulate data?\n",
    "\n",
    "### What is data simulation\n",
    "\n",
    "Data simulation typically involves generating pseudo random numbers. It is often used in stochastic modeling where some event changes over time. Simulating data has many real world applications. It is used in life sciences, quality control, measuring response rates of customer services, financial and investment modeling and many other areas.  There are several compelling reasons for simulating data [Ref](https://www.sciencedirect.com/topics/earth-and-planetary-sciences/data-simulation). \n",
    "\n",
    "#### Known paramaters\n",
    "In a simulated model, the values of the underlying parameters are known. This allows a comparison to be made with the real world dataset it purports to model. \n",
    "\n",
    "#### Tweak parameters\n",
    "Simulating data allows for the parameters to be fine tuned. Parameters may influence each other and performing small adjustments to one parameter can help identify its affect on other inputs such as in sensitivity analysis. In real world situations it may be impossible to control the environment to such an extent that such fine tuned adjustments can be made. \n",
    "\n",
    "#### Sample errors\n",
    "There is a natural variation in data measurements. Collecting one set of flower samples to measure their petal widths is unlikely to yield the exact same measurements if collected at another date. Similarly, asking one set of questions on a survey may produce different responses when asked at another time. There is a natural variation in measurements. The variation in sampling data is a measure of statistical precision. Running data simulations is a valuable way of seeing the effect of randomness on natural processes.    \n",
    "\n",
    "#### Check things are working correctly\n",
    "Data simulations are useful to check that real world systems are on target or working as expected. A model can be run several times with different parameters or sample sizes and the means or other estimator can be calculated and compared to the real world system. \n",
    "\n",
    "#### Check statistical power\n",
    "Is there an actual relationship between input values and outputs values? Statistical power is a measure of finding an effect on the data when it exists. It is linked to the sample size used to model the phenomenon in question. Data simulation allows variation in sample size so that statistical power can be analysed. \n",
    "\n",
    "#### Check parameter identification\n",
    "Are the right parameters used? Would a different parameter fit the model better? Data simulation allows for various 'runs' to be conducted with varying parameters. Results can then be checked for clusters and signs that the parameter is indeed a parameter (or not). \n",
    "\n",
    "#### Check estimator strength\n",
    "Data simulations produce estimators which can then be checked for robustness. If the model does not predict an effect measured by the estimator but the real world data shows such an effect then there is an assumption violation. Simulations help identify this by limiting certain parameters to test out specific ones. This allows the strength of the estimator or the strength of underlying biases to be measured. \n",
    "\n",
    "#### Develops understanding of real world phenomena\n",
    "If an analyst can model the real world phenomena in question then they have abstracted its core features, modeled it and recreated the item investigated. This aids their understanding of this phenomenon. \n",
    "references for this came from (Kéry & Royle, 2016)\n",
    "\n",
    "### Stochastic modeling\n",
    "Stochastic modeling is a type of mathematical modeling that uses random processes and probability distributions to model some data that can change with time. It is often applied to financial modeling in investments or population modeling in life sciences(Wikipedia contributors, 2018 September 17). \n"
   ]
  },
  {
   "cell_type": "markdown",
   "metadata": {},
   "source": [
    "## Chose a real world phenomenon\n",
    "The topic chosen for this project is commuting factors and its impact on stress levels. \n",
    "\n",
    "### Why this topic?\n",
    "This topic was chosen as I previously commuted several hours per day for both college and work, and currently have family members that make long commutes daily. I hypothesize that there is a relationship between the length of commute, level of control of the journey, the level of impedance experienced commuting and the length of time spent as a commuter with the level of stress experienced. I expect that longer journeys are more stressful than shorter ones; High impedance (e.g. slow traffic) produces more stress and that a low level of perceived control is linked to more stress. I suspect that the longer people spend commuting, the more stress the report but it also may be that the longer people spend commuting the less stress they report as they become use to their daily routine. I came across Cassidy's 1992 paper *Commuting-related Stress: Consequences and Implications* and thought it suitable to model for this assignment. \n",
    "\n",
    "\n",
    "## Commuting and Stress\n",
    "Modern life is stressful. In pre written history times people experienced stress; Finding food safety and shelter without getting killed takes a toll. Stress can be very useful especially if escaping from a predator. The fight or flight physiological stress response can mean surviving for another day [ref](https://en.wikipedia.org/wiki/Fight-or-flight_response). The same response is found with modern incarnations of stress but the triggers are for the most part very different. Now, we are unlikely to face attacks from a saber tooth tiger. Instead, modern stress triggers are more insidious and chronic. It can be a constant anxiety that permeates everyday life with no clear source or solution. Hassard *et al* (2014) noted that the cost of work related stress in the EU was estimated at 20 billion in 2002. Cassidy, (1992) noted that the UK's gross national product looses up to ten percent per annum due to stress and its consequences. There are many factors contributing to stress, financial stress, relationship stress, health stress to name but a few. This report looks at one source of reported stress, the daily commute. The Central Statistics Office (2017) puts the number of people (workers and students) commuting in Ireland at almost 3 million. They found a steady rise in the number of people commuting to work. What effect does this daily routine have on the psychological and physical health of the population? Costa *et al* as cited in Cassidy (1992) noted that within the European Union, commuters and distance traveled have increased but the duration of the commute has decreased. We are traveling further for work and getting there faster. This has knock on implications with the number of road accidents as well as impact on the home and work life of the people involved. \n",
    "\n",
    "Cassidy 1992 noted that while commuting itself is stressful it also compounds stress in other domains. It can affect home life, recreational activities and increase work absenteeism. Costa *et al* as cited in Cassidy (1992) found public transport commuters reported a more stressed lifestyle. Whereas Gulian *et al* as cited in Cassidy (1992) found 'road rage' stress was experienced by people who drive to work. Both modes of transportation produce stress. Schaeffer *et al* as cited in Cassidy found that stress levels were mitigated by the **level of control** (or at least perceived control) the commuter had on their journey. \n",
    "\n",
    "Cassidy, (1992) investigated stress and commuting. He conducted a study of 370 participants who commute to work. He collected information via a questionnaire on measures such as daily commute **distance** and **duration**, **time** spent commuting and any **impedance**. Impedance was defined as the average miles per hour the commute took. The lower the speed, the higher the impedance. In addition he also collected information on transportation used, biographical information such as age, sex, marital status, eduction, occupation, length of time in current job, information on home, commuting, work, leisure and personal satisfaction. For the purpose of this report some of Cassidy's measures will be modeled by simulated data and some fields will be simplified. Aspects of Cassidy's paper are modeled in the sections below.\n"
   ]
  },
  {
   "cell_type": "markdown",
   "metadata": {},
   "source": [
    "## Model and synthesise the data"
   ]
  },
  {
   "cell_type": "markdown",
   "metadata": {},
   "source": [
    "### import libraries"
   ]
  },
  {
   "cell_type": "code",
   "execution_count": 1,
   "metadata": {},
   "outputs": [],
   "source": [
    "# for rendering plots in jupyter notebook\n",
    "%matplotlib inline \n",
    "# pandas for the dataframe\n",
    "import pandas as pd \n",
    "# numpy for array minimpuation and random number generation\n",
    "import numpy as np\n",
    "# matplotlib for plots\n",
    "import matplotlib.pyplot as plt \n",
    "\n",
    "import collections # for groupings\n",
    "from collections import Counter # for groupings"
   ]
  },
  {
   "cell_type": "markdown",
   "metadata": {},
   "source": [
    "### Create the dataset structure\n"
   ]
  },
  {
   "cell_type": "markdown",
   "metadata": {},
   "source": [
    "Create the number of rows needed for the dataset. "
   ]
  },
  {
   "cell_type": "code",
   "execution_count": 2,
   "metadata": {},
   "outputs": [
    {
     "name": "stdout",
     "output_type": "stream",
     "text": [
      "370\n"
     ]
    }
   ],
   "source": [
    "# Set the index\n",
    "x = range(0, 370)\n",
    "print(len(x))"
   ]
  },
  {
   "cell_type": "markdown",
   "metadata": {},
   "source": [
    "Create the dataset headings. "
   ]
  },
  {
   "cell_type": "code",
   "execution_count": 3,
   "metadata": {},
   "outputs": [
    {
     "data": {
      "text/html": [
       "<div>\n",
       "<style scoped>\n",
       "    .dataframe tbody tr th:only-of-type {\n",
       "        vertical-align: middle;\n",
       "    }\n",
       "\n",
       "    .dataframe tbody tr th {\n",
       "        vertical-align: top;\n",
       "    }\n",
       "\n",
       "    .dataframe thead th {\n",
       "        text-align: right;\n",
       "    }\n",
       "</style>\n",
       "<table border=\"1\" class=\"dataframe\">\n",
       "  <thead>\n",
       "    <tr style=\"text-align: right;\">\n",
       "      <th></th>\n",
       "      <th>Distance</th>\n",
       "      <th>Duration</th>\n",
       "      <th>Time</th>\n",
       "      <th>Impedance</th>\n",
       "      <th>Stress</th>\n",
       "    </tr>\n",
       "  </thead>\n",
       "  <tbody>\n",
       "    <tr>\n",
       "      <th>0</th>\n",
       "      <td>NaN</td>\n",
       "      <td>NaN</td>\n",
       "      <td>NaN</td>\n",
       "      <td>NaN</td>\n",
       "      <td>NaN</td>\n",
       "    </tr>\n",
       "    <tr>\n",
       "      <th>1</th>\n",
       "      <td>NaN</td>\n",
       "      <td>NaN</td>\n",
       "      <td>NaN</td>\n",
       "      <td>NaN</td>\n",
       "      <td>NaN</td>\n",
       "    </tr>\n",
       "    <tr>\n",
       "      <th>2</th>\n",
       "      <td>NaN</td>\n",
       "      <td>NaN</td>\n",
       "      <td>NaN</td>\n",
       "      <td>NaN</td>\n",
       "      <td>NaN</td>\n",
       "    </tr>\n",
       "    <tr>\n",
       "      <th>3</th>\n",
       "      <td>NaN</td>\n",
       "      <td>NaN</td>\n",
       "      <td>NaN</td>\n",
       "      <td>NaN</td>\n",
       "      <td>NaN</td>\n",
       "    </tr>\n",
       "    <tr>\n",
       "      <th>4</th>\n",
       "      <td>NaN</td>\n",
       "      <td>NaN</td>\n",
       "      <td>NaN</td>\n",
       "      <td>NaN</td>\n",
       "      <td>NaN</td>\n",
       "    </tr>\n",
       "  </tbody>\n",
       "</table>\n",
       "</div>"
      ],
      "text/plain": [
       "  Distance Duration Time Impedance Stress\n",
       "0      NaN      NaN  NaN       NaN    NaN\n",
       "1      NaN      NaN  NaN       NaN    NaN\n",
       "2      NaN      NaN  NaN       NaN    NaN\n",
       "3      NaN      NaN  NaN       NaN    NaN\n",
       "4      NaN      NaN  NaN       NaN    NaN"
      ]
     },
     "execution_count": 3,
     "metadata": {},
     "output_type": "execute_result"
    }
   ],
   "source": [
    "df = pd.DataFrame(columns = ['Distance', 'Duration', 'Time', 'Impedance', 'Stress'], index = x)\n",
    "# There are also additional headings that can be added such as age mode of transport, gender etc. \n",
    "# check headers are present\n",
    "df.head()"
   ]
  },
  {
   "cell_type": "code",
   "execution_count": 4,
   "metadata": {},
   "outputs": [
    {
     "name": "stdout",
     "output_type": "stream",
     "text": [
      "The size of the dataset is:  370\n"
     ]
    }
   ],
   "source": [
    "# Check the size of the dataset\n",
    "size = 370\n",
    "print(\"The size of the dataset is: \", size)"
   ]
  },
  {
   "cell_type": "markdown",
   "metadata": {},
   "source": [
    "## The main variables\n",
    "\n",
    "There are five key variables in this model. The first four, distance, duration, time and impedance were investigated to see if they had a relationship with the fifth variable *Stress*. \n",
    "\n",
    "The **variables** related to commuting and stress are;  \n",
    "* Distance\n",
    "* Duration\n",
    "* Time \n",
    "* Impedance\n",
    "* Stress\n",
    "\n",
    "These variables are not mutually exclusive of each other. For example *Distance* and *Duration* are correlated. E.g. commutes that are further away tend to have a longer duration. As the effects of one variable cannot be isolated from the effects of other variables a correlational study is a suitable model.  \n",
    "\n",
    "### Define the variables\n",
    "\n",
    "* **Distance** of the commute. This is the distance commuted. This was measured in miles. There were four categories (in Cassidy's report, 1992) that participants could select to classify their distance commuted. These were; \n",
    "\n",
    "    * 0-5 miles\n",
    "    * 6-15 miles\n",
    "    * 16-30 miles\n",
    "    * Over 30 miles\n",
    "\n",
    "The majority of commuters surveyed were 15 or under miles away from their work. \n",
    "\n",
    "\n",
    "* **Duration** of the commute. This refers to the typical duration of commute i.e. the typical time taken to make the journey to work. This was measured in minutes (min). Duration was categorised into three bands, namely;  \n",
    "    * 0-30 minutes \n",
    "    * 30-60 minutes\n",
    "    * Over 60 minutes\n",
    "\n",
    "The majority of participants reported their duration of commute at under 60 minutes. \n",
    "\n",
    "\n",
    "* **Time** commuting. This refers to the time period participants spent as a commuter. This was measured in months.  There were four categories that participants could classify their time into, namely.\n",
    "\n",
    "    * 1-29 months \n",
    "    * 30-60 months\n",
    "    * 60-131 months\n",
    "    * Over 132 months\n",
    "\n",
    "* **Impedance** The impedance of the commute was also measured. This was defined as the average miles per hour of the commute. It was measured in miles per hour (mph). Impedance was classified into three bands,namely; \n",
    "\n",
    "    * 17 mph or less\n",
    "    * 17.3-30 mph\n",
    "    * Over 30 mph\n",
    "\n",
    "* **Stress** Cassidy (1992) measured stress by scoring responses on a questionnaire on a number of factors along five specific domains of the participant's life namely; \n",
    "\n",
    "    * Home domain - perceived stress and financial stress, social support levels, time at home, use of home life to ameliorate work stress. \n",
    "    * Commuting domain - perceived commuting stress and mood.  \n",
    "    * Work domain - perceived stress, sources of work stress and commitment to work\n",
    "    * Leisure domain - approach to leisure time including time spent exercising, socialising and perceived fitness.\n",
    "    * Personal domain - problem solving ability and internal/external attribution of events, levels of situational control, motivation and confidence. In addition, levels of satisfaction with life and general perceived stress  were measured. \n",
    " \n",
    " \n",
    "Neither the questions asked, nor the scoring method used, were noted in Cassidy's paper. Therefore, in this report and for simplicity and clarity,  stress is assumed to be measured across a *single* general domain by the *Perceived Stress Scale* (Cohen, Kamarck & Mermelstein, 1983). \n",
    "\n",
    "### The Perceived Stress Scale \n",
    "The Perceived Stress Scale (PSS) was developed by Cohen, Kamarck and Mermelstein in their 1983 paper *A Global Measure of Perceived Stress* published in The Journal of Health and Social Behavior. This is a standard psychological measure of perceived non specific stress. It is used to assess stress and measure the effectiveness of stress reducing interventions (Wikipedia contributors, 2018, May 31). \n",
    "\n",
    "#### PSS questions\n",
    "\n",
    "The PSS elicits responses on a five point Likert scale. A Likert scale involves asking respondents to indicate the level to which they agree or disagree with a series of statements on a scale from 0 to x, where x is the number of points on the Likert scale (Wikipedia contributors, 2018, November 26). For the PSS a response of 0 indicates 'never', 1 indicates 'almost never', 2 indicates 'sometimes', 3 indicates 'fairly often' and 4 indicates 'very often. The PSS contains 10 questions and are listed below. \n",
    "\n",
    "**Perceived Stress Scale** (10 Items)\n",
    "The questions in this scale ask you about your feelings and thoughts during the last month. In each case, please indicate with a check how often you felt or thought a certain way.\n",
    "\n",
    "1. In the last month, how often have you been upset because of something that happened unexpectedly?\n",
    "2. In the last month, how often have you felt that you were unable to control the important things in your life?\n",
    "3. In the last month, how often have you felt nervous and \"stressed\"?\n",
    "4. In the last month, how often have you felt confident about your ability to handle your personal problems?\n",
    "5. In the last month, how often have you felt that things were going your way?\n",
    "6. In the last month, how often have you found that you could not cope with all the things that you had to do?\n",
    "7. In the last month, how often have you been able to control irritations in your life?\n",
    "8. In the last month, how often have you felt that you were on top of things?\n",
    "9. In the last month, how often have you been angered because of things that were outside of your control?\n",
    "10. In the last month, how often have you felt difficulties were piling up so high that you could not overcome them?\n",
    "(Taken from [PSS](http://www.psy.cmu.edu/~scohen/PSS.html) )\n",
    "\n",
    "#### Scoring the PSS\n",
    "The Likert scale used in the PSS is balanced to avoid bias in answering all the questions at one extreme of the scale. \n",
    "To determine the score reverse the scores on questions 4, 5, 7 and 8. Then sum the reversed score along with the remainder of the scores to produce a total. Individual scores can range from a minimum of zero to a maximum of 40. The higher the score the greater the perceived stress. Scores under 13 indicate low perceived stress, scores between 14 to 26 indicate moderate perceived stress and scores greater than 27 are considered high perceived stress (Cohen, Kamarck & Mermelstein, 1983). \n",
    "\n",
    "\n",
    "In addition, other variables were collected that may prove useful to model\n",
    "\n",
    "* Transport\n",
    "* Gender\n",
    "* Age\n",
    "\n",
    "\n",
    "**Transport** refers to the mode of transportation which in Cassidy's (1992) study, can be either public transport or car. It might be useful to further subdivide public transport into bus and train and personal transport into car and bicycle. Research suggests that mode of transportation has an effect on stress with the most stress experienced by car users and least by cyclists (Gatersleben & Uzzell, 2007). Though there is some evidence that commuting by car has greater locus of control which reduces stress (add reference). Stutzer & Frey (2008) noted the *The Commuting Paradox* where the financial benefits of commuting are negated by the negative factors involved such as stress and the impact on home and work life. \n",
    "\n",
    "**Gender** refers to the biological sex of the participant. For Cassidy's study there were 217 male and 153 female participants. Research suggests that there is relationship between stress and gender that would be interesting to explore. Different genders report different physiological stress reactions (American Psychological Association, 2010). \n",
    "\n",
    "\n",
    "**Age** Cassidy's study (1992) also measured the ages of the participants. Age does impact physical and mental responses to stress (Monteiro et al, 2014), however it was not modeled in this report for simplicity.  \n"
   ]
  },
  {
   "cell_type": "markdown",
   "metadata": {},
   "source": [
    "### Investigate the type of variables involved\n",
    "\n",
    "link between distance and duration and impedance - maths speed = distance over time\n",
    "link between time spent commuting and distance - full of hardier commuters\n",
    "\n"
   ]
  },
  {
   "cell_type": "markdown",
   "metadata": {},
   "source": [
    "## Model the data\n",
    "\n",
    "The data for the five variables (Distance, Duration, Time, Impedance, Stress) was simulated first. Further variables of Transport and Age can be added later if time permits. \n",
    "\n",
    "### Adding the variables\n"
   ]
  },
  {
   "cell_type": "markdown",
   "metadata": {},
   "source": [
    "### Distance\n",
    "Add the simulated distance data. This is simulated with np.random.choice\n",
    "\n",
    "#### Why?\n",
    "NumPy Random's choice was used to simulate the distances. Choice was used as it allows for the weighted random selection of categorical data. The distance category has four bands (0-5 miles, 6-15 miles, 16-30 miles and Over 30 miles). In addition the data is ordinal, as there is a progression from 0-5 miles to over 30 miles (UCLA: Statistical Consulting Group. (n.d.)). However as these choices were items on a survey, the NumPy Random 'choice' function would be suitable as a model rather than a numerical NumPy Random function such as Bernoulli (Binomial with n = 1) distribution (NumPy community, 2018; Oliphant, 2006). \n",
    "\n",
    "There was a total of 346 responses to this section of the survey so this was taken as the total when calculating the probability weightings for each of the distance bands. A 'Distance' array was created containing the four distance bands, 0-5 miles, 6-15 miles, 16-30 miles, over 30 miles. There were 109 response in the first band so this was weighted as 109/346, 114 for the second band giving a probability of 114/346, 67 responses for the 16-30 mile response giving a weighting of 67/346 and lastly 56 responses for the over 30 mile distance giving a weighting of 56/346.  The model of the Distance variable can be found below.\n"
   ]
  },
  {
   "cell_type": "code",
   "execution_count": 5,
   "metadata": {},
   "outputs": [],
   "source": [
    "# set up the survey Distance categories\n",
    "distance = ['0-5 miles', '6-15 miles', '16-30 miles', 'Over 30 miles']\n",
    "# calculate the total number of responders to this question\n",
    "tot_dist = 109+114+67+56\n",
    "# generate the response with 'choice' function\n",
    "y_dist = np.random.choice(distance, size, p=[109/tot_dist, 114/tot_dist, 67/tot_dist, 56/tot_dist])\n"
   ]
  },
  {
   "cell_type": "code",
   "execution_count": 6,
   "metadata": {},
   "outputs": [
    {
     "data": {
      "text/plain": [
       "346"
      ]
     },
     "execution_count": 6,
     "metadata": {},
     "output_type": "execute_result"
    }
   ],
   "source": [
    "# check the tot_dist number\n",
    "tot_dist"
   ]
  },
  {
   "cell_type": "code",
   "execution_count": 7,
   "metadata": {},
   "outputs": [
    {
     "data": {
      "text/plain": [
       "array(['6-15 miles', '16-30 miles', 'Over 30 miles', 'Over 30 miles',\n",
       "       '16-30 miles', '6-15 miles', '6-15 miles'], dtype='<U13')"
      ]
     },
     "execution_count": 7,
     "metadata": {},
     "output_type": "execute_result"
    }
   ],
   "source": [
    "# check the first few values of the array\n",
    "y_dist[:7]"
   ]
  },
  {
   "cell_type": "markdown",
   "metadata": {},
   "source": [
    "Change the y_dist distance array to a dataframe and add it to the simulated model. "
   ]
  },
  {
   "cell_type": "code",
   "execution_count": 8,
   "metadata": {},
   "outputs": [
    {
     "data": {
      "text/html": [
       "<div>\n",
       "<style scoped>\n",
       "    .dataframe tbody tr th:only-of-type {\n",
       "        vertical-align: middle;\n",
       "    }\n",
       "\n",
       "    .dataframe tbody tr th {\n",
       "        vertical-align: top;\n",
       "    }\n",
       "\n",
       "    .dataframe thead th {\n",
       "        text-align: right;\n",
       "    }\n",
       "</style>\n",
       "<table border=\"1\" class=\"dataframe\">\n",
       "  <thead>\n",
       "    <tr style=\"text-align: right;\">\n",
       "      <th></th>\n",
       "      <th>Distance</th>\n",
       "      <th>Duration</th>\n",
       "      <th>Time</th>\n",
       "      <th>Impedance</th>\n",
       "      <th>Stress</th>\n",
       "    </tr>\n",
       "  </thead>\n",
       "  <tbody>\n",
       "    <tr>\n",
       "      <th>0</th>\n",
       "      <td>6-15 miles</td>\n",
       "      <td>NaN</td>\n",
       "      <td>NaN</td>\n",
       "      <td>NaN</td>\n",
       "      <td>NaN</td>\n",
       "    </tr>\n",
       "    <tr>\n",
       "      <th>1</th>\n",
       "      <td>16-30 miles</td>\n",
       "      <td>NaN</td>\n",
       "      <td>NaN</td>\n",
       "      <td>NaN</td>\n",
       "      <td>NaN</td>\n",
       "    </tr>\n",
       "    <tr>\n",
       "      <th>2</th>\n",
       "      <td>Over 30 miles</td>\n",
       "      <td>NaN</td>\n",
       "      <td>NaN</td>\n",
       "      <td>NaN</td>\n",
       "      <td>NaN</td>\n",
       "    </tr>\n",
       "    <tr>\n",
       "      <th>3</th>\n",
       "      <td>Over 30 miles</td>\n",
       "      <td>NaN</td>\n",
       "      <td>NaN</td>\n",
       "      <td>NaN</td>\n",
       "      <td>NaN</td>\n",
       "    </tr>\n",
       "    <tr>\n",
       "      <th>4</th>\n",
       "      <td>16-30 miles</td>\n",
       "      <td>NaN</td>\n",
       "      <td>NaN</td>\n",
       "      <td>NaN</td>\n",
       "      <td>NaN</td>\n",
       "    </tr>\n",
       "  </tbody>\n",
       "</table>\n",
       "</div>"
      ],
      "text/plain": [
       "        Distance Duration Time Impedance Stress\n",
       "0     6-15 miles      NaN  NaN       NaN    NaN\n",
       "1    16-30 miles      NaN  NaN       NaN    NaN\n",
       "2  Over 30 miles      NaN  NaN       NaN    NaN\n",
       "3  Over 30 miles      NaN  NaN       NaN    NaN\n",
       "4    16-30 miles      NaN  NaN       NaN    NaN"
      ]
     },
     "execution_count": 8,
     "metadata": {},
     "output_type": "execute_result"
    }
   ],
   "source": [
    "# change the array to a dataframe and add it to the dataframe\n",
    "df['Distance'] = pd.Series(y_dist)\n",
    "# check its headings\n",
    "df.head()"
   ]
  },
  {
   "cell_type": "code",
   "execution_count": 9,
   "metadata": {},
   "outputs": [
    {
     "data": {
      "text/html": [
       "<div>\n",
       "<style scoped>\n",
       "    .dataframe tbody tr th:only-of-type {\n",
       "        vertical-align: middle;\n",
       "    }\n",
       "\n",
       "    .dataframe tbody tr th {\n",
       "        vertical-align: top;\n",
       "    }\n",
       "\n",
       "    .dataframe thead th {\n",
       "        text-align: right;\n",
       "    }\n",
       "</style>\n",
       "<table border=\"1\" class=\"dataframe\">\n",
       "  <thead>\n",
       "    <tr style=\"text-align: right;\">\n",
       "      <th></th>\n",
       "      <th>Distance</th>\n",
       "      <th>Duration</th>\n",
       "      <th>Time</th>\n",
       "      <th>Impedance</th>\n",
       "      <th>Stress</th>\n",
       "    </tr>\n",
       "  </thead>\n",
       "  <tbody>\n",
       "    <tr>\n",
       "      <th>365</th>\n",
       "      <td>6-15 miles</td>\n",
       "      <td>NaN</td>\n",
       "      <td>NaN</td>\n",
       "      <td>NaN</td>\n",
       "      <td>NaN</td>\n",
       "    </tr>\n",
       "    <tr>\n",
       "      <th>366</th>\n",
       "      <td>0-5 miles</td>\n",
       "      <td>NaN</td>\n",
       "      <td>NaN</td>\n",
       "      <td>NaN</td>\n",
       "      <td>NaN</td>\n",
       "    </tr>\n",
       "    <tr>\n",
       "      <th>367</th>\n",
       "      <td>0-5 miles</td>\n",
       "      <td>NaN</td>\n",
       "      <td>NaN</td>\n",
       "      <td>NaN</td>\n",
       "      <td>NaN</td>\n",
       "    </tr>\n",
       "    <tr>\n",
       "      <th>368</th>\n",
       "      <td>6-15 miles</td>\n",
       "      <td>NaN</td>\n",
       "      <td>NaN</td>\n",
       "      <td>NaN</td>\n",
       "      <td>NaN</td>\n",
       "    </tr>\n",
       "    <tr>\n",
       "      <th>369</th>\n",
       "      <td>16-30 miles</td>\n",
       "      <td>NaN</td>\n",
       "      <td>NaN</td>\n",
       "      <td>NaN</td>\n",
       "      <td>NaN</td>\n",
       "    </tr>\n",
       "  </tbody>\n",
       "</table>\n",
       "</div>"
      ],
      "text/plain": [
       "        Distance Duration Time Impedance Stress\n",
       "365   6-15 miles      NaN  NaN       NaN    NaN\n",
       "366    0-5 miles      NaN  NaN       NaN    NaN\n",
       "367    0-5 miles      NaN  NaN       NaN    NaN\n",
       "368   6-15 miles      NaN  NaN       NaN    NaN\n",
       "369  16-30 miles      NaN  NaN       NaN    NaN"
      ]
     },
     "execution_count": 9,
     "metadata": {},
     "output_type": "execute_result"
    }
   ],
   "source": [
    "# check the end of the dataframe\n",
    "df.tail()"
   ]
  },
  {
   "cell_type": "code",
   "execution_count": 10,
   "metadata": {},
   "outputs": [
    {
     "data": {
      "text/html": [
       "<div>\n",
       "<style scoped>\n",
       "    .dataframe tbody tr th:only-of-type {\n",
       "        vertical-align: middle;\n",
       "    }\n",
       "\n",
       "    .dataframe tbody tr th {\n",
       "        vertical-align: top;\n",
       "    }\n",
       "\n",
       "    .dataframe thead th {\n",
       "        text-align: right;\n",
       "    }\n",
       "</style>\n",
       "<table border=\"1\" class=\"dataframe\">\n",
       "  <thead>\n",
       "    <tr style=\"text-align: right;\">\n",
       "      <th></th>\n",
       "      <th>Distance</th>\n",
       "      <th>Duration</th>\n",
       "      <th>Time</th>\n",
       "      <th>Impedance</th>\n",
       "      <th>Stress</th>\n",
       "    </tr>\n",
       "  </thead>\n",
       "  <tbody>\n",
       "    <tr>\n",
       "      <th>count</th>\n",
       "      <td>370</td>\n",
       "      <td>0.0</td>\n",
       "      <td>0.0</td>\n",
       "      <td>0.0</td>\n",
       "      <td>0.0</td>\n",
       "    </tr>\n",
       "    <tr>\n",
       "      <th>unique</th>\n",
       "      <td>4</td>\n",
       "      <td>0.0</td>\n",
       "      <td>0.0</td>\n",
       "      <td>0.0</td>\n",
       "      <td>0.0</td>\n",
       "    </tr>\n",
       "    <tr>\n",
       "      <th>top</th>\n",
       "      <td>6-15 miles</td>\n",
       "      <td>NaN</td>\n",
       "      <td>NaN</td>\n",
       "      <td>NaN</td>\n",
       "      <td>NaN</td>\n",
       "    </tr>\n",
       "    <tr>\n",
       "      <th>freq</th>\n",
       "      <td>128</td>\n",
       "      <td>NaN</td>\n",
       "      <td>NaN</td>\n",
       "      <td>NaN</td>\n",
       "      <td>NaN</td>\n",
       "    </tr>\n",
       "  </tbody>\n",
       "</table>\n",
       "</div>"
      ],
      "text/plain": [
       "          Distance  Duration  Time  Impedance  Stress\n",
       "count          370       0.0   0.0        0.0     0.0\n",
       "unique           4       0.0   0.0        0.0     0.0\n",
       "top     6-15 miles       NaN   NaN        NaN     NaN\n",
       "freq           128       NaN   NaN        NaN     NaN"
      ]
     },
     "execution_count": 10,
     "metadata": {},
     "output_type": "execute_result"
    }
   ],
   "source": [
    "# check the info on the dataframe\n",
    "df.describe()\n"
   ]
  },
  {
   "cell_type": "code",
   "execution_count": 11,
   "metadata": {},
   "outputs": [
    {
     "data": {
      "text/plain": [
       "Distance     4\n",
       "Duration     0\n",
       "Time         0\n",
       "Impedance    0\n",
       "Stress       0\n",
       "dtype: int64"
      ]
     },
     "execution_count": 11,
     "metadata": {},
     "output_type": "execute_result"
    }
   ],
   "source": [
    "# check the bands on the dataframe\n",
    "df.nunique()"
   ]
  },
  {
   "cell_type": "markdown",
   "metadata": {},
   "source": [
    "Lets plot the histogram of the commute distance bands. To plot the histogram the number of values in each duration band needs to be calculated. "
   ]
  },
  {
   "cell_type": "code",
   "execution_count": 12,
   "metadata": {},
   "outputs": [
    {
     "data": {
      "text/plain": [
       "Counter({'6-15 miles': 128,\n",
       "         '16-30 miles': 59,\n",
       "         'Over 30 miles': 66,\n",
       "         '0-5 miles': 117})"
      ]
     },
     "execution_count": 12,
     "metadata": {},
     "output_type": "execute_result"
    }
   ],
   "source": [
    "# calculate the number of responses to each distance band\n",
    "dist_counts = Counter(df['Distance'])\n",
    "# check to see if counts look reasonable\n",
    "dist_counts\n"
   ]
  },
  {
   "cell_type": "code",
   "execution_count": 13,
   "metadata": {},
   "outputs": [
    {
     "data": {
      "text/plain": [
       "370"
      ]
     },
     "execution_count": 13,
     "metadata": {},
     "output_type": "execute_result"
    }
   ],
   "source": [
    "# sum counts\n",
    "# list the values\n",
    "dist_counts.values()\n",
    "# sum the values\n",
    "sum(dist_counts.values())"
   ]
  },
  {
   "cell_type": "code",
   "execution_count": 14,
   "metadata": {},
   "outputs": [
    {
     "data": {
      "image/png": "[encoded data removed]",
      "text/plain": [
       "<Figure size 432x288 with 1 Axes>"
      ]
     },
     "metadata": {
      "needs_background": "light"
     },
     "output_type": "display_data"
    }
   ],
   "source": [
    "# create an indexed dataframe with the number of counts\n",
    "# code adapted from https://pandas.pydata.org/pandas-docs/stable/generated/pandas.DataFrame.from_dict.html\n",
    "df_dist = pd.DataFrame.from_dict(dist_counts, orient='index')\n",
    "                      \n",
    "#plot the bar chart of the distance counts\n",
    "df_dist.plot(kind='bar', title='Distance', legend = False)\n",
    "plt.show()"
   ]
  },
  {
   "cell_type": "code",
   "execution_count": 15,
   "metadata": {},
   "outputs": [
    {
     "data": {
      "image/png": "[encoded data removed]",
      "text/plain": [
       "<Figure size 432x288 with 1 Axes>"
      ]
     },
     "metadata": {
      "needs_background": "light"
     },
     "output_type": "display_data"
    }
   ],
   "source": [
    "# set the order in which the plots are displayed for easier comparisons\n",
    "df_dist.reindex(['0-5 miles', '6-15 miles',  '16-30 miles', 'Over 30 miles']).plot(kind='bar', title='Distance', legend = False)\n",
    "plt.show()"
   ]
  },
  {
   "cell_type": "markdown",
   "metadata": {},
   "source": [
    "This shows that most simulated participants traveled between 6 and 15 miles with the second longest duration being 0-5 miles. The other two bands had lower reported values. This compares favourably to Cassidy's findings of 109 traveling under 0.5 miles, 114 traveling between 6-15 miles, 67 traveling between 16-30 miles and 56 traveling over 30 miles. \n"
   ]
  },
  {
   "cell_type": "code",
   "execution_count": 16,
   "metadata": {},
   "outputs": [
    {
     "data": {
      "text/html": [
       "<div>\n",
       "<style scoped>\n",
       "    .dataframe tbody tr th:only-of-type {\n",
       "        vertical-align: middle;\n",
       "    }\n",
       "\n",
       "    .dataframe tbody tr th {\n",
       "        vertical-align: top;\n",
       "    }\n",
       "\n",
       "    .dataframe thead th {\n",
       "        text-align: right;\n",
       "    }\n",
       "</style>\n",
       "<table border=\"1\" class=\"dataframe\">\n",
       "  <thead>\n",
       "    <tr style=\"text-align: right;\">\n",
       "      <th></th>\n",
       "      <th>0</th>\n",
       "    </tr>\n",
       "  </thead>\n",
       "  <tbody>\n",
       "    <tr>\n",
       "      <th>0-5 miles</th>\n",
       "      <td>109</td>\n",
       "    </tr>\n",
       "    <tr>\n",
       "      <th>6-15 miles</th>\n",
       "      <td>114</td>\n",
       "    </tr>\n",
       "    <tr>\n",
       "      <th>16-30 miles</th>\n",
       "      <td>67</td>\n",
       "    </tr>\n",
       "    <tr>\n",
       "      <th>Over 30 miles</th>\n",
       "      <td>56</td>\n",
       "    </tr>\n",
       "  </tbody>\n",
       "</table>\n",
       "</div>"
      ],
      "text/plain": [
       "                 0\n",
       "0-5 miles      109\n",
       "6-15 miles     114\n",
       "16-30 miles     67\n",
       "Over 30 miles   56"
      ]
     },
     "execution_count": 16,
     "metadata": {},
     "output_type": "execute_result"
    }
   ],
   "source": [
    "# create Cassidy's Distance counts as a dataframe\n",
    "cass_dist = pd.DataFrame(np.array([[109, 114, 67, 56]]), columns=['0-5 miles', '6-15 miles',  '16-30 miles', 'Over 30 miles'])\n",
    "cass_dist = cass_dist.transpose()\n",
    "# check shape\n",
    "cass_dist.head()\n"
   ]
  },
  {
   "cell_type": "code",
   "execution_count": 17,
   "metadata": {},
   "outputs": [
    {
     "data": {
      "image/png": "[encoded data removed]",
      "text/plain": [
       "<Figure size 432x288 with 1 Axes>"
      ]
     },
     "metadata": {
      "needs_background": "light"
     },
     "output_type": "display_data"
    },
    {
     "data": {
      "image/png": "[encoded data removed]",
      "text/plain": [
       "<Figure size 432x288 with 1 Axes>"
      ]
     },
     "metadata": {
      "needs_background": "light"
     },
     "output_type": "display_data"
    }
   ],
   "source": [
    "# set the order in which the plot displays the various bars for the original data\n",
    "cass_dist.reindex(['0-5 miles', '6-15 miles',  '16-30 miles', 'Over 30 miles']).plot(kind='bar', title='Original Distance')\n",
    "plt.legend([\"Original\"])\n",
    "# set the order in which the plot displays the various bars for the simulated data\n",
    "df_dist.reindex(['0-5 miles', '6-15 miles',  '16-30 miles', 'Over 30 miles']).plot(kind='bar', title='Simulated Distance')\n",
    "plt.legend([\"Simulated\"]);\n",
    "plt.show()\n",
    "\n",
    "\n",
    "# to do figure out how to display both histograms/bars side by side on the same plot\n"
   ]
  },
  {
   "cell_type": "markdown",
   "metadata": {},
   "source": [
    "### Duration\n",
    "Add the duration data. In Cassidy's study the duration of commute was 137 participants had 0-30 minutes duration; 121 participants had a commute duration of 30-60 minutes and 97 participants commuting time was over 60 minutes (Cassidy, 1992). This was simulated with np.random.choice. \n",
    "\n",
    "#### Why?\n",
    "NumPy Random's choice was used to simulate the duration of commute. There are three bands and the data is ordinal, as there is a progression from 30 minutes to over 60 minutes. However as these choices were items on a survey NumPy Random's 'choice' function would be suitable as a model. There was a total of 355 responses to this section of the survey so this was taken as the total when calculating the probability weightings for each of the duration bands. A 'Duration' array was created containing the three duration bands, 0 to 30 minutes, 30- 60 minutes and over 60 minutes. There were 137 responses in the first band so this was weighted as 137/355, 121 for the second band giving a probability of 121/355 and 97 responses for the Over 60 minutes response giving a weighting of 97/355.  The model of the Duration variable can be found below.\n"
   ]
  },
  {
   "cell_type": "code",
   "execution_count": 18,
   "metadata": {},
   "outputs": [
    {
     "name": "stdout",
     "output_type": "stream",
     "text": [
      "The duration of the commute is  ['0-30 minutes', '30-60 minutes', 'Over 60 minutes']\n"
     ]
    }
   ],
   "source": [
    "# add the duration categories\n",
    "duration = ['0-30 minutes', '30-60 minutes', 'Over 60 minutes']\n",
    "# check its added\n",
    "print(\"The duration of the commute is \", duration)"
   ]
  },
  {
   "cell_type": "code",
   "execution_count": 19,
   "metadata": {},
   "outputs": [
    {
     "name": "stdout",
     "output_type": "stream",
     "text": [
      "The number of respondants to the duration of commute question is  355\n"
     ]
    }
   ],
   "source": [
    "# calculate the total number of responses to this question\n",
    "tot_dur = 137+121+97\n",
    "# check its added\n",
    "print(\"The number of respondants to the duration of commute question is \", tot_dur)"
   ]
  },
  {
   "cell_type": "code",
   "execution_count": 20,
   "metadata": {},
   "outputs": [
    {
     "data": {
      "text/plain": [
       "array(['0-30 minutes', 'Over 60 minutes', '0-30 minutes', '0-30 minutes',\n",
       "       '0-30 minutes', '30-60 minutes', '0-30 minutes'], dtype='<U15')"
      ]
     },
     "execution_count": 20,
     "metadata": {},
     "output_type": "execute_result"
    }
   ],
   "source": [
    "# generate the responses to the 'Duration' category\n",
    "y_dur = np.random.choice(duration, size, p=[137/tot_dur, 121/tot_dur, 97/tot_dur])\n",
    "# check the first few values of the array\n",
    "y_dur[:7]\n"
   ]
  },
  {
   "cell_type": "markdown",
   "metadata": {},
   "source": [
    "Change the y_dur duration array to a dataframe and add it to the simulated model. "
   ]
  },
  {
   "cell_type": "code",
   "execution_count": 21,
   "metadata": {},
   "outputs": [
    {
     "data": {
      "text/html": [
       "<div>\n",
       "<style scoped>\n",
       "    .dataframe tbody tr th:only-of-type {\n",
       "        vertical-align: middle;\n",
       "    }\n",
       "\n",
       "    .dataframe tbody tr th {\n",
       "        vertical-align: top;\n",
       "    }\n",
       "\n",
       "    .dataframe thead th {\n",
       "        text-align: right;\n",
       "    }\n",
       "</style>\n",
       "<table border=\"1\" class=\"dataframe\">\n",
       "  <thead>\n",
       "    <tr style=\"text-align: right;\">\n",
       "      <th></th>\n",
       "      <th>Distance</th>\n",
       "      <th>Duration</th>\n",
       "      <th>Time</th>\n",
       "      <th>Impedance</th>\n",
       "      <th>Stress</th>\n",
       "    </tr>\n",
       "  </thead>\n",
       "  <tbody>\n",
       "    <tr>\n",
       "      <th>0</th>\n",
       "      <td>6-15 miles</td>\n",
       "      <td>0-30 minutes</td>\n",
       "      <td>NaN</td>\n",
       "      <td>NaN</td>\n",
       "      <td>NaN</td>\n",
       "    </tr>\n",
       "    <tr>\n",
       "      <th>1</th>\n",
       "      <td>16-30 miles</td>\n",
       "      <td>Over 60 minutes</td>\n",
       "      <td>NaN</td>\n",
       "      <td>NaN</td>\n",
       "      <td>NaN</td>\n",
       "    </tr>\n",
       "    <tr>\n",
       "      <th>2</th>\n",
       "      <td>Over 30 miles</td>\n",
       "      <td>0-30 minutes</td>\n",
       "      <td>NaN</td>\n",
       "      <td>NaN</td>\n",
       "      <td>NaN</td>\n",
       "    </tr>\n",
       "    <tr>\n",
       "      <th>3</th>\n",
       "      <td>Over 30 miles</td>\n",
       "      <td>0-30 minutes</td>\n",
       "      <td>NaN</td>\n",
       "      <td>NaN</td>\n",
       "      <td>NaN</td>\n",
       "    </tr>\n",
       "    <tr>\n",
       "      <th>4</th>\n",
       "      <td>16-30 miles</td>\n",
       "      <td>0-30 minutes</td>\n",
       "      <td>NaN</td>\n",
       "      <td>NaN</td>\n",
       "      <td>NaN</td>\n",
       "    </tr>\n",
       "  </tbody>\n",
       "</table>\n",
       "</div>"
      ],
      "text/plain": [
       "        Distance         Duration Time Impedance Stress\n",
       "0     6-15 miles     0-30 minutes  NaN       NaN    NaN\n",
       "1    16-30 miles  Over 60 minutes  NaN       NaN    NaN\n",
       "2  Over 30 miles     0-30 minutes  NaN       NaN    NaN\n",
       "3  Over 30 miles     0-30 minutes  NaN       NaN    NaN\n",
       "4    16-30 miles     0-30 minutes  NaN       NaN    NaN"
      ]
     },
     "execution_count": 21,
     "metadata": {},
     "output_type": "execute_result"
    }
   ],
   "source": [
    "df['Duration'] = pd.Series(y_dur)\n",
    "# check the first few values\n",
    "df.head()"
   ]
  },
  {
   "cell_type": "code",
   "execution_count": 22,
   "metadata": {},
   "outputs": [
    {
     "data": {
      "text/html": [
       "<div>\n",
       "<style scoped>\n",
       "    .dataframe tbody tr th:only-of-type {\n",
       "        vertical-align: middle;\n",
       "    }\n",
       "\n",
       "    .dataframe tbody tr th {\n",
       "        vertical-align: top;\n",
       "    }\n",
       "\n",
       "    .dataframe thead th {\n",
       "        text-align: right;\n",
       "    }\n",
       "</style>\n",
       "<table border=\"1\" class=\"dataframe\">\n",
       "  <thead>\n",
       "    <tr style=\"text-align: right;\">\n",
       "      <th></th>\n",
       "      <th>Distance</th>\n",
       "      <th>Duration</th>\n",
       "      <th>Time</th>\n",
       "      <th>Impedance</th>\n",
       "      <th>Stress</th>\n",
       "    </tr>\n",
       "  </thead>\n",
       "  <tbody>\n",
       "    <tr>\n",
       "      <th>365</th>\n",
       "      <td>6-15 miles</td>\n",
       "      <td>0-30 minutes</td>\n",
       "      <td>NaN</td>\n",
       "      <td>NaN</td>\n",
       "      <td>NaN</td>\n",
       "    </tr>\n",
       "    <tr>\n",
       "      <th>366</th>\n",
       "      <td>0-5 miles</td>\n",
       "      <td>30-60 minutes</td>\n",
       "      <td>NaN</td>\n",
       "      <td>NaN</td>\n",
       "      <td>NaN</td>\n",
       "    </tr>\n",
       "    <tr>\n",
       "      <th>367</th>\n",
       "      <td>0-5 miles</td>\n",
       "      <td>0-30 minutes</td>\n",
       "      <td>NaN</td>\n",
       "      <td>NaN</td>\n",
       "      <td>NaN</td>\n",
       "    </tr>\n",
       "    <tr>\n",
       "      <th>368</th>\n",
       "      <td>6-15 miles</td>\n",
       "      <td>0-30 minutes</td>\n",
       "      <td>NaN</td>\n",
       "      <td>NaN</td>\n",
       "      <td>NaN</td>\n",
       "    </tr>\n",
       "    <tr>\n",
       "      <th>369</th>\n",
       "      <td>16-30 miles</td>\n",
       "      <td>0-30 minutes</td>\n",
       "      <td>NaN</td>\n",
       "      <td>NaN</td>\n",
       "      <td>NaN</td>\n",
       "    </tr>\n",
       "  </tbody>\n",
       "</table>\n",
       "</div>"
      ],
      "text/plain": [
       "        Distance       Duration Time Impedance Stress\n",
       "365   6-15 miles   0-30 minutes  NaN       NaN    NaN\n",
       "366    0-5 miles  30-60 minutes  NaN       NaN    NaN\n",
       "367    0-5 miles   0-30 minutes  NaN       NaN    NaN\n",
       "368   6-15 miles   0-30 minutes  NaN       NaN    NaN\n",
       "369  16-30 miles   0-30 minutes  NaN       NaN    NaN"
      ]
     },
     "execution_count": 22,
     "metadata": {},
     "output_type": "execute_result"
    }
   ],
   "source": [
    "# check that the end of the dataframe looks okay\n",
    "df.tail()"
   ]
  },
  {
   "cell_type": "markdown",
   "metadata": {},
   "source": [
    "Lets plot the histogram of the commute duration bands"
   ]
  },
  {
   "cell_type": "code",
   "execution_count": 23,
   "metadata": {},
   "outputs": [
    {
     "name": "stdout",
     "output_type": "stream",
     "text": [
      "The number in each of the duration bands is  Counter({'0-30 minutes': 139, '30-60 minutes': 118, 'Over 60 minutes': 113})\n"
     ]
    }
   ],
   "source": [
    "# calculate the number of responses to each duration band\n",
    "dur_counts = Counter(df['Duration'])\n",
    "# check the number\n",
    "print(\"The number in each of the duration bands is \", dur_counts)"
   ]
  },
  {
   "cell_type": "code",
   "execution_count": 24,
   "metadata": {},
   "outputs": [
    {
     "data": {
      "text/html": [
       "<div>\n",
       "<style scoped>\n",
       "    .dataframe tbody tr th:only-of-type {\n",
       "        vertical-align: middle;\n",
       "    }\n",
       "\n",
       "    .dataframe tbody tr th {\n",
       "        vertical-align: top;\n",
       "    }\n",
       "\n",
       "    .dataframe thead th {\n",
       "        text-align: right;\n",
       "    }\n",
       "</style>\n",
       "<table border=\"1\" class=\"dataframe\">\n",
       "  <thead>\n",
       "    <tr style=\"text-align: right;\">\n",
       "      <th></th>\n",
       "      <th>0</th>\n",
       "    </tr>\n",
       "  </thead>\n",
       "  <tbody>\n",
       "    <tr>\n",
       "      <th>0-30 minutes</th>\n",
       "      <td>139</td>\n",
       "    </tr>\n",
       "    <tr>\n",
       "      <th>Over 60 minutes</th>\n",
       "      <td>113</td>\n",
       "    </tr>\n",
       "    <tr>\n",
       "      <th>30-60 minutes</th>\n",
       "      <td>118</td>\n",
       "    </tr>\n",
       "  </tbody>\n",
       "</table>\n",
       "</div>"
      ],
      "text/plain": [
       "                   0\n",
       "0-30 minutes     139\n",
       "Over 60 minutes  113\n",
       "30-60 minutes    118"
      ]
     },
     "execution_count": 24,
     "metadata": {},
     "output_type": "execute_result"
    }
   ],
   "source": [
    "# create an indexed dataframe with the number of counts\n",
    "df_dur = pd.DataFrame.from_dict(dur_counts, orient='index')\n",
    "# check it looks okay\n",
    "df_dur\n"
   ]
  },
  {
   "cell_type": "code",
   "execution_count": 25,
   "metadata": {},
   "outputs": [
    {
     "data": {
      "image/png": "[encoded data removed]",
      "text/plain": [
       "<Figure size 432x288 with 1 Axes>"
      ]
     },
     "metadata": {
      "needs_background": "light"
     },
     "output_type": "display_data"
    }
   ],
   "source": [
    "#plot the bar chart of the duration counts\n",
    "df_dur.plot(kind='bar', title='Duration')\n",
    "plt.legend([\"Simulated Duration\"]);\n",
    "plt.show()"
   ]
  },
  {
   "cell_type": "code",
   "execution_count": 26,
   "metadata": {},
   "outputs": [
    {
     "data": {
      "text/html": [
       "<div>\n",
       "<style scoped>\n",
       "    .dataframe tbody tr th:only-of-type {\n",
       "        vertical-align: middle;\n",
       "    }\n",
       "\n",
       "    .dataframe tbody tr th {\n",
       "        vertical-align: top;\n",
       "    }\n",
       "\n",
       "    .dataframe thead th {\n",
       "        text-align: right;\n",
       "    }\n",
       "</style>\n",
       "<table border=\"1\" class=\"dataframe\">\n",
       "  <thead>\n",
       "    <tr style=\"text-align: right;\">\n",
       "      <th></th>\n",
       "      <th>0</th>\n",
       "    </tr>\n",
       "  </thead>\n",
       "  <tbody>\n",
       "    <tr>\n",
       "      <th>0-30 minutes</th>\n",
       "      <td>137</td>\n",
       "    </tr>\n",
       "    <tr>\n",
       "      <th>30-60 minutes</th>\n",
       "      <td>121</td>\n",
       "    </tr>\n",
       "    <tr>\n",
       "      <th>Over 60 minutes</th>\n",
       "      <td>97</td>\n",
       "    </tr>\n",
       "  </tbody>\n",
       "</table>\n",
       "</div>"
      ],
      "text/plain": [
       "                   0\n",
       "0-30 minutes     137\n",
       "30-60 minutes    121\n",
       "Over 60 minutes   97"
      ]
     },
     "execution_count": 26,
     "metadata": {},
     "output_type": "execute_result"
    }
   ],
   "source": [
    "# create Cassidy's Duration counts as a dataframe\n",
    "cass_dur = pd.DataFrame(np.array([[137, 121, 97]]), columns=['0-30 minutes', '30-60 minutes',  'Over 60 minutes'])\n",
    "cass_dur = cass_dur.transpose()\n",
    "# check shape\n",
    "cass_dur.head()\n"
   ]
  },
  {
   "cell_type": "code",
   "execution_count": 27,
   "metadata": {},
   "outputs": [
    {
     "data": {
      "image/png": "[encoded data removed]",
      "text/plain": [
       "<Figure size 432x288 with 1 Axes>"
      ]
     },
     "metadata": {
      "needs_background": "light"
     },
     "output_type": "display_data"
    },
    {
     "data": {
      "image/png": "[encoded data removed]",
      "text/plain": [
       "<Figure size 432x288 with 1 Axes>"
      ]
     },
     "metadata": {
      "needs_background": "light"
     },
     "output_type": "display_data"
    }
   ],
   "source": [
    "# set the order in which the plot displays the various bars for the original data\n",
    "cass_dur.reindex(['0-30 minutes', '30-60 minutes',  'Over 60 minutes']).plot(kind='bar', title='Original Duration')\n",
    "plt.legend([\"Original\"])\n",
    "# set the order in which the plot displays the various bars for the simulated data\n",
    "df_dur.reindex(['0-30 minutes', '30-60 minutes',  'Over 60 minutes']).plot(kind='bar', title='Simulated Duration')\n",
    "plt.legend([\"Simulated\"]);\n",
    "plt.show()\n",
    "\n",
    "\n",
    "# to do figure out how to display both histograms/bars side by side on the same plot\n"
   ]
  },
  {
   "cell_type": "markdown",
   "metadata": {},
   "source": [
    "This shows that durations of over an hour were not as common as durations between 0- 30 minutes (the most popular commute duration in Cassidy's study (1992)) with 30-60 minutes being the second most common duration of commute for the participants in the survey.  "
   ]
  },
  {
   "cell_type": "markdown",
   "metadata": {},
   "source": [
    "### Time\n",
    "Add the time data. In Cassidy's study the time commuting does not refer to the duration of the commute but to the overall time participants spent as a commuter traveling this duration. There was 343 respondents to this question on the survey with 73 responses indicating a commuting time of 1-29 months, 99 commuting for between 30 and 60 months, 80 commuting between 60 and 131 months and 132 participants commuting for over 132 months (Cassidy, 1992).  This was simulated with np.random.choice. \n",
    "\n",
    "#### Why?\n",
    "NumPy Random's choice was used to simulate the time spent commuting. There are four bands in this category. Again the data is ordinal, as there is a progression from 1 month to over 132 months.However as these choices were items on a survey NumPy Random's 'choice' function would be suitable as a model. There was a total of 343 responses to this section of the survey so this was taken as the total when calculating the probability weightings for each of the time bands. A 'Time' array was created containing the four time bands, 1 - 29 months, 30-60 months, 60-131 months and over 132 months. There were 73 responses in the first band so this was weighted as 73/343, 99 for the second band giving a probability of 99/343; 80 responses for the third band giving a weighting of 80/343 and finally 91 responses in the Over 132 month band giving a weighting of 91/343.   The model of the Time variable can be found below."
   ]
  },
  {
   "cell_type": "code",
   "execution_count": 28,
   "metadata": {},
   "outputs": [
    {
     "data": {
      "text/plain": [
       "['1-29 months', '30-60 months', '60-131 months', 'Over 132 months']"
      ]
     },
     "execution_count": 28,
     "metadata": {},
     "output_type": "execute_result"
    }
   ],
   "source": [
    "# add the  time category bands\n",
    "time = ['1-29 months', '30-60 months', '60-131 months', 'Over 132 months']\n",
    "# check the bands\n",
    "time"
   ]
  },
  {
   "cell_type": "code",
   "execution_count": 29,
   "metadata": {},
   "outputs": [
    {
     "name": "stdout",
     "output_type": "stream",
     "text": [
      "The number of respondents to the time question is  343\n"
     ]
    }
   ],
   "source": [
    "# calculate the number of responses to the Time category question\n",
    "tot_time = 73+99+80+91\n",
    "# check the number of respondents to the time question\n",
    "print(\"The number of respondents to the time question is \", tot_time)"
   ]
  },
  {
   "cell_type": "code",
   "execution_count": 30,
   "metadata": {},
   "outputs": [
    {
     "data": {
      "text/plain": [
       "array(['30-60 months', '30-60 months', '1-29 months', '60-131 months',\n",
       "       '60-131 months', 'Over 132 months', '30-60 months'], dtype='<U15')"
      ]
     },
     "execution_count": 30,
     "metadata": {},
     "output_type": "execute_result"
    }
   ],
   "source": [
    "# generate the time category responses with their respective weightings\n",
    "y_time = np.random.choice(time, size, p=[73/tot_time, 99/tot_time, 80/tot_time, 91/tot_time])\n",
    "# check the first few values look okay\n",
    "y_time[:7]"
   ]
  },
  {
   "cell_type": "markdown",
   "metadata": {},
   "source": [
    "Change the y_time time array to a dataframe and add it to the simulated model. "
   ]
  },
  {
   "cell_type": "code",
   "execution_count": 31,
   "metadata": {},
   "outputs": [
    {
     "data": {
      "text/html": [
       "<div>\n",
       "<style scoped>\n",
       "    .dataframe tbody tr th:only-of-type {\n",
       "        vertical-align: middle;\n",
       "    }\n",
       "\n",
       "    .dataframe tbody tr th {\n",
       "        vertical-align: top;\n",
       "    }\n",
       "\n",
       "    .dataframe thead th {\n",
       "        text-align: right;\n",
       "    }\n",
       "</style>\n",
       "<table border=\"1\" class=\"dataframe\">\n",
       "  <thead>\n",
       "    <tr style=\"text-align: right;\">\n",
       "      <th></th>\n",
       "      <th>Distance</th>\n",
       "      <th>Duration</th>\n",
       "      <th>Time</th>\n",
       "      <th>Impedance</th>\n",
       "      <th>Stress</th>\n",
       "    </tr>\n",
       "  </thead>\n",
       "  <tbody>\n",
       "    <tr>\n",
       "      <th>0</th>\n",
       "      <td>6-15 miles</td>\n",
       "      <td>0-30 minutes</td>\n",
       "      <td>30-60 months</td>\n",
       "      <td>NaN</td>\n",
       "      <td>NaN</td>\n",
       "    </tr>\n",
       "    <tr>\n",
       "      <th>1</th>\n",
       "      <td>16-30 miles</td>\n",
       "      <td>Over 60 minutes</td>\n",
       "      <td>30-60 months</td>\n",
       "      <td>NaN</td>\n",
       "      <td>NaN</td>\n",
       "    </tr>\n",
       "    <tr>\n",
       "      <th>2</th>\n",
       "      <td>Over 30 miles</td>\n",
       "      <td>0-30 minutes</td>\n",
       "      <td>1-29 months</td>\n",
       "      <td>NaN</td>\n",
       "      <td>NaN</td>\n",
       "    </tr>\n",
       "    <tr>\n",
       "      <th>3</th>\n",
       "      <td>Over 30 miles</td>\n",
       "      <td>0-30 minutes</td>\n",
       "      <td>60-131 months</td>\n",
       "      <td>NaN</td>\n",
       "      <td>NaN</td>\n",
       "    </tr>\n",
       "    <tr>\n",
       "      <th>4</th>\n",
       "      <td>16-30 miles</td>\n",
       "      <td>0-30 minutes</td>\n",
       "      <td>60-131 months</td>\n",
       "      <td>NaN</td>\n",
       "      <td>NaN</td>\n",
       "    </tr>\n",
       "  </tbody>\n",
       "</table>\n",
       "</div>"
      ],
      "text/plain": [
       "        Distance         Duration           Time Impedance Stress\n",
       "0     6-15 miles     0-30 minutes   30-60 months       NaN    NaN\n",
       "1    16-30 miles  Over 60 minutes   30-60 months       NaN    NaN\n",
       "2  Over 30 miles     0-30 minutes    1-29 months       NaN    NaN\n",
       "3  Over 30 miles     0-30 minutes  60-131 months       NaN    NaN\n",
       "4    16-30 miles     0-30 minutes  60-131 months       NaN    NaN"
      ]
     },
     "execution_count": 31,
     "metadata": {},
     "output_type": "execute_result"
    }
   ],
   "source": [
    "df['Time'] = pd.Series(y_time)\n",
    "# check the data has been added to the Time column in the dataframe\n",
    "df.head()"
   ]
  },
  {
   "cell_type": "code",
   "execution_count": 32,
   "metadata": {},
   "outputs": [
    {
     "data": {
      "text/html": [
       "<div>\n",
       "<style scoped>\n",
       "    .dataframe tbody tr th:only-of-type {\n",
       "        vertical-align: middle;\n",
       "    }\n",
       "\n",
       "    .dataframe tbody tr th {\n",
       "        vertical-align: top;\n",
       "    }\n",
       "\n",
       "    .dataframe thead th {\n",
       "        text-align: right;\n",
       "    }\n",
       "</style>\n",
       "<table border=\"1\" class=\"dataframe\">\n",
       "  <thead>\n",
       "    <tr style=\"text-align: right;\">\n",
       "      <th></th>\n",
       "      <th>Distance</th>\n",
       "      <th>Duration</th>\n",
       "      <th>Time</th>\n",
       "      <th>Impedance</th>\n",
       "      <th>Stress</th>\n",
       "    </tr>\n",
       "  </thead>\n",
       "  <tbody>\n",
       "    <tr>\n",
       "      <th>365</th>\n",
       "      <td>6-15 miles</td>\n",
       "      <td>0-30 minutes</td>\n",
       "      <td>Over 132 months</td>\n",
       "      <td>NaN</td>\n",
       "      <td>NaN</td>\n",
       "    </tr>\n",
       "    <tr>\n",
       "      <th>366</th>\n",
       "      <td>0-5 miles</td>\n",
       "      <td>30-60 minutes</td>\n",
       "      <td>Over 132 months</td>\n",
       "      <td>NaN</td>\n",
       "      <td>NaN</td>\n",
       "    </tr>\n",
       "    <tr>\n",
       "      <th>367</th>\n",
       "      <td>0-5 miles</td>\n",
       "      <td>0-30 minutes</td>\n",
       "      <td>30-60 months</td>\n",
       "      <td>NaN</td>\n",
       "      <td>NaN</td>\n",
       "    </tr>\n",
       "    <tr>\n",
       "      <th>368</th>\n",
       "      <td>6-15 miles</td>\n",
       "      <td>0-30 minutes</td>\n",
       "      <td>Over 132 months</td>\n",
       "      <td>NaN</td>\n",
       "      <td>NaN</td>\n",
       "    </tr>\n",
       "    <tr>\n",
       "      <th>369</th>\n",
       "      <td>16-30 miles</td>\n",
       "      <td>0-30 minutes</td>\n",
       "      <td>30-60 months</td>\n",
       "      <td>NaN</td>\n",
       "      <td>NaN</td>\n",
       "    </tr>\n",
       "  </tbody>\n",
       "</table>\n",
       "</div>"
      ],
      "text/plain": [
       "        Distance       Duration             Time Impedance Stress\n",
       "365   6-15 miles   0-30 minutes  Over 132 months       NaN    NaN\n",
       "366    0-5 miles  30-60 minutes  Over 132 months       NaN    NaN\n",
       "367    0-5 miles   0-30 minutes     30-60 months       NaN    NaN\n",
       "368   6-15 miles   0-30 minutes  Over 132 months       NaN    NaN\n",
       "369  16-30 miles   0-30 minutes     30-60 months       NaN    NaN"
      ]
     },
     "execution_count": 32,
     "metadata": {},
     "output_type": "execute_result"
    }
   ],
   "source": [
    "# check the end of the dataframe\n",
    "df.tail()"
   ]
  },
  {
   "cell_type": "markdown",
   "metadata": {},
   "source": [
    "Lets plot the histogram of the time spent as a commuter bands"
   ]
  },
  {
   "cell_type": "code",
   "execution_count": 33,
   "metadata": {},
   "outputs": [
    {
     "data": {
      "text/plain": [
       "Counter({'30-60 months': 118,\n",
       "         '1-29 months': 74,\n",
       "         '60-131 months': 84,\n",
       "         'Over 132 months': 94})"
      ]
     },
     "execution_count": 33,
     "metadata": {},
     "output_type": "execute_result"
    }
   ],
   "source": [
    "# calculate the number of responses to each duration band\n",
    "time_counts = Counter(df['Time'])\n",
    "# check the Time counters look okoay\n",
    "time_counts"
   ]
  },
  {
   "cell_type": "code",
   "execution_count": 34,
   "metadata": {},
   "outputs": [
    {
     "data": {
      "text/html": [
       "<div>\n",
       "<style scoped>\n",
       "    .dataframe tbody tr th:only-of-type {\n",
       "        vertical-align: middle;\n",
       "    }\n",
       "\n",
       "    .dataframe tbody tr th {\n",
       "        vertical-align: top;\n",
       "    }\n",
       "\n",
       "    .dataframe thead th {\n",
       "        text-align: right;\n",
       "    }\n",
       "</style>\n",
       "<table border=\"1\" class=\"dataframe\">\n",
       "  <thead>\n",
       "    <tr style=\"text-align: right;\">\n",
       "      <th></th>\n",
       "      <th>0</th>\n",
       "    </tr>\n",
       "  </thead>\n",
       "  <tbody>\n",
       "    <tr>\n",
       "      <th>30-60 months</th>\n",
       "      <td>118</td>\n",
       "    </tr>\n",
       "    <tr>\n",
       "      <th>1-29 months</th>\n",
       "      <td>74</td>\n",
       "    </tr>\n",
       "    <tr>\n",
       "      <th>60-131 months</th>\n",
       "      <td>84</td>\n",
       "    </tr>\n",
       "    <tr>\n",
       "      <th>Over 132 months</th>\n",
       "      <td>94</td>\n",
       "    </tr>\n",
       "  </tbody>\n",
       "</table>\n",
       "</div>"
      ],
      "text/plain": [
       "                   0\n",
       "30-60 months     118\n",
       "1-29 months       74\n",
       "60-131 months     84\n",
       "Over 132 months   94"
      ]
     },
     "execution_count": 34,
     "metadata": {},
     "output_type": "execute_result"
    }
   ],
   "source": [
    "# create an indexed dataframe with the number of counts\n",
    "df_time = pd.DataFrame.from_dict(time_counts, orient='index')\n",
    "# check the dataframe of the time counts looks okay\n",
    "df_time\n"
   ]
  },
  {
   "cell_type": "code",
   "execution_count": 35,
   "metadata": {},
   "outputs": [
    {
     "data": {
      "image/png": "[encoded data removed]",
      "text/plain": [
       "<Figure size 432x288 with 1 Axes>"
      ]
     },
     "metadata": {
      "needs_background": "light"
     },
     "output_type": "display_data"
    }
   ],
   "source": [
    "#plot the bar chart of the duration counts\n",
    "df_time.plot(kind='bar', title='Time', legend = False)\n",
    "plt.show()"
   ]
  },
  {
   "cell_type": "code",
   "execution_count": 36,
   "metadata": {},
   "outputs": [
    {
     "data": {
      "text/html": [
       "<div>\n",
       "<style scoped>\n",
       "    .dataframe tbody tr th:only-of-type {\n",
       "        vertical-align: middle;\n",
       "    }\n",
       "\n",
       "    .dataframe tbody tr th {\n",
       "        vertical-align: top;\n",
       "    }\n",
       "\n",
       "    .dataframe thead th {\n",
       "        text-align: right;\n",
       "    }\n",
       "</style>\n",
       "<table border=\"1\" class=\"dataframe\">\n",
       "  <thead>\n",
       "    <tr style=\"text-align: right;\">\n",
       "      <th></th>\n",
       "      <th>0</th>\n",
       "    </tr>\n",
       "  </thead>\n",
       "  <tbody>\n",
       "    <tr>\n",
       "      <th>1-29 months</th>\n",
       "      <td>73</td>\n",
       "    </tr>\n",
       "    <tr>\n",
       "      <th>30-60 months</th>\n",
       "      <td>99</td>\n",
       "    </tr>\n",
       "    <tr>\n",
       "      <th>60-131 months</th>\n",
       "      <td>80</td>\n",
       "    </tr>\n",
       "    <tr>\n",
       "      <th>Over 132 months</th>\n",
       "      <td>91</td>\n",
       "    </tr>\n",
       "  </tbody>\n",
       "</table>\n",
       "</div>"
      ],
      "text/plain": [
       "                  0\n",
       "1-29 months      73\n",
       "30-60 months     99\n",
       "60-131 months    80\n",
       "Over 132 months  91"
      ]
     },
     "execution_count": 36,
     "metadata": {},
     "output_type": "execute_result"
    }
   ],
   "source": [
    "# create Cassidy's Time counts as a dataframe\n",
    "cass_time = pd.DataFrame(np.array([[73, 99, 80, 91]]), columns=['1-29 months', '30-60 months', '60-131 months', 'Over 132 months'])\n",
    "cass_time = cass_time.transpose()\n",
    "# check shape\n",
    "cass_time.head()\n"
   ]
  },
  {
   "cell_type": "code",
   "execution_count": 37,
   "metadata": {},
   "outputs": [
    {
     "data": {
      "image/png": "[encoded data removed]",
      "text/plain": [
       "<Figure size 432x288 with 1 Axes>"
      ]
     },
     "metadata": {
      "needs_background": "light"
     },
     "output_type": "display_data"
    },
    {
     "data": {
      "image/png": "[encoded data removed]",
      "text/plain": [
       "<Figure size 432x288 with 1 Axes>"
      ]
     },
     "metadata": {
      "needs_background": "light"
     },
     "output_type": "display_data"
    }
   ],
   "source": [
    "# set the order in which the plot displays the various bars for the original data\n",
    "cass_time.reindex(['1-29 months', '30-60 months', '60-131 months', 'Over 132 months']).plot(kind='bar', title='Original Time')\n",
    "plt.legend([\"Original\"])\n",
    "# set the order in which the plot displays the various bars for the simulated data\n",
    "df_time.reindex(['1-29 months', '30-60 months', '60-131 months', 'Over 132 months']).plot(kind='bar', title='Simulated Time')\n",
    "plt.legend([\"Simulated\"]);\n",
    "plt.show()\n",
    "\n",
    "\n",
    "# to do figure out how to display both histograms/bars side by side on the same plot\n"
   ]
  },
  {
   "cell_type": "markdown",
   "metadata": {},
   "source": [
    "This shows that the most common timeframe of being a commuter in the study was 30-60 months and the least common one was 1-29 months. The simulated data is broadly similar to Cassidy's study in this respect. "
   ]
  },
  {
   "cell_type": "markdown",
   "metadata": {},
   "source": [
    "Cassidy's study shows that the most popular time lengths of commuting was 30-60 months (2.5 - 5 years), followed closely by 60-131 years (5 - approx 11 years) then 1-29 months ( up to 2.5 years) closely followed by over 132 months (11 years +)"
   ]
  },
  {
   "cell_type": "markdown",
   "metadata": {},
   "source": [
    "### Impedance\n",
    "Add the impedance data. In Cassidy's study the impedance (or speed traveled on the commute) was divided into three bands. All participants responded to this question on the survey. The majority of them (207) reported speeds of 17 mph or less as a hindering factor; 97 respondents reported speeds between 13.3 and 30 mph and 66 reported speeds over 30 mph. Again this is simulated with np.random.choice\n",
    "\n",
    "#### Why?\n",
    "NumPy Random's choice was used to simulate the time spent commuting. There are three bands in this category, 17 mph or less, 17.3 - 30 mph and Over 30 mph. Again the data is ordinal, as there is a progression from 17 mph to over 30 mph. However as these choices were items on a survey NumPy Random's 'choice' function would be suitable as a model. There was a total of 370 responses to this section of the survey so this was taken as the total when calculating the probability weightings for each of the time bands (which in this case was the number of people surveyed). An 'Impedance' array was created containing the three impedance bands. There were 207 responses in the first band so this was weighted as 207/370, 97 for the second band giving a probability of 97/370; 66 responses for the third band giving a weighting of 66/370. The model of the Impedance variable can be found below."
   ]
  },
  {
   "cell_type": "code",
   "execution_count": 38,
   "metadata": {},
   "outputs": [
    {
     "data": {
      "text/plain": [
       "['17 mph or less', '17.3-30 mph', 'Over 30 mph']"
      ]
     },
     "execution_count": 38,
     "metadata": {},
     "output_type": "execute_result"
    }
   ],
   "source": [
    "# create the impedance bands\n",
    "impedance = ['17 mph or less', '17.3-30 mph', 'Over 30 mph']\n",
    "# check the list\n",
    "impedance"
   ]
  },
  {
   "cell_type": "code",
   "execution_count": 39,
   "metadata": {},
   "outputs": [
    {
     "name": "stdout",
     "output_type": "stream",
     "text": [
      "The number of respondents to the Impedance question is   370\n"
     ]
    }
   ],
   "source": [
    "# calculate the number of responses to the impedance question\n",
    "tot_imp = 207+97+66\n",
    "print(\"The number of respondents to the Impedance question is  \", tot_imp)"
   ]
  },
  {
   "cell_type": "code",
   "execution_count": 40,
   "metadata": {},
   "outputs": [
    {
     "data": {
      "text/plain": [
       "array(['Over 30 mph', '17.3-30 mph', '17 mph or less', 'Over 30 mph',\n",
       "       '17 mph or less', '17 mph or less', '17.3-30 mph'], dtype='<U14')"
      ]
     },
     "execution_count": 40,
     "metadata": {},
     "output_type": "execute_result"
    }
   ],
   "source": [
    "# generate responses to the impedence question\n",
    "y_imp = np.random.choice(impedance, size, p=[207/tot_imp, 97/tot_imp, 66/tot_imp])\n",
    "# check the first few values on the array\n",
    "y_imp[:7]"
   ]
  },
  {
   "cell_type": "markdown",
   "metadata": {},
   "source": [
    "Change the y_imp impedance array to a dataframe and add it to the simulated model. "
   ]
  },
  {
   "cell_type": "code",
   "execution_count": 41,
   "metadata": {},
   "outputs": [
    {
     "data": {
      "text/html": [
       "<div>\n",
       "<style scoped>\n",
       "    .dataframe tbody tr th:only-of-type {\n",
       "        vertical-align: middle;\n",
       "    }\n",
       "\n",
       "    .dataframe tbody tr th {\n",
       "        vertical-align: top;\n",
       "    }\n",
       "\n",
       "    .dataframe thead th {\n",
       "        text-align: right;\n",
       "    }\n",
       "</style>\n",
       "<table border=\"1\" class=\"dataframe\">\n",
       "  <thead>\n",
       "    <tr style=\"text-align: right;\">\n",
       "      <th></th>\n",
       "      <th>Distance</th>\n",
       "      <th>Duration</th>\n",
       "      <th>Time</th>\n",
       "      <th>Impedance</th>\n",
       "      <th>Stress</th>\n",
       "    </tr>\n",
       "  </thead>\n",
       "  <tbody>\n",
       "    <tr>\n",
       "      <th>0</th>\n",
       "      <td>6-15 miles</td>\n",
       "      <td>0-30 minutes</td>\n",
       "      <td>30-60 months</td>\n",
       "      <td>Over 30 mph</td>\n",
       "      <td>NaN</td>\n",
       "    </tr>\n",
       "    <tr>\n",
       "      <th>1</th>\n",
       "      <td>16-30 miles</td>\n",
       "      <td>Over 60 minutes</td>\n",
       "      <td>30-60 months</td>\n",
       "      <td>17.3-30 mph</td>\n",
       "      <td>NaN</td>\n",
       "    </tr>\n",
       "    <tr>\n",
       "      <th>2</th>\n",
       "      <td>Over 30 miles</td>\n",
       "      <td>0-30 minutes</td>\n",
       "      <td>1-29 months</td>\n",
       "      <td>17 mph or less</td>\n",
       "      <td>NaN</td>\n",
       "    </tr>\n",
       "    <tr>\n",
       "      <th>3</th>\n",
       "      <td>Over 30 miles</td>\n",
       "      <td>0-30 minutes</td>\n",
       "      <td>60-131 months</td>\n",
       "      <td>Over 30 mph</td>\n",
       "      <td>NaN</td>\n",
       "    </tr>\n",
       "    <tr>\n",
       "      <th>4</th>\n",
       "      <td>16-30 miles</td>\n",
       "      <td>0-30 minutes</td>\n",
       "      <td>60-131 months</td>\n",
       "      <td>17 mph or less</td>\n",
       "      <td>NaN</td>\n",
       "    </tr>\n",
       "  </tbody>\n",
       "</table>\n",
       "</div>"
      ],
      "text/plain": [
       "        Distance         Duration           Time       Impedance Stress\n",
       "0     6-15 miles     0-30 minutes   30-60 months     Over 30 mph    NaN\n",
       "1    16-30 miles  Over 60 minutes   30-60 months     17.3-30 mph    NaN\n",
       "2  Over 30 miles     0-30 minutes    1-29 months  17 mph or less    NaN\n",
       "3  Over 30 miles     0-30 minutes  60-131 months     Over 30 mph    NaN\n",
       "4    16-30 miles     0-30 minutes  60-131 months  17 mph or less    NaN"
      ]
     },
     "execution_count": 41,
     "metadata": {},
     "output_type": "execute_result"
    }
   ],
   "source": [
    "df['Impedance'] = pd.Series(y_imp)\n",
    "# check the Impedance values are added\n",
    "df.head()"
   ]
  },
  {
   "cell_type": "code",
   "execution_count": 42,
   "metadata": {},
   "outputs": [
    {
     "data": {
      "text/html": [
       "<div>\n",
       "<style scoped>\n",
       "    .dataframe tbody tr th:only-of-type {\n",
       "        vertical-align: middle;\n",
       "    }\n",
       "\n",
       "    .dataframe tbody tr th {\n",
       "        vertical-align: top;\n",
       "    }\n",
       "\n",
       "    .dataframe thead th {\n",
       "        text-align: right;\n",
       "    }\n",
       "</style>\n",
       "<table border=\"1\" class=\"dataframe\">\n",
       "  <thead>\n",
       "    <tr style=\"text-align: right;\">\n",
       "      <th></th>\n",
       "      <th>Distance</th>\n",
       "      <th>Duration</th>\n",
       "      <th>Time</th>\n",
       "      <th>Impedance</th>\n",
       "      <th>Stress</th>\n",
       "    </tr>\n",
       "  </thead>\n",
       "  <tbody>\n",
       "    <tr>\n",
       "      <th>365</th>\n",
       "      <td>6-15 miles</td>\n",
       "      <td>0-30 minutes</td>\n",
       "      <td>Over 132 months</td>\n",
       "      <td>Over 30 mph</td>\n",
       "      <td>NaN</td>\n",
       "    </tr>\n",
       "    <tr>\n",
       "      <th>366</th>\n",
       "      <td>0-5 miles</td>\n",
       "      <td>30-60 minutes</td>\n",
       "      <td>Over 132 months</td>\n",
       "      <td>17 mph or less</td>\n",
       "      <td>NaN</td>\n",
       "    </tr>\n",
       "    <tr>\n",
       "      <th>367</th>\n",
       "      <td>0-5 miles</td>\n",
       "      <td>0-30 minutes</td>\n",
       "      <td>30-60 months</td>\n",
       "      <td>17 mph or less</td>\n",
       "      <td>NaN</td>\n",
       "    </tr>\n",
       "    <tr>\n",
       "      <th>368</th>\n",
       "      <td>6-15 miles</td>\n",
       "      <td>0-30 minutes</td>\n",
       "      <td>Over 132 months</td>\n",
       "      <td>17 mph or less</td>\n",
       "      <td>NaN</td>\n",
       "    </tr>\n",
       "    <tr>\n",
       "      <th>369</th>\n",
       "      <td>16-30 miles</td>\n",
       "      <td>0-30 minutes</td>\n",
       "      <td>30-60 months</td>\n",
       "      <td>Over 30 mph</td>\n",
       "      <td>NaN</td>\n",
       "    </tr>\n",
       "  </tbody>\n",
       "</table>\n",
       "</div>"
      ],
      "text/plain": [
       "        Distance       Duration             Time       Impedance Stress\n",
       "365   6-15 miles   0-30 minutes  Over 132 months     Over 30 mph    NaN\n",
       "366    0-5 miles  30-60 minutes  Over 132 months  17 mph or less    NaN\n",
       "367    0-5 miles   0-30 minutes     30-60 months  17 mph or less    NaN\n",
       "368   6-15 miles   0-30 minutes  Over 132 months  17 mph or less    NaN\n",
       "369  16-30 miles   0-30 minutes     30-60 months     Over 30 mph    NaN"
      ]
     },
     "execution_count": 42,
     "metadata": {},
     "output_type": "execute_result"
    }
   ],
   "source": [
    "# check the end of the dataframe looks okay\n",
    "df.tail()"
   ]
  },
  {
   "cell_type": "markdown",
   "metadata": {},
   "source": [
    "Lets plot the histogram of the impedance distance bands"
   ]
  },
  {
   "cell_type": "code",
   "execution_count": 43,
   "metadata": {},
   "outputs": [
    {
     "data": {
      "text/plain": [
       "Counter({'Over 30 mph': 55, '17.3-30 mph': 92, '17 mph or less': 223})"
      ]
     },
     "execution_count": 43,
     "metadata": {},
     "output_type": "execute_result"
    }
   ],
   "source": [
    "# calculate the number of responses to each impedance band\n",
    "imp_counts = Counter(df['Impedance'])\n",
    "# check the counts look okay\n",
    "imp_counts"
   ]
  },
  {
   "cell_type": "code",
   "execution_count": 44,
   "metadata": {},
   "outputs": [
    {
     "data": {
      "text/html": [
       "<div>\n",
       "<style scoped>\n",
       "    .dataframe tbody tr th:only-of-type {\n",
       "        vertical-align: middle;\n",
       "    }\n",
       "\n",
       "    .dataframe tbody tr th {\n",
       "        vertical-align: top;\n",
       "    }\n",
       "\n",
       "    .dataframe thead th {\n",
       "        text-align: right;\n",
       "    }\n",
       "</style>\n",
       "<table border=\"1\" class=\"dataframe\">\n",
       "  <thead>\n",
       "    <tr style=\"text-align: right;\">\n",
       "      <th></th>\n",
       "      <th>0</th>\n",
       "    </tr>\n",
       "  </thead>\n",
       "  <tbody>\n",
       "    <tr>\n",
       "      <th>Over 30 mph</th>\n",
       "      <td>55</td>\n",
       "    </tr>\n",
       "    <tr>\n",
       "      <th>17.3-30 mph</th>\n",
       "      <td>92</td>\n",
       "    </tr>\n",
       "    <tr>\n",
       "      <th>17 mph or less</th>\n",
       "      <td>223</td>\n",
       "    </tr>\n",
       "  </tbody>\n",
       "</table>\n",
       "</div>"
      ],
      "text/plain": [
       "                  0\n",
       "Over 30 mph      55\n",
       "17.3-30 mph      92\n",
       "17 mph or less  223"
      ]
     },
     "execution_count": 44,
     "metadata": {},
     "output_type": "execute_result"
    }
   ],
   "source": [
    "# create an indexed dataframe with the number of counts\n",
    "df_imp = pd.DataFrame.from_dict(imp_counts, orient='index')\n",
    "# check the counts dataframe for impedence looks okay\n",
    "df_imp\n"
   ]
  },
  {
   "cell_type": "code",
   "execution_count": 45,
   "metadata": {},
   "outputs": [
    {
     "data": {
      "image/png": "[encoded data removed]",
      "text/plain": [
       "<Figure size 432x288 with 1 Axes>"
      ]
     },
     "metadata": {
      "needs_background": "light"
     },
     "output_type": "display_data"
    }
   ],
   "source": [
    "#plot the bar chart of the duration counts\n",
    "df_imp.plot(kind='bar', title='Impedance')\n",
    "plt.legend([\"Simulated Impedance\"])\n",
    "plt.show()"
   ]
  },
  {
   "cell_type": "code",
   "execution_count": 46,
   "metadata": {},
   "outputs": [
    {
     "data": {
      "text/html": [
       "<div>\n",
       "<style scoped>\n",
       "    .dataframe tbody tr th:only-of-type {\n",
       "        vertical-align: middle;\n",
       "    }\n",
       "\n",
       "    .dataframe tbody tr th {\n",
       "        vertical-align: top;\n",
       "    }\n",
       "\n",
       "    .dataframe thead th {\n",
       "        text-align: right;\n",
       "    }\n",
       "</style>\n",
       "<table border=\"1\" class=\"dataframe\">\n",
       "  <thead>\n",
       "    <tr style=\"text-align: right;\">\n",
       "      <th></th>\n",
       "      <th>0</th>\n",
       "    </tr>\n",
       "  </thead>\n",
       "  <tbody>\n",
       "    <tr>\n",
       "      <th>17 mph or less</th>\n",
       "      <td>207</td>\n",
       "    </tr>\n",
       "    <tr>\n",
       "      <th>17.3-30 mph</th>\n",
       "      <td>97</td>\n",
       "    </tr>\n",
       "    <tr>\n",
       "      <th>Over 30 mph</th>\n",
       "      <td>66</td>\n",
       "    </tr>\n",
       "  </tbody>\n",
       "</table>\n",
       "</div>"
      ],
      "text/plain": [
       "                  0\n",
       "17 mph or less  207\n",
       "17.3-30 mph      97\n",
       "Over 30 mph      66"
      ]
     },
     "execution_count": 46,
     "metadata": {},
     "output_type": "execute_result"
    }
   ],
   "source": [
    "# create Cassidy's Time counts as a dataframe\n",
    "cass_imp = pd.DataFrame(np.array([[207, 97, 66]]), columns=['17 mph or less', '17.3-30 mph', 'Over 30 mph'])\n",
    "cass_imp = cass_imp.transpose()\n",
    "# check shape\n",
    "cass_imp.head()\n"
   ]
  },
  {
   "cell_type": "code",
   "execution_count": 47,
   "metadata": {},
   "outputs": [
    {
     "data": {
      "image/png": "[encoded data removed]",
      "text/plain": [
       "<Figure size 432x288 with 1 Axes>"
      ]
     },
     "metadata": {
      "needs_background": "light"
     },
     "output_type": "display_data"
    },
    {
     "data": {
      "image/png": "[encoded data removed]",
      "text/plain": [
       "<Figure size 432x288 with 1 Axes>"
      ]
     },
     "metadata": {
      "needs_background": "light"
     },
     "output_type": "display_data"
    }
   ],
   "source": [
    "# set the order in which the plot displays the various bars for the original data\n",
    "cass_imp.reindex(['17 mph or less', '17.3-30 mph', 'Over 30 mph']).plot(kind='bar', title='Original Impedance')\n",
    "plt.legend([\"Original\"])\n",
    "# set the order in which the plot displays the various bars for the simulated data\n",
    "df_imp.reindex(['17 mph or less', '17.3-30 mph', 'Over 30 mph']).plot(kind='bar', title='Simulated Impedance')\n",
    "plt.legend([\"Simulated\"]);\n",
    "plt.show()\n",
    "\n",
    "\n",
    "# to do figure out how to display both histograms/bars side by side on the same plot\n"
   ]
  },
  {
   "cell_type": "markdown",
   "metadata": {},
   "source": [
    "This showed that the most common type of impedance was speeds under 17 mph with much less reported difficulty with the other two bands. The over 30 mph was reported as having the lowest impedance. "
   ]
  },
  {
   "cell_type": "markdown",
   "metadata": {},
   "source": [
    "### Transport\n",
    "The method of transportation data could be car or public transport. This is simulated with np.random.choice. Cassidy asked participants their means of commuting. There were two bands to choose from, car or public transport. 313 participants responded to this question with 124 car users and 189 public transport commuters. This was simulated with np.random.choice. \n",
    "\n",
    "#### Why?\n",
    "NumPy Random's choice was used to simulate the mode of transportation. There are two bands in this category, car or public transport. Like gender the data is nominal However as these choices were items on a survey NumPy Random's 'choice' function would be suitable as a model. There was a total of 313 responses to this section of the survey so this was taken as the total when calculating the probability weightings for each of the transport bands. A 'Transport' array was created containing the two transport bands, car and public transport. There were 124 responses in the first band so this was weighted as 124/313 and 189 responses for the public transport band giving a probability of 189/313. The model of the Transport variable can be found below."
   ]
  },
  {
   "cell_type": "code",
   "execution_count": 48,
   "metadata": {},
   "outputs": [
    {
     "data": {
      "text/plain": [
       "['Car', 'Public transport']"
      ]
     },
     "execution_count": 48,
     "metadata": {},
     "output_type": "execute_result"
    }
   ],
   "source": [
    "# create the Transport response bands  \n",
    "transport = ['Car', 'Public transport']\n",
    "# check the list\n",
    "transport"
   ]
  },
  {
   "cell_type": "code",
   "execution_count": 49,
   "metadata": {},
   "outputs": [
    {
     "name": "stdout",
     "output_type": "stream",
     "text": [
      "The number of respondents to the transport question is  313\n"
     ]
    }
   ],
   "source": [
    "# calculate the number of responses\n",
    "tot_tran = 124+189\n",
    "\n",
    "# check the value\n",
    "print(\"The number of respondents to the transport question is \", tot_tran)"
   ]
  },
  {
   "cell_type": "code",
   "execution_count": 50,
   "metadata": {},
   "outputs": [
    {
     "data": {
      "text/plain": [
       "array(['Car', 'Car', 'Car', 'Public transport', 'Public transport', 'Car',\n",
       "       'Public transport'], dtype='<U16')"
      ]
     },
     "execution_count": 50,
     "metadata": {},
     "output_type": "execute_result"
    }
   ],
   "source": [
    "# generate the transport response array\n",
    "y_tran = np.random.choice(transport, size, p= [124/tot_tran, 189/tot_tran])\n",
    "# check that the array looks okay by looking at its first few values\n",
    "y_tran[:7]"
   ]
  },
  {
   "cell_type": "markdown",
   "metadata": {},
   "source": [
    "Change the y_tran transportation array to a dataframe and add it to the simulated model. "
   ]
  },
  {
   "cell_type": "code",
   "execution_count": 51,
   "metadata": {},
   "outputs": [
    {
     "data": {
      "text/html": [
       "<div>\n",
       "<style scoped>\n",
       "    .dataframe tbody tr th:only-of-type {\n",
       "        vertical-align: middle;\n",
       "    }\n",
       "\n",
       "    .dataframe tbody tr th {\n",
       "        vertical-align: top;\n",
       "    }\n",
       "\n",
       "    .dataframe thead th {\n",
       "        text-align: right;\n",
       "    }\n",
       "</style>\n",
       "<table border=\"1\" class=\"dataframe\">\n",
       "  <thead>\n",
       "    <tr style=\"text-align: right;\">\n",
       "      <th></th>\n",
       "      <th>Distance</th>\n",
       "      <th>Duration</th>\n",
       "      <th>Time</th>\n",
       "      <th>Impedance</th>\n",
       "      <th>Stress</th>\n",
       "      <th>Transport</th>\n",
       "    </tr>\n",
       "  </thead>\n",
       "  <tbody>\n",
       "    <tr>\n",
       "      <th>0</th>\n",
       "      <td>6-15 miles</td>\n",
       "      <td>0-30 minutes</td>\n",
       "      <td>30-60 months</td>\n",
       "      <td>Over 30 mph</td>\n",
       "      <td>NaN</td>\n",
       "      <td>Car</td>\n",
       "    </tr>\n",
       "    <tr>\n",
       "      <th>1</th>\n",
       "      <td>16-30 miles</td>\n",
       "      <td>Over 60 minutes</td>\n",
       "      <td>30-60 months</td>\n",
       "      <td>17.3-30 mph</td>\n",
       "      <td>NaN</td>\n",
       "      <td>Car</td>\n",
       "    </tr>\n",
       "    <tr>\n",
       "      <th>2</th>\n",
       "      <td>Over 30 miles</td>\n",
       "      <td>0-30 minutes</td>\n",
       "      <td>1-29 months</td>\n",
       "      <td>17 mph or less</td>\n",
       "      <td>NaN</td>\n",
       "      <td>Car</td>\n",
       "    </tr>\n",
       "    <tr>\n",
       "      <th>3</th>\n",
       "      <td>Over 30 miles</td>\n",
       "      <td>0-30 minutes</td>\n",
       "      <td>60-131 months</td>\n",
       "      <td>Over 30 mph</td>\n",
       "      <td>NaN</td>\n",
       "      <td>Public transport</td>\n",
       "    </tr>\n",
       "    <tr>\n",
       "      <th>4</th>\n",
       "      <td>16-30 miles</td>\n",
       "      <td>0-30 minutes</td>\n",
       "      <td>60-131 months</td>\n",
       "      <td>17 mph or less</td>\n",
       "      <td>NaN</td>\n",
       "      <td>Public transport</td>\n",
       "    </tr>\n",
       "  </tbody>\n",
       "</table>\n",
       "</div>"
      ],
      "text/plain": [
       "        Distance         Duration           Time       Impedance Stress  \\\n",
       "0     6-15 miles     0-30 minutes   30-60 months     Over 30 mph    NaN   \n",
       "1    16-30 miles  Over 60 minutes   30-60 months     17.3-30 mph    NaN   \n",
       "2  Over 30 miles     0-30 minutes    1-29 months  17 mph or less    NaN   \n",
       "3  Over 30 miles     0-30 minutes  60-131 months     Over 30 mph    NaN   \n",
       "4    16-30 miles     0-30 minutes  60-131 months  17 mph or less    NaN   \n",
       "\n",
       "          Transport  \n",
       "0               Car  \n",
       "1               Car  \n",
       "2               Car  \n",
       "3  Public transport  \n",
       "4  Public transport  "
      ]
     },
     "execution_count": 51,
     "metadata": {},
     "output_type": "execute_result"
    }
   ],
   "source": [
    "df['Transport'] = pd.Series(y_tran)\n",
    "#check the dataframe looks okay by showing its first few values\n",
    "df.head()"
   ]
  },
  {
   "cell_type": "code",
   "execution_count": 52,
   "metadata": {},
   "outputs": [
    {
     "data": {
      "text/html": [
       "<div>\n",
       "<style scoped>\n",
       "    .dataframe tbody tr th:only-of-type {\n",
       "        vertical-align: middle;\n",
       "    }\n",
       "\n",
       "    .dataframe tbody tr th {\n",
       "        vertical-align: top;\n",
       "    }\n",
       "\n",
       "    .dataframe thead th {\n",
       "        text-align: right;\n",
       "    }\n",
       "</style>\n",
       "<table border=\"1\" class=\"dataframe\">\n",
       "  <thead>\n",
       "    <tr style=\"text-align: right;\">\n",
       "      <th></th>\n",
       "      <th>Distance</th>\n",
       "      <th>Duration</th>\n",
       "      <th>Time</th>\n",
       "      <th>Impedance</th>\n",
       "      <th>Stress</th>\n",
       "      <th>Transport</th>\n",
       "    </tr>\n",
       "  </thead>\n",
       "  <tbody>\n",
       "    <tr>\n",
       "      <th>365</th>\n",
       "      <td>6-15 miles</td>\n",
       "      <td>0-30 minutes</td>\n",
       "      <td>Over 132 months</td>\n",
       "      <td>Over 30 mph</td>\n",
       "      <td>NaN</td>\n",
       "      <td>Public transport</td>\n",
       "    </tr>\n",
       "    <tr>\n",
       "      <th>366</th>\n",
       "      <td>0-5 miles</td>\n",
       "      <td>30-60 minutes</td>\n",
       "      <td>Over 132 months</td>\n",
       "      <td>17 mph or less</td>\n",
       "      <td>NaN</td>\n",
       "      <td>Public transport</td>\n",
       "    </tr>\n",
       "    <tr>\n",
       "      <th>367</th>\n",
       "      <td>0-5 miles</td>\n",
       "      <td>0-30 minutes</td>\n",
       "      <td>30-60 months</td>\n",
       "      <td>17 mph or less</td>\n",
       "      <td>NaN</td>\n",
       "      <td>Car</td>\n",
       "    </tr>\n",
       "    <tr>\n",
       "      <th>368</th>\n",
       "      <td>6-15 miles</td>\n",
       "      <td>0-30 minutes</td>\n",
       "      <td>Over 132 months</td>\n",
       "      <td>17 mph or less</td>\n",
       "      <td>NaN</td>\n",
       "      <td>Car</td>\n",
       "    </tr>\n",
       "    <tr>\n",
       "      <th>369</th>\n",
       "      <td>16-30 miles</td>\n",
       "      <td>0-30 minutes</td>\n",
       "      <td>30-60 months</td>\n",
       "      <td>Over 30 mph</td>\n",
       "      <td>NaN</td>\n",
       "      <td>Car</td>\n",
       "    </tr>\n",
       "  </tbody>\n",
       "</table>\n",
       "</div>"
      ],
      "text/plain": [
       "        Distance       Duration             Time       Impedance Stress  \\\n",
       "365   6-15 miles   0-30 minutes  Over 132 months     Over 30 mph    NaN   \n",
       "366    0-5 miles  30-60 minutes  Over 132 months  17 mph or less    NaN   \n",
       "367    0-5 miles   0-30 minutes     30-60 months  17 mph or less    NaN   \n",
       "368   6-15 miles   0-30 minutes  Over 132 months  17 mph or less    NaN   \n",
       "369  16-30 miles   0-30 minutes     30-60 months     Over 30 mph    NaN   \n",
       "\n",
       "            Transport  \n",
       "365  Public transport  \n",
       "366  Public transport  \n",
       "367               Car  \n",
       "368               Car  \n",
       "369               Car  "
      ]
     },
     "execution_count": 52,
     "metadata": {},
     "output_type": "execute_result"
    }
   ],
   "source": [
    "# check that the end of the dataframe looks okay\n",
    "df.tail()"
   ]
  },
  {
   "cell_type": "markdown",
   "metadata": {},
   "source": [
    "Lets plot the histogram of the mode of transportation."
   ]
  },
  {
   "cell_type": "code",
   "execution_count": 53,
   "metadata": {},
   "outputs": [
    {
     "data": {
      "text/plain": [
       "Counter({'Car': 152, 'Public transport': 218})"
      ]
     },
     "execution_count": 53,
     "metadata": {},
     "output_type": "execute_result"
    }
   ],
   "source": [
    "# calculate the number of responses to each impedance band\n",
    "tran_counts = Counter(df['Transport'])\n",
    "# check the transport counter\n",
    "tran_counts"
   ]
  },
  {
   "cell_type": "code",
   "execution_count": 54,
   "metadata": {},
   "outputs": [
    {
     "data": {
      "text/html": [
       "<div>\n",
       "<style scoped>\n",
       "    .dataframe tbody tr th:only-of-type {\n",
       "        vertical-align: middle;\n",
       "    }\n",
       "\n",
       "    .dataframe tbody tr th {\n",
       "        vertical-align: top;\n",
       "    }\n",
       "\n",
       "    .dataframe thead th {\n",
       "        text-align: right;\n",
       "    }\n",
       "</style>\n",
       "<table border=\"1\" class=\"dataframe\">\n",
       "  <thead>\n",
       "    <tr style=\"text-align: right;\">\n",
       "      <th></th>\n",
       "      <th>0</th>\n",
       "    </tr>\n",
       "  </thead>\n",
       "  <tbody>\n",
       "    <tr>\n",
       "      <th>Car</th>\n",
       "      <td>152</td>\n",
       "    </tr>\n",
       "    <tr>\n",
       "      <th>Public transport</th>\n",
       "      <td>218</td>\n",
       "    </tr>\n",
       "  </tbody>\n",
       "</table>\n",
       "</div>"
      ],
      "text/plain": [
       "                    0\n",
       "Car               152\n",
       "Public transport  218"
      ]
     },
     "execution_count": 54,
     "metadata": {},
     "output_type": "execute_result"
    }
   ],
   "source": [
    "# create an indexed dataframe with the number of counts\n",
    "df_tran = pd.DataFrame.from_dict(tran_counts, orient='index')\n",
    "# check the dataframe\n",
    "df_tran\n"
   ]
  },
  {
   "cell_type": "code",
   "execution_count": 55,
   "metadata": {},
   "outputs": [
    {
     "data": {
      "image/png": "[encoded data removed]",
      "text/plain": [
       "<Figure size 432x288 with 1 Axes>"
      ]
     },
     "metadata": {
      "needs_background": "light"
     },
     "output_type": "display_data"
    }
   ],
   "source": [
    "#plot the bar chart of the duration counts\n",
    "df_tran.plot(kind='bar', title='Transport')\n",
    "plt.legend(['Simulated Transport'])\n",
    "plt.show()"
   ]
  },
  {
   "cell_type": "code",
   "execution_count": 56,
   "metadata": {},
   "outputs": [
    {
     "data": {
      "text/html": [
       "<div>\n",
       "<style scoped>\n",
       "    .dataframe tbody tr th:only-of-type {\n",
       "        vertical-align: middle;\n",
       "    }\n",
       "\n",
       "    .dataframe tbody tr th {\n",
       "        vertical-align: top;\n",
       "    }\n",
       "\n",
       "    .dataframe thead th {\n",
       "        text-align: right;\n",
       "    }\n",
       "</style>\n",
       "<table border=\"1\" class=\"dataframe\">\n",
       "  <thead>\n",
       "    <tr style=\"text-align: right;\">\n",
       "      <th></th>\n",
       "      <th>0</th>\n",
       "    </tr>\n",
       "  </thead>\n",
       "  <tbody>\n",
       "    <tr>\n",
       "      <th>Car</th>\n",
       "      <td>124</td>\n",
       "    </tr>\n",
       "    <tr>\n",
       "      <th>Public transport</th>\n",
       "      <td>189</td>\n",
       "    </tr>\n",
       "  </tbody>\n",
       "</table>\n",
       "</div>"
      ],
      "text/plain": [
       "                    0\n",
       "Car               124\n",
       "Public transport  189"
      ]
     },
     "execution_count": 56,
     "metadata": {},
     "output_type": "execute_result"
    }
   ],
   "source": [
    "# create Cassidy's Transport counts as a dataframe\n",
    "cass_tran = pd.DataFrame(np.array([[124, 189]]), columns=['Car', 'Public transport'])\n",
    "cass_tran = cass_tran.transpose()\n",
    "# check shape\n",
    "cass_tran.head()\n"
   ]
  },
  {
   "cell_type": "code",
   "execution_count": 57,
   "metadata": {},
   "outputs": [
    {
     "data": {
      "image/png": "[encoded data removed]",
      "text/plain": [
       "<Figure size 432x288 with 1 Axes>"
      ]
     },
     "metadata": {
      "needs_background": "light"
     },
     "output_type": "display_data"
    },
    {
     "data": {
      "image/png": "[encoded data removed]",
      "text/plain": [
       "<Figure size 432x288 with 1 Axes>"
      ]
     },
     "metadata": {
      "needs_background": "light"
     },
     "output_type": "display_data"
    }
   ],
   "source": [
    "# set the order in which the plot displays the various bars for the original data\n",
    "cass_tran.reindex(['Car', 'Public transport']).plot(kind='bar', title='Original Transport')\n",
    "plt.legend([\"Original\"])\n",
    "# set the order in which the plot displays the various bars for the simulated data\n",
    "df_tran.reindex(['Car', 'Public transport']).plot(kind='bar', title='Simulated Transport')\n",
    "plt.legend([\"Simulated\"]);\n",
    "plt.show()\n",
    "\n",
    "\n",
    "# to do figure out how to display both histograms/bars side by side on the same plot\n"
   ]
  },
  {
   "cell_type": "markdown",
   "metadata": {},
   "source": [
    "This shows that most participants used public transportation. It would be interesting to see if traveling by bus or train increased or decreased stress. Car transport provides a greater perception of situational control. However, it is debatable which mode provides greater stress. Being in control of the driving in stressful traffic may be more stress inducing than sleeping on bus or train. I would not expect a clear linear relationship between transportation mode and stress. It would also be useful to introduce more categories into the transport list such as bicycle, car, bus and train.  "
   ]
  },
  {
   "cell_type": "markdown",
   "metadata": {},
   "source": [
    "### Stress\n",
    "Cassidy, (1992) measured stress over five domains, home, commute, work, leisure and personal. There was no numerical data given on these measures but three bar charts illustrated the report graphs with data from these domains. \n",
    "\n",
    "#### Cassidy's Stress assesment variables\n",
    "Cassidy 1992 measured stress along five domains namely \n",
    "* **Home domain** - This contained measures of perceived stress including perceived financial stress, social support, time spend at home and if home time was used to mediate work related problems\n",
    "* **Commuting domain** - This contained measures of perceived commuting related stress and commuting mood. \n",
    "* **Work domain** - This contained measures of perceived work related stress including the level of participants commitment to their job. Work stress measures were also collected. \n",
    "* **Leisure domain** - This contained information on the participants leisure attitude and experiences. It measured how often participants exercised and socialised and their perception of their fitness levels. \n",
    "* **Personal domain** - This measured the participants cognitive style such as their problem solving ability and whether or not the attributed events to internal or external factors. It measured participants reported levels of hopelessness, level of control, motivation, confidence and their general perceived stress. It also assessed their level of satisfaction with the direction their life was taking. \n",
    "\n",
    "The report contained four histogram comparison charts, one for the distance of commute, one for the duration of commute and one for the impedance of commute and one for the time spent commuting. \n",
    "\n",
    "##### Distance\n",
    "Cassidy found that commuters who travel longer distances reported more negative commuting experiences but did not report more stress than participants traveling shorter distances. However longer distance commuters reported higher scores on motivation and job commitment measures and more positive problem solving ability and use of leisure. Cassidy noted that this suggests longer distance commuters developed coping strategies within other domains to negate the negative effects of a long commute. Commuters who traveled by car had a greater sense of control over their situation however public transport commuters were able to use their commuting time productively along one or more domain. They read, slept,caught up with work etc. Cassidy noted that while this may seem beneficial it may  have long term implications in blurring boundaries between the various domains. In Cassidy's study longer distance commuters scored lower than other participants on the intention to continue to commute at this distance. Cassidy suggested that this shows participants are aware of the negative impact long commutes are having on their other domains. \n",
    "\n",
    "##### Duration\n",
    "Participants reported more negative and less positive responses as the duration of commute increased. There was significantly more work related stress reported for participants with higher duration of commute.\n",
    "\n",
    "##### Impedance\n",
    "This measure was the strongest indicator of stress. The greater the impedance i.e. the slower the speed reported significantly more negative and less positive experiences over most of the domains. Cassidy was cautious in drawing conclusions however he suggested there may be an element of 'learned helplessness' when participants cannot control the speed it takes them to and from work. \n",
    "\n",
    "##### Time\n",
    "Cassidy found participants who were commuting for several years had more positive perceptions of their commute. This may be due to those who dislike commuting leaving the commuting pool resulting in a hardier long timer commuter population. There was some support for this in the problem solving styles of the longer commuter and their levels of optimism. However long time commuters also showed higher work commitment but lower achievement motivation. Cassidy suggested this showed their commitment to their job which also had negative impact on their home and leisure domain.  \n",
    "\n",
    "##### Transport\n",
    "\n",
    "Cassidy also investigated mode of transportation. He found that participant car users had more positive experiences than train users. Car users perceived themselves as having more control, spending more time at home and less time commuting than measures warranted. Schaeffer et al as cited in Cassidy, 1992 found that having control was positively associated with lower physiological measures such as lower blood pressure, stress and hostility levels. \n",
    "\n",
    "\n",
    "\n",
    "\n",
    "### Stress score on PSS\n",
    "Firstly the score on the PSS was simulated as an indicator of general stress levels. This was simulated with np.random.choice. First, a template for the 10 questions was created and answers for each question were simulated via the choice function. "
   ]
  },
  {
   "cell_type": "code",
   "execution_count": 58,
   "metadata": {},
   "outputs": [
    {
     "data": {
      "text/html": [
       "<div>\n",
       "<style scoped>\n",
       "    .dataframe tbody tr th:only-of-type {\n",
       "        vertical-align: middle;\n",
       "    }\n",
       "\n",
       "    .dataframe tbody tr th {\n",
       "        vertical-align: top;\n",
       "    }\n",
       "\n",
       "    .dataframe thead th {\n",
       "        text-align: right;\n",
       "    }\n",
       "</style>\n",
       "<table border=\"1\" class=\"dataframe\">\n",
       "  <thead>\n",
       "    <tr style=\"text-align: right;\">\n",
       "      <th></th>\n",
       "      <th>Question 1</th>\n",
       "      <th>Question 2</th>\n",
       "      <th>Question 3</th>\n",
       "      <th>Question 4</th>\n",
       "      <th>Question 5</th>\n",
       "      <th>Question 6</th>\n",
       "      <th>Question 7</th>\n",
       "      <th>Question 8</th>\n",
       "      <th>Question 9</th>\n",
       "      <th>Question 10</th>\n",
       "      <th>PSS</th>\n",
       "    </tr>\n",
       "  </thead>\n",
       "  <tbody>\n",
       "    <tr>\n",
       "      <th>0</th>\n",
       "      <td>NaN</td>\n",
       "      <td>NaN</td>\n",
       "      <td>NaN</td>\n",
       "      <td>NaN</td>\n",
       "      <td>NaN</td>\n",
       "      <td>NaN</td>\n",
       "      <td>NaN</td>\n",
       "      <td>NaN</td>\n",
       "      <td>NaN</td>\n",
       "      <td>NaN</td>\n",
       "      <td>NaN</td>\n",
       "    </tr>\n",
       "    <tr>\n",
       "      <th>1</th>\n",
       "      <td>NaN</td>\n",
       "      <td>NaN</td>\n",
       "      <td>NaN</td>\n",
       "      <td>NaN</td>\n",
       "      <td>NaN</td>\n",
       "      <td>NaN</td>\n",
       "      <td>NaN</td>\n",
       "      <td>NaN</td>\n",
       "      <td>NaN</td>\n",
       "      <td>NaN</td>\n",
       "      <td>NaN</td>\n",
       "    </tr>\n",
       "    <tr>\n",
       "      <th>2</th>\n",
       "      <td>NaN</td>\n",
       "      <td>NaN</td>\n",
       "      <td>NaN</td>\n",
       "      <td>NaN</td>\n",
       "      <td>NaN</td>\n",
       "      <td>NaN</td>\n",
       "      <td>NaN</td>\n",
       "      <td>NaN</td>\n",
       "      <td>NaN</td>\n",
       "      <td>NaN</td>\n",
       "      <td>NaN</td>\n",
       "    </tr>\n",
       "    <tr>\n",
       "      <th>3</th>\n",
       "      <td>NaN</td>\n",
       "      <td>NaN</td>\n",
       "      <td>NaN</td>\n",
       "      <td>NaN</td>\n",
       "      <td>NaN</td>\n",
       "      <td>NaN</td>\n",
       "      <td>NaN</td>\n",
       "      <td>NaN</td>\n",
       "      <td>NaN</td>\n",
       "      <td>NaN</td>\n",
       "      <td>NaN</td>\n",
       "    </tr>\n",
       "    <tr>\n",
       "      <th>4</th>\n",
       "      <td>NaN</td>\n",
       "      <td>NaN</td>\n",
       "      <td>NaN</td>\n",
       "      <td>NaN</td>\n",
       "      <td>NaN</td>\n",
       "      <td>NaN</td>\n",
       "      <td>NaN</td>\n",
       "      <td>NaN</td>\n",
       "      <td>NaN</td>\n",
       "      <td>NaN</td>\n",
       "      <td>NaN</td>\n",
       "    </tr>\n",
       "  </tbody>\n",
       "</table>\n",
       "</div>"
      ],
      "text/plain": [
       "  Question 1 Question 2 Question 3 Question 4 Question 5 Question 6  \\\n",
       "0        NaN        NaN        NaN        NaN        NaN        NaN   \n",
       "1        NaN        NaN        NaN        NaN        NaN        NaN   \n",
       "2        NaN        NaN        NaN        NaN        NaN        NaN   \n",
       "3        NaN        NaN        NaN        NaN        NaN        NaN   \n",
       "4        NaN        NaN        NaN        NaN        NaN        NaN   \n",
       "\n",
       "  Question 7 Question 8 Question 9 Question 10  PSS  \n",
       "0        NaN        NaN        NaN         NaN  NaN  \n",
       "1        NaN        NaN        NaN         NaN  NaN  \n",
       "2        NaN        NaN        NaN         NaN  NaN  \n",
       "3        NaN        NaN        NaN         NaN  NaN  \n",
       "4        NaN        NaN        NaN         NaN  NaN  "
      ]
     },
     "execution_count": 58,
     "metadata": {},
     "output_type": "execute_result"
    }
   ],
   "source": [
    "# create the questionnaire dataframe \n",
    "df_q = pd.DataFrame(columns = ['Question 1','Question 2','Question 3','Question 4','Question 5','Question 6','Question 7','Question 8','Question 9','Question 10', 'PSS'], index = x)\n",
    "#check the question headings\n",
    "df_q.head()\n",
    "\n"
   ]
  },
  {
   "cell_type": "code",
   "execution_count": 59,
   "metadata": {},
   "outputs": [
    {
     "name": "stdout",
     "output_type": "stream",
     "text": [
      "where the response  0  equals never\n",
      "where the response  1  equals almost never\n",
      "where the response  2  equals sometimes\n",
      "where the response  3  equals fairly often\n",
      "where the response  4  equals very often\n"
     ]
    }
   ],
   "source": [
    "#for each question fill it with simulated responses\n",
    "# create the stress band resposes 0 - never 1 - almost never 2 - sometimes 3 - fairly often 4 - very often\n",
    "responses = [0, 1, 2, 3, 4]\n",
    "responses\n",
    "print(\"where the response \", responses[0], \" equals never\" )\n",
    "print(\"where the response \", responses[1], \" equals almost never\" )\n",
    "print(\"where the response \", responses[2], \" equals sometimes\" )\n",
    "print(\"where the response \", responses[3], \" equals fairly often\" )\n",
    "print(\"where the response \", responses[4], \" equals very often\" )\n",
    "\n"
   ]
  },
  {
   "cell_type": "markdown",
   "metadata": {},
   "source": [
    "Stress scores is calculated by summing each participants responses to the 10 questions. The minimum score achievable is 0 (a response of 0 for every question) and the maximum is $4 \\times 10 = 40$ (a response of 4 for every question)"
   ]
  },
  {
   "cell_type": "code",
   "execution_count": 60,
   "metadata": {},
   "outputs": [
    {
     "data": {
      "text/plain": [
       "array([2, 2, 0, 1, 4, 1, 2])"
      ]
     },
     "execution_count": 60,
     "metadata": {},
     "output_type": "execute_result"
    }
   ],
   "source": [
    "# generate the transport response array\n",
    "seed = np.random.seed(1)\n",
    "seed\n",
    "y_q1 = np.random.choice(responses, size)\n",
    "y_q2 = np.random.choice(responses, size)\n",
    "y_q3 = np.random.choice(responses, size)\n",
    "y_q4 = np.random.choice(responses, size)\n",
    "y_q5 = np.random.choice(responses, size)\n",
    "y_q6 = np.random.choice(responses, size)\n",
    "y_q7 = np.random.choice(responses, size)\n",
    "y_q8 = np.random.choice(responses, size)\n",
    "y_q9 = np.random.choice(responses, size)\n",
    "y_q10 = np.random.choice(responses, size)\n",
    "\n",
    "# check the first few values in one of the above arrays to see if it looks right\n",
    "y_q5[:7]\n"
   ]
  },
  {
   "cell_type": "code",
   "execution_count": 61,
   "metadata": {},
   "outputs": [
    {
     "data": {
      "text/plain": [
       "0    1\n",
       "1    1\n",
       "2    1\n",
       "3    0\n",
       "4    2\n",
       "Name: Question 4, dtype: int32"
      ]
     },
     "execution_count": 61,
     "metadata": {},
     "output_type": "execute_result"
    }
   ],
   "source": [
    "# put the array into the dataframe\n",
    "seed\n",
    "df_q['Question 1'] = pd.Series(y_q1)\n",
    "df_q['Question 2'] = pd.Series(y_q2)\n",
    "df_q['Question 3'] = pd.Series(y_q3)\n",
    "df_q['Question 4'] = pd.Series(y_q4)\n",
    "df_q['Question 5'] = pd.Series(y_q5)\n",
    "df_q['Question 6'] = pd.Series(y_q6)\n",
    "df_q['Question 7'] = pd.Series(y_q7)\n",
    "df_q['Question 8'] = pd.Series(y_q8)\n",
    "df_q['Question 9'] = pd.Series(y_q9)\n",
    "df_q['Question 10'] = pd.Series(y_q10)\n",
    "# check the dataframes first few values\n",
    "df_q['Question 4'].head()"
   ]
  },
  {
   "cell_type": "code",
   "execution_count": 62,
   "metadata": {},
   "outputs": [
    {
     "data": {
      "text/html": [
       "<div>\n",
       "<style scoped>\n",
       "    .dataframe tbody tr th:only-of-type {\n",
       "        vertical-align: middle;\n",
       "    }\n",
       "\n",
       "    .dataframe tbody tr th {\n",
       "        vertical-align: top;\n",
       "    }\n",
       "\n",
       "    .dataframe thead th {\n",
       "        text-align: right;\n",
       "    }\n",
       "</style>\n",
       "<table border=\"1\" class=\"dataframe\">\n",
       "  <thead>\n",
       "    <tr style=\"text-align: right;\">\n",
       "      <th></th>\n",
       "      <th>Question 1</th>\n",
       "      <th>Question 2</th>\n",
       "      <th>Question 3</th>\n",
       "      <th>Question 4</th>\n",
       "      <th>Question 5</th>\n",
       "      <th>Question 6</th>\n",
       "      <th>Question 7</th>\n",
       "      <th>Question 8</th>\n",
       "      <th>Question 9</th>\n",
       "      <th>Question 10</th>\n",
       "      <th>PSS</th>\n",
       "    </tr>\n",
       "  </thead>\n",
       "  <tbody>\n",
       "    <tr>\n",
       "      <th>0</th>\n",
       "      <td>3</td>\n",
       "      <td>2</td>\n",
       "      <td>1</td>\n",
       "      <td>1</td>\n",
       "      <td>2</td>\n",
       "      <td>3</td>\n",
       "      <td>4</td>\n",
       "      <td>3</td>\n",
       "      <td>0</td>\n",
       "      <td>2</td>\n",
       "      <td>NaN</td>\n",
       "    </tr>\n",
       "    <tr>\n",
       "      <th>1</th>\n",
       "      <td>4</td>\n",
       "      <td>0</td>\n",
       "      <td>4</td>\n",
       "      <td>1</td>\n",
       "      <td>2</td>\n",
       "      <td>0</td>\n",
       "      <td>0</td>\n",
       "      <td>1</td>\n",
       "      <td>3</td>\n",
       "      <td>0</td>\n",
       "      <td>NaN</td>\n",
       "    </tr>\n",
       "    <tr>\n",
       "      <th>2</th>\n",
       "      <td>0</td>\n",
       "      <td>0</td>\n",
       "      <td>1</td>\n",
       "      <td>1</td>\n",
       "      <td>0</td>\n",
       "      <td>2</td>\n",
       "      <td>1</td>\n",
       "      <td>2</td>\n",
       "      <td>2</td>\n",
       "      <td>1</td>\n",
       "      <td>NaN</td>\n",
       "    </tr>\n",
       "    <tr>\n",
       "      <th>3</th>\n",
       "      <td>1</td>\n",
       "      <td>0</td>\n",
       "      <td>3</td>\n",
       "      <td>0</td>\n",
       "      <td>1</td>\n",
       "      <td>4</td>\n",
       "      <td>4</td>\n",
       "      <td>0</td>\n",
       "      <td>1</td>\n",
       "      <td>2</td>\n",
       "      <td>NaN</td>\n",
       "    </tr>\n",
       "    <tr>\n",
       "      <th>4</th>\n",
       "      <td>3</td>\n",
       "      <td>0</td>\n",
       "      <td>3</td>\n",
       "      <td>2</td>\n",
       "      <td>4</td>\n",
       "      <td>4</td>\n",
       "      <td>1</td>\n",
       "      <td>3</td>\n",
       "      <td>1</td>\n",
       "      <td>1</td>\n",
       "      <td>NaN</td>\n",
       "    </tr>\n",
       "  </tbody>\n",
       "</table>\n",
       "</div>"
      ],
      "text/plain": [
       "   Question 1  Question 2  Question 3  Question 4  Question 5  Question 6  \\\n",
       "0           3           2           1           1           2           3   \n",
       "1           4           0           4           1           2           0   \n",
       "2           0           0           1           1           0           2   \n",
       "3           1           0           3           0           1           4   \n",
       "4           3           0           3           2           4           4   \n",
       "\n",
       "   Question 7  Question 8  Question 9  Question 10  PSS  \n",
       "0           4           3           0            2  NaN  \n",
       "1           0           1           3            0  NaN  \n",
       "2           1           2           2            1  NaN  \n",
       "3           4           0           1            2  NaN  \n",
       "4           1           3           1            1  NaN  "
      ]
     },
     "execution_count": 62,
     "metadata": {},
     "output_type": "execute_result"
    }
   ],
   "source": [
    "# check the start of the question dataframe\n",
    "df_q.head()\n"
   ]
  },
  {
   "cell_type": "code",
   "execution_count": 63,
   "metadata": {
    "scrolled": true
   },
   "outputs": [
    {
     "data": {
      "text/html": [
       "<div>\n",
       "<style scoped>\n",
       "    .dataframe tbody tr th:only-of-type {\n",
       "        vertical-align: middle;\n",
       "    }\n",
       "\n",
       "    .dataframe tbody tr th {\n",
       "        vertical-align: top;\n",
       "    }\n",
       "\n",
       "    .dataframe thead th {\n",
       "        text-align: right;\n",
       "    }\n",
       "</style>\n",
       "<table border=\"1\" class=\"dataframe\">\n",
       "  <thead>\n",
       "    <tr style=\"text-align: right;\">\n",
       "      <th></th>\n",
       "      <th>Question 1</th>\n",
       "      <th>Question 2</th>\n",
       "      <th>Question 3</th>\n",
       "      <th>Question 4</th>\n",
       "      <th>Question 5</th>\n",
       "      <th>Question 6</th>\n",
       "      <th>Question 7</th>\n",
       "      <th>Question 8</th>\n",
       "      <th>Question 9</th>\n",
       "      <th>Question 10</th>\n",
       "      <th>PSS</th>\n",
       "    </tr>\n",
       "  </thead>\n",
       "  <tbody>\n",
       "    <tr>\n",
       "      <th>365</th>\n",
       "      <td>1</td>\n",
       "      <td>3</td>\n",
       "      <td>3</td>\n",
       "      <td>0</td>\n",
       "      <td>1</td>\n",
       "      <td>3</td>\n",
       "      <td>0</td>\n",
       "      <td>3</td>\n",
       "      <td>0</td>\n",
       "      <td>4</td>\n",
       "      <td>NaN</td>\n",
       "    </tr>\n",
       "    <tr>\n",
       "      <th>366</th>\n",
       "      <td>2</td>\n",
       "      <td>0</td>\n",
       "      <td>4</td>\n",
       "      <td>0</td>\n",
       "      <td>0</td>\n",
       "      <td>0</td>\n",
       "      <td>2</td>\n",
       "      <td>1</td>\n",
       "      <td>0</td>\n",
       "      <td>2</td>\n",
       "      <td>NaN</td>\n",
       "    </tr>\n",
       "    <tr>\n",
       "      <th>367</th>\n",
       "      <td>0</td>\n",
       "      <td>2</td>\n",
       "      <td>1</td>\n",
       "      <td>4</td>\n",
       "      <td>0</td>\n",
       "      <td>4</td>\n",
       "      <td>0</td>\n",
       "      <td>2</td>\n",
       "      <td>2</td>\n",
       "      <td>4</td>\n",
       "      <td>NaN</td>\n",
       "    </tr>\n",
       "    <tr>\n",
       "      <th>368</th>\n",
       "      <td>3</td>\n",
       "      <td>1</td>\n",
       "      <td>0</td>\n",
       "      <td>0</td>\n",
       "      <td>2</td>\n",
       "      <td>0</td>\n",
       "      <td>1</td>\n",
       "      <td>4</td>\n",
       "      <td>2</td>\n",
       "      <td>2</td>\n",
       "      <td>NaN</td>\n",
       "    </tr>\n",
       "    <tr>\n",
       "      <th>369</th>\n",
       "      <td>3</td>\n",
       "      <td>4</td>\n",
       "      <td>3</td>\n",
       "      <td>2</td>\n",
       "      <td>4</td>\n",
       "      <td>2</td>\n",
       "      <td>0</td>\n",
       "      <td>4</td>\n",
       "      <td>2</td>\n",
       "      <td>4</td>\n",
       "      <td>NaN</td>\n",
       "    </tr>\n",
       "  </tbody>\n",
       "</table>\n",
       "</div>"
      ],
      "text/plain": [
       "     Question 1  Question 2  Question 3  Question 4  Question 5  Question 6  \\\n",
       "365           1           3           3           0           1           3   \n",
       "366           2           0           4           0           0           0   \n",
       "367           0           2           1           4           0           4   \n",
       "368           3           1           0           0           2           0   \n",
       "369           3           4           3           2           4           2   \n",
       "\n",
       "     Question 7  Question 8  Question 9  Question 10  PSS  \n",
       "365           0           3           0            4  NaN  \n",
       "366           2           1           0            2  NaN  \n",
       "367           0           2           2            4  NaN  \n",
       "368           1           4           2            2  NaN  \n",
       "369           0           4           2            4  NaN  "
      ]
     },
     "execution_count": 63,
     "metadata": {},
     "output_type": "execute_result"
    }
   ],
   "source": [
    "# check the end of the question dataframe\n",
    "df_q.tail()"
   ]
  },
  {
   "cell_type": "markdown",
   "metadata": {},
   "source": [
    "Now sum up the question scores on the 10 questions for each participant by summing rows. "
   ]
  },
  {
   "cell_type": "markdown",
   "metadata": {},
   "source": [
    "Questions 4, 5, 7 and 8 require a reversal of their responses. "
   ]
  },
  {
   "cell_type": "code",
   "execution_count": 64,
   "metadata": {},
   "outputs": [
    {
     "data": {
      "text/html": [
       "<div>\n",
       "<style scoped>\n",
       "    .dataframe tbody tr th:only-of-type {\n",
       "        vertical-align: middle;\n",
       "    }\n",
       "\n",
       "    .dataframe tbody tr th {\n",
       "        vertical-align: top;\n",
       "    }\n",
       "\n",
       "    .dataframe thead th {\n",
       "        text-align: right;\n",
       "    }\n",
       "</style>\n",
       "<table border=\"1\" class=\"dataframe\">\n",
       "  <thead>\n",
       "    <tr style=\"text-align: right;\">\n",
       "      <th></th>\n",
       "      <th>Question 1</th>\n",
       "      <th>Question 2</th>\n",
       "      <th>Question 3</th>\n",
       "      <th>Question 4</th>\n",
       "      <th>Question 5</th>\n",
       "      <th>Question 6</th>\n",
       "      <th>Question 7</th>\n",
       "      <th>Question 8</th>\n",
       "      <th>Question 9</th>\n",
       "      <th>Question 10</th>\n",
       "      <th>PSS</th>\n",
       "      <th>tmpQuestion 4</th>\n",
       "      <th>tmpQuestion 5</th>\n",
       "      <th>tmpQuestion 7</th>\n",
       "      <th>tmpQuestion 8</th>\n",
       "    </tr>\n",
       "  </thead>\n",
       "  <tbody>\n",
       "    <tr>\n",
       "      <th>0</th>\n",
       "      <td>3</td>\n",
       "      <td>2</td>\n",
       "      <td>1</td>\n",
       "      <td>1</td>\n",
       "      <td>2</td>\n",
       "      <td>3</td>\n",
       "      <td>4</td>\n",
       "      <td>3</td>\n",
       "      <td>0</td>\n",
       "      <td>2</td>\n",
       "      <td>NaN</td>\n",
       "      <td>3</td>\n",
       "      <td>2</td>\n",
       "      <td>0</td>\n",
       "      <td>1</td>\n",
       "    </tr>\n",
       "    <tr>\n",
       "      <th>1</th>\n",
       "      <td>4</td>\n",
       "      <td>0</td>\n",
       "      <td>4</td>\n",
       "      <td>1</td>\n",
       "      <td>2</td>\n",
       "      <td>0</td>\n",
       "      <td>0</td>\n",
       "      <td>1</td>\n",
       "      <td>3</td>\n",
       "      <td>0</td>\n",
       "      <td>NaN</td>\n",
       "      <td>3</td>\n",
       "      <td>2</td>\n",
       "      <td>4</td>\n",
       "      <td>3</td>\n",
       "    </tr>\n",
       "    <tr>\n",
       "      <th>2</th>\n",
       "      <td>0</td>\n",
       "      <td>0</td>\n",
       "      <td>1</td>\n",
       "      <td>1</td>\n",
       "      <td>0</td>\n",
       "      <td>2</td>\n",
       "      <td>1</td>\n",
       "      <td>2</td>\n",
       "      <td>2</td>\n",
       "      <td>1</td>\n",
       "      <td>NaN</td>\n",
       "      <td>3</td>\n",
       "      <td>4</td>\n",
       "      <td>3</td>\n",
       "      <td>2</td>\n",
       "    </tr>\n",
       "    <tr>\n",
       "      <th>3</th>\n",
       "      <td>1</td>\n",
       "      <td>0</td>\n",
       "      <td>3</td>\n",
       "      <td>0</td>\n",
       "      <td>1</td>\n",
       "      <td>4</td>\n",
       "      <td>4</td>\n",
       "      <td>0</td>\n",
       "      <td>1</td>\n",
       "      <td>2</td>\n",
       "      <td>NaN</td>\n",
       "      <td>4</td>\n",
       "      <td>3</td>\n",
       "      <td>0</td>\n",
       "      <td>4</td>\n",
       "    </tr>\n",
       "    <tr>\n",
       "      <th>4</th>\n",
       "      <td>3</td>\n",
       "      <td>0</td>\n",
       "      <td>3</td>\n",
       "      <td>2</td>\n",
       "      <td>4</td>\n",
       "      <td>4</td>\n",
       "      <td>1</td>\n",
       "      <td>3</td>\n",
       "      <td>1</td>\n",
       "      <td>1</td>\n",
       "      <td>NaN</td>\n",
       "      <td>2</td>\n",
       "      <td>0</td>\n",
       "      <td>3</td>\n",
       "      <td>1</td>\n",
       "    </tr>\n",
       "  </tbody>\n",
       "</table>\n",
       "</div>"
      ],
      "text/plain": [
       "   Question 1  Question 2  Question 3  Question 4  Question 5  Question 6  \\\n",
       "0           3           2           1           1           2           3   \n",
       "1           4           0           4           1           2           0   \n",
       "2           0           0           1           1           0           2   \n",
       "3           1           0           3           0           1           4   \n",
       "4           3           0           3           2           4           4   \n",
       "\n",
       "   Question 7  Question 8  Question 9  Question 10  PSS  tmpQuestion 4  \\\n",
       "0           4           3           0            2  NaN              3   \n",
       "1           0           1           3            0  NaN              3   \n",
       "2           1           2           2            1  NaN              3   \n",
       "3           4           0           1            2  NaN              4   \n",
       "4           1           3           1            1  NaN              2   \n",
       "\n",
       "   tmpQuestion 5  tmpQuestion 7  tmpQuestion 8  \n",
       "0              2              0              1  \n",
       "1              2              4              3  \n",
       "2              4              3              2  \n",
       "3              3              0              4  \n",
       "4              0              3              1  "
      ]
     },
     "execution_count": 64,
     "metadata": {},
     "output_type": "execute_result"
    }
   ],
   "source": [
    "# take a copy of question 4 named tmpQuestion 4\n",
    "df_q['tmpQuestion 4'] = df_q['Question 4']\n",
    "# select all the values that are 0, 1, 2, 3, 4 respectively and add 4, 3, 2, 1, 0 respectivley into the tmpQuestion 4\n",
    "df_q.loc[df_q['Question 4'] == 0, 'tmpQuestion 4'] = 4\n",
    "df_q.loc[df_q['Question 4'] == 1, 'tmpQuestion 4'] = 3\n",
    "df_q.loc[df_q['Question 4'] == 2, 'tmpQuestion 4'] = 2\n",
    "df_q.loc[df_q['Question 4'] == 3, 'tmpQuestion 4'] = 1\n",
    "df_q.loc[df_q['Question 4'] == 4, 'tmpQuestion 4'] = 0\n",
    "#check the headings and values\n",
    "df_q\n",
    "# take a copy of question 5 named tmpQuestion 5\n",
    "df_q['tmpQuestion 5'] = df_q['Question 5']\n",
    "# select all the values that are 0, 1, 2, 3, 4 respectively and add 4, 3, 2, 1, 0 respectivley into the tmpQuestion 5\n",
    "df_q.loc[df_q['Question 5'] == 0, 'tmpQuestion 5'] = 4\n",
    "df_q.loc[df_q['Question 5'] == 1, 'tmpQuestion 5'] = 3\n",
    "df_q.loc[df_q['Question 5'] == 2, 'tmpQuestion 5'] = 2\n",
    "df_q.loc[df_q['Question 5'] == 3, 'tmpQuestion 5'] = 1\n",
    "df_q.loc[df_q['Question 5'] == 4, 'tmpQuestion 5'] = 0\n",
    "#check the headings and values\n",
    "df_q\n",
    "# take a copy of question 7 named tmpQuestion 7\n",
    "df_q['tmpQuestion 7'] = df_q['Question 7']\n",
    "# select all the values that are 0, 1, 2, 3, 4 respectively and add 4, 3, 2, 1, 0 respectivley into the tmpQuestion 7\n",
    "df_q.loc[df_q['Question 7'] == 0, 'tmpQuestion 7'] = 4\n",
    "df_q.loc[df_q['Question 7'] == 1, 'tmpQuestion 7'] = 3\n",
    "df_q.loc[df_q['Question 7'] == 2, 'tmpQuestion 7'] = 2\n",
    "df_q.loc[df_q['Question 7'] == 3, 'tmpQuestion 7'] = 1\n",
    "df_q.loc[df_q['Question 7'] == 4, 'tmpQuestion 7'] = 0\n",
    "#check the headings and values\n",
    "df_q\n",
    "# take a copy of question 4 named tmpQuestion 8\n",
    "df_q['tmpQuestion 8'] = df_q['Question 8']\n",
    "# select all the values that are 0, 1, 2, 3, 4 respectively and add 4, 3, 2, 1, 0 respectivley into the tmpQuestion 8\n",
    "df_q.loc[df_q['Question 8'] == 0, 'tmpQuestion 8'] = 4\n",
    "df_q.loc[df_q['Question 8'] == 1, 'tmpQuestion 8'] = 3\n",
    "df_q.loc[df_q['Question 8'] == 2, 'tmpQuestion 8'] = 2\n",
    "df_q.loc[df_q['Question 8'] == 3, 'tmpQuestion 8'] = 1\n",
    "df_q.loc[df_q['Question 8'] == 4, 'tmpQuestion 8'] = 0\n",
    "#check the headings and values\n",
    "df_q.head()"
   ]
  },
  {
   "cell_type": "code",
   "execution_count": 65,
   "metadata": {},
   "outputs": [
    {
     "name": "stdout",
     "output_type": "stream",
     "text": [
      "the first few values in question 4 are  0    1\n",
      "1    1\n",
      "2    1\n",
      "3    0\n",
      "4    2\n",
      "5    1\n",
      "6    4\n",
      "Name: Question 4, dtype: int32\n"
     ]
    }
   ],
   "source": [
    "#check question 4 column\n",
    "print(\"the first few values in question 4 are \", df_q['Question 4'][:7])\n",
    "\n"
   ]
  },
  {
   "cell_type": "code",
   "execution_count": 66,
   "metadata": {},
   "outputs": [
    {
     "name": "stdout",
     "output_type": "stream",
     "text": [
      "the first few values in question 4 are  0    3\n",
      "1    3\n",
      "2    3\n",
      "3    4\n",
      "4    2\n",
      "5    3\n",
      "6    0\n",
      "Name: Question 4, dtype: int32\n"
     ]
    }
   ],
   "source": [
    "# copy the temp values into question 4\n",
    "df_q['Question 4'] = df_q['tmpQuestion 4']\n",
    "#check question 4 column\n",
    "print(\"the first few values in question 4 are \", df_q['Question 4'][:7])\n"
   ]
  },
  {
   "cell_type": "code",
   "execution_count": 67,
   "metadata": {},
   "outputs": [
    {
     "data": {
      "text/html": [
       "<div>\n",
       "<style scoped>\n",
       "    .dataframe tbody tr th:only-of-type {\n",
       "        vertical-align: middle;\n",
       "    }\n",
       "\n",
       "    .dataframe tbody tr th {\n",
       "        vertical-align: top;\n",
       "    }\n",
       "\n",
       "    .dataframe thead th {\n",
       "        text-align: right;\n",
       "    }\n",
       "</style>\n",
       "<table border=\"1\" class=\"dataframe\">\n",
       "  <thead>\n",
       "    <tr style=\"text-align: right;\">\n",
       "      <th></th>\n",
       "      <th>Question 1</th>\n",
       "      <th>Question 2</th>\n",
       "      <th>Question 3</th>\n",
       "      <th>Question 4</th>\n",
       "      <th>Question 5</th>\n",
       "      <th>Question 6</th>\n",
       "      <th>Question 7</th>\n",
       "      <th>Question 8</th>\n",
       "      <th>Question 9</th>\n",
       "      <th>Question 10</th>\n",
       "      <th>PSS</th>\n",
       "      <th>tmpQuestion 5</th>\n",
       "      <th>tmpQuestion 7</th>\n",
       "      <th>tmpQuestion 8</th>\n",
       "    </tr>\n",
       "  </thead>\n",
       "  <tbody>\n",
       "    <tr>\n",
       "      <th>0</th>\n",
       "      <td>3</td>\n",
       "      <td>2</td>\n",
       "      <td>1</td>\n",
       "      <td>3</td>\n",
       "      <td>2</td>\n",
       "      <td>3</td>\n",
       "      <td>4</td>\n",
       "      <td>3</td>\n",
       "      <td>0</td>\n",
       "      <td>2</td>\n",
       "      <td>NaN</td>\n",
       "      <td>2</td>\n",
       "      <td>0</td>\n",
       "      <td>1</td>\n",
       "    </tr>\n",
       "    <tr>\n",
       "      <th>1</th>\n",
       "      <td>4</td>\n",
       "      <td>0</td>\n",
       "      <td>4</td>\n",
       "      <td>3</td>\n",
       "      <td>2</td>\n",
       "      <td>0</td>\n",
       "      <td>0</td>\n",
       "      <td>1</td>\n",
       "      <td>3</td>\n",
       "      <td>0</td>\n",
       "      <td>NaN</td>\n",
       "      <td>2</td>\n",
       "      <td>4</td>\n",
       "      <td>3</td>\n",
       "    </tr>\n",
       "    <tr>\n",
       "      <th>2</th>\n",
       "      <td>0</td>\n",
       "      <td>0</td>\n",
       "      <td>1</td>\n",
       "      <td>3</td>\n",
       "      <td>0</td>\n",
       "      <td>2</td>\n",
       "      <td>1</td>\n",
       "      <td>2</td>\n",
       "      <td>2</td>\n",
       "      <td>1</td>\n",
       "      <td>NaN</td>\n",
       "      <td>4</td>\n",
       "      <td>3</td>\n",
       "      <td>2</td>\n",
       "    </tr>\n",
       "    <tr>\n",
       "      <th>3</th>\n",
       "      <td>1</td>\n",
       "      <td>0</td>\n",
       "      <td>3</td>\n",
       "      <td>4</td>\n",
       "      <td>1</td>\n",
       "      <td>4</td>\n",
       "      <td>4</td>\n",
       "      <td>0</td>\n",
       "      <td>1</td>\n",
       "      <td>2</td>\n",
       "      <td>NaN</td>\n",
       "      <td>3</td>\n",
       "      <td>0</td>\n",
       "      <td>4</td>\n",
       "    </tr>\n",
       "    <tr>\n",
       "      <th>4</th>\n",
       "      <td>3</td>\n",
       "      <td>0</td>\n",
       "      <td>3</td>\n",
       "      <td>2</td>\n",
       "      <td>4</td>\n",
       "      <td>4</td>\n",
       "      <td>1</td>\n",
       "      <td>3</td>\n",
       "      <td>1</td>\n",
       "      <td>1</td>\n",
       "      <td>NaN</td>\n",
       "      <td>0</td>\n",
       "      <td>3</td>\n",
       "      <td>1</td>\n",
       "    </tr>\n",
       "  </tbody>\n",
       "</table>\n",
       "</div>"
      ],
      "text/plain": [
       "   Question 1  Question 2  Question 3  Question 4  Question 5  Question 6  \\\n",
       "0           3           2           1           3           2           3   \n",
       "1           4           0           4           3           2           0   \n",
       "2           0           0           1           3           0           2   \n",
       "3           1           0           3           4           1           4   \n",
       "4           3           0           3           2           4           4   \n",
       "\n",
       "   Question 7  Question 8  Question 9  Question 10  PSS  tmpQuestion 5  \\\n",
       "0           4           3           0            2  NaN              2   \n",
       "1           0           1           3            0  NaN              2   \n",
       "2           1           2           2            1  NaN              4   \n",
       "3           4           0           1            2  NaN              3   \n",
       "4           1           3           1            1  NaN              0   \n",
       "\n",
       "   tmpQuestion 7  tmpQuestion 8  \n",
       "0              0              1  \n",
       "1              4              3  \n",
       "2              3              2  \n",
       "3              0              4  \n",
       "4              3              1  "
      ]
     },
     "execution_count": 67,
     "metadata": {},
     "output_type": "execute_result"
    }
   ],
   "source": [
    "# drop tmpQuestion 4 column\n",
    "df_q.drop(['tmpQuestion 4'], axis=1, inplace = True)\n",
    "df_q.head()"
   ]
  },
  {
   "cell_type": "code",
   "execution_count": 68,
   "metadata": {},
   "outputs": [
    {
     "name": "stdout",
     "output_type": "stream",
     "text": [
      "the first few values in question 5 are  0    2\n",
      "1    2\n",
      "2    0\n",
      "3    1\n",
      "4    4\n",
      "5    1\n",
      "6    2\n",
      "Name: Question 5, dtype: int32\n"
     ]
    }
   ],
   "source": [
    "#check question 5 column\n",
    "print(\"the first few values in question 5 are \", df_q['Question 5'][:7])\n",
    "\n"
   ]
  },
  {
   "cell_type": "code",
   "execution_count": 69,
   "metadata": {},
   "outputs": [
    {
     "name": "stdout",
     "output_type": "stream",
     "text": [
      "the first few values in question 5 are  0    2\n",
      "1    2\n",
      "2    4\n",
      "3    3\n",
      "4    0\n",
      "5    3\n",
      "6    2\n",
      "Name: Question 5, dtype: int32\n"
     ]
    }
   ],
   "source": [
    "# copy the temp values into question 5\n",
    "df_q['Question 5'] = df_q['tmpQuestion 5']\n",
    "#check question 5 column\n",
    "print(\"the first few values in question 5 are \", df_q['Question 5'][:7])\n"
   ]
  },
  {
   "cell_type": "code",
   "execution_count": 70,
   "metadata": {},
   "outputs": [
    {
     "data": {
      "text/html": [
       "<div>\n",
       "<style scoped>\n",
       "    .dataframe tbody tr th:only-of-type {\n",
       "        vertical-align: middle;\n",
       "    }\n",
       "\n",
       "    .dataframe tbody tr th {\n",
       "        vertical-align: top;\n",
       "    }\n",
       "\n",
       "    .dataframe thead th {\n",
       "        text-align: right;\n",
       "    }\n",
       "</style>\n",
       "<table border=\"1\" class=\"dataframe\">\n",
       "  <thead>\n",
       "    <tr style=\"text-align: right;\">\n",
       "      <th></th>\n",
       "      <th>Question 1</th>\n",
       "      <th>Question 2</th>\n",
       "      <th>Question 3</th>\n",
       "      <th>Question 4</th>\n",
       "      <th>Question 5</th>\n",
       "      <th>Question 6</th>\n",
       "      <th>Question 7</th>\n",
       "      <th>Question 8</th>\n",
       "      <th>Question 9</th>\n",
       "      <th>Question 10</th>\n",
       "      <th>PSS</th>\n",
       "      <th>tmpQuestion 7</th>\n",
       "      <th>tmpQuestion 8</th>\n",
       "    </tr>\n",
       "  </thead>\n",
       "  <tbody>\n",
       "    <tr>\n",
       "      <th>0</th>\n",
       "      <td>3</td>\n",
       "      <td>2</td>\n",
       "      <td>1</td>\n",
       "      <td>3</td>\n",
       "      <td>2</td>\n",
       "      <td>3</td>\n",
       "      <td>4</td>\n",
       "      <td>3</td>\n",
       "      <td>0</td>\n",
       "      <td>2</td>\n",
       "      <td>NaN</td>\n",
       "      <td>0</td>\n",
       "      <td>1</td>\n",
       "    </tr>\n",
       "    <tr>\n",
       "      <th>1</th>\n",
       "      <td>4</td>\n",
       "      <td>0</td>\n",
       "      <td>4</td>\n",
       "      <td>3</td>\n",
       "      <td>2</td>\n",
       "      <td>0</td>\n",
       "      <td>0</td>\n",
       "      <td>1</td>\n",
       "      <td>3</td>\n",
       "      <td>0</td>\n",
       "      <td>NaN</td>\n",
       "      <td>4</td>\n",
       "      <td>3</td>\n",
       "    </tr>\n",
       "    <tr>\n",
       "      <th>2</th>\n",
       "      <td>0</td>\n",
       "      <td>0</td>\n",
       "      <td>1</td>\n",
       "      <td>3</td>\n",
       "      <td>4</td>\n",
       "      <td>2</td>\n",
       "      <td>1</td>\n",
       "      <td>2</td>\n",
       "      <td>2</td>\n",
       "      <td>1</td>\n",
       "      <td>NaN</td>\n",
       "      <td>3</td>\n",
       "      <td>2</td>\n",
       "    </tr>\n",
       "    <tr>\n",
       "      <th>3</th>\n",
       "      <td>1</td>\n",
       "      <td>0</td>\n",
       "      <td>3</td>\n",
       "      <td>4</td>\n",
       "      <td>3</td>\n",
       "      <td>4</td>\n",
       "      <td>4</td>\n",
       "      <td>0</td>\n",
       "      <td>1</td>\n",
       "      <td>2</td>\n",
       "      <td>NaN</td>\n",
       "      <td>0</td>\n",
       "      <td>4</td>\n",
       "    </tr>\n",
       "    <tr>\n",
       "      <th>4</th>\n",
       "      <td>3</td>\n",
       "      <td>0</td>\n",
       "      <td>3</td>\n",
       "      <td>2</td>\n",
       "      <td>0</td>\n",
       "      <td>4</td>\n",
       "      <td>1</td>\n",
       "      <td>3</td>\n",
       "      <td>1</td>\n",
       "      <td>1</td>\n",
       "      <td>NaN</td>\n",
       "      <td>3</td>\n",
       "      <td>1</td>\n",
       "    </tr>\n",
       "  </tbody>\n",
       "</table>\n",
       "</div>"
      ],
      "text/plain": [
       "   Question 1  Question 2  Question 3  Question 4  Question 5  Question 6  \\\n",
       "0           3           2           1           3           2           3   \n",
       "1           4           0           4           3           2           0   \n",
       "2           0           0           1           3           4           2   \n",
       "3           1           0           3           4           3           4   \n",
       "4           3           0           3           2           0           4   \n",
       "\n",
       "   Question 7  Question 8  Question 9  Question 10  PSS  tmpQuestion 7  \\\n",
       "0           4           3           0            2  NaN              0   \n",
       "1           0           1           3            0  NaN              4   \n",
       "2           1           2           2            1  NaN              3   \n",
       "3           4           0           1            2  NaN              0   \n",
       "4           1           3           1            1  NaN              3   \n",
       "\n",
       "   tmpQuestion 8  \n",
       "0              1  \n",
       "1              3  \n",
       "2              2  \n",
       "3              4  \n",
       "4              1  "
      ]
     },
     "execution_count": 70,
     "metadata": {},
     "output_type": "execute_result"
    }
   ],
   "source": [
    "# drop tmpQuestion 5 column\n",
    "df_q.drop(['tmpQuestion 5'], axis=1, inplace = True)\n",
    "df_q.head()"
   ]
  },
  {
   "cell_type": "code",
   "execution_count": 71,
   "metadata": {},
   "outputs": [
    {
     "name": "stdout",
     "output_type": "stream",
     "text": [
      "the first few values in question 7 are  0    4\n",
      "1    0\n",
      "2    1\n",
      "3    4\n",
      "4    1\n",
      "5    0\n",
      "6    3\n",
      "Name: Question 7, dtype: int32\n"
     ]
    }
   ],
   "source": [
    "#check question 7 column\n",
    "print(\"the first few values in question 7 are \", df_q['Question 7'][:7])\n",
    "\n"
   ]
  },
  {
   "cell_type": "code",
   "execution_count": 72,
   "metadata": {},
   "outputs": [
    {
     "name": "stdout",
     "output_type": "stream",
     "text": [
      "the first few values in question 7 are  0    0\n",
      "1    4\n",
      "2    3\n",
      "3    0\n",
      "4    3\n",
      "5    4\n",
      "6    1\n",
      "Name: Question 7, dtype: int32\n"
     ]
    }
   ],
   "source": [
    "# copy the temp values into question 7\n",
    "df_q['Question 7'] = df_q['tmpQuestion 7']\n",
    "#check question 7 column\n",
    "print(\"the first few values in question 7 are \", df_q['Question 7'][:7])\n"
   ]
  },
  {
   "cell_type": "code",
   "execution_count": 73,
   "metadata": {},
   "outputs": [
    {
     "data": {
      "text/html": [
       "<div>\n",
       "<style scoped>\n",
       "    .dataframe tbody tr th:only-of-type {\n",
       "        vertical-align: middle;\n",
       "    }\n",
       "\n",
       "    .dataframe tbody tr th {\n",
       "        vertical-align: top;\n",
       "    }\n",
       "\n",
       "    .dataframe thead th {\n",
       "        text-align: right;\n",
       "    }\n",
       "</style>\n",
       "<table border=\"1\" class=\"dataframe\">\n",
       "  <thead>\n",
       "    <tr style=\"text-align: right;\">\n",
       "      <th></th>\n",
       "      <th>Question 1</th>\n",
       "      <th>Question 2</th>\n",
       "      <th>Question 3</th>\n",
       "      <th>Question 4</th>\n",
       "      <th>Question 5</th>\n",
       "      <th>Question 6</th>\n",
       "      <th>Question 7</th>\n",
       "      <th>Question 8</th>\n",
       "      <th>Question 9</th>\n",
       "      <th>Question 10</th>\n",
       "      <th>PSS</th>\n",
       "      <th>tmpQuestion 8</th>\n",
       "    </tr>\n",
       "  </thead>\n",
       "  <tbody>\n",
       "    <tr>\n",
       "      <th>0</th>\n",
       "      <td>3</td>\n",
       "      <td>2</td>\n",
       "      <td>1</td>\n",
       "      <td>3</td>\n",
       "      <td>2</td>\n",
       "      <td>3</td>\n",
       "      <td>0</td>\n",
       "      <td>3</td>\n",
       "      <td>0</td>\n",
       "      <td>2</td>\n",
       "      <td>NaN</td>\n",
       "      <td>1</td>\n",
       "    </tr>\n",
       "    <tr>\n",
       "      <th>1</th>\n",
       "      <td>4</td>\n",
       "      <td>0</td>\n",
       "      <td>4</td>\n",
       "      <td>3</td>\n",
       "      <td>2</td>\n",
       "      <td>0</td>\n",
       "      <td>4</td>\n",
       "      <td>1</td>\n",
       "      <td>3</td>\n",
       "      <td>0</td>\n",
       "      <td>NaN</td>\n",
       "      <td>3</td>\n",
       "    </tr>\n",
       "    <tr>\n",
       "      <th>2</th>\n",
       "      <td>0</td>\n",
       "      <td>0</td>\n",
       "      <td>1</td>\n",
       "      <td>3</td>\n",
       "      <td>4</td>\n",
       "      <td>2</td>\n",
       "      <td>3</td>\n",
       "      <td>2</td>\n",
       "      <td>2</td>\n",
       "      <td>1</td>\n",
       "      <td>NaN</td>\n",
       "      <td>2</td>\n",
       "    </tr>\n",
       "    <tr>\n",
       "      <th>3</th>\n",
       "      <td>1</td>\n",
       "      <td>0</td>\n",
       "      <td>3</td>\n",
       "      <td>4</td>\n",
       "      <td>3</td>\n",
       "      <td>4</td>\n",
       "      <td>0</td>\n",
       "      <td>0</td>\n",
       "      <td>1</td>\n",
       "      <td>2</td>\n",
       "      <td>NaN</td>\n",
       "      <td>4</td>\n",
       "    </tr>\n",
       "    <tr>\n",
       "      <th>4</th>\n",
       "      <td>3</td>\n",
       "      <td>0</td>\n",
       "      <td>3</td>\n",
       "      <td>2</td>\n",
       "      <td>0</td>\n",
       "      <td>4</td>\n",
       "      <td>3</td>\n",
       "      <td>3</td>\n",
       "      <td>1</td>\n",
       "      <td>1</td>\n",
       "      <td>NaN</td>\n",
       "      <td>1</td>\n",
       "    </tr>\n",
       "  </tbody>\n",
       "</table>\n",
       "</div>"
      ],
      "text/plain": [
       "   Question 1  Question 2  Question 3  Question 4  Question 5  Question 6  \\\n",
       "0           3           2           1           3           2           3   \n",
       "1           4           0           4           3           2           0   \n",
       "2           0           0           1           3           4           2   \n",
       "3           1           0           3           4           3           4   \n",
       "4           3           0           3           2           0           4   \n",
       "\n",
       "   Question 7  Question 8  Question 9  Question 10  PSS  tmpQuestion 8  \n",
       "0           0           3           0            2  NaN              1  \n",
       "1           4           1           3            0  NaN              3  \n",
       "2           3           2           2            1  NaN              2  \n",
       "3           0           0           1            2  NaN              4  \n",
       "4           3           3           1            1  NaN              1  "
      ]
     },
     "execution_count": 73,
     "metadata": {},
     "output_type": "execute_result"
    }
   ],
   "source": [
    "# drop tmpQuestion 7 column\n",
    "df_q.drop(['tmpQuestion 7'], axis=1, inplace = True)\n",
    "df_q.head()"
   ]
  },
  {
   "cell_type": "code",
   "execution_count": 74,
   "metadata": {},
   "outputs": [
    {
     "name": "stdout",
     "output_type": "stream",
     "text": [
      "the first few values in question 8 are  0    3\n",
      "1    1\n",
      "2    2\n",
      "3    0\n",
      "4    3\n",
      "5    3\n",
      "6    4\n",
      "Name: Question 8, dtype: int32\n"
     ]
    }
   ],
   "source": [
    "#check question 8 column\n",
    "print(\"the first few values in question 8 are \", df_q['Question 8'][:7])\n",
    "\n"
   ]
  },
  {
   "cell_type": "code",
   "execution_count": 75,
   "metadata": {},
   "outputs": [
    {
     "name": "stdout",
     "output_type": "stream",
     "text": [
      "the first few values in question 8 are  0    1\n",
      "1    3\n",
      "2    2\n",
      "3    4\n",
      "4    1\n",
      "5    1\n",
      "6    0\n",
      "Name: Question 8, dtype: int32\n"
     ]
    }
   ],
   "source": [
    "# copy the temp values into question 8\n",
    "df_q['Question 8'] = df_q['tmpQuestion 8']\n",
    "#check question 8 column\n",
    "print(\"the first few values in question 8 are \", df_q['Question 8'][:7])\n"
   ]
  },
  {
   "cell_type": "code",
   "execution_count": 76,
   "metadata": {},
   "outputs": [
    {
     "data": {
      "text/html": [
       "<div>\n",
       "<style scoped>\n",
       "    .dataframe tbody tr th:only-of-type {\n",
       "        vertical-align: middle;\n",
       "    }\n",
       "\n",
       "    .dataframe tbody tr th {\n",
       "        vertical-align: top;\n",
       "    }\n",
       "\n",
       "    .dataframe thead th {\n",
       "        text-align: right;\n",
       "    }\n",
       "</style>\n",
       "<table border=\"1\" class=\"dataframe\">\n",
       "  <thead>\n",
       "    <tr style=\"text-align: right;\">\n",
       "      <th></th>\n",
       "      <th>Question 1</th>\n",
       "      <th>Question 2</th>\n",
       "      <th>Question 3</th>\n",
       "      <th>Question 4</th>\n",
       "      <th>Question 5</th>\n",
       "      <th>Question 6</th>\n",
       "      <th>Question 7</th>\n",
       "      <th>Question 8</th>\n",
       "      <th>Question 9</th>\n",
       "      <th>Question 10</th>\n",
       "      <th>PSS</th>\n",
       "    </tr>\n",
       "  </thead>\n",
       "  <tbody>\n",
       "    <tr>\n",
       "      <th>0</th>\n",
       "      <td>3</td>\n",
       "      <td>2</td>\n",
       "      <td>1</td>\n",
       "      <td>3</td>\n",
       "      <td>2</td>\n",
       "      <td>3</td>\n",
       "      <td>0</td>\n",
       "      <td>1</td>\n",
       "      <td>0</td>\n",
       "      <td>2</td>\n",
       "      <td>NaN</td>\n",
       "    </tr>\n",
       "    <tr>\n",
       "      <th>1</th>\n",
       "      <td>4</td>\n",
       "      <td>0</td>\n",
       "      <td>4</td>\n",
       "      <td>3</td>\n",
       "      <td>2</td>\n",
       "      <td>0</td>\n",
       "      <td>4</td>\n",
       "      <td>3</td>\n",
       "      <td>3</td>\n",
       "      <td>0</td>\n",
       "      <td>NaN</td>\n",
       "    </tr>\n",
       "    <tr>\n",
       "      <th>2</th>\n",
       "      <td>0</td>\n",
       "      <td>0</td>\n",
       "      <td>1</td>\n",
       "      <td>3</td>\n",
       "      <td>4</td>\n",
       "      <td>2</td>\n",
       "      <td>3</td>\n",
       "      <td>2</td>\n",
       "      <td>2</td>\n",
       "      <td>1</td>\n",
       "      <td>NaN</td>\n",
       "    </tr>\n",
       "    <tr>\n",
       "      <th>3</th>\n",
       "      <td>1</td>\n",
       "      <td>0</td>\n",
       "      <td>3</td>\n",
       "      <td>4</td>\n",
       "      <td>3</td>\n",
       "      <td>4</td>\n",
       "      <td>0</td>\n",
       "      <td>4</td>\n",
       "      <td>1</td>\n",
       "      <td>2</td>\n",
       "      <td>NaN</td>\n",
       "    </tr>\n",
       "    <tr>\n",
       "      <th>4</th>\n",
       "      <td>3</td>\n",
       "      <td>0</td>\n",
       "      <td>3</td>\n",
       "      <td>2</td>\n",
       "      <td>0</td>\n",
       "      <td>4</td>\n",
       "      <td>3</td>\n",
       "      <td>1</td>\n",
       "      <td>1</td>\n",
       "      <td>1</td>\n",
       "      <td>NaN</td>\n",
       "    </tr>\n",
       "  </tbody>\n",
       "</table>\n",
       "</div>"
      ],
      "text/plain": [
       "   Question 1  Question 2  Question 3  Question 4  Question 5  Question 6  \\\n",
       "0           3           2           1           3           2           3   \n",
       "1           4           0           4           3           2           0   \n",
       "2           0           0           1           3           4           2   \n",
       "3           1           0           3           4           3           4   \n",
       "4           3           0           3           2           0           4   \n",
       "\n",
       "   Question 7  Question 8  Question 9  Question 10  PSS  \n",
       "0           0           1           0            2  NaN  \n",
       "1           4           3           3            0  NaN  \n",
       "2           3           2           2            1  NaN  \n",
       "3           0           4           1            2  NaN  \n",
       "4           3           1           1            1  NaN  "
      ]
     },
     "execution_count": 76,
     "metadata": {},
     "output_type": "execute_result"
    }
   ],
   "source": [
    "# drop tmpQuestion 4 column\n",
    "df_q.drop(['tmpQuestion 8'], axis=1, inplace = True)\n",
    "df_q.head()"
   ]
  },
  {
   "cell_type": "code",
   "execution_count": 77,
   "metadata": {},
   "outputs": [
    {
     "data": {
      "text/html": [
       "<div>\n",
       "<style scoped>\n",
       "    .dataframe tbody tr th:only-of-type {\n",
       "        vertical-align: middle;\n",
       "    }\n",
       "\n",
       "    .dataframe tbody tr th {\n",
       "        vertical-align: top;\n",
       "    }\n",
       "\n",
       "    .dataframe thead th {\n",
       "        text-align: right;\n",
       "    }\n",
       "</style>\n",
       "<table border=\"1\" class=\"dataframe\">\n",
       "  <thead>\n",
       "    <tr style=\"text-align: right;\">\n",
       "      <th></th>\n",
       "      <th>Question 1</th>\n",
       "      <th>Question 2</th>\n",
       "      <th>Question 3</th>\n",
       "      <th>Question 4</th>\n",
       "      <th>Question 5</th>\n",
       "      <th>Question 6</th>\n",
       "      <th>Question 7</th>\n",
       "      <th>Question 8</th>\n",
       "      <th>Question 9</th>\n",
       "      <th>Question 10</th>\n",
       "      <th>PSS</th>\n",
       "    </tr>\n",
       "  </thead>\n",
       "  <tbody>\n",
       "    <tr>\n",
       "      <th>0</th>\n",
       "      <td>3</td>\n",
       "      <td>2</td>\n",
       "      <td>1</td>\n",
       "      <td>3</td>\n",
       "      <td>2</td>\n",
       "      <td>3</td>\n",
       "      <td>0</td>\n",
       "      <td>1</td>\n",
       "      <td>0</td>\n",
       "      <td>2</td>\n",
       "      <td>17</td>\n",
       "    </tr>\n",
       "    <tr>\n",
       "      <th>1</th>\n",
       "      <td>4</td>\n",
       "      <td>0</td>\n",
       "      <td>4</td>\n",
       "      <td>3</td>\n",
       "      <td>2</td>\n",
       "      <td>0</td>\n",
       "      <td>4</td>\n",
       "      <td>3</td>\n",
       "      <td>3</td>\n",
       "      <td>0</td>\n",
       "      <td>23</td>\n",
       "    </tr>\n",
       "    <tr>\n",
       "      <th>2</th>\n",
       "      <td>0</td>\n",
       "      <td>0</td>\n",
       "      <td>1</td>\n",
       "      <td>3</td>\n",
       "      <td>4</td>\n",
       "      <td>2</td>\n",
       "      <td>3</td>\n",
       "      <td>2</td>\n",
       "      <td>2</td>\n",
       "      <td>1</td>\n",
       "      <td>18</td>\n",
       "    </tr>\n",
       "    <tr>\n",
       "      <th>3</th>\n",
       "      <td>1</td>\n",
       "      <td>0</td>\n",
       "      <td>3</td>\n",
       "      <td>4</td>\n",
       "      <td>3</td>\n",
       "      <td>4</td>\n",
       "      <td>0</td>\n",
       "      <td>4</td>\n",
       "      <td>1</td>\n",
       "      <td>2</td>\n",
       "      <td>22</td>\n",
       "    </tr>\n",
       "    <tr>\n",
       "      <th>4</th>\n",
       "      <td>3</td>\n",
       "      <td>0</td>\n",
       "      <td>3</td>\n",
       "      <td>2</td>\n",
       "      <td>0</td>\n",
       "      <td>4</td>\n",
       "      <td>3</td>\n",
       "      <td>1</td>\n",
       "      <td>1</td>\n",
       "      <td>1</td>\n",
       "      <td>18</td>\n",
       "    </tr>\n",
       "  </tbody>\n",
       "</table>\n",
       "</div>"
      ],
      "text/plain": [
       "   Question 1  Question 2  Question 3  Question 4  Question 5  Question 6  \\\n",
       "0           3           2           1           3           2           3   \n",
       "1           4           0           4           3           2           0   \n",
       "2           0           0           1           3           4           2   \n",
       "3           1           0           3           4           3           4   \n",
       "4           3           0           3           2           0           4   \n",
       "\n",
       "   Question 7  Question 8  Question 9  Question 10  PSS  \n",
       "0           0           1           0            2   17  \n",
       "1           4           3           3            0   23  \n",
       "2           3           2           2            1   18  \n",
       "3           0           4           1            2   22  \n",
       "4           3           1           1            1   18  "
      ]
     },
     "execution_count": 77,
     "metadata": {},
     "output_type": "execute_result"
    }
   ],
   "source": [
    "# sum the rows to get the stress score\n",
    "# adapted from https://stackoverflow.com/questions/44003371/all-row-sum-with-pandas-except-one\n",
    "df_q['PSS'] = df_q.drop('PSS', axis=1).sum(axis=1) # sum the rows that are not 'PSS' and put the answer into 'PSS'\n",
    "df_q.head()"
   ]
  },
  {
   "cell_type": "code",
   "execution_count": 78,
   "metadata": {},
   "outputs": [
    {
     "data": {
      "text/html": [
       "<div>\n",
       "<style scoped>\n",
       "    .dataframe tbody tr th:only-of-type {\n",
       "        vertical-align: middle;\n",
       "    }\n",
       "\n",
       "    .dataframe tbody tr th {\n",
       "        vertical-align: top;\n",
       "    }\n",
       "\n",
       "    .dataframe thead th {\n",
       "        text-align: right;\n",
       "    }\n",
       "</style>\n",
       "<table border=\"1\" class=\"dataframe\">\n",
       "  <thead>\n",
       "    <tr style=\"text-align: right;\">\n",
       "      <th></th>\n",
       "      <th>Question 1</th>\n",
       "      <th>Question 2</th>\n",
       "      <th>Question 3</th>\n",
       "      <th>Question 4</th>\n",
       "      <th>Question 5</th>\n",
       "      <th>Question 6</th>\n",
       "      <th>Question 7</th>\n",
       "      <th>Question 8</th>\n",
       "      <th>Question 9</th>\n",
       "      <th>Question 10</th>\n",
       "      <th>PSS</th>\n",
       "    </tr>\n",
       "  </thead>\n",
       "  <tbody>\n",
       "    <tr>\n",
       "      <th>count</th>\n",
       "      <td>370.000000</td>\n",
       "      <td>370.000000</td>\n",
       "      <td>370.000000</td>\n",
       "      <td>370.000000</td>\n",
       "      <td>370.000000</td>\n",
       "      <td>370.000000</td>\n",
       "      <td>370.000000</td>\n",
       "      <td>370.000000</td>\n",
       "      <td>370.000000</td>\n",
       "      <td>370.000000</td>\n",
       "      <td>370.000000</td>\n",
       "    </tr>\n",
       "    <tr>\n",
       "      <th>mean</th>\n",
       "      <td>2.005405</td>\n",
       "      <td>1.962162</td>\n",
       "      <td>2.059459</td>\n",
       "      <td>1.991892</td>\n",
       "      <td>2.005405</td>\n",
       "      <td>2.024324</td>\n",
       "      <td>2.124324</td>\n",
       "      <td>2.016216</td>\n",
       "      <td>2.024324</td>\n",
       "      <td>1.972973</td>\n",
       "      <td>20.186486</td>\n",
       "    </tr>\n",
       "    <tr>\n",
       "      <th>std</th>\n",
       "      <td>1.450156</td>\n",
       "      <td>1.415622</td>\n",
       "      <td>1.350190</td>\n",
       "      <td>1.436059</td>\n",
       "      <td>1.412286</td>\n",
       "      <td>1.465762</td>\n",
       "      <td>1.402940</td>\n",
       "      <td>1.387031</td>\n",
       "      <td>1.372179</td>\n",
       "      <td>1.357235</td>\n",
       "      <td>4.572847</td>\n",
       "    </tr>\n",
       "    <tr>\n",
       "      <th>min</th>\n",
       "      <td>0.000000</td>\n",
       "      <td>0.000000</td>\n",
       "      <td>0.000000</td>\n",
       "      <td>0.000000</td>\n",
       "      <td>0.000000</td>\n",
       "      <td>0.000000</td>\n",
       "      <td>0.000000</td>\n",
       "      <td>0.000000</td>\n",
       "      <td>0.000000</td>\n",
       "      <td>0.000000</td>\n",
       "      <td>10.000000</td>\n",
       "    </tr>\n",
       "    <tr>\n",
       "      <th>25%</th>\n",
       "      <td>1.000000</td>\n",
       "      <td>1.000000</td>\n",
       "      <td>1.000000</td>\n",
       "      <td>1.000000</td>\n",
       "      <td>1.000000</td>\n",
       "      <td>1.000000</td>\n",
       "      <td>1.000000</td>\n",
       "      <td>1.000000</td>\n",
       "      <td>1.000000</td>\n",
       "      <td>1.000000</td>\n",
       "      <td>17.000000</td>\n",
       "    </tr>\n",
       "    <tr>\n",
       "      <th>50%</th>\n",
       "      <td>2.000000</td>\n",
       "      <td>2.000000</td>\n",
       "      <td>2.000000</td>\n",
       "      <td>2.000000</td>\n",
       "      <td>2.000000</td>\n",
       "      <td>2.000000</td>\n",
       "      <td>2.000000</td>\n",
       "      <td>2.000000</td>\n",
       "      <td>2.000000</td>\n",
       "      <td>2.000000</td>\n",
       "      <td>20.000000</td>\n",
       "    </tr>\n",
       "    <tr>\n",
       "      <th>75%</th>\n",
       "      <td>3.000000</td>\n",
       "      <td>3.000000</td>\n",
       "      <td>3.000000</td>\n",
       "      <td>3.000000</td>\n",
       "      <td>3.000000</td>\n",
       "      <td>3.000000</td>\n",
       "      <td>3.000000</td>\n",
       "      <td>3.000000</td>\n",
       "      <td>3.000000</td>\n",
       "      <td>3.000000</td>\n",
       "      <td>23.000000</td>\n",
       "    </tr>\n",
       "    <tr>\n",
       "      <th>max</th>\n",
       "      <td>4.000000</td>\n",
       "      <td>4.000000</td>\n",
       "      <td>4.000000</td>\n",
       "      <td>4.000000</td>\n",
       "      <td>4.000000</td>\n",
       "      <td>4.000000</td>\n",
       "      <td>4.000000</td>\n",
       "      <td>4.000000</td>\n",
       "      <td>4.000000</td>\n",
       "      <td>4.000000</td>\n",
       "      <td>35.000000</td>\n",
       "    </tr>\n",
       "  </tbody>\n",
       "</table>\n",
       "</div>"
      ],
      "text/plain": [
       "       Question 1  Question 2  Question 3  Question 4  Question 5  Question 6  \\\n",
       "count  370.000000  370.000000  370.000000  370.000000  370.000000  370.000000   \n",
       "mean     2.005405    1.962162    2.059459    1.991892    2.005405    2.024324   \n",
       "std      1.450156    1.415622    1.350190    1.436059    1.412286    1.465762   \n",
       "min      0.000000    0.000000    0.000000    0.000000    0.000000    0.000000   \n",
       "25%      1.000000    1.000000    1.000000    1.000000    1.000000    1.000000   \n",
       "50%      2.000000    2.000000    2.000000    2.000000    2.000000    2.000000   \n",
       "75%      3.000000    3.000000    3.000000    3.000000    3.000000    3.000000   \n",
       "max      4.000000    4.000000    4.000000    4.000000    4.000000    4.000000   \n",
       "\n",
       "       Question 7  Question 8  Question 9  Question 10         PSS  \n",
       "count  370.000000  370.000000  370.000000   370.000000  370.000000  \n",
       "mean     2.124324    2.016216    2.024324     1.972973   20.186486  \n",
       "std      1.402940    1.387031    1.372179     1.357235    4.572847  \n",
       "min      0.000000    0.000000    0.000000     0.000000   10.000000  \n",
       "25%      1.000000    1.000000    1.000000     1.000000   17.000000  \n",
       "50%      2.000000    2.000000    2.000000     2.000000   20.000000  \n",
       "75%      3.000000    3.000000    3.000000     3.000000   23.000000  \n",
       "max      4.000000    4.000000    4.000000     4.000000   35.000000  "
      ]
     },
     "execution_count": 78,
     "metadata": {},
     "output_type": "execute_result"
    }
   ],
   "source": [
    "df_q.describe()"
   ]
  },
  {
   "cell_type": "code",
   "execution_count": 79,
   "metadata": {},
   "outputs": [
    {
     "data": {
      "text/html": [
       "<div>\n",
       "<style scoped>\n",
       "    .dataframe tbody tr th:only-of-type {\n",
       "        vertical-align: middle;\n",
       "    }\n",
       "\n",
       "    .dataframe tbody tr th {\n",
       "        vertical-align: top;\n",
       "    }\n",
       "\n",
       "    .dataframe thead th {\n",
       "        text-align: right;\n",
       "    }\n",
       "</style>\n",
       "<table border=\"1\" class=\"dataframe\">\n",
       "  <thead>\n",
       "    <tr style=\"text-align: right;\">\n",
       "      <th></th>\n",
       "      <th>Distance</th>\n",
       "      <th>Duration</th>\n",
       "      <th>Time</th>\n",
       "      <th>Impedance</th>\n",
       "      <th>Stress</th>\n",
       "      <th>Transport</th>\n",
       "    </tr>\n",
       "  </thead>\n",
       "  <tbody>\n",
       "    <tr>\n",
       "      <th>0</th>\n",
       "      <td>6-15 miles</td>\n",
       "      <td>0-30 minutes</td>\n",
       "      <td>30-60 months</td>\n",
       "      <td>Over 30 mph</td>\n",
       "      <td>17</td>\n",
       "      <td>Car</td>\n",
       "    </tr>\n",
       "    <tr>\n",
       "      <th>1</th>\n",
       "      <td>16-30 miles</td>\n",
       "      <td>Over 60 minutes</td>\n",
       "      <td>30-60 months</td>\n",
       "      <td>17.3-30 mph</td>\n",
       "      <td>23</td>\n",
       "      <td>Car</td>\n",
       "    </tr>\n",
       "    <tr>\n",
       "      <th>2</th>\n",
       "      <td>Over 30 miles</td>\n",
       "      <td>0-30 minutes</td>\n",
       "      <td>1-29 months</td>\n",
       "      <td>17 mph or less</td>\n",
       "      <td>18</td>\n",
       "      <td>Car</td>\n",
       "    </tr>\n",
       "    <tr>\n",
       "      <th>3</th>\n",
       "      <td>Over 30 miles</td>\n",
       "      <td>0-30 minutes</td>\n",
       "      <td>60-131 months</td>\n",
       "      <td>Over 30 mph</td>\n",
       "      <td>22</td>\n",
       "      <td>Public transport</td>\n",
       "    </tr>\n",
       "    <tr>\n",
       "      <th>4</th>\n",
       "      <td>16-30 miles</td>\n",
       "      <td>0-30 minutes</td>\n",
       "      <td>60-131 months</td>\n",
       "      <td>17 mph or less</td>\n",
       "      <td>18</td>\n",
       "      <td>Public transport</td>\n",
       "    </tr>\n",
       "  </tbody>\n",
       "</table>\n",
       "</div>"
      ],
      "text/plain": [
       "        Distance         Duration           Time       Impedance  Stress  \\\n",
       "0     6-15 miles     0-30 minutes   30-60 months     Over 30 mph      17   \n",
       "1    16-30 miles  Over 60 minutes   30-60 months     17.3-30 mph      23   \n",
       "2  Over 30 miles     0-30 minutes    1-29 months  17 mph or less      18   \n",
       "3  Over 30 miles     0-30 minutes  60-131 months     Over 30 mph      22   \n",
       "4    16-30 miles     0-30 minutes  60-131 months  17 mph or less      18   \n",
       "\n",
       "          Transport  \n",
       "0               Car  \n",
       "1               Car  \n",
       "2               Car  \n",
       "3  Public transport  \n",
       "4  Public transport  "
      ]
     },
     "execution_count": 79,
     "metadata": {},
     "output_type": "execute_result"
    }
   ],
   "source": [
    "# add the stress score to the dataframe\n",
    "df['Stress'] = df_q['PSS']\n",
    "df.head()\n"
   ]
  },
  {
   "cell_type": "code",
   "execution_count": 80,
   "metadata": {},
   "outputs": [
    {
     "data": {
      "text/html": [
       "<div>\n",
       "<style scoped>\n",
       "    .dataframe tbody tr th:only-of-type {\n",
       "        vertical-align: middle;\n",
       "    }\n",
       "\n",
       "    .dataframe tbody tr th {\n",
       "        vertical-align: top;\n",
       "    }\n",
       "\n",
       "    .dataframe thead th {\n",
       "        text-align: right;\n",
       "    }\n",
       "</style>\n",
       "<table border=\"1\" class=\"dataframe\">\n",
       "  <thead>\n",
       "    <tr style=\"text-align: right;\">\n",
       "      <th></th>\n",
       "      <th>Stress</th>\n",
       "    </tr>\n",
       "  </thead>\n",
       "  <tbody>\n",
       "    <tr>\n",
       "      <th>count</th>\n",
       "      <td>370.000000</td>\n",
       "    </tr>\n",
       "    <tr>\n",
       "      <th>mean</th>\n",
       "      <td>20.186486</td>\n",
       "    </tr>\n",
       "    <tr>\n",
       "      <th>std</th>\n",
       "      <td>4.572847</td>\n",
       "    </tr>\n",
       "    <tr>\n",
       "      <th>min</th>\n",
       "      <td>10.000000</td>\n",
       "    </tr>\n",
       "    <tr>\n",
       "      <th>25%</th>\n",
       "      <td>17.000000</td>\n",
       "    </tr>\n",
       "    <tr>\n",
       "      <th>50%</th>\n",
       "      <td>20.000000</td>\n",
       "    </tr>\n",
       "    <tr>\n",
       "      <th>75%</th>\n",
       "      <td>23.000000</td>\n",
       "    </tr>\n",
       "    <tr>\n",
       "      <th>max</th>\n",
       "      <td>35.000000</td>\n",
       "    </tr>\n",
       "  </tbody>\n",
       "</table>\n",
       "</div>"
      ],
      "text/plain": [
       "           Stress\n",
       "count  370.000000\n",
       "mean    20.186486\n",
       "std      4.572847\n",
       "min     10.000000\n",
       "25%     17.000000\n",
       "50%     20.000000\n",
       "75%     23.000000\n",
       "max     35.000000"
      ]
     },
     "execution_count": 80,
     "metadata": {},
     "output_type": "execute_result"
    }
   ],
   "source": [
    "df.describe()"
   ]
  },
  {
   "cell_type": "markdown",
   "metadata": {},
   "source": [
    "#### Simplification of the Stress variable\n",
    "\n",
    "The measure of stress in Cassidy's report was calculated along five domains. Neither the questions on the survey nor the method of scoring was obvious in the report. Hence this project makes some assumptions and simplifications. A general stress indicator is used via the PSS. I was unsure how to link the variables, (distance, duration, time, impedance and transport) to the stress score. I settled on adding weightings based on research indicating if the variable extremes helped or hindered stress levels. There is problems with this as I have no evidence that such a scale passes reliability or validity in what it purports to measure. However the assignment was to simulate the data and not to develop the formula underlying the data (if such a formula even exists). With this in mind the challenge was to add values to the PSS score based on responses to the survey questions. The PSS responses to the 10 questions were numbers from 0 to 4 so the minimum possible value was 0 and the maximum possible value was 40. The adjustments to this scale were as follows. \n",
    "\n",
    "#### Adjustments\n",
    "Adjustments will then be added on to the PSS depending on participants responses to the other variables on the survey. \n",
    "##### Distance\n",
    "Evidence suggests that longer commute distances is related to higher stress levels in commuters (Chatterjee et al. 2017). There were four bands in the Distance variable so these were rated 1 for 0-5 miles band, 2 for 6-15 miles band, 3 for the 16-30 miles and 4 for over 30 miles band. \n",
    "\n"
   ]
  },
  {
   "cell_type": "code",
   "execution_count": 81,
   "metadata": {},
   "outputs": [
    {
     "data": {
      "text/html": [
       "<div>\n",
       "<style scoped>\n",
       "    .dataframe tbody tr th:only-of-type {\n",
       "        vertical-align: middle;\n",
       "    }\n",
       "\n",
       "    .dataframe tbody tr th {\n",
       "        vertical-align: top;\n",
       "    }\n",
       "\n",
       "    .dataframe thead th {\n",
       "        text-align: right;\n",
       "    }\n",
       "</style>\n",
       "<table border=\"1\" class=\"dataframe\">\n",
       "  <thead>\n",
       "    <tr style=\"text-align: right;\">\n",
       "      <th></th>\n",
       "      <th>Distance</th>\n",
       "      <th>Duration</th>\n",
       "      <th>Time</th>\n",
       "      <th>Impedance</th>\n",
       "      <th>Stress</th>\n",
       "      <th>Transport</th>\n",
       "      <th>Distance Score</th>\n",
       "    </tr>\n",
       "  </thead>\n",
       "  <tbody>\n",
       "    <tr>\n",
       "      <th>0</th>\n",
       "      <td>6-15 miles</td>\n",
       "      <td>0-30 minutes</td>\n",
       "      <td>30-60 months</td>\n",
       "      <td>Over 30 mph</td>\n",
       "      <td>17</td>\n",
       "      <td>Car</td>\n",
       "      <td>6-15 miles</td>\n",
       "    </tr>\n",
       "    <tr>\n",
       "      <th>1</th>\n",
       "      <td>16-30 miles</td>\n",
       "      <td>Over 60 minutes</td>\n",
       "      <td>30-60 months</td>\n",
       "      <td>17.3-30 mph</td>\n",
       "      <td>23</td>\n",
       "      <td>Car</td>\n",
       "      <td>16-30 miles</td>\n",
       "    </tr>\n",
       "    <tr>\n",
       "      <th>2</th>\n",
       "      <td>Over 30 miles</td>\n",
       "      <td>0-30 minutes</td>\n",
       "      <td>1-29 months</td>\n",
       "      <td>17 mph or less</td>\n",
       "      <td>18</td>\n",
       "      <td>Car</td>\n",
       "      <td>Over 30 miles</td>\n",
       "    </tr>\n",
       "    <tr>\n",
       "      <th>3</th>\n",
       "      <td>Over 30 miles</td>\n",
       "      <td>0-30 minutes</td>\n",
       "      <td>60-131 months</td>\n",
       "      <td>Over 30 mph</td>\n",
       "      <td>22</td>\n",
       "      <td>Public transport</td>\n",
       "      <td>Over 30 miles</td>\n",
       "    </tr>\n",
       "    <tr>\n",
       "      <th>4</th>\n",
       "      <td>16-30 miles</td>\n",
       "      <td>0-30 minutes</td>\n",
       "      <td>60-131 months</td>\n",
       "      <td>17 mph or less</td>\n",
       "      <td>18</td>\n",
       "      <td>Public transport</td>\n",
       "      <td>16-30 miles</td>\n",
       "    </tr>\n",
       "  </tbody>\n",
       "</table>\n",
       "</div>"
      ],
      "text/plain": [
       "        Distance         Duration           Time       Impedance  Stress  \\\n",
       "0     6-15 miles     0-30 minutes   30-60 months     Over 30 mph      17   \n",
       "1    16-30 miles  Over 60 minutes   30-60 months     17.3-30 mph      23   \n",
       "2  Over 30 miles     0-30 minutes    1-29 months  17 mph or less      18   \n",
       "3  Over 30 miles     0-30 minutes  60-131 months     Over 30 mph      22   \n",
       "4    16-30 miles     0-30 minutes  60-131 months  17 mph or less      18   \n",
       "\n",
       "          Transport Distance Score  \n",
       "0               Car     6-15 miles  \n",
       "1               Car    16-30 miles  \n",
       "2               Car  Over 30 miles  \n",
       "3  Public transport  Over 30 miles  \n",
       "4  Public transport    16-30 miles  "
      ]
     },
     "execution_count": 81,
     "metadata": {},
     "output_type": "execute_result"
    }
   ],
   "source": [
    "# Score distance\n",
    "# take a copy of the distance data and put it in a new column\n",
    "df['Distance Score'] = df['Distance']\n",
    "# check it\n",
    "df.head()"
   ]
  },
  {
   "cell_type": "code",
   "execution_count": 89,
   "metadata": {},
   "outputs": [
    {
     "data": {
      "text/html": [
       "<div>\n",
       "<style scoped>\n",
       "    .dataframe tbody tr th:only-of-type {\n",
       "        vertical-align: middle;\n",
       "    }\n",
       "\n",
       "    .dataframe tbody tr th {\n",
       "        vertical-align: top;\n",
       "    }\n",
       "\n",
       "    .dataframe thead th {\n",
       "        text-align: right;\n",
       "    }\n",
       "</style>\n",
       "<table border=\"1\" class=\"dataframe\">\n",
       "  <thead>\n",
       "    <tr style=\"text-align: right;\">\n",
       "      <th></th>\n",
       "      <th>Distance</th>\n",
       "      <th>Duration</th>\n",
       "      <th>Time</th>\n",
       "      <th>Impedance</th>\n",
       "      <th>Stress</th>\n",
       "      <th>Transport</th>\n",
       "      <th>Distance Score</th>\n",
       "    </tr>\n",
       "  </thead>\n",
       "  <tbody>\n",
       "    <tr>\n",
       "      <th>0</th>\n",
       "      <td>6-15 miles</td>\n",
       "      <td>0-30 minutes</td>\n",
       "      <td>30-60 months</td>\n",
       "      <td>Over 30 mph</td>\n",
       "      <td>17</td>\n",
       "      <td>Car</td>\n",
       "      <td>2</td>\n",
       "    </tr>\n",
       "    <tr>\n",
       "      <th>1</th>\n",
       "      <td>16-30 miles</td>\n",
       "      <td>Over 60 minutes</td>\n",
       "      <td>30-60 months</td>\n",
       "      <td>17.3-30 mph</td>\n",
       "      <td>23</td>\n",
       "      <td>Car</td>\n",
       "      <td>3</td>\n",
       "    </tr>\n",
       "    <tr>\n",
       "      <th>2</th>\n",
       "      <td>Over 30 miles</td>\n",
       "      <td>0-30 minutes</td>\n",
       "      <td>1-29 months</td>\n",
       "      <td>17 mph or less</td>\n",
       "      <td>18</td>\n",
       "      <td>Car</td>\n",
       "      <td>4</td>\n",
       "    </tr>\n",
       "    <tr>\n",
       "      <th>3</th>\n",
       "      <td>Over 30 miles</td>\n",
       "      <td>0-30 minutes</td>\n",
       "      <td>60-131 months</td>\n",
       "      <td>Over 30 mph</td>\n",
       "      <td>22</td>\n",
       "      <td>Public transport</td>\n",
       "      <td>4</td>\n",
       "    </tr>\n",
       "    <tr>\n",
       "      <th>4</th>\n",
       "      <td>16-30 miles</td>\n",
       "      <td>0-30 minutes</td>\n",
       "      <td>60-131 months</td>\n",
       "      <td>17 mph or less</td>\n",
       "      <td>18</td>\n",
       "      <td>Public transport</td>\n",
       "      <td>3</td>\n",
       "    </tr>\n",
       "  </tbody>\n",
       "</table>\n",
       "</div>"
      ],
      "text/plain": [
       "        Distance         Duration           Time       Impedance  Stress  \\\n",
       "0     6-15 miles     0-30 minutes   30-60 months     Over 30 mph      17   \n",
       "1    16-30 miles  Over 60 minutes   30-60 months     17.3-30 mph      23   \n",
       "2  Over 30 miles     0-30 minutes    1-29 months  17 mph or less      18   \n",
       "3  Over 30 miles     0-30 minutes  60-131 months     Over 30 mph      22   \n",
       "4    16-30 miles     0-30 minutes  60-131 months  17 mph or less      18   \n",
       "\n",
       "          Transport  Distance Score  \n",
       "0               Car               2  \n",
       "1               Car               3  \n",
       "2               Car               4  \n",
       "3  Public transport               4  \n",
       "4  Public transport               3  "
      ]
     },
     "execution_count": 89,
     "metadata": {},
     "output_type": "execute_result"
    }
   ],
   "source": [
    "# find all values in distance that are '0-5' and set it to 1 in the distance score column etc...\n",
    "# the less miles travelled the less stress\n",
    "df.loc[df['Distance'] == '0-5 miles', 'Distance Score'] = 1\n",
    "df.loc[df['Distance'] == '6-15 miles', 'Distance Score'] = 2\n",
    "df.loc[df['Distance'] == '16-30 miles', 'Distance Score'] = 3\n",
    "df.loc[df['Distance'] == 'Over 30 miles', 'Distance Score'] = 4\n",
    "# check it\n",
    "df.head()"
   ]
  },
  {
   "cell_type": "code",
   "execution_count": 90,
   "metadata": {},
   "outputs": [
    {
     "data": {
      "text/html": [
       "<div>\n",
       "<style scoped>\n",
       "    .dataframe tbody tr th:only-of-type {\n",
       "        vertical-align: middle;\n",
       "    }\n",
       "\n",
       "    .dataframe tbody tr th {\n",
       "        vertical-align: top;\n",
       "    }\n",
       "\n",
       "    .dataframe thead th {\n",
       "        text-align: right;\n",
       "    }\n",
       "</style>\n",
       "<table border=\"1\" class=\"dataframe\">\n",
       "  <thead>\n",
       "    <tr style=\"text-align: right;\">\n",
       "      <th></th>\n",
       "      <th>Distance</th>\n",
       "      <th>Duration</th>\n",
       "      <th>Time</th>\n",
       "      <th>Impedance</th>\n",
       "      <th>Stress</th>\n",
       "      <th>Transport</th>\n",
       "      <th>Distance Score</th>\n",
       "    </tr>\n",
       "  </thead>\n",
       "  <tbody>\n",
       "    <tr>\n",
       "      <th>0</th>\n",
       "      <td>6-15 miles</td>\n",
       "      <td>0-30 minutes</td>\n",
       "      <td>30-60 months</td>\n",
       "      <td>Over 30 mph</td>\n",
       "      <td>19</td>\n",
       "      <td>Car</td>\n",
       "      <td>2</td>\n",
       "    </tr>\n",
       "    <tr>\n",
       "      <th>1</th>\n",
       "      <td>16-30 miles</td>\n",
       "      <td>Over 60 minutes</td>\n",
       "      <td>30-60 months</td>\n",
       "      <td>17.3-30 mph</td>\n",
       "      <td>26</td>\n",
       "      <td>Car</td>\n",
       "      <td>3</td>\n",
       "    </tr>\n",
       "    <tr>\n",
       "      <th>2</th>\n",
       "      <td>Over 30 miles</td>\n",
       "      <td>0-30 minutes</td>\n",
       "      <td>1-29 months</td>\n",
       "      <td>17 mph or less</td>\n",
       "      <td>22</td>\n",
       "      <td>Car</td>\n",
       "      <td>4</td>\n",
       "    </tr>\n",
       "    <tr>\n",
       "      <th>3</th>\n",
       "      <td>Over 30 miles</td>\n",
       "      <td>0-30 minutes</td>\n",
       "      <td>60-131 months</td>\n",
       "      <td>Over 30 mph</td>\n",
       "      <td>26</td>\n",
       "      <td>Public transport</td>\n",
       "      <td>4</td>\n",
       "    </tr>\n",
       "    <tr>\n",
       "      <th>4</th>\n",
       "      <td>16-30 miles</td>\n",
       "      <td>0-30 minutes</td>\n",
       "      <td>60-131 months</td>\n",
       "      <td>17 mph or less</td>\n",
       "      <td>21</td>\n",
       "      <td>Public transport</td>\n",
       "      <td>3</td>\n",
       "    </tr>\n",
       "  </tbody>\n",
       "</table>\n",
       "</div>"
      ],
      "text/plain": [
       "        Distance         Duration           Time       Impedance  Stress  \\\n",
       "0     6-15 miles     0-30 minutes   30-60 months     Over 30 mph      19   \n",
       "1    16-30 miles  Over 60 minutes   30-60 months     17.3-30 mph      26   \n",
       "2  Over 30 miles     0-30 minutes    1-29 months  17 mph or less      22   \n",
       "3  Over 30 miles     0-30 minutes  60-131 months     Over 30 mph      26   \n",
       "4    16-30 miles     0-30 minutes  60-131 months  17 mph or less      21   \n",
       "\n",
       "          Transport  Distance Score  \n",
       "0               Car               2  \n",
       "1               Car               3  \n",
       "2               Car               4  \n",
       "3  Public transport               4  \n",
       "4  Public transport               3  "
      ]
     },
     "execution_count": 90,
     "metadata": {},
     "output_type": "execute_result"
    }
   ],
   "source": [
    "# add the Distance score to the stress value\n",
    "df['Stress'] = df['Stress'] + df['Distance Score'] #this is producing errors\n",
    "# check it\n",
    "df.head()\n"
   ]
  },
  {
   "cell_type": "code",
   "execution_count": 91,
   "metadata": {
    "scrolled": true
   },
   "outputs": [
    {
     "data": {
      "text/html": [
       "<div>\n",
       "<style scoped>\n",
       "    .dataframe tbody tr th:only-of-type {\n",
       "        vertical-align: middle;\n",
       "    }\n",
       "\n",
       "    .dataframe tbody tr th {\n",
       "        vertical-align: top;\n",
       "    }\n",
       "\n",
       "    .dataframe thead th {\n",
       "        text-align: right;\n",
       "    }\n",
       "</style>\n",
       "<table border=\"1\" class=\"dataframe\">\n",
       "  <thead>\n",
       "    <tr style=\"text-align: right;\">\n",
       "      <th></th>\n",
       "      <th>Distance</th>\n",
       "      <th>Duration</th>\n",
       "      <th>Time</th>\n",
       "      <th>Impedance</th>\n",
       "      <th>Stress</th>\n",
       "      <th>Transport</th>\n",
       "      <th>Distance Score</th>\n",
       "    </tr>\n",
       "  </thead>\n",
       "  <tbody>\n",
       "    <tr>\n",
       "      <th>365</th>\n",
       "      <td>6-15 miles</td>\n",
       "      <td>0-30 minutes</td>\n",
       "      <td>Over 132 months</td>\n",
       "      <td>Over 30 mph</td>\n",
       "      <td>28</td>\n",
       "      <td>Public transport</td>\n",
       "      <td>2</td>\n",
       "    </tr>\n",
       "    <tr>\n",
       "      <th>366</th>\n",
       "      <td>0-5 miles</td>\n",
       "      <td>30-60 minutes</td>\n",
       "      <td>Over 132 months</td>\n",
       "      <td>17 mph or less</td>\n",
       "      <td>22</td>\n",
       "      <td>Public transport</td>\n",
       "      <td>1</td>\n",
       "    </tr>\n",
       "    <tr>\n",
       "      <th>367</th>\n",
       "      <td>0-5 miles</td>\n",
       "      <td>0-30 minutes</td>\n",
       "      <td>30-60 months</td>\n",
       "      <td>17 mph or less</td>\n",
       "      <td>24</td>\n",
       "      <td>Car</td>\n",
       "      <td>1</td>\n",
       "    </tr>\n",
       "    <tr>\n",
       "      <th>368</th>\n",
       "      <td>6-15 miles</td>\n",
       "      <td>0-30 minutes</td>\n",
       "      <td>Over 132 months</td>\n",
       "      <td>17 mph or less</td>\n",
       "      <td>19</td>\n",
       "      <td>Car</td>\n",
       "      <td>2</td>\n",
       "    </tr>\n",
       "    <tr>\n",
       "      <th>369</th>\n",
       "      <td>16-30 miles</td>\n",
       "      <td>0-30 minutes</td>\n",
       "      <td>30-60 months</td>\n",
       "      <td>Over 30 mph</td>\n",
       "      <td>27</td>\n",
       "      <td>Car</td>\n",
       "      <td>3</td>\n",
       "    </tr>\n",
       "  </tbody>\n",
       "</table>\n",
       "</div>"
      ],
      "text/plain": [
       "        Distance       Duration             Time       Impedance  Stress  \\\n",
       "365   6-15 miles   0-30 minutes  Over 132 months     Over 30 mph      28   \n",
       "366    0-5 miles  30-60 minutes  Over 132 months  17 mph or less      22   \n",
       "367    0-5 miles   0-30 minutes     30-60 months  17 mph or less      24   \n",
       "368   6-15 miles   0-30 minutes  Over 132 months  17 mph or less      19   \n",
       "369  16-30 miles   0-30 minutes     30-60 months     Over 30 mph      27   \n",
       "\n",
       "            Transport  Distance Score  \n",
       "365  Public transport               2  \n",
       "366  Public transport               1  \n",
       "367               Car               1  \n",
       "368               Car               2  \n",
       "369               Car               3  "
      ]
     },
     "execution_count": 91,
     "metadata": {},
     "output_type": "execute_result"
    }
   ],
   "source": [
    "# check end of dataframe\n",
    "df.tail()"
   ]
  },
  {
   "cell_type": "markdown",
   "metadata": {},
   "source": [
    "##### Duration\n",
    "By the same reasoning that distance is positively correlated to stress levels (increased stress levels with increasing distance of commute), duration,  being a function of distance (speed of commute = distance of commute divided by duration of commute) is also linked to stress levels. The greater the duration of the commute i.e. the daily time taken to commute the more stress is experienced by the commuter(Chatterjee et al. 2017). There were three Duration of commute bands, 0-30 minutes was scored as a 1, 30-60 minutes was scored as 2 and over 60 minutes was scored as 3. \n"
   ]
  },
  {
   "cell_type": "code",
   "execution_count": 92,
   "metadata": {},
   "outputs": [
    {
     "data": {
      "text/html": [
       "<div>\n",
       "<style scoped>\n",
       "    .dataframe tbody tr th:only-of-type {\n",
       "        vertical-align: middle;\n",
       "    }\n",
       "\n",
       "    .dataframe tbody tr th {\n",
       "        vertical-align: top;\n",
       "    }\n",
       "\n",
       "    .dataframe thead th {\n",
       "        text-align: right;\n",
       "    }\n",
       "</style>\n",
       "<table border=\"1\" class=\"dataframe\">\n",
       "  <thead>\n",
       "    <tr style=\"text-align: right;\">\n",
       "      <th></th>\n",
       "      <th>Distance</th>\n",
       "      <th>Duration</th>\n",
       "      <th>Time</th>\n",
       "      <th>Impedance</th>\n",
       "      <th>Stress</th>\n",
       "      <th>Transport</th>\n",
       "      <th>Distance Score</th>\n",
       "      <th>Duration Score</th>\n",
       "    </tr>\n",
       "  </thead>\n",
       "  <tbody>\n",
       "    <tr>\n",
       "      <th>0</th>\n",
       "      <td>6-15 miles</td>\n",
       "      <td>0-30 minutes</td>\n",
       "      <td>30-60 months</td>\n",
       "      <td>Over 30 mph</td>\n",
       "      <td>19</td>\n",
       "      <td>Car</td>\n",
       "      <td>2</td>\n",
       "      <td>0-30 minutes</td>\n",
       "    </tr>\n",
       "    <tr>\n",
       "      <th>1</th>\n",
       "      <td>16-30 miles</td>\n",
       "      <td>Over 60 minutes</td>\n",
       "      <td>30-60 months</td>\n",
       "      <td>17.3-30 mph</td>\n",
       "      <td>26</td>\n",
       "      <td>Car</td>\n",
       "      <td>3</td>\n",
       "      <td>Over 60 minutes</td>\n",
       "    </tr>\n",
       "    <tr>\n",
       "      <th>2</th>\n",
       "      <td>Over 30 miles</td>\n",
       "      <td>0-30 minutes</td>\n",
       "      <td>1-29 months</td>\n",
       "      <td>17 mph or less</td>\n",
       "      <td>22</td>\n",
       "      <td>Car</td>\n",
       "      <td>4</td>\n",
       "      <td>0-30 minutes</td>\n",
       "    </tr>\n",
       "    <tr>\n",
       "      <th>3</th>\n",
       "      <td>Over 30 miles</td>\n",
       "      <td>0-30 minutes</td>\n",
       "      <td>60-131 months</td>\n",
       "      <td>Over 30 mph</td>\n",
       "      <td>26</td>\n",
       "      <td>Public transport</td>\n",
       "      <td>4</td>\n",
       "      <td>0-30 minutes</td>\n",
       "    </tr>\n",
       "    <tr>\n",
       "      <th>4</th>\n",
       "      <td>16-30 miles</td>\n",
       "      <td>0-30 minutes</td>\n",
       "      <td>60-131 months</td>\n",
       "      <td>17 mph or less</td>\n",
       "      <td>21</td>\n",
       "      <td>Public transport</td>\n",
       "      <td>3</td>\n",
       "      <td>0-30 minutes</td>\n",
       "    </tr>\n",
       "  </tbody>\n",
       "</table>\n",
       "</div>"
      ],
      "text/plain": [
       "        Distance         Duration           Time       Impedance  Stress  \\\n",
       "0     6-15 miles     0-30 minutes   30-60 months     Over 30 mph      19   \n",
       "1    16-30 miles  Over 60 minutes   30-60 months     17.3-30 mph      26   \n",
       "2  Over 30 miles     0-30 minutes    1-29 months  17 mph or less      22   \n",
       "3  Over 30 miles     0-30 minutes  60-131 months     Over 30 mph      26   \n",
       "4    16-30 miles     0-30 minutes  60-131 months  17 mph or less      21   \n",
       "\n",
       "          Transport  Distance Score   Duration Score  \n",
       "0               Car               2     0-30 minutes  \n",
       "1               Car               3  Over 60 minutes  \n",
       "2               Car               4     0-30 minutes  \n",
       "3  Public transport               4     0-30 minutes  \n",
       "4  Public transport               3     0-30 minutes  "
      ]
     },
     "execution_count": 92,
     "metadata": {},
     "output_type": "execute_result"
    }
   ],
   "source": [
    "# Score duration\n",
    "# take a copy of the duration data and put it in a new column\n",
    "df['Duration Score'] = df['Duration']\n",
    "# check the first few rows\n",
    "df.head()\n"
   ]
  },
  {
   "cell_type": "code",
   "execution_count": 93,
   "metadata": {},
   "outputs": [
    {
     "data": {
      "text/html": [
       "<div>\n",
       "<style scoped>\n",
       "    .dataframe tbody tr th:only-of-type {\n",
       "        vertical-align: middle;\n",
       "    }\n",
       "\n",
       "    .dataframe tbody tr th {\n",
       "        vertical-align: top;\n",
       "    }\n",
       "\n",
       "    .dataframe thead th {\n",
       "        text-align: right;\n",
       "    }\n",
       "</style>\n",
       "<table border=\"1\" class=\"dataframe\">\n",
       "  <thead>\n",
       "    <tr style=\"text-align: right;\">\n",
       "      <th></th>\n",
       "      <th>Distance</th>\n",
       "      <th>Duration</th>\n",
       "      <th>Time</th>\n",
       "      <th>Impedance</th>\n",
       "      <th>Stress</th>\n",
       "      <th>Transport</th>\n",
       "      <th>Distance Score</th>\n",
       "      <th>Duration Score</th>\n",
       "    </tr>\n",
       "  </thead>\n",
       "  <tbody>\n",
       "    <tr>\n",
       "      <th>0</th>\n",
       "      <td>6-15 miles</td>\n",
       "      <td>0-30 minutes</td>\n",
       "      <td>30-60 months</td>\n",
       "      <td>Over 30 mph</td>\n",
       "      <td>19</td>\n",
       "      <td>Car</td>\n",
       "      <td>2</td>\n",
       "      <td>0</td>\n",
       "    </tr>\n",
       "    <tr>\n",
       "      <th>1</th>\n",
       "      <td>16-30 miles</td>\n",
       "      <td>Over 60 minutes</td>\n",
       "      <td>30-60 months</td>\n",
       "      <td>17.3-30 mph</td>\n",
       "      <td>26</td>\n",
       "      <td>Car</td>\n",
       "      <td>3</td>\n",
       "      <td>2</td>\n",
       "    </tr>\n",
       "    <tr>\n",
       "      <th>2</th>\n",
       "      <td>Over 30 miles</td>\n",
       "      <td>0-30 minutes</td>\n",
       "      <td>1-29 months</td>\n",
       "      <td>17 mph or less</td>\n",
       "      <td>22</td>\n",
       "      <td>Car</td>\n",
       "      <td>4</td>\n",
       "      <td>0</td>\n",
       "    </tr>\n",
       "    <tr>\n",
       "      <th>3</th>\n",
       "      <td>Over 30 miles</td>\n",
       "      <td>0-30 minutes</td>\n",
       "      <td>60-131 months</td>\n",
       "      <td>Over 30 mph</td>\n",
       "      <td>26</td>\n",
       "      <td>Public transport</td>\n",
       "      <td>4</td>\n",
       "      <td>0</td>\n",
       "    </tr>\n",
       "    <tr>\n",
       "      <th>4</th>\n",
       "      <td>16-30 miles</td>\n",
       "      <td>0-30 minutes</td>\n",
       "      <td>60-131 months</td>\n",
       "      <td>17 mph or less</td>\n",
       "      <td>21</td>\n",
       "      <td>Public transport</td>\n",
       "      <td>3</td>\n",
       "      <td>0</td>\n",
       "    </tr>\n",
       "  </tbody>\n",
       "</table>\n",
       "</div>"
      ],
      "text/plain": [
       "        Distance         Duration           Time       Impedance  Stress  \\\n",
       "0     6-15 miles     0-30 minutes   30-60 months     Over 30 mph      19   \n",
       "1    16-30 miles  Over 60 minutes   30-60 months     17.3-30 mph      26   \n",
       "2  Over 30 miles     0-30 minutes    1-29 months  17 mph or less      22   \n",
       "3  Over 30 miles     0-30 minutes  60-131 months     Over 30 mph      26   \n",
       "4    16-30 miles     0-30 minutes  60-131 months  17 mph or less      21   \n",
       "\n",
       "          Transport  Distance Score  Duration Score  \n",
       "0               Car               2               0  \n",
       "1               Car               3               2  \n",
       "2               Car               4               0  \n",
       "3  Public transport               4               0  \n",
       "4  Public transport               3               0  "
      ]
     },
     "execution_count": 93,
     "metadata": {},
     "output_type": "execute_result"
    }
   ],
   "source": [
    "# find all values in duration that are '0.5' and set it to 0 in the duration score column etc...\n",
    "# the shorter the commute duration the less stress\n",
    "df.loc[df['Duration'] == '0-30 minutes', 'Duration Score'] = 0\n",
    "df.loc[df['Duration'] == '30-60 minutes', 'Duration Score'] = 1\n",
    "df.loc[df['Duration'] == 'Over 60 minutes', 'Duration Score'] = 2\n",
    "# check the first few rows\n",
    "df.head()"
   ]
  },
  {
   "cell_type": "code",
   "execution_count": 94,
   "metadata": {},
   "outputs": [
    {
     "data": {
      "text/html": [
       "<div>\n",
       "<style scoped>\n",
       "    .dataframe tbody tr th:only-of-type {\n",
       "        vertical-align: middle;\n",
       "    }\n",
       "\n",
       "    .dataframe tbody tr th {\n",
       "        vertical-align: top;\n",
       "    }\n",
       "\n",
       "    .dataframe thead th {\n",
       "        text-align: right;\n",
       "    }\n",
       "</style>\n",
       "<table border=\"1\" class=\"dataframe\">\n",
       "  <thead>\n",
       "    <tr style=\"text-align: right;\">\n",
       "      <th></th>\n",
       "      <th>Distance</th>\n",
       "      <th>Duration</th>\n",
       "      <th>Time</th>\n",
       "      <th>Impedance</th>\n",
       "      <th>Stress</th>\n",
       "      <th>Transport</th>\n",
       "      <th>Distance Score</th>\n",
       "      <th>Duration Score</th>\n",
       "    </tr>\n",
       "  </thead>\n",
       "  <tbody>\n",
       "    <tr>\n",
       "      <th>0</th>\n",
       "      <td>6-15 miles</td>\n",
       "      <td>0-30 minutes</td>\n",
       "      <td>30-60 months</td>\n",
       "      <td>Over 30 mph</td>\n",
       "      <td>19</td>\n",
       "      <td>Car</td>\n",
       "      <td>2</td>\n",
       "      <td>0</td>\n",
       "    </tr>\n",
       "    <tr>\n",
       "      <th>1</th>\n",
       "      <td>16-30 miles</td>\n",
       "      <td>Over 60 minutes</td>\n",
       "      <td>30-60 months</td>\n",
       "      <td>17.3-30 mph</td>\n",
       "      <td>28</td>\n",
       "      <td>Car</td>\n",
       "      <td>3</td>\n",
       "      <td>2</td>\n",
       "    </tr>\n",
       "    <tr>\n",
       "      <th>2</th>\n",
       "      <td>Over 30 miles</td>\n",
       "      <td>0-30 minutes</td>\n",
       "      <td>1-29 months</td>\n",
       "      <td>17 mph or less</td>\n",
       "      <td>22</td>\n",
       "      <td>Car</td>\n",
       "      <td>4</td>\n",
       "      <td>0</td>\n",
       "    </tr>\n",
       "    <tr>\n",
       "      <th>3</th>\n",
       "      <td>Over 30 miles</td>\n",
       "      <td>0-30 minutes</td>\n",
       "      <td>60-131 months</td>\n",
       "      <td>Over 30 mph</td>\n",
       "      <td>26</td>\n",
       "      <td>Public transport</td>\n",
       "      <td>4</td>\n",
       "      <td>0</td>\n",
       "    </tr>\n",
       "    <tr>\n",
       "      <th>4</th>\n",
       "      <td>16-30 miles</td>\n",
       "      <td>0-30 minutes</td>\n",
       "      <td>60-131 months</td>\n",
       "      <td>17 mph or less</td>\n",
       "      <td>21</td>\n",
       "      <td>Public transport</td>\n",
       "      <td>3</td>\n",
       "      <td>0</td>\n",
       "    </tr>\n",
       "  </tbody>\n",
       "</table>\n",
       "</div>"
      ],
      "text/plain": [
       "        Distance         Duration           Time       Impedance  Stress  \\\n",
       "0     6-15 miles     0-30 minutes   30-60 months     Over 30 mph      19   \n",
       "1    16-30 miles  Over 60 minutes   30-60 months     17.3-30 mph      28   \n",
       "2  Over 30 miles     0-30 minutes    1-29 months  17 mph or less      22   \n",
       "3  Over 30 miles     0-30 minutes  60-131 months     Over 30 mph      26   \n",
       "4    16-30 miles     0-30 minutes  60-131 months  17 mph or less      21   \n",
       "\n",
       "          Transport  Distance Score  Duration Score  \n",
       "0               Car               2               0  \n",
       "1               Car               3               2  \n",
       "2               Car               4               0  \n",
       "3  Public transport               4               0  \n",
       "4  Public transport               3               0  "
      ]
     },
     "execution_count": 94,
     "metadata": {},
     "output_type": "execute_result"
    }
   ],
   "source": [
    "# add the duration score to the stress value\n",
    "df['Stress'] = df['Stress'] + df['Duration Score']\n",
    "df.head()"
   ]
  },
  {
   "cell_type": "markdown",
   "metadata": {},
   "source": [
    "##### Impedance\n",
    "Similar to distance and duration, impedance is correlated to stress levels as it is linked to the speed taken to make the commute. Hence slower speeds increases stress levels. As this was the greatest indicator in Cassidy's report higher weightings were given to this. There were three impedance bands, Over 30 mph was rated as 2, 17.3-30 mph was rated as 4 and 17 mph or less was rated as 6. "
   ]
  },
  {
   "cell_type": "code",
   "execution_count": 95,
   "metadata": {},
   "outputs": [
    {
     "data": {
      "text/html": [
       "<div>\n",
       "<style scoped>\n",
       "    .dataframe tbody tr th:only-of-type {\n",
       "        vertical-align: middle;\n",
       "    }\n",
       "\n",
       "    .dataframe tbody tr th {\n",
       "        vertical-align: top;\n",
       "    }\n",
       "\n",
       "    .dataframe thead th {\n",
       "        text-align: right;\n",
       "    }\n",
       "</style>\n",
       "<table border=\"1\" class=\"dataframe\">\n",
       "  <thead>\n",
       "    <tr style=\"text-align: right;\">\n",
       "      <th></th>\n",
       "      <th>Distance</th>\n",
       "      <th>Duration</th>\n",
       "      <th>Time</th>\n",
       "      <th>Impedance</th>\n",
       "      <th>Stress</th>\n",
       "      <th>Transport</th>\n",
       "      <th>Distance Score</th>\n",
       "      <th>Duration Score</th>\n",
       "      <th>Impedance Score</th>\n",
       "    </tr>\n",
       "  </thead>\n",
       "  <tbody>\n",
       "    <tr>\n",
       "      <th>0</th>\n",
       "      <td>6-15 miles</td>\n",
       "      <td>0-30 minutes</td>\n",
       "      <td>30-60 months</td>\n",
       "      <td>Over 30 mph</td>\n",
       "      <td>19</td>\n",
       "      <td>Car</td>\n",
       "      <td>2</td>\n",
       "      <td>0</td>\n",
       "      <td>Over 30 mph</td>\n",
       "    </tr>\n",
       "    <tr>\n",
       "      <th>1</th>\n",
       "      <td>16-30 miles</td>\n",
       "      <td>Over 60 minutes</td>\n",
       "      <td>30-60 months</td>\n",
       "      <td>17.3-30 mph</td>\n",
       "      <td>28</td>\n",
       "      <td>Car</td>\n",
       "      <td>3</td>\n",
       "      <td>2</td>\n",
       "      <td>17.3-30 mph</td>\n",
       "    </tr>\n",
       "    <tr>\n",
       "      <th>2</th>\n",
       "      <td>Over 30 miles</td>\n",
       "      <td>0-30 minutes</td>\n",
       "      <td>1-29 months</td>\n",
       "      <td>17 mph or less</td>\n",
       "      <td>22</td>\n",
       "      <td>Car</td>\n",
       "      <td>4</td>\n",
       "      <td>0</td>\n",
       "      <td>17 mph or less</td>\n",
       "    </tr>\n",
       "    <tr>\n",
       "      <th>3</th>\n",
       "      <td>Over 30 miles</td>\n",
       "      <td>0-30 minutes</td>\n",
       "      <td>60-131 months</td>\n",
       "      <td>Over 30 mph</td>\n",
       "      <td>26</td>\n",
       "      <td>Public transport</td>\n",
       "      <td>4</td>\n",
       "      <td>0</td>\n",
       "      <td>Over 30 mph</td>\n",
       "    </tr>\n",
       "    <tr>\n",
       "      <th>4</th>\n",
       "      <td>16-30 miles</td>\n",
       "      <td>0-30 minutes</td>\n",
       "      <td>60-131 months</td>\n",
       "      <td>17 mph or less</td>\n",
       "      <td>21</td>\n",
       "      <td>Public transport</td>\n",
       "      <td>3</td>\n",
       "      <td>0</td>\n",
       "      <td>17 mph or less</td>\n",
       "    </tr>\n",
       "  </tbody>\n",
       "</table>\n",
       "</div>"
      ],
      "text/plain": [
       "        Distance         Duration           Time       Impedance  Stress  \\\n",
       "0     6-15 miles     0-30 minutes   30-60 months     Over 30 mph      19   \n",
       "1    16-30 miles  Over 60 minutes   30-60 months     17.3-30 mph      28   \n",
       "2  Over 30 miles     0-30 minutes    1-29 months  17 mph or less      22   \n",
       "3  Over 30 miles     0-30 minutes  60-131 months     Over 30 mph      26   \n",
       "4    16-30 miles     0-30 minutes  60-131 months  17 mph or less      21   \n",
       "\n",
       "          Transport  Distance Score  Duration Score Impedance Score  \n",
       "0               Car               2               0     Over 30 mph  \n",
       "1               Car               3               2     17.3-30 mph  \n",
       "2               Car               4               0  17 mph or less  \n",
       "3  Public transport               4               0     Over 30 mph  \n",
       "4  Public transport               3               0  17 mph or less  "
      ]
     },
     "execution_count": 95,
     "metadata": {},
     "output_type": "execute_result"
    }
   ],
   "source": [
    "# Score impedance\n",
    "# take a copy of the impendace data and put it in a new column\n",
    "df['Impedance Score'] = df['Impedance']\n",
    "# check the first few values\n",
    "df.head()       "
   ]
  },
  {
   "cell_type": "code",
   "execution_count": 96,
   "metadata": {},
   "outputs": [
    {
     "data": {
      "text/html": [
       "<div>\n",
       "<style scoped>\n",
       "    .dataframe tbody tr th:only-of-type {\n",
       "        vertical-align: middle;\n",
       "    }\n",
       "\n",
       "    .dataframe tbody tr th {\n",
       "        vertical-align: top;\n",
       "    }\n",
       "\n",
       "    .dataframe thead th {\n",
       "        text-align: right;\n",
       "    }\n",
       "</style>\n",
       "<table border=\"1\" class=\"dataframe\">\n",
       "  <thead>\n",
       "    <tr style=\"text-align: right;\">\n",
       "      <th></th>\n",
       "      <th>Distance</th>\n",
       "      <th>Duration</th>\n",
       "      <th>Time</th>\n",
       "      <th>Impedance</th>\n",
       "      <th>Stress</th>\n",
       "      <th>Transport</th>\n",
       "      <th>Distance Score</th>\n",
       "      <th>Duration Score</th>\n",
       "      <th>Impedance Score</th>\n",
       "    </tr>\n",
       "  </thead>\n",
       "  <tbody>\n",
       "    <tr>\n",
       "      <th>0</th>\n",
       "      <td>6-15 miles</td>\n",
       "      <td>0-30 minutes</td>\n",
       "      <td>30-60 months</td>\n",
       "      <td>Over 30 mph</td>\n",
       "      <td>19</td>\n",
       "      <td>Car</td>\n",
       "      <td>2</td>\n",
       "      <td>0</td>\n",
       "      <td>0</td>\n",
       "    </tr>\n",
       "    <tr>\n",
       "      <th>1</th>\n",
       "      <td>16-30 miles</td>\n",
       "      <td>Over 60 minutes</td>\n",
       "      <td>30-60 months</td>\n",
       "      <td>17.3-30 mph</td>\n",
       "      <td>28</td>\n",
       "      <td>Car</td>\n",
       "      <td>3</td>\n",
       "      <td>2</td>\n",
       "      <td>1</td>\n",
       "    </tr>\n",
       "    <tr>\n",
       "      <th>2</th>\n",
       "      <td>Over 30 miles</td>\n",
       "      <td>0-30 minutes</td>\n",
       "      <td>1-29 months</td>\n",
       "      <td>17 mph or less</td>\n",
       "      <td>22</td>\n",
       "      <td>Car</td>\n",
       "      <td>4</td>\n",
       "      <td>0</td>\n",
       "      <td>2</td>\n",
       "    </tr>\n",
       "    <tr>\n",
       "      <th>3</th>\n",
       "      <td>Over 30 miles</td>\n",
       "      <td>0-30 minutes</td>\n",
       "      <td>60-131 months</td>\n",
       "      <td>Over 30 mph</td>\n",
       "      <td>26</td>\n",
       "      <td>Public transport</td>\n",
       "      <td>4</td>\n",
       "      <td>0</td>\n",
       "      <td>0</td>\n",
       "    </tr>\n",
       "    <tr>\n",
       "      <th>4</th>\n",
       "      <td>16-30 miles</td>\n",
       "      <td>0-30 minutes</td>\n",
       "      <td>60-131 months</td>\n",
       "      <td>17 mph or less</td>\n",
       "      <td>21</td>\n",
       "      <td>Public transport</td>\n",
       "      <td>3</td>\n",
       "      <td>0</td>\n",
       "      <td>2</td>\n",
       "    </tr>\n",
       "  </tbody>\n",
       "</table>\n",
       "</div>"
      ],
      "text/plain": [
       "        Distance         Duration           Time       Impedance  Stress  \\\n",
       "0     6-15 miles     0-30 minutes   30-60 months     Over 30 mph      19   \n",
       "1    16-30 miles  Over 60 minutes   30-60 months     17.3-30 mph      28   \n",
       "2  Over 30 miles     0-30 minutes    1-29 months  17 mph or less      22   \n",
       "3  Over 30 miles     0-30 minutes  60-131 months     Over 30 mph      26   \n",
       "4    16-30 miles     0-30 minutes  60-131 months  17 mph or less      21   \n",
       "\n",
       "          Transport  Distance Score  Duration Score  Impedance Score  \n",
       "0               Car               2               0                0  \n",
       "1               Car               3               2                1  \n",
       "2               Car               4               0                2  \n",
       "3  Public transport               4               0                0  \n",
       "4  Public transport               3               0                2  "
      ]
     },
     "execution_count": 96,
     "metadata": {},
     "output_type": "execute_result"
    }
   ],
   "source": [
    "# find all values in impendace that are '17 mph or less' and set it to 2 in the impedance score column\n",
    "# the slower the speed the more the stress\n",
    "df.loc[df['Impedance'] == '17 mph or less', 'Impedance Score'] = 2\n",
    "df.loc[df['Impedance'] == '17.3-30 mph', 'Impedance Score'] = 1\n",
    "df.loc[df['Impedance'] == 'Over 30 mph', 'Impedance Score'] = 0\n",
    "# check the first few values\n",
    "df.head()"
   ]
  },
  {
   "cell_type": "code",
   "execution_count": 97,
   "metadata": {},
   "outputs": [
    {
     "data": {
      "text/html": [
       "<div>\n",
       "<style scoped>\n",
       "    .dataframe tbody tr th:only-of-type {\n",
       "        vertical-align: middle;\n",
       "    }\n",
       "\n",
       "    .dataframe tbody tr th {\n",
       "        vertical-align: top;\n",
       "    }\n",
       "\n",
       "    .dataframe thead th {\n",
       "        text-align: right;\n",
       "    }\n",
       "</style>\n",
       "<table border=\"1\" class=\"dataframe\">\n",
       "  <thead>\n",
       "    <tr style=\"text-align: right;\">\n",
       "      <th></th>\n",
       "      <th>Distance</th>\n",
       "      <th>Duration</th>\n",
       "      <th>Time</th>\n",
       "      <th>Impedance</th>\n",
       "      <th>Stress</th>\n",
       "      <th>Transport</th>\n",
       "      <th>Distance Score</th>\n",
       "      <th>Duration Score</th>\n",
       "      <th>Impedance Score</th>\n",
       "    </tr>\n",
       "  </thead>\n",
       "  <tbody>\n",
       "    <tr>\n",
       "      <th>0</th>\n",
       "      <td>6-15 miles</td>\n",
       "      <td>0-30 minutes</td>\n",
       "      <td>30-60 months</td>\n",
       "      <td>Over 30 mph</td>\n",
       "      <td>19</td>\n",
       "      <td>Car</td>\n",
       "      <td>2</td>\n",
       "      <td>0</td>\n",
       "      <td>0</td>\n",
       "    </tr>\n",
       "    <tr>\n",
       "      <th>1</th>\n",
       "      <td>16-30 miles</td>\n",
       "      <td>Over 60 minutes</td>\n",
       "      <td>30-60 months</td>\n",
       "      <td>17.3-30 mph</td>\n",
       "      <td>29</td>\n",
       "      <td>Car</td>\n",
       "      <td>3</td>\n",
       "      <td>2</td>\n",
       "      <td>1</td>\n",
       "    </tr>\n",
       "    <tr>\n",
       "      <th>2</th>\n",
       "      <td>Over 30 miles</td>\n",
       "      <td>0-30 minutes</td>\n",
       "      <td>1-29 months</td>\n",
       "      <td>17 mph or less</td>\n",
       "      <td>24</td>\n",
       "      <td>Car</td>\n",
       "      <td>4</td>\n",
       "      <td>0</td>\n",
       "      <td>2</td>\n",
       "    </tr>\n",
       "    <tr>\n",
       "      <th>3</th>\n",
       "      <td>Over 30 miles</td>\n",
       "      <td>0-30 minutes</td>\n",
       "      <td>60-131 months</td>\n",
       "      <td>Over 30 mph</td>\n",
       "      <td>26</td>\n",
       "      <td>Public transport</td>\n",
       "      <td>4</td>\n",
       "      <td>0</td>\n",
       "      <td>0</td>\n",
       "    </tr>\n",
       "    <tr>\n",
       "      <th>4</th>\n",
       "      <td>16-30 miles</td>\n",
       "      <td>0-30 minutes</td>\n",
       "      <td>60-131 months</td>\n",
       "      <td>17 mph or less</td>\n",
       "      <td>23</td>\n",
       "      <td>Public transport</td>\n",
       "      <td>3</td>\n",
       "      <td>0</td>\n",
       "      <td>2</td>\n",
       "    </tr>\n",
       "  </tbody>\n",
       "</table>\n",
       "</div>"
      ],
      "text/plain": [
       "        Distance         Duration           Time       Impedance  Stress  \\\n",
       "0     6-15 miles     0-30 minutes   30-60 months     Over 30 mph      19   \n",
       "1    16-30 miles  Over 60 minutes   30-60 months     17.3-30 mph      29   \n",
       "2  Over 30 miles     0-30 minutes    1-29 months  17 mph or less      24   \n",
       "3  Over 30 miles     0-30 minutes  60-131 months     Over 30 mph      26   \n",
       "4    16-30 miles     0-30 minutes  60-131 months  17 mph or less      23   \n",
       "\n",
       "          Transport  Distance Score  Duration Score  Impedance Score  \n",
       "0               Car               2               0                0  \n",
       "1               Car               3               2                1  \n",
       "2               Car               4               0                2  \n",
       "3  Public transport               4               0                0  \n",
       "4  Public transport               3               0                2  "
      ]
     },
     "execution_count": 97,
     "metadata": {},
     "output_type": "execute_result"
    }
   ],
   "source": [
    "# add the impedance score to the stress value\n",
    "df['Stress'] = df['Stress'] + df['Impedance Score']\n",
    "# check it\n",
    "df.head()"
   ]
  },
  {
   "cell_type": "markdown",
   "metadata": {},
   "source": [
    "##### Time\n",
    "Schneider as cited in Schaefer 2005 noted that long time commuters of long distances reported negative impact in many areas of their life. Ideally this variable should also be linked to increasing distances however for simplicity it is treated independently. There were four bands in this variable, a rating of 1 was given to the shortest band 1-29 months; a rating of 2 was given to the 30-60 months band; A rating of 3 was given to the 60-131 months band and a rating of 4 was given to the over 132 months band. "
   ]
  },
  {
   "cell_type": "code",
   "execution_count": 98,
   "metadata": {},
   "outputs": [
    {
     "data": {
      "text/html": [
       "<div>\n",
       "<style scoped>\n",
       "    .dataframe tbody tr th:only-of-type {\n",
       "        vertical-align: middle;\n",
       "    }\n",
       "\n",
       "    .dataframe tbody tr th {\n",
       "        vertical-align: top;\n",
       "    }\n",
       "\n",
       "    .dataframe thead th {\n",
       "        text-align: right;\n",
       "    }\n",
       "</style>\n",
       "<table border=\"1\" class=\"dataframe\">\n",
       "  <thead>\n",
       "    <tr style=\"text-align: right;\">\n",
       "      <th></th>\n",
       "      <th>Distance</th>\n",
       "      <th>Duration</th>\n",
       "      <th>Time</th>\n",
       "      <th>Impedance</th>\n",
       "      <th>Stress</th>\n",
       "      <th>Transport</th>\n",
       "      <th>Distance Score</th>\n",
       "      <th>Duration Score</th>\n",
       "      <th>Impedance Score</th>\n",
       "      <th>Time Score</th>\n",
       "    </tr>\n",
       "  </thead>\n",
       "  <tbody>\n",
       "    <tr>\n",
       "      <th>0</th>\n",
       "      <td>6-15 miles</td>\n",
       "      <td>0-30 minutes</td>\n",
       "      <td>30-60 months</td>\n",
       "      <td>Over 30 mph</td>\n",
       "      <td>19</td>\n",
       "      <td>Car</td>\n",
       "      <td>2</td>\n",
       "      <td>0</td>\n",
       "      <td>0</td>\n",
       "      <td>30-60 months</td>\n",
       "    </tr>\n",
       "    <tr>\n",
       "      <th>1</th>\n",
       "      <td>16-30 miles</td>\n",
       "      <td>Over 60 minutes</td>\n",
       "      <td>30-60 months</td>\n",
       "      <td>17.3-30 mph</td>\n",
       "      <td>29</td>\n",
       "      <td>Car</td>\n",
       "      <td>3</td>\n",
       "      <td>2</td>\n",
       "      <td>1</td>\n",
       "      <td>30-60 months</td>\n",
       "    </tr>\n",
       "    <tr>\n",
       "      <th>2</th>\n",
       "      <td>Over 30 miles</td>\n",
       "      <td>0-30 minutes</td>\n",
       "      <td>1-29 months</td>\n",
       "      <td>17 mph or less</td>\n",
       "      <td>24</td>\n",
       "      <td>Car</td>\n",
       "      <td>4</td>\n",
       "      <td>0</td>\n",
       "      <td>2</td>\n",
       "      <td>1-29 months</td>\n",
       "    </tr>\n",
       "    <tr>\n",
       "      <th>3</th>\n",
       "      <td>Over 30 miles</td>\n",
       "      <td>0-30 minutes</td>\n",
       "      <td>60-131 months</td>\n",
       "      <td>Over 30 mph</td>\n",
       "      <td>26</td>\n",
       "      <td>Public transport</td>\n",
       "      <td>4</td>\n",
       "      <td>0</td>\n",
       "      <td>0</td>\n",
       "      <td>60-131 months</td>\n",
       "    </tr>\n",
       "    <tr>\n",
       "      <th>4</th>\n",
       "      <td>16-30 miles</td>\n",
       "      <td>0-30 minutes</td>\n",
       "      <td>60-131 months</td>\n",
       "      <td>17 mph or less</td>\n",
       "      <td>23</td>\n",
       "      <td>Public transport</td>\n",
       "      <td>3</td>\n",
       "      <td>0</td>\n",
       "      <td>2</td>\n",
       "      <td>60-131 months</td>\n",
       "    </tr>\n",
       "  </tbody>\n",
       "</table>\n",
       "</div>"
      ],
      "text/plain": [
       "        Distance         Duration           Time       Impedance  Stress  \\\n",
       "0     6-15 miles     0-30 minutes   30-60 months     Over 30 mph      19   \n",
       "1    16-30 miles  Over 60 minutes   30-60 months     17.3-30 mph      29   \n",
       "2  Over 30 miles     0-30 minutes    1-29 months  17 mph or less      24   \n",
       "3  Over 30 miles     0-30 minutes  60-131 months     Over 30 mph      26   \n",
       "4    16-30 miles     0-30 minutes  60-131 months  17 mph or less      23   \n",
       "\n",
       "          Transport  Distance Score  Duration Score  Impedance Score  \\\n",
       "0               Car               2               0                0   \n",
       "1               Car               3               2                1   \n",
       "2               Car               4               0                2   \n",
       "3  Public transport               4               0                0   \n",
       "4  Public transport               3               0                2   \n",
       "\n",
       "      Time Score  \n",
       "0   30-60 months  \n",
       "1   30-60 months  \n",
       "2    1-29 months  \n",
       "3  60-131 months  \n",
       "4  60-131 months  "
      ]
     },
     "execution_count": 98,
     "metadata": {},
     "output_type": "execute_result"
    }
   ],
   "source": [
    "# Score time\n",
    "# take a copy of the time data and put it in a new column\n",
    "df['Time Score'] = df['Time']\n",
    "# check the first few values\n",
    "df.head()"
   ]
  },
  {
   "cell_type": "code",
   "execution_count": 99,
   "metadata": {},
   "outputs": [
    {
     "data": {
      "text/html": [
       "<div>\n",
       "<style scoped>\n",
       "    .dataframe tbody tr th:only-of-type {\n",
       "        vertical-align: middle;\n",
       "    }\n",
       "\n",
       "    .dataframe tbody tr th {\n",
       "        vertical-align: top;\n",
       "    }\n",
       "\n",
       "    .dataframe thead th {\n",
       "        text-align: right;\n",
       "    }\n",
       "</style>\n",
       "<table border=\"1\" class=\"dataframe\">\n",
       "  <thead>\n",
       "    <tr style=\"text-align: right;\">\n",
       "      <th></th>\n",
       "      <th>Distance</th>\n",
       "      <th>Duration</th>\n",
       "      <th>Time</th>\n",
       "      <th>Impedance</th>\n",
       "      <th>Stress</th>\n",
       "      <th>Transport</th>\n",
       "      <th>Distance Score</th>\n",
       "      <th>Duration Score</th>\n",
       "      <th>Impedance Score</th>\n",
       "      <th>Time Score</th>\n",
       "    </tr>\n",
       "  </thead>\n",
       "  <tbody>\n",
       "    <tr>\n",
       "      <th>0</th>\n",
       "      <td>6-15 miles</td>\n",
       "      <td>0-30 minutes</td>\n",
       "      <td>30-60 months</td>\n",
       "      <td>Over 30 mph</td>\n",
       "      <td>19</td>\n",
       "      <td>Car</td>\n",
       "      <td>2</td>\n",
       "      <td>0</td>\n",
       "      <td>0</td>\n",
       "      <td>1</td>\n",
       "    </tr>\n",
       "    <tr>\n",
       "      <th>1</th>\n",
       "      <td>16-30 miles</td>\n",
       "      <td>Over 60 minutes</td>\n",
       "      <td>30-60 months</td>\n",
       "      <td>17.3-30 mph</td>\n",
       "      <td>29</td>\n",
       "      <td>Car</td>\n",
       "      <td>3</td>\n",
       "      <td>2</td>\n",
       "      <td>1</td>\n",
       "      <td>1</td>\n",
       "    </tr>\n",
       "    <tr>\n",
       "      <th>2</th>\n",
       "      <td>Over 30 miles</td>\n",
       "      <td>0-30 minutes</td>\n",
       "      <td>1-29 months</td>\n",
       "      <td>17 mph or less</td>\n",
       "      <td>24</td>\n",
       "      <td>Car</td>\n",
       "      <td>4</td>\n",
       "      <td>0</td>\n",
       "      <td>2</td>\n",
       "      <td>0</td>\n",
       "    </tr>\n",
       "    <tr>\n",
       "      <th>3</th>\n",
       "      <td>Over 30 miles</td>\n",
       "      <td>0-30 minutes</td>\n",
       "      <td>60-131 months</td>\n",
       "      <td>Over 30 mph</td>\n",
       "      <td>26</td>\n",
       "      <td>Public transport</td>\n",
       "      <td>4</td>\n",
       "      <td>0</td>\n",
       "      <td>0</td>\n",
       "      <td>2</td>\n",
       "    </tr>\n",
       "    <tr>\n",
       "      <th>4</th>\n",
       "      <td>16-30 miles</td>\n",
       "      <td>0-30 minutes</td>\n",
       "      <td>60-131 months</td>\n",
       "      <td>17 mph or less</td>\n",
       "      <td>23</td>\n",
       "      <td>Public transport</td>\n",
       "      <td>3</td>\n",
       "      <td>0</td>\n",
       "      <td>2</td>\n",
       "      <td>2</td>\n",
       "    </tr>\n",
       "  </tbody>\n",
       "</table>\n",
       "</div>"
      ],
      "text/plain": [
       "        Distance         Duration           Time       Impedance  Stress  \\\n",
       "0     6-15 miles     0-30 minutes   30-60 months     Over 30 mph      19   \n",
       "1    16-30 miles  Over 60 minutes   30-60 months     17.3-30 mph      29   \n",
       "2  Over 30 miles     0-30 minutes    1-29 months  17 mph or less      24   \n",
       "3  Over 30 miles     0-30 minutes  60-131 months     Over 30 mph      26   \n",
       "4    16-30 miles     0-30 minutes  60-131 months  17 mph or less      23   \n",
       "\n",
       "          Transport  Distance Score  Duration Score  Impedance Score  \\\n",
       "0               Car               2               0                0   \n",
       "1               Car               3               2                1   \n",
       "2               Car               4               0                2   \n",
       "3  Public transport               4               0                0   \n",
       "4  Public transport               3               0                2   \n",
       "\n",
       "   Time Score  \n",
       "0           1  \n",
       "1           1  \n",
       "2           0  \n",
       "3           2  \n",
       "4           2  "
      ]
     },
     "execution_count": 99,
     "metadata": {},
     "output_type": "execute_result"
    }
   ],
   "source": [
    "# find all values in time that are '1-29 months' and set it to 0 in the time score column etc...\n",
    "df.loc[df['Time'] == '1-29 months', 'Time Score'] = 0\n",
    "df.loc[df['Time'] == '30-60 months', 'Time Score'] = 1\n",
    "df.loc[df['Time'] == '60-131 months', 'Time Score'] = 2\n",
    "df.loc[df['Time'] == 'Over 132 months', 'Time Score'] = 3\n",
    "# check the first few values\n",
    "df.head()"
   ]
  },
  {
   "cell_type": "code",
   "execution_count": 100,
   "metadata": {},
   "outputs": [
    {
     "data": {
      "text/html": [
       "<div>\n",
       "<style scoped>\n",
       "    .dataframe tbody tr th:only-of-type {\n",
       "        vertical-align: middle;\n",
       "    }\n",
       "\n",
       "    .dataframe tbody tr th {\n",
       "        vertical-align: top;\n",
       "    }\n",
       "\n",
       "    .dataframe thead th {\n",
       "        text-align: right;\n",
       "    }\n",
       "</style>\n",
       "<table border=\"1\" class=\"dataframe\">\n",
       "  <thead>\n",
       "    <tr style=\"text-align: right;\">\n",
       "      <th></th>\n",
       "      <th>Distance</th>\n",
       "      <th>Duration</th>\n",
       "      <th>Time</th>\n",
       "      <th>Impedance</th>\n",
       "      <th>Stress</th>\n",
       "      <th>Transport</th>\n",
       "      <th>Distance Score</th>\n",
       "      <th>Duration Score</th>\n",
       "      <th>Impedance Score</th>\n",
       "      <th>Time Score</th>\n",
       "    </tr>\n",
       "  </thead>\n",
       "  <tbody>\n",
       "    <tr>\n",
       "      <th>0</th>\n",
       "      <td>6-15 miles</td>\n",
       "      <td>0-30 minutes</td>\n",
       "      <td>30-60 months</td>\n",
       "      <td>Over 30 mph</td>\n",
       "      <td>20</td>\n",
       "      <td>Car</td>\n",
       "      <td>2</td>\n",
       "      <td>0</td>\n",
       "      <td>0</td>\n",
       "      <td>1</td>\n",
       "    </tr>\n",
       "    <tr>\n",
       "      <th>1</th>\n",
       "      <td>16-30 miles</td>\n",
       "      <td>Over 60 minutes</td>\n",
       "      <td>30-60 months</td>\n",
       "      <td>17.3-30 mph</td>\n",
       "      <td>30</td>\n",
       "      <td>Car</td>\n",
       "      <td>3</td>\n",
       "      <td>2</td>\n",
       "      <td>1</td>\n",
       "      <td>1</td>\n",
       "    </tr>\n",
       "    <tr>\n",
       "      <th>2</th>\n",
       "      <td>Over 30 miles</td>\n",
       "      <td>0-30 minutes</td>\n",
       "      <td>1-29 months</td>\n",
       "      <td>17 mph or less</td>\n",
       "      <td>24</td>\n",
       "      <td>Car</td>\n",
       "      <td>4</td>\n",
       "      <td>0</td>\n",
       "      <td>2</td>\n",
       "      <td>0</td>\n",
       "    </tr>\n",
       "    <tr>\n",
       "      <th>3</th>\n",
       "      <td>Over 30 miles</td>\n",
       "      <td>0-30 minutes</td>\n",
       "      <td>60-131 months</td>\n",
       "      <td>Over 30 mph</td>\n",
       "      <td>28</td>\n",
       "      <td>Public transport</td>\n",
       "      <td>4</td>\n",
       "      <td>0</td>\n",
       "      <td>0</td>\n",
       "      <td>2</td>\n",
       "    </tr>\n",
       "    <tr>\n",
       "      <th>4</th>\n",
       "      <td>16-30 miles</td>\n",
       "      <td>0-30 minutes</td>\n",
       "      <td>60-131 months</td>\n",
       "      <td>17 mph or less</td>\n",
       "      <td>25</td>\n",
       "      <td>Public transport</td>\n",
       "      <td>3</td>\n",
       "      <td>0</td>\n",
       "      <td>2</td>\n",
       "      <td>2</td>\n",
       "    </tr>\n",
       "  </tbody>\n",
       "</table>\n",
       "</div>"
      ],
      "text/plain": [
       "        Distance         Duration           Time       Impedance  Stress  \\\n",
       "0     6-15 miles     0-30 minutes   30-60 months     Over 30 mph      20   \n",
       "1    16-30 miles  Over 60 minutes   30-60 months     17.3-30 mph      30   \n",
       "2  Over 30 miles     0-30 minutes    1-29 months  17 mph or less      24   \n",
       "3  Over 30 miles     0-30 minutes  60-131 months     Over 30 mph      28   \n",
       "4    16-30 miles     0-30 minutes  60-131 months  17 mph or less      25   \n",
       "\n",
       "          Transport  Distance Score  Duration Score  Impedance Score  \\\n",
       "0               Car               2               0                0   \n",
       "1               Car               3               2                1   \n",
       "2               Car               4               0                2   \n",
       "3  Public transport               4               0                0   \n",
       "4  Public transport               3               0                2   \n",
       "\n",
       "   Time Score  \n",
       "0           1  \n",
       "1           1  \n",
       "2           0  \n",
       "3           2  \n",
       "4           2  "
      ]
     },
     "execution_count": 100,
     "metadata": {},
     "output_type": "execute_result"
    }
   ],
   "source": [
    "# add the time score to the stress value\n",
    "df['Stress'] = df['Stress'] + df['Time Score']\n",
    "# check the first few values\n",
    "df.head()"
   ]
  },
  {
   "cell_type": "code",
   "execution_count": null,
   "metadata": {},
   "outputs": [],
   "source": []
  },
  {
   "cell_type": "markdown",
   "metadata": {},
   "source": [
    "##### Transport\n",
    "There is conflicting evidence about the method of commuting and stress levels. Cassidy reported that car users have more positive and less negative commuting experience than those traveling by train (Costa et al as cited in Cassidy, 1992; Gulian et al as cited in Cassidy 1992). However there may be other factors going one such as locus of perceived control and agency. Schaeffer as cited in Cassidy 1992 found control  was positively linked to reduced stress levels and stress measures such as blood pressure. However Wener and Evans, (2011) found car commuters had significantly more perceived stress and low mood than other modes of transport. This may be due to changes in the number of commuters from 1992 to 2011. It was not clear which direction to rank the transport bands of car and public transport hence this variable was not added to the stress score. "
   ]
  },
  {
   "cell_type": "markdown",
   "metadata": {},
   "source": [
    "The maximum stress score should be 57 or under (40 for the PSS, 4 for Distance, 3 for duration, 4 for Time and 6 for Impedance). The minimum stress score should be 5 (0 for PSS, 1 for distance, 1 for duration, 1 for time and 2 for impedance) "
   ]
  },
  {
   "cell_type": "code",
   "execution_count": 102,
   "metadata": {},
   "outputs": [
    {
     "name": "stdout",
     "output_type": "stream",
     "text": [
      "The maximum possible score is  57\n",
      "The minimum possible score is  5\n"
     ]
    }
   ],
   "source": [
    "print(\"The maximum possible score is \", 40+4+3+4+6)\n",
    "print(\"The minimum possible score is \", 0+1+1+1+2)"
   ]
  },
  {
   "cell_type": "markdown",
   "metadata": {},
   "source": [
    "The intermediate columns in the dataframe can be removed once the Stress column is calculated."
   ]
  },
  {
   "cell_type": "code",
   "execution_count": 103,
   "metadata": {},
   "outputs": [
    {
     "data": {
      "text/html": [
       "<div>\n",
       "<style scoped>\n",
       "    .dataframe tbody tr th:only-of-type {\n",
       "        vertical-align: middle;\n",
       "    }\n",
       "\n",
       "    .dataframe tbody tr th {\n",
       "        vertical-align: top;\n",
       "    }\n",
       "\n",
       "    .dataframe thead th {\n",
       "        text-align: right;\n",
       "    }\n",
       "</style>\n",
       "<table border=\"1\" class=\"dataframe\">\n",
       "  <thead>\n",
       "    <tr style=\"text-align: right;\">\n",
       "      <th></th>\n",
       "      <th>Distance</th>\n",
       "      <th>Duration</th>\n",
       "      <th>Time</th>\n",
       "      <th>Impedance</th>\n",
       "      <th>Stress Score</th>\n",
       "      <th>Transport</th>\n",
       "    </tr>\n",
       "  </thead>\n",
       "  <tbody>\n",
       "    <tr>\n",
       "      <th>0</th>\n",
       "      <td>6-15 miles</td>\n",
       "      <td>0-30 minutes</td>\n",
       "      <td>30-60 months</td>\n",
       "      <td>Over 30 mph</td>\n",
       "      <td>20</td>\n",
       "      <td>Car</td>\n",
       "    </tr>\n",
       "    <tr>\n",
       "      <th>1</th>\n",
       "      <td>16-30 miles</td>\n",
       "      <td>Over 60 minutes</td>\n",
       "      <td>30-60 months</td>\n",
       "      <td>17.3-30 mph</td>\n",
       "      <td>30</td>\n",
       "      <td>Car</td>\n",
       "    </tr>\n",
       "    <tr>\n",
       "      <th>2</th>\n",
       "      <td>Over 30 miles</td>\n",
       "      <td>0-30 minutes</td>\n",
       "      <td>1-29 months</td>\n",
       "      <td>17 mph or less</td>\n",
       "      <td>24</td>\n",
       "      <td>Car</td>\n",
       "    </tr>\n",
       "    <tr>\n",
       "      <th>3</th>\n",
       "      <td>Over 30 miles</td>\n",
       "      <td>0-30 minutes</td>\n",
       "      <td>60-131 months</td>\n",
       "      <td>Over 30 mph</td>\n",
       "      <td>28</td>\n",
       "      <td>Public transport</td>\n",
       "    </tr>\n",
       "    <tr>\n",
       "      <th>4</th>\n",
       "      <td>16-30 miles</td>\n",
       "      <td>0-30 minutes</td>\n",
       "      <td>60-131 months</td>\n",
       "      <td>17 mph or less</td>\n",
       "      <td>25</td>\n",
       "      <td>Public transport</td>\n",
       "    </tr>\n",
       "  </tbody>\n",
       "</table>\n",
       "</div>"
      ],
      "text/plain": [
       "        Distance         Duration           Time       Impedance  \\\n",
       "0     6-15 miles     0-30 minutes   30-60 months     Over 30 mph   \n",
       "1    16-30 miles  Over 60 minutes   30-60 months     17.3-30 mph   \n",
       "2  Over 30 miles     0-30 minutes    1-29 months  17 mph or less   \n",
       "3  Over 30 miles     0-30 minutes  60-131 months     Over 30 mph   \n",
       "4    16-30 miles     0-30 minutes  60-131 months  17 mph or less   \n",
       "\n",
       "   Stress Score         Transport  \n",
       "0            20               Car  \n",
       "1            30               Car  \n",
       "2            24               Car  \n",
       "3            28  Public transport  \n",
       "4            25  Public transport  "
      ]
     },
     "execution_count": 103,
     "metadata": {},
     "output_type": "execute_result"
    }
   ],
   "source": [
    "# drop variable score values as they are now in the stress column\n",
    "df.drop(['Impedance Score', 'Distance Score', 'Duration Score', 'Time Score'], axis=1, inplace = True)\n",
    "# rename Stress as Stress Score\n",
    "df.rename(columns={'Stress': 'Stress Score'}, inplace = True)\n",
    "df.head()\n"
   ]
  },
  {
   "cell_type": "markdown",
   "metadata": {},
   "source": [
    "The method of transport is not used in the calculations of the stress variable so it can be dropped from the dataframe."
   ]
  },
  {
   "cell_type": "code",
   "execution_count": 104,
   "metadata": {},
   "outputs": [
    {
     "data": {
      "text/html": [
       "<div>\n",
       "<style scoped>\n",
       "    .dataframe tbody tr th:only-of-type {\n",
       "        vertical-align: middle;\n",
       "    }\n",
       "\n",
       "    .dataframe tbody tr th {\n",
       "        vertical-align: top;\n",
       "    }\n",
       "\n",
       "    .dataframe thead th {\n",
       "        text-align: right;\n",
       "    }\n",
       "</style>\n",
       "<table border=\"1\" class=\"dataframe\">\n",
       "  <thead>\n",
       "    <tr style=\"text-align: right;\">\n",
       "      <th></th>\n",
       "      <th>Distance</th>\n",
       "      <th>Duration</th>\n",
       "      <th>Time</th>\n",
       "      <th>Impedance</th>\n",
       "      <th>Stress Score</th>\n",
       "    </tr>\n",
       "  </thead>\n",
       "  <tbody>\n",
       "    <tr>\n",
       "      <th>0</th>\n",
       "      <td>6-15 miles</td>\n",
       "      <td>0-30 minutes</td>\n",
       "      <td>30-60 months</td>\n",
       "      <td>Over 30 mph</td>\n",
       "      <td>20</td>\n",
       "    </tr>\n",
       "    <tr>\n",
       "      <th>1</th>\n",
       "      <td>16-30 miles</td>\n",
       "      <td>Over 60 minutes</td>\n",
       "      <td>30-60 months</td>\n",
       "      <td>17.3-30 mph</td>\n",
       "      <td>30</td>\n",
       "    </tr>\n",
       "    <tr>\n",
       "      <th>2</th>\n",
       "      <td>Over 30 miles</td>\n",
       "      <td>0-30 minutes</td>\n",
       "      <td>1-29 months</td>\n",
       "      <td>17 mph or less</td>\n",
       "      <td>24</td>\n",
       "    </tr>\n",
       "    <tr>\n",
       "      <th>3</th>\n",
       "      <td>Over 30 miles</td>\n",
       "      <td>0-30 minutes</td>\n",
       "      <td>60-131 months</td>\n",
       "      <td>Over 30 mph</td>\n",
       "      <td>28</td>\n",
       "    </tr>\n",
       "    <tr>\n",
       "      <th>4</th>\n",
       "      <td>16-30 miles</td>\n",
       "      <td>0-30 minutes</td>\n",
       "      <td>60-131 months</td>\n",
       "      <td>17 mph or less</td>\n",
       "      <td>25</td>\n",
       "    </tr>\n",
       "  </tbody>\n",
       "</table>\n",
       "</div>"
      ],
      "text/plain": [
       "        Distance         Duration           Time       Impedance  Stress Score\n",
       "0     6-15 miles     0-30 minutes   30-60 months     Over 30 mph            20\n",
       "1    16-30 miles  Over 60 minutes   30-60 months     17.3-30 mph            30\n",
       "2  Over 30 miles     0-30 minutes    1-29 months  17 mph or less            24\n",
       "3  Over 30 miles     0-30 minutes  60-131 months     Over 30 mph            28\n",
       "4    16-30 miles     0-30 minutes  60-131 months  17 mph or less            25"
      ]
     },
     "execution_count": 104,
     "metadata": {},
     "output_type": "execute_result"
    }
   ],
   "source": [
    "# drop transport as it is not used\n",
    "df.drop(['Transport'], axis=1, inplace = True)\n",
    "df.head()"
   ]
  },
  {
   "cell_type": "markdown",
   "metadata": {},
   "source": [
    " The full data is below along with the information and description of it.                      \n"
   ]
  },
  {
   "cell_type": "code",
   "execution_count": 105,
   "metadata": {},
   "outputs": [
    {
     "name": "stdout",
     "output_type": "stream",
     "text": [
      "<class 'pandas.core.frame.DataFrame'>\n",
      "RangeIndex: 370 entries, 0 to 369\n",
      "Data columns (total 5 columns):\n",
      "Distance        370 non-null object\n",
      "Duration        370 non-null object\n",
      "Time            370 non-null object\n",
      "Impedance       370 non-null object\n",
      "Stress Score    370 non-null int64\n",
      "dtypes: int64(1), object(4)\n",
      "memory usage: 14.5+ KB\n"
     ]
    }
   ],
   "source": [
    "df.info()"
   ]
  },
  {
   "cell_type": "code",
   "execution_count": 106,
   "metadata": {},
   "outputs": [
    {
     "data": {
      "text/html": [
       "<div>\n",
       "<style scoped>\n",
       "    .dataframe tbody tr th:only-of-type {\n",
       "        vertical-align: middle;\n",
       "    }\n",
       "\n",
       "    .dataframe tbody tr th {\n",
       "        vertical-align: top;\n",
       "    }\n",
       "\n",
       "    .dataframe thead th {\n",
       "        text-align: right;\n",
       "    }\n",
       "</style>\n",
       "<table border=\"1\" class=\"dataframe\">\n",
       "  <thead>\n",
       "    <tr style=\"text-align: right;\">\n",
       "      <th></th>\n",
       "      <th>Stress Score</th>\n",
       "    </tr>\n",
       "  </thead>\n",
       "  <tbody>\n",
       "    <tr>\n",
       "      <th>count</th>\n",
       "      <td>370.000000</td>\n",
       "    </tr>\n",
       "    <tr>\n",
       "      <th>mean</th>\n",
       "      <td>26.305405</td>\n",
       "    </tr>\n",
       "    <tr>\n",
       "      <th>std</th>\n",
       "      <td>4.989553</td>\n",
       "    </tr>\n",
       "    <tr>\n",
       "      <th>min</th>\n",
       "      <td>12.000000</td>\n",
       "    </tr>\n",
       "    <tr>\n",
       "      <th>25%</th>\n",
       "      <td>23.000000</td>\n",
       "    </tr>\n",
       "    <tr>\n",
       "      <th>50%</th>\n",
       "      <td>26.000000</td>\n",
       "    </tr>\n",
       "    <tr>\n",
       "      <th>75%</th>\n",
       "      <td>29.000000</td>\n",
       "    </tr>\n",
       "    <tr>\n",
       "      <th>max</th>\n",
       "      <td>44.000000</td>\n",
       "    </tr>\n",
       "  </tbody>\n",
       "</table>\n",
       "</div>"
      ],
      "text/plain": [
       "       Stress Score\n",
       "count    370.000000\n",
       "mean      26.305405\n",
       "std        4.989553\n",
       "min       12.000000\n",
       "25%       23.000000\n",
       "50%       26.000000\n",
       "75%       29.000000\n",
       "max       44.000000"
      ]
     },
     "execution_count": 106,
     "metadata": {},
     "output_type": "execute_result"
    }
   ],
   "source": [
    "df.describe()"
   ]
  },
  {
   "cell_type": "code",
   "execution_count": null,
   "metadata": {},
   "outputs": [],
   "source": [
    "df.nunique()"
   ]
  },
  {
   "cell_type": "code",
   "execution_count": 117,
   "metadata": {
    "scrolled": true
   },
   "outputs": [
    {
     "data": {
      "image/png": "[encoded data removed]",
      "text/plain": [
       "<Figure size 432x288 with 1 Axes>"
      ]
     },
     "metadata": {
      "needs_background": "light"
     },
     "output_type": "display_data"
    }
   ],
   "source": [
    "plt.bar(df['Distance'], df['Stress Score'])\n",
    "plt.title(\"Distance vs Stress score\")\n",
    "plt.xlabel(\"Distance commuted\")\n",
    "plt.ylabel(\"Stress Score\")\n",
    "plt.show() "
   ]
  },
  {
   "cell_type": "markdown",
   "metadata": {},
   "source": [
    "Add a para on this compared and compare it to cassidy"
   ]
  },
  {
   "cell_type": "code",
   "execution_count": 118,
   "metadata": {
    "scrolled": true
   },
   "outputs": [
    {
     "data": {
      "image/png": "[encoded data removed]",
      "text/plain": [
       "<Figure size 432x288 with 1 Axes>"
      ]
     },
     "metadata": {
      "needs_background": "light"
     },
     "output_type": "display_data"
    }
   ],
   "source": [
    "plt.bar(df['Duration'], df['Stress Score'])\n",
    "plt.title(\"Duration vs Stress score\")\n",
    "plt.xlabel(\"Duration of the commute\")\n",
    "plt.ylabel(\"Stress Score\")\n",
    "plt.show() "
   ]
  },
  {
   "cell_type": "markdown",
   "metadata": {},
   "source": [
    "Add a para on this compared and compare it to cassidy"
   ]
  },
  {
   "cell_type": "code",
   "execution_count": 121,
   "metadata": {
    "scrolled": true
   },
   "outputs": [
    {
     "data": {
      "image/png": "[encoded data removed]",
      "text/plain": [
       "<Figure size 720x360 with 1 Axes>"
      ]
     },
     "metadata": {
      "needs_background": "light"
     },
     "output_type": "display_data"
    }
   ],
   "source": [
    "# labels are a bit squiched so use figsize\n",
    "plt.figure(figsize=(10,5))\n",
    "plt.bar(df['Time'], df['Stress Score'])\n",
    "plt.title(\"Time vs Stress score\")\n",
    "plt.xlabel(\"Time spend commuting this distance\")\n",
    "plt.ylabel(\"Stress Score\")\n",
    "plt.show() "
   ]
  },
  {
   "cell_type": "markdown",
   "metadata": {},
   "source": [
    "Add a para on this compared and compare it to cassidy"
   ]
  },
  {
   "cell_type": "code",
   "execution_count": 122,
   "metadata": {
    "scrolled": true
   },
   "outputs": [
    {
     "data": {
      "image/png": "[encoded data removed]",
      "text/plain": [
       "<Figure size 432x288 with 1 Axes>"
      ]
     },
     "metadata": {
      "needs_background": "light"
     },
     "output_type": "display_data"
    }
   ],
   "source": [
    "plt.bar(df['Impedance'], df['Stress Score'])\n",
    "plt.title(\"Impedance vs Stress score\")\n",
    "plt.xlabel(\"Impedance during commute\")\n",
    "plt.ylabel(\"Stress Score\")\n",
    "plt.show() "
   ]
  },
  {
   "cell_type": "markdown",
   "metadata": {},
   "source": [
    "Add a para on this compared and compare it to cassidy"
   ]
  },
  {
   "cell_type": "markdown",
   "metadata": {},
   "source": [
    "## References\n"
   ]
  },
  {
   "cell_type": "markdown",
   "metadata": {},
   "source": [
    "American Psychological Association. (2010). Gender and Stress. Retrieved December 5, 2018, from https://www.apa.org/news/press/releases/stress/2010/gender-stress.aspx \n",
    "\n",
    "\n",
    "Cassidy, T. (1992),Commuting-related Stress: Consequences and Implications, Employee Councelling Today, Vol. 4 Iss\n",
    "2 pp. 15 - 21 Retrieved from https://www.researchgate.net/profile/AnthonyTony_Cassidy/publication/235250379_Commuting-related_Stress_Consequences_and_Implications/links/574da3f608ae061b3303533c/Commuting-related-Stress-Consequences-and-Implications.pdf\n",
    "\n",
    "\n",
    "Central Statistics Office. (2017, August 31). Census of Population 2016 – Profile 6 Commuting in Ireland. Retrieved November 24, 2018, from https://www.cso.ie/en/releasesandpublications/ep/p-cp6ci/p6cii/p6noc/\n",
    "\n",
    "Chatterjee, K., Clark, B., Martin, A. & Davis, A. (2017). The Commuting and Wellbeing Study: Understanding the Impact of Commuting on People’s Lives. UWE Bristol, UK. \n",
    "\n",
    "Cohen, S., Kamarck,, T., & Mermelstein, R. (1983). Perceived Stress Scale. Retrieved December 5, 2018, from https://das.nh.gov/wellness/docs/percieved%20stress%20scale.pdf \n",
    "\n",
    "\n",
    "Gatersleben, B., & Uzzell, D. (2007). Affective Appraisals of the Daily Commute: Comparing Perceptions of Drivers, Cyclists, Walkers, and Users of Public Transport. Environment and Behavior, 39(3), 416–431. https://doi.org/10.1177/0013916506294032\n",
    "\n",
    "\n",
    "Hassard, J., Teoh, K., Cox, T., Dewe, P., Cosma, M., Gründler, R., . . . Van den Broek, K. (2014). Calculating the cost of work-related stress and psychosocial risks (Rep.). Luxembourg: Publications Office of the European Union. doi:10.2802/20493\n",
    "\n",
    "\n",
    "Kéry, M., & Royle, J. A. (2016). Applied hierarchical modeling in ecology: Analysis of distribution, abundance and species richness in R and BUGS. Retrieved from https://www.sciencedirect.com/topics/earth-and-planetary-sciences/data-simulation\n",
    "\n",
    "Monteiro, N.M. Shyngle K. Balogun & Kutlo N. Oratile (2014) Managing stress: the influence of gender, age and emotion regulation on coping among university students in Botswana, International Journal of Adolescence and Youth, 19:2, 153-173, DOI: 10.1080/02673843.2014.908784 \n",
    "\n",
    "Schaefer, A. (2005, October 01). Commuting Takes Its Toll. Retrieved December 6, 2018, from https://www.scientificamerican.com/article/commuting-takes-its-toll/ \n",
    "\n",
    "Stutzer, A., & Frey, B. S. (2008). Stress that Doesnt Pay: The Commuting Paradox*. Scandinavian Journal of Economics, 110(2), 339-366. doi:10.1111/j.1467-9442.2008.00542.x \n",
    "\n",
    "Wikipedia contributors. (2018, May 31). Perceived Stress Scale. In Wikipedia, The Free Encyclopedia. Retrieved 11:47, December 5, 2018, from https://en.wikipedia.org/w/index.php?title=Perceived_Stress_Scale&oldid=843740320\n",
    "\n",
    "\n",
    "Wikipedia contributors. (2018, September 17). Stochastic process. In Wikipedia, The Free Encyclopedia. Retrieved 11:19, November 24, 2018, from https://en.wikipedia.org/w/index.php?title=Stochastic_process&oldid=859982240\n",
    "\n",
    "\n",
    "Wikipedia contributors. (2018, November 12). Fight-or-flight response. In Wikipedia, The Free Encyclopedia. Retrieved 00:59, December 4, 2018, from https://en.wikipedia.org/w/index.php?title=Fight-or-flight_response&oldid=868423450\n",
    "\n",
    "\n",
    "Wikipedia contributors. (2018, November 23). Human sex ratio. In Wikipedia, The Free Encyclopedia. Retrieved 13:07, November 24, 2018, from https://en.wikipedia.org/w/index.php?title=Human_sex_ratio&oldid=870236802\n",
    "\n",
    "Wikipedia contributors. (2018, November 26). Likert scale. In Wikipedia, The Free Encyclopedia. Retrieved 12:01, December 5, 2018, from https://en.wikipedia.org/w/index.php?title=Likert_scale&oldid=870626181\n",
    "\n",
    "Wener, R. E., & Evans, G. W. (2011). Comparing stress of car and train commuters. Transportation Research Part F: Traffic Psychology and Behaviour, 14(2), 111-116. doi:10.1016/j.trf.2010.11.008 \n",
    "\n",
    "\n",
    "UCLA: Statistical Consulting Group. (n.d.). What is the difference between categorical, ordinal and interval variables? Retrieved December 5, 2018, from https://stats.idre.ucla.edu/other/mult-pkg/whatstat/what-is-the-difference-between-categorical-ordinal-and-interval-variables/ \n",
    "\n",
    "\n",
    "NumPy community, (2018). NumPy Reference Release 1.15.1.[ebook] Retrieved from https://docs.scipy.org/doc/numpy/numpy-ref-1.15.1.pdf\n",
    "\n",
    "Oliphant, T. (2006). Guide to NumPy. 1st ed. [ebook] Available at: https://docs.scipy.org/doc/_static/numpybook.pdf [Accessed 20 Oct. 2018].\n",
    "\n",
    "\n",
    "\n",
    "\n",
    "https://www.uzh.ch/cmsssl/suz/dam/jcr:ffffffff-866d-1ee0-0000-0000536ff1b9/10.04_stutzer-frey_08.pdf\n",
    "\n",
    "[ref](https://support.minitab.com/en-us/minitab-express/1/help-and-how-to/modeling-statistics/regression/supporting-topics/basics/what-are-categorical-discrete-and-continuous-variables/)\n",
    "\n",
    "[ref](https://docs.scipy.org/doc/numpy-1.15.1/reference/generated/numpy.random.choice.html#numpy.random.choice)\n",
    "\n",
    "[ref](https://www.datacamp.com/community/tutorials/categorical-data)\n",
    "\n",
    "matplotlib manual \n",
    "\n",
    "code adapted from https://stackoverflow.com/questions/49161120/pandas-python-set-value-of-one-column-based-on-value-in-another-column\n",
    "\n"
   ]
  },
  {
   "cell_type": "code",
   "execution_count": null,
   "metadata": {},
   "outputs": [],
   "source": []
  }
 ],
 "metadata": {
  "kernelspec": {
   "display_name": "Python 3",
   "language": "python",
   "name": "python3"
  },
  "language_info": {
   "codemirror_mode": {
    "name": "ipython",
    "version": 3
   },
   "file_extension": ".py",
   "mimetype": "text/x-python",
   "name": "python",
   "nbconvert_exporter": "python",
   "pygments_lexer": "ipython3",
   "version": "3.6.7"
  }
 },
 "nbformat": 4,
 "nbformat_minor": 2
}
