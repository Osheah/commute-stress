{
 "cells": [
  {
   "cell_type": "markdown",
   "metadata": {},
   "source": [
    "The Dataset\n",
    "start with the dataset then do the modeling\n"
   ]
  },
  {
   "cell_type": "markdown",
   "metadata": {},
   "source": [
    "# Commuting Stress\n",
    "\n",
    "\n",
    "\n",
    "\n",
    "![Gridlock](https://github.com/Osheah/images/raw/master/commute-stress/img/gridlock.jpg)\n",
    "\n"
   ]
  },
  {
   "cell_type": "markdown",
   "metadata": {},
   "source": [
    "## Simulate commuting stress\n",
    "\n",
    "Summarise the paper by Tony Cassidy (Cassidy, 1992)\n",
    "\n"
   ]
  },
  {
   "cell_type": "markdown",
   "metadata": {},
   "source": [
    "## Why simulate data?\n",
    "\n",
    "### What is data simulation\n",
    "\n",
    "Data simulation typically involves generating pseudo random numbers. It is often used in stochastic modeling where some event changes over time. Simulating data has many real world applications. It is used in life sciences, quality control, measuring response rates of customer services, financial and investment modeling and many other areas.  There are several compelling reasons for simulating data [Ref](https://www.sciencedirect.com/topics/earth-and-planetary-sciences/data-simulation). \n",
    "\n",
    "#### Known paramaters\n",
    "In a simulated model, the values of the underlying parameters are known. This allows a comparison to be made with the real world dataset it purports to model. \n",
    "\n",
    "#### Tweak parameters\n",
    "Simulating data allows for the parameters to be fine tuned. Parameters may influence each other and performing small adjustments to one parameter can help identify its affect on other inputs such as in sensitivity analysis. In real world situations it may be impossible to control the environment to such an extent that such fine tuned adjustments can be made. \n",
    "\n",
    "#### Sample errors\n",
    "There is a natural variation in data measurements. Collecting one set of flower samples to measure their petal widths is unlikely to yield the exact same measurements if collected at another date. Similarly, asking one set of questions on a survey may produce different responses when asked at another time. There is a natural variation in measurements. The variation in sampling data is a measure of statistical precision. Running data simulations is a valuable way of seeing the effect of randomness on natural processes.    \n",
    "\n",
    "#### Check things are working correctly\n",
    "Data simulations are useful to check that real world systems are on target or working as expected. A model can be run several times with different parameters or sample sizes and the means or other estimator can be calculated and compared to the real world system. \n",
    "\n",
    "#### Check statistical power\n",
    "Is there an actual relationship between input values and outputs values? Statistical power is a measure of finding an effect on the data when it exists. It is linked to the sample size used to model the phenomenon in question. Data simulation allows variation in sample size so that statistical power can be analysed. \n",
    "\n",
    "#### Check parameter identification\n",
    "Are the right parameters used? Would a different parameter fit the model better? Data simulation allows for various 'runs' to be conducted with varying parameters. Results can then be checked for clusters and signs that the parameter is indeed a parameter (or not). \n",
    "\n",
    "#### Check estimator strength\n",
    "Data simulations produce estimators which can then be checked for robustness. If the model does not predict an effect measured by the estimator but the real world data shows such an effect then there is an assumption violation. Simulations help identify this by limiting certain parameters to test out specific ones. This allows the strength of the estimator or the strength of underlying biases to be measured. \n",
    "\n",
    "#### Develops understanding of real world phenomena\n",
    "If an analyst can model the real world phenomena in question then they have abstracted its core features, modeled it and recreated the item investigated. This aids their understanding of this phenomenon. \n",
    "references for this came from (Kéry & Royle, 2016)\n",
    "\n",
    "### Stochastic modeling\n",
    "Stochastic modeling is a type of mathematical modeling that uses random processes and probability distributions to model some data that can change with time. It is often applied to financial modeling in investments or population modeling in life sciences(Wikipedia contributors, 2018 September 17). \n"
   ]
  },
  {
   "cell_type": "markdown",
   "metadata": {},
   "source": [
    "## Chose a real world phenomenon\n",
    "The topic chosen for this project is commuting factors and its impact on stress levels. \n",
    "\n",
    "### Why this topic?\n",
    "This topic was chosen as I previously commuted several hours per day for both college and work, and currently have family members that make long commutes daily. I hypothesize that there is a relationship between the length of commute, level of control of the journey, the level of impedance experienced commuting and the length of time spent as a commuter with the level of stress experienced. I expect that longer journeys are more stressful than shorter ones; High impedance (e.g. slow traffic) produces more stress and that a low level of perceived control is linked to more stress. I suspect that the longer people spend commuting, the more stress the report but it also may be that the longer people spend commuting the less stress they report as they become use to their daily routine. I came across Cassidy's 1992 paper *Commuting-related Stress: Consequences and Implications* and thought it suitable to model for this assignment. \n",
    "\n",
    "\n",
    "## Commuting and Stress\n",
    "Modern life is stressful. In pre written history times people experienced stress; Finding food safety and shelter without getting killed takes a toll. Stress can be very useful especially if escaping from a predator. The fight or flight physiological stress response can mean surviving for another day [ref](https://en.wikipedia.org/wiki/Fight-or-flight_response). The same response is found with modern incarnations of stress but the triggers are for the most part very different. Now, we are unlikely to face attacks from a saber tooth tiger. Instead, modern stress triggers are more insidious and chronic. It can be a constant anxiety that permeates everyday life with no clear source or solution. Hassard *et al* (2014) noted that the cost of work related stress in the EU was estimated at 20 billion in 2002. Cassidy, (1992) noted that the UK's gross national product looses up to ten percent per annum due to stress and its consequences. There are many factors contributing to stress, financial stress, relationship stress, health stress to name but a few. This report looks at one source of reported stress, the daily commute. The Central Statistics Office (2017) puts the number of people (workers and students) commuting in Ireland at almost 3 million. They found a steady rise in the number of people commuting to work. What effect does this daily routine have on the psychological and physical health of the population? Costa *et al* as cited in Cassidy (1992) noted that within the European Union, commuters and distance traveled have increased but the duration of the commute has decreased. We are traveling further for work and getting there faster. This has knock on implications with the number of road accidents as well as impact on the home and work life of the people involved. \n",
    "\n",
    "Cassidy 1992 noted that while commuting itself is stressful it also compounds stress in other domains. It can affect home life, recreational activities and increase work absenteeism. Costa *et al* as cited in Cassidy (1992) found public transport commuters reported a more stressed lifestyle. Whereas Gulian *et al* as cited in Cassidy (1992) found 'road rage' stress was experienced by people who drive to work. Both modes of transportation produce stress. Schaeffer *et al* as cited in Cassidy found that stress levels were mitigated by the **level of control** (or at least perceived control) the commuter had on their journey. \n",
    "\n",
    "Cassidy, (1992) investigated stress and commuting. He conducted a study of 370 participants who commute to work. He collected information via a questionnaire on measures such as daily commute **distance** and **duration**, **time** spent commuting and any **impedance**. Impedance was defined as the average miles per hour the commute took. The lower the speed, the higher the impedance. In addition he also collected information on transportation used, biographical information such as age, sex, marital status, eduction, occupation, length of time in current job, information on home, commuting, work, leisure and personal satisfaction. For the purpose of this report some of Cassidy's measures will be modeled by simulated data and some fields will be simplified. Aspects of Cassidy's paper are modeled in the sections below.\n"
   ]
  },
  {
   "cell_type": "markdown",
   "metadata": {},
   "source": [
    "## Model and synthesise the data"
   ]
  },
  {
   "cell_type": "markdown",
   "metadata": {},
   "source": [
    "### import libraries"
   ]
  },
  {
   "cell_type": "code",
   "execution_count": 1,
   "metadata": {},
   "outputs": [],
   "source": [
    "# for rendering plots in jupyter notebook\n",
    "%matplotlib inline \n",
    "# pandas for the dataframe\n",
    "import pandas as pd \n",
    "# numpy for array minimpuation and random number generation\n",
    "import numpy as np\n",
    "# matplotlib for plots\n",
    "import matplotlib.pyplot as plt \n",
    "\n",
    "import collections # for groupings\n",
    "from collections import Counter # for groupings"
   ]
  },
  {
   "cell_type": "markdown",
   "metadata": {},
   "source": [
    "### Create the dataset structure\n"
   ]
  },
  {
   "cell_type": "markdown",
   "metadata": {},
   "source": [
    "Create the number of rows needed for the dataset. "
   ]
  },
  {
   "cell_type": "code",
   "execution_count": 2,
   "metadata": {},
   "outputs": [
    {
     "name": "stdout",
     "output_type": "stream",
     "text": [
      "370\n"
     ]
    }
   ],
   "source": [
    "# Set the index\n",
    "x = range(0, 370)\n",
    "print(len(x))"
   ]
  },
  {
   "cell_type": "markdown",
   "metadata": {},
   "source": [
    "Create the dataset headings. "
   ]
  },
  {
   "cell_type": "code",
   "execution_count": 3,
   "metadata": {},
   "outputs": [
    {
     "data": {
      "text/html": [
       "<div>\n",
       "<style scoped>\n",
       "    .dataframe tbody tr th:only-of-type {\n",
       "        vertical-align: middle;\n",
       "    }\n",
       "\n",
       "    .dataframe tbody tr th {\n",
       "        vertical-align: top;\n",
       "    }\n",
       "\n",
       "    .dataframe thead th {\n",
       "        text-align: right;\n",
       "    }\n",
       "</style>\n",
       "<table border=\"1\" class=\"dataframe\">\n",
       "  <thead>\n",
       "    <tr style=\"text-align: right;\">\n",
       "      <th></th>\n",
       "      <th>Distance</th>\n",
       "      <th>Duration</th>\n",
       "      <th>Time</th>\n",
       "      <th>Impedance</th>\n",
       "      <th>Stress</th>\n",
       "    </tr>\n",
       "  </thead>\n",
       "  <tbody>\n",
       "    <tr>\n",
       "      <th>0</th>\n",
       "      <td>NaN</td>\n",
       "      <td>NaN</td>\n",
       "      <td>NaN</td>\n",
       "      <td>NaN</td>\n",
       "      <td>NaN</td>\n",
       "    </tr>\n",
       "    <tr>\n",
       "      <th>1</th>\n",
       "      <td>NaN</td>\n",
       "      <td>NaN</td>\n",
       "      <td>NaN</td>\n",
       "      <td>NaN</td>\n",
       "      <td>NaN</td>\n",
       "    </tr>\n",
       "    <tr>\n",
       "      <th>2</th>\n",
       "      <td>NaN</td>\n",
       "      <td>NaN</td>\n",
       "      <td>NaN</td>\n",
       "      <td>NaN</td>\n",
       "      <td>NaN</td>\n",
       "    </tr>\n",
       "    <tr>\n",
       "      <th>3</th>\n",
       "      <td>NaN</td>\n",
       "      <td>NaN</td>\n",
       "      <td>NaN</td>\n",
       "      <td>NaN</td>\n",
       "      <td>NaN</td>\n",
       "    </tr>\n",
       "    <tr>\n",
       "      <th>4</th>\n",
       "      <td>NaN</td>\n",
       "      <td>NaN</td>\n",
       "      <td>NaN</td>\n",
       "      <td>NaN</td>\n",
       "      <td>NaN</td>\n",
       "    </tr>\n",
       "  </tbody>\n",
       "</table>\n",
       "</div>"
      ],
      "text/plain": [
       "  Distance Duration Time Impedance Stress\n",
       "0      NaN      NaN  NaN       NaN    NaN\n",
       "1      NaN      NaN  NaN       NaN    NaN\n",
       "2      NaN      NaN  NaN       NaN    NaN\n",
       "3      NaN      NaN  NaN       NaN    NaN\n",
       "4      NaN      NaN  NaN       NaN    NaN"
      ]
     },
     "execution_count": 3,
     "metadata": {},
     "output_type": "execute_result"
    }
   ],
   "source": [
    "df = pd.DataFrame(columns = ['Distance', 'Duration', 'Time', 'Impedance', 'Stress'], index = x)\n",
    "# There are also additional headings that can be added such as age mode of transport, gender etc. \n",
    "# check headers are present\n",
    "df.head()"
   ]
  },
  {
   "cell_type": "code",
   "execution_count": 4,
   "metadata": {},
   "outputs": [
    {
     "name": "stdout",
     "output_type": "stream",
     "text": [
      "The size of the dataset is:  370\n"
     ]
    }
   ],
   "source": [
    "# Check the size of the dataset\n",
    "size = 370\n",
    "print(\"The size of the dataset is: \", size)"
   ]
  },
  {
   "cell_type": "markdown",
   "metadata": {},
   "source": [
    "## The main variables\n",
    "\n",
    "There are five key variables in this model. The first four, distance, duration, time and impedance were investigated to see if they had a relationship with the fifth variable *Stress*. \n",
    "\n",
    "The **variables** related to commuting and stress are;  \n",
    "* Distance\n",
    "* Duration\n",
    "* Time \n",
    "* Impedance\n",
    "* Stress\n",
    "\n",
    "These variables are not mutually exclusive of each other. For example *Distance* and *Duration* are correlated. E.g. commutes that are further away tend to have a longer duration. As the effects of one variable cannot be isolated from the effects of other variables a correlational study is a suitable model.  \n",
    "\n",
    "### Define the variables\n",
    "\n",
    "* **Distance** of the commute. This is the distance commuted. This was measured in miles. There were four categories (in Cassidy's report, 1992) that participants could select to classify their distance commuted. These were; \n",
    "\n",
    "    * 0-5 miles\n",
    "    * 6-15 miles\n",
    "    * 16-30 miles\n",
    "    * Over 30 miles\n",
    "\n",
    "The majority of commuters surveyed were 15 or under miles away from their work. \n",
    "\n",
    "\n",
    "* **Duration** of the commute. This refers to the typical duration of commute i.e. the typical time taken to make the journey to work. This was measured in minutes (min). Duration was categorised into three bands, namely;  \n",
    "    * 0-30 minutes \n",
    "    * 30-60 minutes\n",
    "    * Over 60 minutes\n",
    "\n",
    "The majority of participants reported their duration of commute at under 60 minutes. \n",
    "\n",
    "\n",
    "* **Time** commuting. This refers to the time period participants spent as a commuter. This was measured in months.  There were four categories that participants could classify their time into, namely.\n",
    "\n",
    "    * 1-29 months \n",
    "    * 30-60 months\n",
    "    * 60-131 months\n",
    "    * Over 132 months\n",
    "\n",
    "* **Impedance** The impedance of the commute was also measured. This was defined as the average miles per hour of the commute. It was measured in miles per hour (mph). Impedance was classified into three bands,namely; \n",
    "\n",
    "    * 17 mph or less\n",
    "    * 17.3-30 mph\n",
    "    * Over 30 mph\n",
    "\n",
    "* **Stress** Cassidy (1992) measured stress by scoring responses on a questionnaire on a number of factors along five specific domains of the participant's life namely; \n",
    "\n",
    "    * Home domain - perceived stress and financial stress, social support levels, time at home, use of home life to ameliorate work stress. \n",
    "    * Commuting domain - perceived commuting stress and mood.  \n",
    "    * Work domain - perceived stress, sources of work stress and commitment to work\n",
    "    * Leisure domain - approach to leisure time including time spent exercising, socialising and perceived fitness.\n",
    "    * Personal domain - problem solving ability and internal/external attribution of events, levels of situational control, motivation and confidence. In addition, levels of satisfaction with life and general perceived stress  were measured. \n",
    " \n",
    " \n",
    "Neither the questions asked, nor the scoring method used, were noted in Cassidy's paper. Therefore, in this report and for simplicity and clarity,  stress is assumed to be measured across a *single* general domain by the *Perceived Stress Scale* (Cohen, Kamarck & Mermelstein, 1983). \n",
    "\n",
    "### The Perceived Stress Scale \n",
    "The Perceived Stress Scale (PSS) was developed by Cohen, Kamarck and Mermelstein in their 1983 paper *A Global Measure of Perceived Stress* published in The Journal of Health and Social Behavior. This is a standard psychological measure of perceived non specific stress. It is used to assess stress and measure the effectiveness of stress reducing interventions (Wikipedia contributors, 2018, May 31). \n",
    "\n",
    "#### PSS questions\n",
    "\n",
    "The PSS elicits responses on a five point Likert scale. A Likert scale involves asking respondents to indicate the level to which they agree or disagree with a series of statements on a scale from 0 to x, where x is the number of points on the Likert scale (Wikipedia contributors, 2018, November 26). For the PSS a response of 0 indicates 'never', 1 indicates 'almost never', 2 indicates 'sometimes', 3 indicates 'fairly often' and 4 indicates 'very often. The PSS contains 10 questions and are listed below. \n",
    "\n",
    "**Perceived Stress Scale** (10 Items)\n",
    "The questions in this scale ask you about your feelings and thoughts during the last month. In each case, please indicate with a check how often you felt or thought a certain way.\n",
    "\n",
    "1. In the last month, how often have you been upset because of something that happened unexpectedly?\n",
    "2. In the last month, how often have you felt that you were unable to control the important things in your life?\n",
    "3. In the last month, how often have you felt nervous and \"stressed\"?\n",
    "4. In the last month, how often have you felt confident about your ability to handle your personal problems?\n",
    "5. In the last month, how often have you felt that things were going your way?\n",
    "6. In the last month, how often have you found that you could not cope with all the things that you had to do?\n",
    "7. In the last month, how often have you been able to control irritations in your life?\n",
    "8. In the last month, how often have you felt that you were on top of things?\n",
    "9. In the last month, how often have you been angered because of things that were outside of your control?\n",
    "10. In the last month, how often have you felt difficulties were piling up so high that you could not overcome them?\n",
    "(Taken from [PSS](http://www.psy.cmu.edu/~scohen/PSS.html) )\n",
    "\n",
    "#### Scoring the PSS\n",
    "The Likert scale used in the PSS is balanced to avoid bias in answering all the questions at one extreme of the scale. \n",
    "To determine the score reverse the scores on questions 4, 5, 7 and 8. Then sum the reversed score along with the remainder of the scores to produce a total. Individual scores can range from a minimum of zero to a maximum of 40. The higher the score the greater the perceived stress. Scores under 13 indicate low perceived stress, scores between 14 to 26 indicate moderate perceived stress and scores greater than 27 are considered high perceived stress (Cohen, Kamarck & Mermelstein, 1983). \n",
    "\n",
    "\n",
    "In addition, other variables were collected that may prove useful to model\n",
    "\n",
    "* Transport\n",
    "* Gender\n",
    "* Age\n",
    "\n",
    "\n",
    "**Transport** refers to the mode of transportation which in Cassidy's (1992) study, can be either public transport or car. It might be useful to further subdivide public transport into bus and train and personal transport into car and bicycle. Research suggests that mode of transportation has an effect on stress with the most stress experienced by car users and least by cyclists (Gatersleben & Uzzell, 2007). Though there is some evidence that commuting by car has greater locus of control which reduces stress (add reference). Stutzer & Frey (2008) noted the *The Commuting Paradox* where the financial benefits of commuting are negated by the negative factors involved such as stress and the impact on home and work life. \n",
    "\n",
    "**Gender** refers to the biological sex of the participant. For Cassidy's study there were 217 male and 153 female participants. Research suggests that there is relationship between stress and gender that would be interesting to explore. Different genders report different physiological stress reactions (American Psychological Association, 2010). \n",
    "\n",
    "\n",
    "**Age** Cassidy's study (1992) also measured the ages of the participants. Age does impact physical and mental responses to stress (Monteiro et al, 2014), however it was not modeled in this report for simplicity.  \n"
   ]
  },
  {
   "cell_type": "markdown",
   "metadata": {},
   "source": [
    "## Model the data\n",
    "\n",
    "The data for the five variables (Distance, Duration, Time, Impedance, Stress) was simulated first. Further variables of Transport and Age can be added later if time permits. \n",
    "\n",
    "### Adding the variables\n"
   ]
  },
  {
   "cell_type": "markdown",
   "metadata": {},
   "source": [
    "### Distance\n",
    "Add the simulated distance data. This is simulated with np.random.choice\n",
    "\n",
    "#### Why?\n",
    "NumPy Random's choice was used to simulate the distances. Choice was used as it allows for the weighted random selection of categorical data. The distance category has four bands (0-5 miles, 6-15 miles, 16-30 miles and Over 30 miles). In addition the data is ordinal, as there is a progression from 0-5 miles to over 30 miles (UCLA: Statistical Consulting Group. (n.d.)). However as these choices were items on a survey, the NumPy Random 'choice' function would be suitable as a model rather than a numerical NumPy Random function such as Bernoulli (Binomial with n = 1) distribution (NumPy community, 2018; Oliphant, 2006). \n",
    "\n",
    "There was a total of 346 responses to this section of the survey so this was taken as the total when calculating the probability weightings for each of the distance bands. A 'Distance' array was created containing the four distance bands, 0-5 miles, 6-15 miles, 16-30 miles, over 30 miles. There were 109 response in the first band so this was weighted as 109/346, 114 for the second band giving a probability of 114/346, 67 responses for the 16-30 mile response giving a weighting of 67/346 and lastly 56 responses for the over 30 mile distance giving a weighting of 56/346.  The model of the Distance variable can be found below.\n"
   ]
  },
  {
   "cell_type": "code",
   "execution_count": 5,
   "metadata": {},
   "outputs": [],
   "source": [
    "# set up the survey Distance categories\n",
    "distance = ['0-5 miles', '6-15 miles', '16-30 miles', 'Over 30 miles']\n",
    "# calculate the total number of responders to this question\n",
    "tot_dist = 109+114+67+56\n",
    "# generate the response with 'choice' function\n",
    "y_dist = np.random.choice(distance, size, p=[109/tot_dist, 114/tot_dist, 67/tot_dist, 56/tot_dist])\n"
   ]
  },
  {
   "cell_type": "code",
   "execution_count": 6,
   "metadata": {},
   "outputs": [
    {
     "data": {
      "text/plain": [
       "346"
      ]
     },
     "execution_count": 6,
     "metadata": {},
     "output_type": "execute_result"
    }
   ],
   "source": [
    "# check the tot_dist number\n",
    "tot_dist"
   ]
  },
  {
   "cell_type": "code",
   "execution_count": 7,
   "metadata": {},
   "outputs": [
    {
     "data": {
      "text/plain": [
       "array(['Over 30 miles', '0-5 miles', 'Over 30 miles', '0-5 miles',\n",
       "       '0-5 miles'], dtype='<U13')"
      ]
     },
     "execution_count": 7,
     "metadata": {},
     "output_type": "execute_result"
    }
   ],
   "source": [
    "# check the first few values of the array\n",
    "y_dist[:5]"
   ]
  },
  {
   "cell_type": "markdown",
   "metadata": {},
   "source": [
    "Change the y_dist distance array to a dataframe and add it to the simulated model. "
   ]
  },
  {
   "cell_type": "code",
   "execution_count": 8,
   "metadata": {},
   "outputs": [
    {
     "data": {
      "text/html": [
       "<div>\n",
       "<style scoped>\n",
       "    .dataframe tbody tr th:only-of-type {\n",
       "        vertical-align: middle;\n",
       "    }\n",
       "\n",
       "    .dataframe tbody tr th {\n",
       "        vertical-align: top;\n",
       "    }\n",
       "\n",
       "    .dataframe thead th {\n",
       "        text-align: right;\n",
       "    }\n",
       "</style>\n",
       "<table border=\"1\" class=\"dataframe\">\n",
       "  <thead>\n",
       "    <tr style=\"text-align: right;\">\n",
       "      <th></th>\n",
       "      <th>Distance</th>\n",
       "      <th>Duration</th>\n",
       "      <th>Time</th>\n",
       "      <th>Impedance</th>\n",
       "      <th>Stress</th>\n",
       "    </tr>\n",
       "  </thead>\n",
       "  <tbody>\n",
       "    <tr>\n",
       "      <th>0</th>\n",
       "      <td>Over 30 miles</td>\n",
       "      <td>NaN</td>\n",
       "      <td>NaN</td>\n",
       "      <td>NaN</td>\n",
       "      <td>NaN</td>\n",
       "    </tr>\n",
       "    <tr>\n",
       "      <th>1</th>\n",
       "      <td>0-5 miles</td>\n",
       "      <td>NaN</td>\n",
       "      <td>NaN</td>\n",
       "      <td>NaN</td>\n",
       "      <td>NaN</td>\n",
       "    </tr>\n",
       "    <tr>\n",
       "      <th>2</th>\n",
       "      <td>Over 30 miles</td>\n",
       "      <td>NaN</td>\n",
       "      <td>NaN</td>\n",
       "      <td>NaN</td>\n",
       "      <td>NaN</td>\n",
       "    </tr>\n",
       "    <tr>\n",
       "      <th>3</th>\n",
       "      <td>0-5 miles</td>\n",
       "      <td>NaN</td>\n",
       "      <td>NaN</td>\n",
       "      <td>NaN</td>\n",
       "      <td>NaN</td>\n",
       "    </tr>\n",
       "    <tr>\n",
       "      <th>4</th>\n",
       "      <td>0-5 miles</td>\n",
       "      <td>NaN</td>\n",
       "      <td>NaN</td>\n",
       "      <td>NaN</td>\n",
       "      <td>NaN</td>\n",
       "    </tr>\n",
       "  </tbody>\n",
       "</table>\n",
       "</div>"
      ],
      "text/plain": [
       "        Distance Duration Time Impedance Stress\n",
       "0  Over 30 miles      NaN  NaN       NaN    NaN\n",
       "1      0-5 miles      NaN  NaN       NaN    NaN\n",
       "2  Over 30 miles      NaN  NaN       NaN    NaN\n",
       "3      0-5 miles      NaN  NaN       NaN    NaN\n",
       "4      0-5 miles      NaN  NaN       NaN    NaN"
      ]
     },
     "execution_count": 8,
     "metadata": {},
     "output_type": "execute_result"
    }
   ],
   "source": [
    "# change the array to a dataframe\n",
    "df['Distance'] = pd.Series(y_dist)\n",
    "# check its headings\n",
    "df.head()"
   ]
  },
  {
   "cell_type": "code",
   "execution_count": 9,
   "metadata": {},
   "outputs": [
    {
     "data": {
      "text/html": [
       "<div>\n",
       "<style scoped>\n",
       "    .dataframe tbody tr th:only-of-type {\n",
       "        vertical-align: middle;\n",
       "    }\n",
       "\n",
       "    .dataframe tbody tr th {\n",
       "        vertical-align: top;\n",
       "    }\n",
       "\n",
       "    .dataframe thead th {\n",
       "        text-align: right;\n",
       "    }\n",
       "</style>\n",
       "<table border=\"1\" class=\"dataframe\">\n",
       "  <thead>\n",
       "    <tr style=\"text-align: right;\">\n",
       "      <th></th>\n",
       "      <th>Distance</th>\n",
       "      <th>Duration</th>\n",
       "      <th>Time</th>\n",
       "      <th>Impedance</th>\n",
       "      <th>Stress</th>\n",
       "    </tr>\n",
       "  </thead>\n",
       "  <tbody>\n",
       "    <tr>\n",
       "      <th>365</th>\n",
       "      <td>0-5 miles</td>\n",
       "      <td>NaN</td>\n",
       "      <td>NaN</td>\n",
       "      <td>NaN</td>\n",
       "      <td>NaN</td>\n",
       "    </tr>\n",
       "    <tr>\n",
       "      <th>366</th>\n",
       "      <td>0-5 miles</td>\n",
       "      <td>NaN</td>\n",
       "      <td>NaN</td>\n",
       "      <td>NaN</td>\n",
       "      <td>NaN</td>\n",
       "    </tr>\n",
       "    <tr>\n",
       "      <th>367</th>\n",
       "      <td>6-15 miles</td>\n",
       "      <td>NaN</td>\n",
       "      <td>NaN</td>\n",
       "      <td>NaN</td>\n",
       "      <td>NaN</td>\n",
       "    </tr>\n",
       "    <tr>\n",
       "      <th>368</th>\n",
       "      <td>0-5 miles</td>\n",
       "      <td>NaN</td>\n",
       "      <td>NaN</td>\n",
       "      <td>NaN</td>\n",
       "      <td>NaN</td>\n",
       "    </tr>\n",
       "    <tr>\n",
       "      <th>369</th>\n",
       "      <td>0-5 miles</td>\n",
       "      <td>NaN</td>\n",
       "      <td>NaN</td>\n",
       "      <td>NaN</td>\n",
       "      <td>NaN</td>\n",
       "    </tr>\n",
       "  </tbody>\n",
       "</table>\n",
       "</div>"
      ],
      "text/plain": [
       "       Distance Duration Time Impedance Stress\n",
       "365   0-5 miles      NaN  NaN       NaN    NaN\n",
       "366   0-5 miles      NaN  NaN       NaN    NaN\n",
       "367  6-15 miles      NaN  NaN       NaN    NaN\n",
       "368   0-5 miles      NaN  NaN       NaN    NaN\n",
       "369   0-5 miles      NaN  NaN       NaN    NaN"
      ]
     },
     "execution_count": 9,
     "metadata": {},
     "output_type": "execute_result"
    }
   ],
   "source": [
    "# check the end of the dataframe\n",
    "df.tail()"
   ]
  },
  {
   "cell_type": "code",
   "execution_count": 10,
   "metadata": {},
   "outputs": [
    {
     "data": {
      "text/html": [
       "<div>\n",
       "<style scoped>\n",
       "    .dataframe tbody tr th:only-of-type {\n",
       "        vertical-align: middle;\n",
       "    }\n",
       "\n",
       "    .dataframe tbody tr th {\n",
       "        vertical-align: top;\n",
       "    }\n",
       "\n",
       "    .dataframe thead th {\n",
       "        text-align: right;\n",
       "    }\n",
       "</style>\n",
       "<table border=\"1\" class=\"dataframe\">\n",
       "  <thead>\n",
       "    <tr style=\"text-align: right;\">\n",
       "      <th></th>\n",
       "      <th>Distance</th>\n",
       "      <th>Duration</th>\n",
       "      <th>Time</th>\n",
       "      <th>Impedance</th>\n",
       "      <th>Stress</th>\n",
       "    </tr>\n",
       "  </thead>\n",
       "  <tbody>\n",
       "    <tr>\n",
       "      <th>count</th>\n",
       "      <td>370</td>\n",
       "      <td>0.0</td>\n",
       "      <td>0.0</td>\n",
       "      <td>0.0</td>\n",
       "      <td>0.0</td>\n",
       "    </tr>\n",
       "    <tr>\n",
       "      <th>unique</th>\n",
       "      <td>4</td>\n",
       "      <td>0.0</td>\n",
       "      <td>0.0</td>\n",
       "      <td>0.0</td>\n",
       "      <td>0.0</td>\n",
       "    </tr>\n",
       "    <tr>\n",
       "      <th>top</th>\n",
       "      <td>0-5 miles</td>\n",
       "      <td>NaN</td>\n",
       "      <td>NaN</td>\n",
       "      <td>NaN</td>\n",
       "      <td>NaN</td>\n",
       "    </tr>\n",
       "    <tr>\n",
       "      <th>freq</th>\n",
       "      <td>126</td>\n",
       "      <td>NaN</td>\n",
       "      <td>NaN</td>\n",
       "      <td>NaN</td>\n",
       "      <td>NaN</td>\n",
       "    </tr>\n",
       "  </tbody>\n",
       "</table>\n",
       "</div>"
      ],
      "text/plain": [
       "         Distance  Duration  Time  Impedance  Stress\n",
       "count         370       0.0   0.0        0.0     0.0\n",
       "unique          4       0.0   0.0        0.0     0.0\n",
       "top     0-5 miles       NaN   NaN        NaN     NaN\n",
       "freq          126       NaN   NaN        NaN     NaN"
      ]
     },
     "execution_count": 10,
     "metadata": {},
     "output_type": "execute_result"
    }
   ],
   "source": [
    "# check the info on the dataframe\n",
    "df.describe()\n"
   ]
  },
  {
   "cell_type": "code",
   "execution_count": 11,
   "metadata": {},
   "outputs": [
    {
     "data": {
      "text/plain": [
       "Distance     4\n",
       "Duration     0\n",
       "Time         0\n",
       "Impedance    0\n",
       "Stress       0\n",
       "dtype: int64"
      ]
     },
     "execution_count": 11,
     "metadata": {},
     "output_type": "execute_result"
    }
   ],
   "source": [
    "# check the bands on the dataframe\n",
    "df.nunique()"
   ]
  },
  {
   "cell_type": "markdown",
   "metadata": {},
   "source": [
    "Lets plot the histogram of the commute distance bands. To plot the histogram the number of values in each duration band needs to be calculated. "
   ]
  },
  {
   "cell_type": "code",
   "execution_count": 12,
   "metadata": {},
   "outputs": [
    {
     "data": {
      "text/plain": [
       "Counter({'Over 30 miles': 62,\n",
       "         '0-5 miles': 126,\n",
       "         '6-15 miles': 114,\n",
       "         '16-30 miles': 68})"
      ]
     },
     "execution_count": 12,
     "metadata": {},
     "output_type": "execute_result"
    }
   ],
   "source": [
    "# calculate the number of responses to each distance band\n",
    "dist_counts = Counter(df['Distance'])\n",
    "# check to see if counts look reasonable\n",
    "dist_counts\n"
   ]
  },
  {
   "cell_type": "code",
   "execution_count": 13,
   "metadata": {},
   "outputs": [
    {
     "data": {
      "text/plain": [
       "370"
      ]
     },
     "execution_count": 13,
     "metadata": {},
     "output_type": "execute_result"
    }
   ],
   "source": [
    "# sum counts\n",
    "# list the values\n",
    "dist_counts.values()\n",
    "# sum the values\n",
    "sum(dist_counts.values())"
   ]
  },
  {
   "cell_type": "code",
   "execution_count": 14,
   "metadata": {},
   "outputs": [
    {
     "data": {
      "image/png": "[encoded data removed]",
      "text/plain": [
       "<Figure size 432x288 with 1 Axes>"
      ]
     },
     "metadata": {
      "needs_background": "light"
     },
     "output_type": "display_data"
    }
   ],
   "source": [
    "# create an indexed dataframe with the number of counts\n",
    "# code adapted from https://pandas.pydata.org/pandas-docs/stable/generated/pandas.DataFrame.from_dict.html\n",
    "df_dist = pd.DataFrame.from_dict(dist_counts, orient='index')\n",
    "                      \n",
    "#plot the bar chart of the distance counts\n",
    "df_dist.plot(kind='bar', title='Distance', legend = False)\n",
    "plt.show()"
   ]
  },
  {
   "cell_type": "code",
   "execution_count": 15,
   "metadata": {},
   "outputs": [
    {
     "data": {
      "image/png": "[encoded data removed]",
      "text/plain": [
       "<Figure size 432x288 with 1 Axes>"
      ]
     },
     "metadata": {
      "needs_background": "light"
     },
     "output_type": "display_data"
    }
   ],
   "source": [
    "# set the order in which the plots are displayed for easier comparisons\n",
    "df_dist.reindex(['0-5 miles', '6-15 miles',  '16-30 miles', 'Over 30 miles']).plot(kind='bar', title='Distance', legend = False)\n",
    "plt.show()"
   ]
  },
  {
   "cell_type": "markdown",
   "metadata": {},
   "source": [
    "This shows that most simulated participants traveled between 6 and 15 miles with the second longest duration being 0-5 miles. The other two bands had lower reported values. This compares favourably to Cassidy's findings of 109 traveling under 0.5 miles, 114 traveling between 6-15 miles, 67 traveling between 16-30 miles and 56 traveling over 30 miles. \n"
   ]
  },
  {
   "cell_type": "code",
   "execution_count": 89,
   "metadata": {},
   "outputs": [
    {
     "data": {
      "image/png": "[encoded data removed]",
      "text/plain": [
       "<Figure size 432x288 with 1 Axes>"
      ]
     },
     "metadata": {
      "needs_background": "light"
     },
     "output_type": "display_data"
    },
    {
     "data": {
      "image/png": "[encoded data removed]",
      "text/plain": [
       "<Figure size 432x288 with 1 Axes>"
      ]
     },
     "metadata": {
      "needs_background": "light"
     },
     "output_type": "display_data"
    },
    {
     "data": {
      "text/html": [
       "<div>\n",
       "<style scoped>\n",
       "    .dataframe tbody tr th:only-of-type {\n",
       "        vertical-align: middle;\n",
       "    }\n",
       "\n",
       "    .dataframe tbody tr th {\n",
       "        vertical-align: top;\n",
       "    }\n",
       "\n",
       "    .dataframe thead th {\n",
       "        text-align: right;\n",
       "    }\n",
       "</style>\n",
       "<table border=\"1\" class=\"dataframe\">\n",
       "  <thead>\n",
       "    <tr style=\"text-align: right;\">\n",
       "      <th></th>\n",
       "      <th>Count</th>\n",
       "    </tr>\n",
       "  </thead>\n",
       "  <tbody>\n",
       "    <tr>\n",
       "      <th>0-5 miles</th>\n",
       "      <td>109</td>\n",
       "    </tr>\n",
       "    <tr>\n",
       "      <th>6-15 miles</th>\n",
       "      <td>114</td>\n",
       "    </tr>\n",
       "    <tr>\n",
       "      <th>16-30 miles</th>\n",
       "      <td>67</td>\n",
       "    </tr>\n",
       "    <tr>\n",
       "      <th>Over 30 miles</th>\n",
       "      <td>56</td>\n",
       "    </tr>\n",
       "  </tbody>\n",
       "</table>\n",
       "</div>"
      ],
      "text/plain": [
       "               Count\n",
       "0-5 miles        109\n",
       "6-15 miles       114\n",
       "16-30 miles       67\n",
       "Over 30 miles     56"
      ]
     },
     "execution_count": 89,
     "metadata": {},
     "output_type": "execute_result"
    }
   ],
   "source": [
    "df_dist\n",
    "\n",
    "cass_dist = pd.DataFrame(np.array([[109, 114, 67, 56]]), columns=['0-5 miles', '6-15 miles',  '16-30 miles', 'Over 30 miles'])\n",
    "cass_dist = cass_dist.transpose()\n",
    "# check shape\n",
    "cass_dist.head()\n",
    "cass_dist.reindex(['0-5 miles', '6-15 miles',  '16-30 miles', 'Over 30 miles']).plot(kind='bar', title='Original Distance')\n",
    "plt.legend([\"Simulated\"])\n",
    "df_dist.reindex(['0-5 miles', '6-15 miles',  '16-30 miles', 'Over 30 miles']).plot(kind='bar', title='Distance')\n",
    "plt.legend([\"Original\"]);\n",
    "plt.show()\n",
    "\n",
    "cass_dist.columns = ['Count']\n",
    "cass_dist\n"
   ]
  },
  {
   "cell_type": "code",
   "execution_count": null,
   "metadata": {},
   "outputs": [],
   "source": []
  },
  {
   "cell_type": "markdown",
   "metadata": {},
   "source": [
    "American Psychological Association. (2010). Gender and Stress. Retrieved December 5, 2018, from https://www.apa.org/news/press/releases/stress/2010/gender-stress.aspx \n",
    "\n",
    "\n",
    "Cassidy, T. (1992),Commuting-related Stress: Consequences and Implications, Employee Councelling Today, Vol. 4 Iss\n",
    "2 pp. 15 - 21 Retrieved from https://www.researchgate.net/profile/AnthonyTony_Cassidy/publication/235250379_Commuting-related_Stress_Consequences_and_Implications/links/574da3f608ae061b3303533c/Commuting-related-Stress-Consequences-and-Implications.pdf\n",
    "\n",
    "\n",
    "Central Statistics Office. (2017, August 31). Census of Population 2016 – Profile 6 Commuting in Ireland. Retrieved November 24, 2018, from https://www.cso.ie/en/releasesandpublications/ep/p-cp6ci/p6cii/p6noc/\n",
    "\n",
    "Cohen, S., Kamarck,, T., & Mermelstein, R. (1983). Perceived Stress Scale. Retrieved December 5, 2018, from https://das.nh.gov/wellness/docs/percieved stress scale.pdf \n",
    "\n",
    "\n",
    "Gatersleben, B., & Uzzell, D. (2007). Affective Appraisals of the Daily Commute: Comparing Perceptions of Drivers, Cyclists, Walkers, and Users of Public Transport. Environment and Behavior, 39(3), 416–431. https://doi.org/10.1177/0013916506294032\n",
    "\n",
    "\n",
    "\n",
    "Hassard, J., Teoh, K., Cox, T., Dewe, P., Cosma, M., Gründler, R., . . . Van den Broek, K. (2014). Calculating the cost of work-related stress and psychosocial risks (Rep.). Luxembourg: Publications Office of the European Union. doi:10.2802/20493\n",
    "\n",
    "\n",
    "Kéry, M., & Royle, J. A. (2016). Applied hierarchical modeling in ecology: Analysis of distribution, abundance and species richness in R and BUGS. Retrieved from https://www.sciencedirect.com/topics/earth-and-planetary-sciences/data-simulation\n",
    "\n",
    "Monteiro, N.M. Shyngle K. Balogun & Kutlo N. Oratile (2014) Managing stress: the influence of gender, age and emotion regulation on coping among university students in Botswana, International Journal of Adolescence and Youth, 19:2, 153-173, DOI: 10.1080/02673843.2014.908784 \n",
    "\n",
    "Stutzer, A., & Frey, B. S. (2008). Stress that Doesnt Pay: The Commuting Paradox*. Scandinavian Journal of Economics, 110(2), 339-366. doi:10.1111/j.1467-9442.2008.00542.x \n",
    "\n",
    "Wikipedia contributors. (2018, May 31). Perceived Stress Scale. In Wikipedia, The Free Encyclopedia. Retrieved 11:47, December 5, 2018, from https://en.wikipedia.org/w/index.php?title=Perceived_Stress_Scale&oldid=843740320\n",
    "\n",
    "\n",
    "Wikipedia contributors. (2018, September 17). Stochastic process. In Wikipedia, The Free Encyclopedia. Retrieved 11:19, November 24, 2018, from https://en.wikipedia.org/w/index.php?title=Stochastic_process&oldid=859982240\n",
    "\n",
    "\n",
    "Wikipedia contributors. (2018, November 12). Fight-or-flight response. In Wikipedia, The Free Encyclopedia. Retrieved 00:59, December 4, 2018, from https://en.wikipedia.org/w/index.php?title=Fight-or-flight_response&oldid=868423450\n",
    "\n",
    "\n",
    "Wikipedia contributors. (2018, November 23). Human sex ratio. In Wikipedia, The Free Encyclopedia. Retrieved 13:07, November 24, 2018, from https://en.wikipedia.org/w/index.php?title=Human_sex_ratio&oldid=870236802\n",
    "\n",
    "Wikipedia contributors. (2018, November 26). Likert scale. In Wikipedia, The Free Encyclopedia. Retrieved 12:01, December 5, 2018, from https://en.wikipedia.org/w/index.php?title=Likert_scale&oldid=870626181\n",
    "\n",
    "\n",
    "UCLA: Statistical Consulting Group. (n.d.). What is the difference between categorical, ordinal and interval variables? Retrieved December 5, 2018, from https://stats.idre.ucla.edu/other/mult-pkg/whatstat/what-is-the-difference-between-categorical-ordinal-and-interval-variables/ \n",
    "\n",
    "\n",
    "NumPy community, (2018). NumPy Reference Release 1.15.1.[ebook] Retrieved from https://docs.scipy.org/doc/numpy/numpy-ref-1.15.1.pdf\n",
    "\n",
    "Oliphant, T. (2006). Guide to NumPy. 1st ed. [ebook] Available at: https://docs.scipy.org/doc/_static/numpybook.pdf [Accessed 20 Oct. 2018].\n",
    "\n",
    "\n",
    "\n",
    "\n",
    "https://www.uzh.ch/cmsssl/suz/dam/jcr:ffffffff-866d-1ee0-0000-0000536ff1b9/10.04_stutzer-frey_08.pdf\n",
    "\n",
    "[ref](https://support.minitab.com/en-us/minitab-express/1/help-and-how-to/modeling-statistics/regression/supporting-topics/basics/what-are-categorical-discrete-and-continuous-variables/)\n",
    "\n",
    "[ref](https://docs.scipy.org/doc/numpy-1.15.1/reference/generated/numpy.random.choice.html#numpy.random.choice)\n",
    "\n",
    "[ref](https://www.datacamp.com/community/tutorials/categorical-data)\n",
    "\n",
    "matplotlib manual \n",
    "numpy random manual\n",
    "\n",
    "code adapted from https://stackoverflow.com/questions/49161120/pandas-python-set-value-of-one-column-based-on-value-in-another-column\n",
    "\n",
    "\n",
    "\n",
    "\n"
   ]
  },
  {
   "cell_type": "markdown",
   "metadata": {},
   "source": [
    "### Duration\n",
    "Add the duration data. \n",
    "This is simulated with np.random.choice\n",
    "#### Why?\n",
    "NumPy Random's choice was used to simulate the duration of commute. There are three bands and the data is ordinal, as there is a progression from 30 minutes to over 60 minutes. However as these choices were items on a survey NumPy Random's 'choice' function would be suitable as a model. There was a total of 355 responses to this section of the survey so this was taken as the total when calculating the probability weightings for each of the duration bands. A 'Duration' array was created containing the three duration bands, 0 to 30 minutes, 30- 60 minutes and over 60 minutes. There were 137 responses in the first band so this was weighted as 137/355, 121 for the second band giving a probability of 121/355 and 97 responses for the Over 60 minutes response giving a weighting of 97/355.  The model of the Duration variable can be found below.\n"
   ]
  },
  {
   "cell_type": "code",
   "execution_count": null,
   "metadata": {},
   "outputs": [],
   "source": [
    "# add the duration categories\n",
    "duration = ['0-30 minutes', '30-60 minutes', 'Over 60 minutes']\n",
    "# calculate the total number of responses to this question\n",
    "tot_dur = 137+121+97\n",
    "# generate the responses to the 'Duration' category\n",
    "y_dur = np.random.choice(duration, size, p=[137/tot_dur, 121/tot_dur, 97/tot_dur])"
   ]
  },
  {
   "cell_type": "markdown",
   "metadata": {},
   "source": [
    "Change the y_dur duration array to a dataframe and add it to the simulated model. "
   ]
  },
  {
   "cell_type": "code",
   "execution_count": null,
   "metadata": {},
   "outputs": [],
   "source": [
    "df['Duration'] = pd.Series(y_dur)\n",
    "df.head()"
   ]
  },
  {
   "cell_type": "code",
   "execution_count": null,
   "metadata": {},
   "outputs": [],
   "source": [
    "df.tail()"
   ]
  },
  {
   "cell_type": "markdown",
   "metadata": {},
   "source": [
    "Lets plot the histogram of the commute duration bands"
   ]
  },
  {
   "cell_type": "code",
   "execution_count": null,
   "metadata": {},
   "outputs": [],
   "source": [
    "# calculate the number of responses to each duration band\n",
    "dur_counts = Counter(df['Duration'])\n",
    "# create an indexed dataframe with the number of counts\n",
    "df_dur = pd.DataFrame.from_dict(dur_counts, orient='index')\n",
    "                      \n",
    "#plot the bar chart of the duration counts\n",
    "df_dur.plot(kind='bar', title='Duration', legend = False)\n",
    "plt.show()"
   ]
  },
  {
   "cell_type": "markdown",
   "metadata": {},
   "source": [
    "This shows that durations of over an hour were not as common as durations between 0- 30 minutes (the most popular commute duration) and 30-60 minutes.  "
   ]
  },
  {
   "cell_type": "markdown",
   "metadata": {},
   "source": [
    "### Time\n",
    "Add the time data. \n",
    "This is simulated with np.random.choice\n",
    "#### Why?\n",
    "NumPy Random's choice was used to simulate the time spent commuting. There are four bands in this category. Again the data is ordinal, as there is a progression from 1 month to over 132 months.However as these choices were items on a survey NumPy Random's 'choice' function would be suitable as a model. There was a total of 343 responses to this section of the survey so this was taken as the total when calculating the probability weightings for each of the time bands. A 'Time' array was created containing the four time bands, 1 - 29 months, 30-60 months, 60-131 months and over 132 months. There were 73 responses in the first band so this was weighted as 73/343, 99 for the second band giving a probability of 99/343; 80 responses for the third band giving a weighting of 80/343 and finally 91 responses in the Over 132 month band giving a weighting of 91/343.   The model of the Time variable can be found below."
   ]
  },
  {
   "cell_type": "code",
   "execution_count": null,
   "metadata": {},
   "outputs": [],
   "source": [
    "# add the  time category bands\n",
    "time = ['1-29 months', '30-60 months', '60-131 months', 'Over 132 months']\n",
    "# calculate the number of responses to the Time category question\n",
    "tot_time = 73+99+80+91\n",
    "# generate the time category responses with their respective weightings\n",
    "y_time = np.random.choice(time, size, p=[73/tot_time, 99/tot_time, 80/tot_time, 91/tot_time])"
   ]
  },
  {
   "cell_type": "markdown",
   "metadata": {},
   "source": [
    "Change the y_time time array to a dataframe and add it to the simulated model. "
   ]
  },
  {
   "cell_type": "code",
   "execution_count": null,
   "metadata": {},
   "outputs": [],
   "source": [
    "df['Time'] = pd.Series(y_time)\n",
    "df.head()"
   ]
  },
  {
   "cell_type": "code",
   "execution_count": null,
   "metadata": {},
   "outputs": [],
   "source": [
    "df.tail()"
   ]
  },
  {
   "cell_type": "markdown",
   "metadata": {},
   "source": [
    "Lets plot the histogram of the time spent as a commuter bands"
   ]
  },
  {
   "cell_type": "code",
   "execution_count": null,
   "metadata": {},
   "outputs": [],
   "source": [
    "# calculate the number of responses to each duration band\n",
    "time_counts = Counter(df['Time'])\n",
    "# create an indexed dataframe with the number of counts\n",
    "df_time = pd.DataFrame.from_dict(time_counts, orient='index')\n",
    "                      \n",
    "#plot the bar chart of the duration counts\n",
    "df_time.plot(kind='bar', title='Time', legend = False)\n",
    "plt.show()"
   ]
  },
  {
   "cell_type": "markdown",
   "metadata": {},
   "source": [
    "This shows that the most popular time lengths of commuting was 30-60 months (2.5 - 5 years), followed closely by 60-131 years (5 - approx 11 years)then 1-29 months( up to 2.5 years) closely followed by over 132 months (11 years +)"
   ]
  },
  {
   "cell_type": "markdown",
   "metadata": {},
   "source": [
    "### Impedance\n",
    "Add the impedance data. \n",
    "Again this is simulated with np.random.choice\n",
    "\n",
    "#### Why?\n",
    "NumPy Random's choice was used to simulate the time spent commuting. There are three bands in this category, 17 mph or less, 17.3 - 30 mph and Over 30 mph. Again the data is ordinal, as there is a progression from 17 mph to over 30 mph. However as these choices were items on a survey NumPy Random's 'choice' function would be suitable as a model. There was a total of 370 responses to this section of the survey so this was taken as the total when calculating the probability weightings for each of the time bands (which in this case was the number of people surveyed). An 'Impedance' array was created containing the three impedance bands. There were 207 responses in the first band so this was weighted as 207/370, 97 for the second band giving a probability of 97/370; 66 responses for the third band giving a weighting of 66/370. The model of the Impedance variable can be found below."
   ]
  },
  {
   "cell_type": "code",
   "execution_count": null,
   "metadata": {},
   "outputs": [],
   "source": [
    "# create the impedance bands\n",
    "impedance = ['17 mph or less', '17.3-30 mph', 'Over 30 mph']\n",
    "# calculate the number of responses to the impedance question\n",
    "tot_imp = 207+97+66\n",
    "# generate responses to the impedence question\n",
    "y_imp = np.random.choice(impedance, size, p=[207/tot_imp, 97/tot_imp, 66/tot_imp])\n"
   ]
  },
  {
   "cell_type": "markdown",
   "metadata": {},
   "source": [
    "Change the y_imp impedance array to a dataframe and add it to the simulated model. "
   ]
  },
  {
   "cell_type": "code",
   "execution_count": null,
   "metadata": {},
   "outputs": [],
   "source": [
    "df['Impedance'] = pd.Series(y_imp)\n",
    "df.head()"
   ]
  },
  {
   "cell_type": "code",
   "execution_count": null,
   "metadata": {},
   "outputs": [],
   "source": [
    "df.tail()"
   ]
  },
  {
   "cell_type": "markdown",
   "metadata": {},
   "source": [
    "Lets plot the histogram of the impedance distance bands"
   ]
  },
  {
   "cell_type": "markdown",
   "metadata": {},
   "source": [
    "Lets plot the histogram of the commute distance bands"
   ]
  },
  {
   "cell_type": "code",
   "execution_count": null,
   "metadata": {},
   "outputs": [],
   "source": [
    "# calculate the number of responses to each impedance band\n",
    "imp_counts = Counter(df['Impedance'])\n",
    "# create an indexed dataframe with the number of counts\n",
    "df_imp = pd.DataFrame.from_dict(imp_counts, orient='index')\n",
    "                      \n",
    "#plot the bar chart of the duration counts\n",
    "df_imp.plot(kind='bar', title='Impedance', legend = False)\n",
    "plt.show()"
   ]
  },
  {
   "cell_type": "markdown",
   "metadata": {},
   "source": [
    "This showed that the most common type of impedance was speeds under 17 mph with much less reported difficulty with the other two bands. The over 30 mph was reported as having the lowest impedance. "
   ]
  },
  {
   "cell_type": "markdown",
   "metadata": {},
   "source": [
    "### Other variables\n",
    "The model also contained other information some of which would be useful to include such as gender and mode of transportation. \n"
   ]
  },
  {
   "cell_type": "markdown",
   "metadata": {},
   "source": [
    "### Gender\n",
    "Add the gender data. \n",
    "Are stress levels due to commuting linked with gender? The gender data was simulated with np.random.choice\n",
    "\n",
    "#### Why?\n",
    "To simplify, assume two genders based on biological sex. There are approximately equal ratios of males to females (Wikipedia contributors, 2018 November 23). The probability p should be equally weighted for both. In Cassidy's study he surveyed 217 males and 153 females with the total number of participants at 370. choice is used to model the Gender field, although I had considered a Bernoulli (i.e. Binomial with n = 1)distribution, which was rejected as 'gender' is categorical data. \n"
   ]
  },
  {
   "cell_type": "markdown",
   "metadata": {},
   "source": [
    "Categorical data can be stored as text or as a number that maps to the category. The gender categories are also nominal in that there is no order preferences, female, male or male, female conveys the same information. There is no inherent order so a numerical distribution such as Bernoulli was rejected. NumPy Random's choice offered a way of modeling the 'Gender' column. A 'gender' array was created containing the 'Gender' category values, 'Male' and 'Female'. As Cassidy's investigation contained 370 participants, the size was specified as 370. Cassidy did not pole an equal proportion of males and females and this was reflected in the choices for p, 217 males from a population of 370 and 153 females from a population of 370 participants were surveyed. \n",
    "\n"
   ]
  },
  {
   "cell_type": "code",
   "execution_count": null,
   "metadata": {},
   "outputs": [],
   "source": [
    "gender = ['Male', 'Female']\n",
    "y_gen = np.random.choice(gender, size, p=[217/size, 153/size])\n"
   ]
  },
  {
   "cell_type": "markdown",
   "metadata": {},
   "source": [
    "This is in array form which will be changed to dataframe form. "
   ]
  },
  {
   "cell_type": "code",
   "execution_count": null,
   "metadata": {
    "scrolled": false
   },
   "outputs": [],
   "source": [
    "df['Gender'] = pd.Series(y_gen)\n",
    "df.head()"
   ]
  },
  {
   "cell_type": "code",
   "execution_count": null,
   "metadata": {
    "scrolled": true
   },
   "outputs": [],
   "source": [
    "df.tail()"
   ]
  },
  {
   "cell_type": "markdown",
   "metadata": {},
   "source": [
    "Lets plot the histogram of the participants gender."
   ]
  },
  {
   "cell_type": "code",
   "execution_count": null,
   "metadata": {},
   "outputs": [],
   "source": [
    "# calculate the number of males and females\n",
    "gen_counts = Counter(df['Gender'])\n",
    "# create an indexed dataframe with the number of counts\n",
    "df_gen = pd.DataFrame.from_dict(gen_counts, orient='index')\n",
    "                               \n",
    "# plot the bar chart of the gender counts\n",
    "df_gen.plot(kind='bar', title='Gender', legend = False)\n",
    "plt.show()\n",
    "\n"
   ]
  },
  {
   "cell_type": "markdown",
   "metadata": {},
   "source": [
    "There were more males participating in this study than females and this is reflected in the histogram above. "
   ]
  },
  {
   "cell_type": "markdown",
   "metadata": {},
   "source": [
    "### Transport\n",
    "The method of transportation data could be car or public transport. This is simulated with np.random.choice\n",
    "\n",
    "#### Why?\n",
    "NumPy Random's choice was used to simulate the mode of transportation. There are two bands in this category, car or public transport. Like gender the data is nominal However as these choices were items on a survey NumPy Random's 'choice' function would be suitable as a model. There was a total of 313 responses to this section of the survey so this was taken as the total when calculating the probability weightings for each of the transport bands. A 'Transport' array was created containing the two transport bands, car and public transport. There were 124 responses in the first band so this was weighted as 124/313 and 189 responses for the public transport band giving a probability of 189/313. The model of the Transport variable can be found below."
   ]
  },
  {
   "cell_type": "code",
   "execution_count": null,
   "metadata": {},
   "outputs": [],
   "source": [
    "# create the Transport response bands  \n",
    "transport = ['Car', 'Public transport']\n",
    "# calculate the number of responses\n",
    "tot_tran = 124+189\n",
    "# generate the transport response array\n",
    "y_tran = np.random.choice(transport, size, p= [124/tot_tran, 189/tot_tran])\n"
   ]
  },
  {
   "cell_type": "markdown",
   "metadata": {},
   "source": [
    "Change the y_tran transportation array to a dataframe and add it to the simulated model. "
   ]
  },
  {
   "cell_type": "code",
   "execution_count": null,
   "metadata": {},
   "outputs": [],
   "source": [
    "df['Transport'] = pd.Series(y_tran)\n",
    "df.head()"
   ]
  },
  {
   "cell_type": "code",
   "execution_count": null,
   "metadata": {},
   "outputs": [],
   "source": [
    "df.tail()"
   ]
  },
  {
   "cell_type": "markdown",
   "metadata": {},
   "source": [
    "Lets plot the histogram of the mode of transportation."
   ]
  },
  {
   "cell_type": "code",
   "execution_count": null,
   "metadata": {},
   "outputs": [],
   "source": [
    "# calculate the number of responses to each impedance band\n",
    "tran_counts = Counter(df['Transport'])\n",
    "# create an indexed dataframe with the number of counts\n",
    "df_tran = pd.DataFrame.from_dict(tran_counts, orient='index')\n",
    "                      \n",
    "#plot the bar chart of the duration counts\n",
    "df_tran.plot(kind='bar', title='Transport', legend = False)\n",
    "plt.show()"
   ]
  },
  {
   "cell_type": "markdown",
   "metadata": {},
   "source": [
    "This shows that most participants used public transportation. It would be interesting to see if traveling by bus or train increased or decreased stress. Car transport provides a greater perception of situational control. However, it is debatable which mode provides greater stress. Being in control of the driving in stressful traffic may be more stress inducing than sleeping on bus or train. I would not expect a clear linear relationship between transportation mode and stress. "
   ]
  },
  {
   "cell_type": "markdown",
   "metadata": {},
   "source": [
    "### Age\n",
    "No information was given in the report on the age range of participants. As the time commuting bvariable was up to 132 months or 11 years I assumed that the age range minimum was 11 years plus the assumed school leaving age of 18 i.e. 29 years and the maximum age was the then retirement age of 65. Age composition takes a pyramid structure with a greater number of people in the younger age bands than in the older ones [ref](https://www.ssc.wisc.edu/~walker/wp/wp-content/uploads/2012/01/E623PopDividend.pdf)\n",
    "\n",
    "\n",
    "![Age pyramid](img/1992%20age%20pyramid.JPG)"
   ]
  },
  {
   "cell_type": "markdown",
   "metadata": {},
   "source": [
    "The above distribution looks to be roughly uniform till about age 45 and then triangular from age 45 to 90. [](graph taken from https://g.redditmedia.com/xlCvXoGuPg8PujIhXwsZl4WTWTZwVDh59LToqY_I2HY.gif?fm=mp4&mp4-fragmented=false&s=aeaa3dc089e147917831677d8ee15699\n",
    "\n",
    "No single NumPy Random function models this distribution but it could be modeled by a combination of uniform and triangular distribution functions. \n",
    "Assumptions\n",
    "* Assume the questionnaire data came from the year the report was written i.e. 1992. \n",
    "* Assume this image is correct as a model of the 1992 populations\n",
    "* Assume that male and female population distribution are the same\n",
    "* Assume population is uniformly distributed up to age 45 and triangularly distributed from 45 years onwards"
   ]
  },
  {
   "cell_type": "code",
   "execution_count": null,
   "metadata": {},
   "outputs": [],
   "source": [
    "# code adapted from https://stackoverflow.com/questions/36537811/numpy-trapezoidal-distribution-for-age-distribution\n",
    "\n",
    "# model the distribution of the Age pyramid assume Male and Female are similarly distributed\n",
    "\n",
    "def agedistro(turn,end,size):\n",
    "    pass\n",
    "    totarea = turn + (end-turn)/2  # e.g. 45 + (90-45)/2 turn is when distrubution shape switches\n",
    "    areauptoturn = turn             # say 45\n",
    "    areasloped = (end-turn)/2     # (90-45)/2\n",
    "    size1= int(size*areauptoturn/totarea)\n",
    "    size2= size- size1 \n",
    "    s1 = np.random.uniform(low=29,high=turn,size= size1)  # school age plus 11 years commuting is 29\n",
    "    s2 = np.random.triangular(left=turn,mode=turn,right=end,size=size2) #(left, mode, right, size=None)\n",
    "            # mode : scalar-  the value where the peak of the distribution occurs. \n",
    "            #The value should fulfill the condition left <= mode <= right.\n",
    "    s3= np.concatenate((s1,s2)) # don't use add , it will add the numbers piecewise\n",
    "    return s3\n",
    "\n",
    "s3=agedistro(turn=45,end=65,size=size).astype(int)   # in 1992 data appears roughly uniform till 45, and still working so under retirement age\n",
    "y_age = np.random.choice(s3, size) # ages come from this distribution\n",
    "df['Age'] = pd.Series(y_age)\n",
    "df.head()\n",
    " "
   ]
  },
  {
   "cell_type": "code",
   "execution_count": null,
   "metadata": {},
   "outputs": [],
   "source": [
    "df.tail()"
   ]
  },
  {
   "cell_type": "code",
   "execution_count": null,
   "metadata": {},
   "outputs": [],
   "source": [
    "# calculate the ages of the participants \n",
    "age_counts = Counter(df['Age'])\n",
    "# create an indexed dataframe with the number of counts\n",
    "df_age = pd.DataFrame.from_dict(age_counts, orient='index')\n",
    "                      \n",
    "#plot the bar chart of the duration counts\n",
    "df_age.plot(kind='bar', title='Age', legend = False)\n",
    "plt.show()"
   ]
  },
  {
   "cell_type": "markdown",
   "metadata": {},
   "source": [
    "### Stress\n",
    "Cassidy, (1992) measured stress over five domains, home, commute, work, leisure and personal. There was no numerical data given on these measures but three bar charts illustrated the report graphs with data from these domains. The y axis for each figure was 'score' ranging from 0 to 50. To simplify, stress was modeled on one general domain by a score on a ten question 5 point Likert  scale. \n",
    "\n",
    "Each participant will generate a response to 10 stress related questions which will be one of the numbers 0 to 4. These will be summed to provide a general stress score for each participant. \n",
    "The responses to the 10 questions can be  0 - never 1 - almost never 2 - sometimes 3 - fairly often 4 - very often. These will be summed across each row to provide a stress score for each participant. \n",
    "\n"
   ]
  },
  {
   "cell_type": "code",
   "execution_count": null,
   "metadata": {},
   "outputs": [],
   "source": [
    "# create the questionnaire dataframe \n",
    "df_q = pd.DataFrame(columns = ['Question 1','Question 2','Question 3','Question 4','Question 5','Question 6','Question 7','Question 8','Question 9','Question 10', 'Score'], index = x)\n",
    "df_q.head()\n",
    "\n"
   ]
  },
  {
   "cell_type": "code",
   "execution_count": null,
   "metadata": {},
   "outputs": [],
   "source": [
    "#for each question fill it with simulated responses\n",
    "# create the stress band resposes 0 - never 1 - almost never 2 - sometimes 3 - fairly often 4 - very often\n",
    "responses = [0, 1, 2, 3, 4]\n",
    "responses\n",
    "print(\"where the response \", responses[0], \" equals never\" )\n",
    "print(\"where the response \", responses[1], \" equals almost never\" )\n",
    "print(\"where the response \", responses[2], \" equals sometimes\" )\n",
    "print(\"where the response \", responses[3], \" equals fairly often\" )\n",
    "print(\"where the response \", responses[4], \" equals very often\" )\n",
    "\n"
   ]
  },
  {
   "cell_type": "markdown",
   "metadata": {},
   "source": [
    "Stress scores is calculated by summing each participants responses to the 10 questions. The minimum score achievable is 0 (a response of 0 for every question) and the maximum is $4 \\times 10 = 40$ (a response of 4 for every question)"
   ]
  },
  {
   "cell_type": "code",
   "execution_count": null,
   "metadata": {},
   "outputs": [],
   "source": [
    "# generate the transport response array\n",
    "\n",
    "y_q1 = np.random.choice(responses, size)\n",
    "y_q2 = np.random.choice(responses, size)\n",
    "y_q3 = np.random.choice(responses, size)\n",
    "y_q4 = np.random.choice(responses, size)\n",
    "y_q5 = np.random.choice(responses, size)\n",
    "y_q6 = np.random.choice(responses, size)\n",
    "y_q7 = np.random.choice(responses, size)\n",
    "y_q8 = np.random.choice(responses, size)\n",
    "y_q9 = np.random.choice(responses, size)\n",
    "y_q10 = np.random.choice(responses, size)\n",
    "# make sure scores is empty before populating it\n",
    "\n",
    "df_q['Question 1'] = pd.Series(y_q1)\n",
    "df_q['Question 2'] = pd.Series(y_q2)\n",
    "df_q['Question 3'] = pd.Series(y_q3)\n",
    "df_q['Question 4'] = pd.Series(y_q4)\n",
    "df_q['Question 5'] = pd.Series(y_q5)\n",
    "df_q['Question 6'] = pd.Series(y_q6)\n",
    "df_q['Question 7'] = pd.Series(y_q7)\n",
    "df_q['Question 8'] = pd.Series(y_q8)\n",
    "df_q['Question 9'] = pd.Series(y_q9)\n",
    "df_q['Question 10'] = pd.Series(y_q10)\n"
   ]
  },
  {
   "cell_type": "code",
   "execution_count": null,
   "metadata": {},
   "outputs": [],
   "source": [
    "df_q.head()\n"
   ]
  },
  {
   "cell_type": "code",
   "execution_count": null,
   "metadata": {},
   "outputs": [],
   "source": [
    "df.tail()"
   ]
  },
  {
   "cell_type": "markdown",
   "metadata": {},
   "source": [
    "Now sum up the question scores on the 10 questions for each participant by summing rows. "
   ]
  },
  {
   "cell_type": "code",
   "execution_count": null,
   "metadata": {},
   "outputs": [],
   "source": [
    "# sum the rows to get the stress score\n",
    "# adapted from https://stackoverflow.com/questions/44003371/all-row-sum-with-pandas-except-one\n",
    "df_q['Score'] = df_q.drop('Score', axis=1).sum(axis=1) # sum the rows that are not 'Score' and put the answer into 'Score'\n",
    "df_q.head()"
   ]
  },
  {
   "cell_type": "code",
   "execution_count": null,
   "metadata": {},
   "outputs": [],
   "source": [
    "df_q.describe()"
   ]
  },
  {
   "cell_type": "code",
   "execution_count": null,
   "metadata": {},
   "outputs": [],
   "source": [
    "# add the stress score to the dataframe\n",
    "df['Stress'] = df_q['Score']\n",
    "df.head()\n"
   ]
  },
  {
   "cell_type": "code",
   "execution_count": null,
   "metadata": {},
   "outputs": [],
   "source": [
    "df.describe()"
   ]
  },
  {
   "cell_type": "markdown",
   "metadata": {},
   "source": [
    "The maximum score should be 40 or under. "
   ]
  },
  {
   "cell_type": "markdown",
   "metadata": {},
   "source": [
    "Now the score should be adjusted to reflect that higher impedance should be correlated to higher stress levels. Indeed impedance itself may be a function of distance and duration; e.g. if it takes a longer duration to travel the commuting distance then the speed (impedance)which is distance over time will be lower. Find a way of adding numbers to the score\n",
    "\n"
   ]
  },
  {
   "cell_type": "code",
   "execution_count": null,
   "metadata": {},
   "outputs": [],
   "source": [
    "# Score impedance\n",
    "# take a copy of the impendace data and put it in a new column\n",
    "df['Impedance Score'] = df['Impedance']\n",
    "# find all values in impendace that are '17 mph or less' and set it to 2 in the impedance score column\n",
    "# the slower the speed the more the stress\n",
    "df.loc[df['Impedance'] == '17 mph or less', 'Impedance Score'] = 2\n",
    "df.loc[df['Impedance'] == '17.3-30 mph', 'Impedance Score'] = 1\n",
    "df.loc[df['Impedance'] == 'Over 30 mph', 'Impedance Score'] = 0\n",
    "# add the impedance score to the stress value\n",
    "df['Stress'] = df['Stress'] + df['Impedance Score']\n",
    "df.head()\n",
    "\n",
    "\n",
    "\n",
    "\n",
    "\n",
    "        "
   ]
  },
  {
   "cell_type": "code",
   "execution_count": null,
   "metadata": {},
   "outputs": [],
   "source": [
    "# Score distance\n",
    "# take a copy of the distance data and put it in a new column\n",
    "df['Distance Score'] = df['Distance']\n",
    "# find all values in distance that are '0.5' and set it to 0 in the distance score column etc...\n",
    "# the less miles travelled the less stress\n",
    "df.loc[df['Distance'] == '0.5 miles', 'Distance Score'] = 0\n",
    "df.loc[df['Distance'] == '6-15 miles', 'Distance Score'] = 1\n",
    "df.loc[df['Distance'] == '16-30 miles', 'Distance Score'] = 2\n",
    "df.loc[df['Distance'] == 'over 30 miles', 'Distance Score'] = 3\n",
    "# add the Distance score to the stress value\n",
    "df['Stress'] = df['Stress'] + df['Distance Score']\n",
    "df.head()\n",
    "\n",
    "\n"
   ]
  },
  {
   "cell_type": "code",
   "execution_count": null,
   "metadata": {},
   "outputs": [],
   "source": [
    "# Score duration\n",
    "# take a copy of the duration data and put it in a new column\n",
    "df['Duration Score'] = df['Duration']\n",
    "# find all values in duration that are '0.5' and set it to 0 in the duration score column etc...\n",
    "# the shorter the commute duration the less stress\n",
    "df.loc[df['Duration'] == '0-30 minutes', 'Duration Score'] = 0\n",
    "df.loc[df['Duration'] == '30-60 minutes', 'Duration Score'] = 1\n",
    "df.loc[df['Duration'] == 'Over 60 minutes', 'Duration Score'] = 2\n",
    "# add the duration score to the stress value\n",
    "df['Stress'] = df['Stress'] + df['Duration Score']\n",
    "df.head()\n",
    "\n"
   ]
  },
  {
   "cell_type": "code",
   "execution_count": null,
   "metadata": {},
   "outputs": [],
   "source": [
    "# Score time\n",
    "# take a copy of the time data and put it in a new column\n",
    "df['Time Score'] = df['Time']\n",
    "# find all values in time that are '1-29 months' and set it to 0 in the time score column etc...\n",
    "# the less years spent commuting the less stress - not sure if this is right - do some research on the topic\n",
    "df.loc[df['Time'] == '1-29 months', 'Time Score'] = 0\n",
    "df.loc[df['Time'] == '30-60 months', 'Time Score'] = 1\n",
    "df.loc[df['Time'] == '60-131 months', 'Time Score'] = 2\n",
    "df.loc[df['Time'] == 'Over 132 months', 'Time Score'] = 3\n",
    "# add the time score to the stress value\n",
    "df['Stress'] = df['Stress'] + df['Time Score']\n",
    "df.head()"
   ]
  },
  {
   "cell_type": "code",
   "execution_count": null,
   "metadata": {},
   "outputs": [],
   "source": [
    "# drop variable score values as they are now in the stress column\n",
    "df.drop(['Impedance Score', 'Distance Score', 'Duration Score', 'Time Score'], axis=1, inplace = True)\n",
    "# rename Stress as Stress Score\n",
    "df.rename(columns={'Stress': 'Stress Score'}, inplace = True)\n",
    "df.head()\n"
   ]
  },
  {
   "cell_type": "markdown",
   "metadata": {},
   "source": [
    " The full data is below along with the information and description of it.                      \n"
   ]
  },
  {
   "cell_type": "code",
   "execution_count": null,
   "metadata": {},
   "outputs": [],
   "source": [
    "df.info()"
   ]
  },
  {
   "cell_type": "code",
   "execution_count": null,
   "metadata": {},
   "outputs": [],
   "source": [
    "df.describe()"
   ]
  },
  {
   "cell_type": "code",
   "execution_count": null,
   "metadata": {},
   "outputs": [],
   "source": [
    "df.nunique()"
   ]
  },
  {
   "cell_type": "code",
   "execution_count": null,
   "metadata": {},
   "outputs": [],
   "source": [
    "plt.figure();\n",
    "df['Stress Score'].plot.hist(stacked=False, bins=40)\n",
    "df_imp.plot.hist(stacked = True, bins = 20)"
   ]
  },
  {
   "cell_type": "markdown",
   "metadata": {},
   "source": [
    "## References\n"
   ]
  },
  {
   "cell_type": "code",
   "execution_count": null,
   "metadata": {},
   "outputs": [],
   "source": [
    "Cohen, S., Kamarck, T., & Mermelstein, R. (1983). A Global Measure of Perceived Stress. Journal of Health and Social Behavior, 24(4), 385-396. Retrieved from http://www.jstor.org/stable/2136404"
   ]
  },
  {
   "cell_type": "code",
   "execution_count": null,
   "metadata": {},
   "outputs": [],
   "source": []
  },
  {
   "cell_type": "code",
   "execution_count": null,
   "metadata": {},
   "outputs": [],
   "source": []
  },
  {
   "cell_type": "code",
   "execution_count": null,
   "metadata": {},
   "outputs": [],
   "source": []
  },
  {
   "cell_type": "code",
   "execution_count": null,
   "metadata": {},
   "outputs": [],
   "source": []
  },
  {
   "cell_type": "code",
   "execution_count": null,
   "metadata": {},
   "outputs": [],
   "source": []
  },
  {
   "cell_type": "code",
   "execution_count": null,
   "metadata": {},
   "outputs": [],
   "source": []
  },
  {
   "cell_type": "code",
   "execution_count": null,
   "metadata": {},
   "outputs": [],
   "source": []
  },
  {
   "cell_type": "code",
   "execution_count": null,
   "metadata": {},
   "outputs": [],
   "source": []
  },
  {
   "cell_type": "code",
   "execution_count": null,
   "metadata": {},
   "outputs": [],
   "source": []
  },
  {
   "cell_type": "code",
   "execution_count": null,
   "metadata": {},
   "outputs": [],
   "source": []
  },
  {
   "cell_type": "code",
   "execution_count": null,
   "metadata": {},
   "outputs": [],
   "source": []
  },
  {
   "cell_type": "code",
   "execution_count": null,
   "metadata": {},
   "outputs": [],
   "source": []
  },
  {
   "cell_type": "code",
   "execution_count": null,
   "metadata": {},
   "outputs": [],
   "source": []
  },
  {
   "cell_type": "code",
   "execution_count": null,
   "metadata": {},
   "outputs": [],
   "source": []
  },
  {
   "cell_type": "code",
   "execution_count": null,
   "metadata": {},
   "outputs": [],
   "source": []
  },
  {
   "cell_type": "code",
   "execution_count": null,
   "metadata": {},
   "outputs": [],
   "source": []
  },
  {
   "cell_type": "code",
   "execution_count": null,
   "metadata": {},
   "outputs": [],
   "source": []
  },
  {
   "cell_type": "code",
   "execution_count": null,
   "metadata": {},
   "outputs": [],
   "source": []
  },
  {
   "cell_type": "code",
   "execution_count": null,
   "metadata": {},
   "outputs": [],
   "source": []
  },
  {
   "cell_type": "code",
   "execution_count": null,
   "metadata": {},
   "outputs": [],
   "source": []
  },
  {
   "cell_type": "code",
   "execution_count": null,
   "metadata": {},
   "outputs": [],
   "source": []
  },
  {
   "cell_type": "code",
   "execution_count": null,
   "metadata": {},
   "outputs": [],
   "source": []
  },
  {
   "cell_type": "code",
   "execution_count": null,
   "metadata": {},
   "outputs": [],
   "source": []
  },
  {
   "cell_type": "code",
   "execution_count": null,
   "metadata": {},
   "outputs": [],
   "source": []
  },
  {
   "cell_type": "code",
   "execution_count": null,
   "metadata": {},
   "outputs": [],
   "source": []
  },
  {
   "cell_type": "code",
   "execution_count": null,
   "metadata": {},
   "outputs": [],
   "source": []
  },
  {
   "cell_type": "code",
   "execution_count": null,
   "metadata": {},
   "outputs": [],
   "source": []
  },
  {
   "cell_type": "code",
   "execution_count": null,
   "metadata": {},
   "outputs": [],
   "source": []
  }
 ],
 "metadata": {
  "kernelspec": {
   "display_name": "Python 3",
   "language": "python",
   "name": "python3"
  },
  "language_info": {
   "codemirror_mode": {
    "name": "ipython",
    "version": 3
   },
   "file_extension": ".py",
   "mimetype": "text/x-python",
   "name": "python",
   "nbconvert_exporter": "python",
   "pygments_lexer": "ipython3",
   "version": "3.6.7"
  }
 },
 "nbformat": 4,
 "nbformat_minor": 2
}
